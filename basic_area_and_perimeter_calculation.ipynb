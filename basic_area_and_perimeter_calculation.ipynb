{
 "cells": [
  {
   "cell_type": "code",
   "execution_count": null,
   "id": "valuable-carol",
   "metadata": {},
   "outputs": [],
   "source": [
    "opt = 'y'\n",
    "while opt == 'y':\n",
    "    choice = str(input(\"enter your choice:\\n1.circle\\n2.rectangle\\n3.square\"))\n",
    "    print(\"enter the choice of number\")\n",
    "    if choice == '1' or choice == 'circle':\n",
    "        radius = int(input(\"enter the radius of the circle\"))\n",
    "        area = (22/7)*radius**2\n",
    "        perimeter = 2*(22/7)*radius\n",
    "        print(\"The area of the circle is: {}\".format(area))\n",
    "        print(\"The perimeter of the circle is: {}\".format(perimeter))\n",
    "    elif choice == '2' or choice == 'rectangle':\n",
    "        length = int(input(\"enter the length of the rectangle\"))\n",
    "        breadth = int(input(\"enter the breadth of the rectangle\"))\n",
    "        area = length*breadth\n",
    "        perimeter = 2*(length+breadth)\n",
    "        print(\"The area of the rectangle is: {}\".format(area))\n",
    "        print(\"The perimeter of the rectangle is: {}\".format(perimeter))\n",
    "    elif choice == '3' or choice == 'square':\n",
    "        side = int(input(\"enter the side of the square\"))\n",
    "        area = side**2\n",
    "        perimeter = 4*side\n",
    "        print(\"The area of the square is: {}\".format(area))\n",
    "        print(\"The perimeter of the square is: {}\".format(perimeter))\n",
    "    else:\n",
    "        print(\"please enter a valid option...\")\n",
    "        continue\n",
    "    opt = str(input(\"do you wish to continue? y/n\"))\n",
    "else:\n",
    "    print(\"Thank you\")"
   ]
  }
 ],
 "metadata": {
  "kernelspec": {
   "display_name": "Python 3",
   "language": "python",
   "name": "python3"
  },
  "language_info": {
   "codemirror_mode": {
    "name": "ipython",
    "version": 3
   },
   "file_extension": ".py",
   "mimetype": "text/x-python",
   "name": "python",
   "nbconvert_exporter": "python",
   "pygments_lexer": "ipython3",
   "version": "3.7.8"
  },
  "toc": {
   "base_numbering": 1,
   "nav_menu": {},
   "number_sections": true,
   "sideBar": true,
   "skip_h1_title": false,
   "title_cell": "Table of Contents",
   "title_sidebar": "Contents",
   "toc_cell": false,
   "toc_position": {},
   "toc_section_display": true,
   "toc_window_display": false
  }
 },
 "nbformat": 4,
 "nbformat_minor": 5
}
