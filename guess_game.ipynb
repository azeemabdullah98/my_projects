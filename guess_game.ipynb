{
 "cells": [
  {
   "cell_type": "code",
   "execution_count": null,
   "id": "floppy-outside",
   "metadata": {},
   "outputs": [],
   "source": [
    "## Think of a number between 0-100 and computer will find the number in your mind...\n",
    "import random\n",
    "import time\n",
    "\n",
    "min = 0\n",
    "max = 100\n",
    "attempt = 0\n",
    "print(\"\\nThink of any number between 0-100 and keep it with you, Let me find out\\n\")\n",
    "time.sleep(5)\n",
    "while True:\n",
    "    num = random.randint(min,max)\n",
    "    print(\"\\nIs'nt it {} ? \".format(num))\n",
    "    option = str(input(\"Enter the option: \\n1.high \\n2.low \\n3.bingo\"))\n",
    "    attempt += 1\n",
    "    if option == 'high' or option == '1':\n",
    "        max = num-1\n",
    "        continue\n",
    "    elif option == 'low' or option == '2':\n",
    "        min = num + 1\n",
    "        continue\n",
    "    elif option == 'bingo' or option == '3':\n",
    "        print(\"\\nThe number in your mind is {} and the computer took {} attempts\\n \".format(num,attempt))\n",
    "        break\n",
    "    else:\n",
    "        print(\"\\nPlease enter a valid option...\\n\")\n",
    "        attempt -= 1"
   ]
  }
 ],
 "metadata": {
  "kernelspec": {
   "display_name": "Python 3",
   "language": "python",
   "name": "python3"
  },
  "language_info": {
   "codemirror_mode": {
    "name": "ipython",
    "version": 3
   },
   "file_extension": ".py",
   "mimetype": "text/x-python",
   "name": "python",
   "nbconvert_exporter": "python",
   "pygments_lexer": "ipython3",
   "version": "3.7.8"
  },
  "toc": {
   "base_numbering": 1,
   "nav_menu": {},
   "number_sections": true,
   "sideBar": true,
   "skip_h1_title": false,
   "title_cell": "Table of Contents",
   "title_sidebar": "Contents",
   "toc_cell": false,
   "toc_position": {},
   "toc_section_display": true,
   "toc_window_display": false
  }
 },
 "nbformat": 4,
 "nbformat_minor": 5
}
