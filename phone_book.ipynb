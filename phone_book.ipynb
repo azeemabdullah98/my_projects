{
 "cells": [
  {
   "cell_type": "code",
   "execution_count": 26,
   "id": "professional-intervention",
   "metadata": {},
   "outputs": [],
   "source": [
    "import pandas as pd\n",
    "import os"
   ]
  },
  {
   "cell_type": "code",
   "execution_count": 27,
   "id": "floppy-closing",
   "metadata": {},
   "outputs": [
    {
     "name": "stdout",
     "output_type": "stream",
     "text": [
      "enter your name:basith\n",
      "enter your number:1235698745\n",
      "Do you wish to continue? yes/nono\n",
      "Thank you\n"
     ]
    }
   ],
   "source": [
    "nameList = []\n",
    "numberList = []\n",
    "opt = 'yes'\n",
    "while opt == 'yes':\n",
    "    name = input(\"enter your name:\")\n",
    "    nameList.append(name)\n",
    "    number = input(\"enter your number:\")\n",
    "    if number.isalpha():\n",
    "        print(\"please enter a valid number\")\n",
    "        number = input(\"enter your number:\")\n",
    "        continue\n",
    "    else:\n",
    "        numberList.append(number)\n",
    "    opt = input(\"Do you wish to continue? yes/no\")\n",
    "else:\n",
    "    print(\"Thank you\")"
   ]
  },
  {
   "cell_type": "code",
   "execution_count": 28,
   "id": "controlled-witch",
   "metadata": {},
   "outputs": [],
   "source": [
    "data = pd.DataFrame(data=list(zip(nameList,numberList)),columns=['Name','Number'])"
   ]
  },
  {
   "cell_type": "code",
   "execution_count": 29,
   "id": "documentary-seafood",
   "metadata": {},
   "outputs": [
    {
     "data": {
      "text/html": [
       "<div>\n",
       "<style scoped>\n",
       "    .dataframe tbody tr th:only-of-type {\n",
       "        vertical-align: middle;\n",
       "    }\n",
       "\n",
       "    .dataframe tbody tr th {\n",
       "        vertical-align: top;\n",
       "    }\n",
       "\n",
       "    .dataframe thead th {\n",
       "        text-align: right;\n",
       "    }\n",
       "</style>\n",
       "<table border=\"1\" class=\"dataframe\">\n",
       "  <thead>\n",
       "    <tr style=\"text-align: right;\">\n",
       "      <th></th>\n",
       "      <th>Name</th>\n",
       "      <th>Number</th>\n",
       "    </tr>\n",
       "  </thead>\n",
       "  <tbody>\n",
       "    <tr>\n",
       "      <th>0</th>\n",
       "      <td>basith</td>\n",
       "      <td>1235698745</td>\n",
       "    </tr>\n",
       "  </tbody>\n",
       "</table>\n",
       "</div>"
      ],
      "text/plain": [
       "     Name      Number\n",
       "0  basith  1235698745"
      ]
     },
     "execution_count": 29,
     "metadata": {},
     "output_type": "execute_result"
    }
   ],
   "source": [
    "data"
   ]
  },
  {
   "cell_type": "code",
   "execution_count": 30,
   "id": "industrial-richards",
   "metadata": {},
   "outputs": [],
   "source": [
    "path = \"F:/phoneBook.csv\"\n",
    "if os.path.isfile(path)  == True:\n",
    "    prevData=pd.read_csv(path)\n",
    "    data=pd.concat([prevData,data],ignore_index=True)\n",
    "    #with open(path,'a') as file:\n",
    "    data.to_csv(path,index=False)\n",
    "else:\n",
    "    data.to_csv(path,index=False)"
   ]
  }
 ],
 "metadata": {
  "kernelspec": {
   "display_name": "Python 3",
   "language": "python",
   "name": "python3"
  },
  "language_info": {
   "codemirror_mode": {
    "name": "ipython",
    "version": 3
   },
   "file_extension": ".py",
   "mimetype": "text/x-python",
   "name": "python",
   "nbconvert_exporter": "python",
   "pygments_lexer": "ipython3",
   "version": "3.7.8"
  },
  "toc": {
   "base_numbering": 1,
   "nav_menu": {},
   "number_sections": true,
   "sideBar": true,
   "skip_h1_title": false,
   "title_cell": "Table of Contents",
   "title_sidebar": "Contents",
   "toc_cell": false,
   "toc_position": {},
   "toc_section_display": true,
   "toc_window_display": false
  }
 },
 "nbformat": 4,
 "nbformat_minor": 5
}
