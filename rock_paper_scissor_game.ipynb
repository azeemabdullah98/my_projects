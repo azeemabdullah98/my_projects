{
 "cells": [
  {
   "cell_type": "code",
   "execution_count": null,
   "id": "surface-mandate",
   "metadata": {},
   "outputs": [],
   "source": [
    "# Best of three Rock,paper and scissor two player game and computes the individual points...\n",
    "i = 0\n",
    "user_points = 0 \n",
    "computer_points = 0\n",
    "print(\"\\nBest of three matches\")\n",
    "print(\"\\nenter your choice:\\n1.rock\\n2.paper\\n3.scissor\")\n",
    "while i < 3:\n",
    "    user = str(input(\"\\nenter your choice: \"))\n",
    "    if (user == 'q' or user == 'quit'):\n",
    "        print(\"GoodBye...\")\n",
    "        break\n",
    "    computer = str(input(\"\\nenter your choice: \"))\n",
    "    if (computer == 'q' or computer == 'quit'):\n",
    "        print(\"GoodBye...\")\n",
    "        break\n",
    "    print(\"\\nyour choice is: \",user, \"and computer choice is: \",computer)\n",
    "    \n",
    "    if user == computer:\n",
    "        print(\"\\nGame Tie...\")\n",
    "    elif (user == 'rock' and computer == 'scissor') or (user == 'paper' and computer == 'rock') or (user == 'scissor' and computer == 'paper'):\n",
    "        print(\"\\nuser won the game...\")\n",
    "        user_points += 1\n",
    "        i += 1\n",
    "    else:\n",
    "        print(\"\\ncomputer won the game...\")\n",
    "        computer_points += 1\n",
    "        i += 1\n",
    "else:\n",
    "    print(\"user score is \",user_points,\" and computer score is \",computer_points)\n",
    "    if user_points > computer_points:\n",
    "        print(\"\\noverall user won the game...\")\n",
    "    elif user_points < computer_points:\n",
    "        print(\"\\noverall computer won the game\")\n",
    "    else:\n",
    "        print(\"\\noverall match draw\")"
   ]
  }
 ],
 "metadata": {
  "kernelspec": {
   "display_name": "Python 3",
   "language": "python",
   "name": "python3"
  },
  "language_info": {
   "codemirror_mode": {
    "name": "ipython",
    "version": 3
   },
   "file_extension": ".py",
   "mimetype": "text/x-python",
   "name": "python",
   "nbconvert_exporter": "python",
   "pygments_lexer": "ipython3",
   "version": "3.7.8"
  },
  "toc": {
   "base_numbering": 1,
   "nav_menu": {},
   "number_sections": true,
   "sideBar": true,
   "skip_h1_title": false,
   "title_cell": "Table of Contents",
   "title_sidebar": "Contents",
   "toc_cell": false,
   "toc_position": {},
   "toc_section_display": true,
   "toc_window_display": false
  }
 },
 "nbformat": 4,
 "nbformat_minor": 5
}
