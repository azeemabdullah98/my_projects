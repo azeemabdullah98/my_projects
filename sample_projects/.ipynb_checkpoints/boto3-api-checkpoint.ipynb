{
 "cells": [
  {
   "cell_type": "code",
   "execution_count": 1,
   "id": "bac3ad2b",
   "metadata": {
    "ExecuteTime": {
     "end_time": "2021-06-28T07:48:21.518067Z",
     "start_time": "2021-06-28T07:48:17.677598Z"
    }
   },
   "outputs": [],
   "source": [
    "import boto3"
   ]
  },
  {
   "cell_type": "code",
   "execution_count": 2,
   "id": "add76ef8",
   "metadata": {
    "ExecuteTime": {
     "end_time": "2021-06-28T07:48:36.460120Z",
     "start_time": "2021-06-28T07:48:34.785057Z"
    }
   },
   "outputs": [],
   "source": [
    "client=boto3.client(aws_access_key_id=,aws_secret_access_key=,service_name='s3')"
   ]
  },
  {
   "cell_type": "code",
   "execution_count": 4,
   "id": "961fea49",
   "metadata": {
    "ExecuteTime": {
     "end_time": "2021-06-28T07:49:36.450534Z",
     "start_time": "2021-06-28T07:49:35.860238Z"
    }
   },
   "outputs": [],
   "source": [
    "dynamodb=boto3.resource('dynamodb')\n",
    "s3=boto3.resource('s3')"
   ]
  },
  {
   "cell_type": "code",
   "execution_count": 5,
   "id": "bde2faa0",
   "metadata": {
    "ExecuteTime": {
     "end_time": "2021-06-28T07:49:55.098451Z",
     "start_time": "2021-06-28T07:49:53.617197Z"
    }
   },
   "outputs": [],
   "source": [
    "buckets=client.list_buckets()"
   ]
  },
  {
   "cell_type": "code",
   "execution_count": null,
   "id": "1ca3ec27",
   "metadata": {},
   "outputs": [],
   "source": [
    "for bucket in s3.buckets.all():\n",
    "    bucket.upload_file('c:/python_projects/json_files/tender.json',Key='tender_scrape.json')"
   ]
  },
  {
   "cell_type": "code",
   "execution_count": null,
   "id": "c105c173",
   "metadata": {},
   "outputs": [],
   "source": [
    "def upload_file(fileName,Bucket,objectName=None,args=None):\n",
    "    if objectName is None:\n",
    "        objectName=fileName\n",
    "    response=client.upload_file(fileName,Bucket,objectName,ExtraArgs=args)\n",
    "    print(response)"
   ]
  },
  {
   "cell_type": "code",
   "execution_count": null,
   "id": "be40bd4d",
   "metadata": {},
   "outputs": [],
   "source": [
    "args={'ACL':'public-read'}\n",
    "upload_file('c:/python_projects/json_files/tender.json','web.scrapping.1',objectName='tender_scrape.json',args=args)"
   ]
  },
  {
   "cell_type": "code",
   "execution_count": 8,
   "id": "789eb6e4",
   "metadata": {
    "ExecuteTime": {
     "end_time": "2021-06-28T07:52:09.358311Z",
     "start_time": "2021-06-28T07:52:09.338331Z"
    }
   },
   "outputs": [],
   "source": [
    "dynamodb=boto3.resource('dynamodb')"
   ]
  },
  {
   "cell_type": "code",
   "execution_count": 9,
   "id": "e03b23e5",
   "metadata": {
    "ExecuteTime": {
     "end_time": "2021-06-28T07:53:10.280973Z",
     "start_time": "2021-06-28T07:53:10.257115Z"
    }
   },
   "outputs": [],
   "source": [
    "table=dynamodb.Table('price_comparison')"
   ]
  },
  {
   "cell_type": "code",
   "execution_count": 10,
   "id": "05c91ee2",
   "metadata": {
    "ExecuteTime": {
     "end_time": "2021-06-28T07:53:30.257161Z",
     "start_time": "2021-06-28T07:53:30.249166Z"
    }
   },
   "outputs": [
    {
     "name": "stdout",
     "output_type": "stream",
     "text": [
      "2021-06-25 13:46:41.345000+05:30\n"
     ]
    }
   ],
   "source": [
    "print(table.creation_date_time)"
   ]
  },
  {
   "cell_type": "code",
   "execution_count": 1,
   "id": "75ff7f12",
   "metadata": {
    "ExecuteTime": {
     "end_time": "2021-07-04T11:14:28.385546Z",
     "start_time": "2021-07-04T11:14:28.303263Z"
    }
   },
   "outputs": [
    {
     "ename": "NameError",
     "evalue": "name 'table' is not defined",
     "output_type": "error",
     "traceback": [
      "\u001b[1;31m---------------------------------------------------------------------------\u001b[0m",
      "\u001b[1;31mNameError\u001b[0m                                 Traceback (most recent call last)",
      "\u001b[1;32m<ipython-input-1-afb3cceab410>\u001b[0m in \u001b[0;36m<module>\u001b[1;34m\u001b[0m\n\u001b[1;32m----> 1\u001b[1;33m \u001b[0mtable\u001b[0m\u001b[1;33m.\u001b[0m\u001b[0mput_item\u001b[0m\u001b[1;33m(\u001b[0m\u001b[0mItem\u001b[0m\u001b[1;33m=\u001b[0m\u001b[1;33m{\u001b[0m\u001b[1;34m'CTM_StdText'\u001b[0m\u001b[1;33m:\u001b[0m\u001b[1;34m'Dry Ribbon Fish'\u001b[0m\u001b[1;33m}\u001b[0m\u001b[1;33m)\u001b[0m\u001b[1;33m\u001b[0m\u001b[1;33m\u001b[0m\u001b[0m\n\u001b[0m",
      "\u001b[1;31mNameError\u001b[0m: name 'table' is not defined"
     ]
    }
   ],
   "source": [
    "table.put_item(Item={'CTM_StdText':'Dry Ribbon Fish'})"
   ]
  },
  {
   "cell_type": "code",
   "execution_count": 15,
   "id": "e49bb32e",
   "metadata": {
    "ExecuteTime": {
     "end_time": "2021-06-28T08:05:30.983366Z",
     "start_time": "2021-06-28T08:05:29.580259Z"
    }
   },
   "outputs": [
    {
     "name": "stdout",
     "output_type": "stream",
     "text": [
      "{'CTM_StdText': 'Dry Ribbon Fish'}\n"
     ]
    }
   ],
   "source": [
    "response=table.get_item(\n",
    "        Key={\n",
    "            'CTM_StdText':'Dry Ribbon Fish'\n",
    "        })\n",
    "item=response['Item']\n",
    "print(item)"
   ]
  },
  {
   "cell_type": "code",
   "execution_count": 2,
   "id": "071383e2",
   "metadata": {
    "ExecuteTime": {
     "end_time": "2021-07-04T11:14:32.295307Z",
     "start_time": "2021-07-04T11:14:32.275741Z"
    }
   },
   "outputs": [
    {
     "ename": "NameError",
     "evalue": "name 'table' is not defined",
     "output_type": "error",
     "traceback": [
      "\u001b[1;31m---------------------------------------------------------------------------\u001b[0m",
      "\u001b[1;31mNameError\u001b[0m                                 Traceback (most recent call last)",
      "\u001b[1;32m<ipython-input-2-21f2be3ddaee>\u001b[0m in \u001b[0;36m<module>\u001b[1;34m\u001b[0m\n\u001b[1;32m----> 1\u001b[1;33m table.update_item(\n\u001b[0m\u001b[0;32m      2\u001b[0m     Key={\n\u001b[0;32m      3\u001b[0m         \u001b[1;34m'CTM_StdText'\u001b[0m\u001b[1;33m:\u001b[0m\u001b[1;34m'Dry Ribbon Fish'\u001b[0m\u001b[1;33m\u001b[0m\u001b[1;33m\u001b[0m\u001b[0m\n\u001b[0;32m      4\u001b[0m     },\n\u001b[0;32m      5\u001b[0m     \u001b[0mUpdateExpression\u001b[0m\u001b[1;33m=\u001b[0m\u001b[1;34m'SET price = :val1'\u001b[0m\u001b[1;33m,\u001b[0m\u001b[1;33m\u001b[0m\u001b[1;33m\u001b[0m\u001b[0m\n",
      "\u001b[1;31mNameError\u001b[0m: name 'table' is not defined"
     ]
    }
   ],
   "source": [
    "table.update_item(\n",
    "    Key={\n",
    "        'CTM_StdText':'Dry Ribbon Fish'\n",
    "    },\n",
    "    UpdateExpression='SET price = :val1',\n",
    "    ExpressionAttributeValues={\n",
    "        ':val1': 60\n",
    "    }\n",
    ")"
   ]
  },
  {
   "cell_type": "code",
   "execution_count": 23,
   "id": "c22a8afb",
   "metadata": {
    "ExecuteTime": {
     "end_time": "2021-06-28T08:15:31.098665Z",
     "start_time": "2021-06-28T08:15:29.545998Z"
    }
   },
   "outputs": [
    {
     "name": "stdout",
     "output_type": "stream",
     "text": [
      "{'price': Decimal('60'), 'CTM_StdText': 'Dry Ribbon Fish'}\n"
     ]
    }
   ],
   "source": [
    "response=table.get_item(\n",
    "        Key={\n",
    "            'CTM_StdText':'Dry Ribbon Fish'\n",
    "        })\n",
    "item=response['Item']\n",
    "print(item)"
   ]
  },
  {
   "cell_type": "code",
   "execution_count": 24,
   "id": "01f5c5c8",
   "metadata": {
    "ExecuteTime": {
     "end_time": "2021-06-28T08:19:54.368062Z",
     "start_time": "2021-06-28T08:19:52.856653Z"
    }
   },
   "outputs": [],
   "source": [
    "with table.batch_writer() as batch:\n",
    "    batch.put_item(Item={'CTM_StdText':'Dry Seer Fish '})\n",
    "    batch.put_item(Item={'CTM_StdText':'DryPrawnBig'})"
   ]
  },
  {
   "cell_type": "code",
   "execution_count": 1,
   "id": "3c0395ea",
   "metadata": {
    "ExecuteTime": {
     "end_time": "2021-07-04T11:08:53.614317Z",
     "start_time": "2021-07-04T11:08:53.259709Z"
    }
   },
   "outputs": [
    {
     "ename": "NameError",
     "evalue": "name 'table' is not defined",
     "output_type": "error",
     "traceback": [
      "\u001b[1;31m---------------------------------------------------------------------------\u001b[0m",
      "\u001b[1;31mNameError\u001b[0m                                 Traceback (most recent call last)",
      "\u001b[1;32m<ipython-input-1-e64b4a46b318>\u001b[0m in \u001b[0;36m<module>\u001b[1;34m\u001b[0m\n\u001b[1;32m----> 1\u001b[1;33m table.delete_item(\n\u001b[0m\u001b[0;32m      2\u001b[0m         Key={\n\u001b[0;32m      3\u001b[0m             \u001b[1;34m'CTM_StdText'\u001b[0m\u001b[1;33m:\u001b[0m\u001b[1;34m'Dry Ribbon Fish'\u001b[0m\u001b[1;33m\u001b[0m\u001b[1;33m\u001b[0m\u001b[0m\n\u001b[0;32m      4\u001b[0m         })\n",
      "\u001b[1;31mNameError\u001b[0m: name 'table' is not defined"
     ]
    }
   ],
   "source": [
    "table.delete_item(\n",
    "        Key={\n",
    "            'CTM_StdText':'Dry Ribbon Fish'\n",
    "        })"
   ]
  },
  {
   "cell_type": "code",
   "execution_count": 33,
   "id": "b28337a9",
   "metadata": {
    "ExecuteTime": {
     "end_time": "2021-06-28T08:31:04.683107Z",
     "start_time": "2021-06-28T08:31:03.257572Z"
    }
   },
   "outputs": [],
   "source": [
    "with table.batch_writer() as batch:\n",
    "    batch.put_item(Item={'CTM_StdText':'Dry Ribbon Fish','Price':60})\n",
    "    batch.put_item(Item={'CTM_StdText':'Dry Anchovies Fish','Price':120})\n",
    "    batch.put_item(Item={'CTM_StdText':'Dry Seer Fish','Price':120})\n",
    "    batch.put_item(Item={'CTM_StdText':'Dry Prawn Big','Price':75})"
   ]
  },
  {
   "cell_type": "code",
   "execution_count": 25,
   "id": "c3f96c85",
   "metadata": {
    "ExecuteTime": {
     "end_time": "2021-07-03T13:18:13.483042Z",
     "start_time": "2021-07-03T13:18:13.358544Z"
    }
   },
   "outputs": [],
   "source": [
    "import boto3\n",
    "import pandas as pd"
   ]
  },
  {
   "cell_type": "code",
   "execution_count": 26,
   "id": "80217601",
   "metadata": {
    "ExecuteTime": {
     "end_time": "2021-07-03T13:18:17.715645Z",
     "start_time": "2021-07-03T13:18:16.893382Z"
    }
   },
   "outputs": [],
   "source": [
    "s3=boto3.resource('s3')"
   ]
  },
  {
   "cell_type": "code",
   "execution_count": 2,
   "id": "11c22459",
   "metadata": {
    "ExecuteTime": {
     "end_time": "2021-07-04T11:08:58.937067Z",
     "start_time": "2021-07-04T11:08:58.917922Z"
    }
   },
   "outputs": [
    {
     "ename": "NameError",
     "evalue": "name 's3' is not defined",
     "output_type": "error",
     "traceback": [
      "\u001b[1;31m---------------------------------------------------------------------------\u001b[0m",
      "\u001b[1;31mNameError\u001b[0m                                 Traceback (most recent call last)",
      "\u001b[1;32m<ipython-input-2-3d5ac450febb>\u001b[0m in \u001b[0;36m<module>\u001b[1;34m\u001b[0m\n\u001b[1;32m----> 1\u001b[1;33m \u001b[1;32mfor\u001b[0m \u001b[0mbucket\u001b[0m \u001b[1;32min\u001b[0m \u001b[0ms3\u001b[0m\u001b[1;33m.\u001b[0m\u001b[0mbuckets\u001b[0m\u001b[1;33m.\u001b[0m\u001b[0mall\u001b[0m\u001b[1;33m(\u001b[0m\u001b[1;33m)\u001b[0m\u001b[1;33m:\u001b[0m\u001b[1;33m\u001b[0m\u001b[1;33m\u001b[0m\u001b[0m\n\u001b[0m\u001b[0;32m      2\u001b[0m     \u001b[0mprint\u001b[0m\u001b[1;33m(\u001b[0m\u001b[0mbucket\u001b[0m\u001b[1;33m.\u001b[0m\u001b[0mname\u001b[0m\u001b[1;33m)\u001b[0m\u001b[1;33m\u001b[0m\u001b[1;33m\u001b[0m\u001b[0m\n",
      "\u001b[1;31mNameError\u001b[0m: name 's3' is not defined"
     ]
    }
   ],
   "source": [
    "for bucket in s3.buckets.all():\n",
    "    print(bucket.name)"
   ]
  },
  {
   "cell_type": "code",
   "execution_count": 15,
   "id": "9f1b8337",
   "metadata": {
    "ExecuteTime": {
     "end_time": "2021-07-03T09:40:41.352828Z",
     "start_time": "2021-07-03T09:40:41.333647Z"
    }
   },
   "outputs": [],
   "source": [
    "df=pd.read_csv(\"fipola/TMM.csv\",index_col=False)"
   ]
  },
  {
   "cell_type": "code",
   "execution_count": 16,
   "id": "d591cbba",
   "metadata": {
    "ExecuteTime": {
     "end_time": "2021-07-03T09:40:42.065479Z",
     "start_time": "2021-07-03T09:40:42.021081Z"
    }
   },
   "outputs": [
    {
     "data": {
      "text/html": [
       "<div>\n",
       "<style scoped>\n",
       "    .dataframe tbody tr th:only-of-type {\n",
       "        vertical-align: middle;\n",
       "    }\n",
       "\n",
       "    .dataframe tbody tr th {\n",
       "        vertical-align: top;\n",
       "    }\n",
       "\n",
       "    .dataframe thead th {\n",
       "        text-align: right;\n",
       "    }\n",
       "</style>\n",
       "<table border=\"1\" class=\"dataframe\">\n",
       "  <thead>\n",
       "    <tr style=\"text-align: right;\">\n",
       "      <th></th>\n",
       "      <th>Type</th>\n",
       "      <th>Product Code</th>\n",
       "      <th>Context</th>\n",
       "      <th>Access ID</th>\n",
       "      <th>Text</th>\n",
       "      <th>ForPrd From</th>\n",
       "      <th>ForPrd To</th>\n",
       "      <th>Std Text</th>\n",
       "      <th>Std Class1</th>\n",
       "      <th>Std Class2</th>\n",
       "      <th>Std Class3</th>\n",
       "      <th>Std Class4</th>\n",
       "      <th>Std Class5</th>\n",
       "    </tr>\n",
       "  </thead>\n",
       "  <tbody>\n",
       "    <tr>\n",
       "      <th>0</th>\n",
       "      <td>dry</td>\n",
       "      <td>200004</td>\n",
       "      <td>tendercuts</td>\n",
       "      <td>tendercuts/dry/200004</td>\n",
       "      <td>Dry Prawns ( 80g )</td>\n",
       "      <td>02-07-2021</td>\n",
       "      <td>-</td>\n",
       "      <td>Dry Prawn Big</td>\n",
       "      <td>-</td>\n",
       "      <td>-</td>\n",
       "      <td>https://tendercuts.in/product/dry-prawns</td>\n",
       "      <td>-</td>\n",
       "      <td>-</td>\n",
       "    </tr>\n",
       "    <tr>\n",
       "      <th>1</th>\n",
       "      <td>dry</td>\n",
       "      <td>200029</td>\n",
       "      <td>tendercuts</td>\n",
       "      <td>tendercuts/dry/200004</td>\n",
       "      <td>Dry Nethili Fish ( Small Anchovies )</td>\n",
       "      <td>02-07-2021</td>\n",
       "      <td>-</td>\n",
       "      <td>Dry Anchovies Fish</td>\n",
       "      <td>-</td>\n",
       "      <td>-</td>\n",
       "      <td>https://tendercuts.in/product/dry-nethli-fish</td>\n",
       "      <td>-</td>\n",
       "      <td>-</td>\n",
       "    </tr>\n",
       "    <tr>\n",
       "      <th>2</th>\n",
       "      <td>dry</td>\n",
       "      <td>200102</td>\n",
       "      <td>tendercuts</td>\n",
       "      <td>tendercuts/dry/200004</td>\n",
       "      <td>Dry Ribbon Fish</td>\n",
       "      <td>02-07-2021</td>\n",
       "      <td>-</td>\n",
       "      <td>Dry Ribbon Fish</td>\n",
       "      <td>-</td>\n",
       "      <td>-</td>\n",
       "      <td>https://tendercuts.in/product/dry-sole-fish</td>\n",
       "      <td>-</td>\n",
       "      <td>-</td>\n",
       "    </tr>\n",
       "    <tr>\n",
       "      <th>3</th>\n",
       "      <td>dry</td>\n",
       "      <td>200103</td>\n",
       "      <td>tendercuts</td>\n",
       "      <td>tendercuts/dry/200004</td>\n",
       "      <td>Dry Seer Fish</td>\n",
       "      <td>02-07-2021</td>\n",
       "      <td>-</td>\n",
       "      <td>Dry Seer Fish</td>\n",
       "      <td>-</td>\n",
       "      <td>-</td>\n",
       "      <td>https://tendercuts.in/product/dry-seer-fish</td>\n",
       "      <td>-</td>\n",
       "      <td>-</td>\n",
       "    </tr>\n",
       "    <tr>\n",
       "      <th>4</th>\n",
       "      <td>dry</td>\n",
       "      <td>200104</td>\n",
       "      <td>tendercuts</td>\n",
       "      <td>tendercuts/dry/200004</td>\n",
       "      <td>Dry Shark Fish</td>\n",
       "      <td>02-07-2021</td>\n",
       "      <td>-</td>\n",
       "      <td>-</td>\n",
       "      <td>-</td>\n",
       "      <td>-</td>\n",
       "      <td>-</td>\n",
       "      <td>-</td>\n",
       "      <td>-</td>\n",
       "    </tr>\n",
       "    <tr>\n",
       "      <th>...</th>\n",
       "      <td>...</td>\n",
       "      <td>...</td>\n",
       "      <td>...</td>\n",
       "      <td>...</td>\n",
       "      <td>...</td>\n",
       "      <td>...</td>\n",
       "      <td>...</td>\n",
       "      <td>...</td>\n",
       "      <td>...</td>\n",
       "      <td>...</td>\n",
       "      <td>...</td>\n",
       "      <td>...</td>\n",
       "      <td>...</td>\n",
       "    </tr>\n",
       "    <tr>\n",
       "      <th>182</th>\n",
       "      <td>sauces-spreads</td>\n",
       "      <td>220020</td>\n",
       "      <td>tendercuts</td>\n",
       "      <td>tendercuts/sauces-spreads/200005</td>\n",
       "      <td>Chilli Mayonnaise</td>\n",
       "      <td>02-07-2021</td>\n",
       "      <td>-</td>\n",
       "      <td>-</td>\n",
       "      <td>-</td>\n",
       "      <td>-</td>\n",
       "      <td>-</td>\n",
       "      <td>-</td>\n",
       "      <td>-</td>\n",
       "    </tr>\n",
       "    <tr>\n",
       "      <th>183</th>\n",
       "      <td>sauces-spreads</td>\n",
       "      <td>200005</td>\n",
       "      <td>tendercuts</td>\n",
       "      <td>tendercuts/sauces-spreads/200005</td>\n",
       "      <td>Carrot &amp; Cucumber Sandwich Spread</td>\n",
       "      <td>02-07-2021</td>\n",
       "      <td>-</td>\n",
       "      <td>-</td>\n",
       "      <td>-</td>\n",
       "      <td>-</td>\n",
       "      <td>-</td>\n",
       "      <td>-</td>\n",
       "      <td>-</td>\n",
       "    </tr>\n",
       "    <tr>\n",
       "      <th>184</th>\n",
       "      <td>sauces-spreads</td>\n",
       "      <td>200100</td>\n",
       "      <td>tendercuts</td>\n",
       "      <td>tendercuts/sauces-spreads/200005</td>\n",
       "      <td>Truly Tomato Ketchup</td>\n",
       "      <td>02-07-2021</td>\n",
       "      <td>-</td>\n",
       "      <td>-</td>\n",
       "      <td>-</td>\n",
       "      <td>-</td>\n",
       "      <td>-</td>\n",
       "      <td>-</td>\n",
       "      <td>-</td>\n",
       "    </tr>\n",
       "    <tr>\n",
       "      <th>185</th>\n",
       "      <td>sauces-spreads</td>\n",
       "      <td>200101</td>\n",
       "      <td>tendercuts</td>\n",
       "      <td>tendercuts/sauces-spreads/200005</td>\n",
       "      <td>Barbeque Sauce</td>\n",
       "      <td>02-07-2021</td>\n",
       "      <td>-</td>\n",
       "      <td>-</td>\n",
       "      <td>-</td>\n",
       "      <td>-</td>\n",
       "      <td>-</td>\n",
       "      <td>-</td>\n",
       "      <td>-</td>\n",
       "    </tr>\n",
       "    <tr>\n",
       "      <th>186</th>\n",
       "      <td>sauces-spreads</td>\n",
       "      <td>200006</td>\n",
       "      <td>tendercuts</td>\n",
       "      <td>tendercuts/sauces-spreads/200005</td>\n",
       "      <td>Hot Garlic Stir Fry Sauce &amp; Dip</td>\n",
       "      <td>02-07-2021</td>\n",
       "      <td>-</td>\n",
       "      <td>-</td>\n",
       "      <td>-</td>\n",
       "      <td>-</td>\n",
       "      <td>-</td>\n",
       "      <td>-</td>\n",
       "      <td>-</td>\n",
       "    </tr>\n",
       "  </tbody>\n",
       "</table>\n",
       "<p>187 rows × 13 columns</p>\n",
       "</div>"
      ],
      "text/plain": [
       "               Type  Product Code     Context  \\\n",
       "0               dry        200004  tendercuts   \n",
       "1               dry        200029  tendercuts   \n",
       "2               dry        200102  tendercuts   \n",
       "3               dry        200103  tendercuts   \n",
       "4               dry        200104  tendercuts   \n",
       "..              ...           ...         ...   \n",
       "182  sauces-spreads        220020  tendercuts   \n",
       "183  sauces-spreads        200005  tendercuts   \n",
       "184  sauces-spreads        200100  tendercuts   \n",
       "185  sauces-spreads        200101  tendercuts   \n",
       "186  sauces-spreads        200006  tendercuts   \n",
       "\n",
       "                            Access ID                                  Text  \\\n",
       "0               tendercuts/dry/200004                    Dry Prawns ( 80g )   \n",
       "1               tendercuts/dry/200004  Dry Nethili Fish ( Small Anchovies )   \n",
       "2               tendercuts/dry/200004                       Dry Ribbon Fish   \n",
       "3               tendercuts/dry/200004                         Dry Seer Fish   \n",
       "4               tendercuts/dry/200004                        Dry Shark Fish   \n",
       "..                                ...                                   ...   \n",
       "182  tendercuts/sauces-spreads/200005                     Chilli Mayonnaise   \n",
       "183  tendercuts/sauces-spreads/200005     Carrot & Cucumber Sandwich Spread   \n",
       "184  tendercuts/sauces-spreads/200005                  Truly Tomato Ketchup   \n",
       "185  tendercuts/sauces-spreads/200005                        Barbeque Sauce   \n",
       "186  tendercuts/sauces-spreads/200005       Hot Garlic Stir Fry Sauce & Dip   \n",
       "\n",
       "    ForPrd From ForPrd To            Std Text Std Class1 Std Class2  \\\n",
       "0    02-07-2021         -       Dry Prawn Big          -          -   \n",
       "1    02-07-2021         -  Dry Anchovies Fish          -          -   \n",
       "2    02-07-2021         -     Dry Ribbon Fish          -          -   \n",
       "3    02-07-2021         -       Dry Seer Fish          -          -   \n",
       "4    02-07-2021         -                   -          -          -   \n",
       "..          ...       ...                 ...        ...        ...   \n",
       "182  02-07-2021         -                   -          -          -   \n",
       "183  02-07-2021         -                   -          -          -   \n",
       "184  02-07-2021         -                   -          -          -   \n",
       "185  02-07-2021         -                   -          -          -   \n",
       "186  02-07-2021         -                   -          -          -   \n",
       "\n",
       "                                        Std Class3 Std Class4 Std Class5  \n",
       "0         https://tendercuts.in/product/dry-prawns          -          -  \n",
       "1    https://tendercuts.in/product/dry-nethli-fish          -          -  \n",
       "2      https://tendercuts.in/product/dry-sole-fish          -          -  \n",
       "3      https://tendercuts.in/product/dry-seer-fish          -          -  \n",
       "4                                                -          -          -  \n",
       "..                                             ...        ...        ...  \n",
       "182                                              -          -          -  \n",
       "183                                              -          -          -  \n",
       "184                                              -          -          -  \n",
       "185                                              -          -          -  \n",
       "186                                              -          -          -  \n",
       "\n",
       "[187 rows x 13 columns]"
      ]
     },
     "execution_count": 16,
     "metadata": {},
     "output_type": "execute_result"
    }
   ],
   "source": [
    "df"
   ]
  },
  {
   "cell_type": "code",
   "execution_count": 28,
   "id": "dbf597ac",
   "metadata": {
    "ExecuteTime": {
     "end_time": "2021-07-03T13:18:36.995626Z",
     "start_time": "2021-07-03T13:18:36.954827Z"
    }
   },
   "outputs": [],
   "source": [
    "s3_bucket=s3.Bucket('destination.s3.bucket')"
   ]
  },
  {
   "cell_type": "code",
   "execution_count": 29,
   "id": "6e2530ff",
   "metadata": {
    "ExecuteTime": {
     "end_time": "2021-07-03T13:18:49.422857Z",
     "start_time": "2021-07-03T13:18:48.238067Z"
    }
   },
   "outputs": [],
   "source": [
    "s3_bucket.upload_file(\"fipola/TMM.csv\",Key='TMM.csv')"
   ]
  },
  {
   "cell_type": "code",
   "execution_count": 3,
   "id": "af4f398e",
   "metadata": {
    "ExecuteTime": {
     "end_time": "2021-07-04T11:09:09.333552Z",
     "start_time": "2021-07-04T11:09:09.310717Z"
    }
   },
   "outputs": [
    {
     "ename": "NameError",
     "evalue": "name 's3_bucket' is not defined",
     "output_type": "error",
     "traceback": [
      "\u001b[1;31m---------------------------------------------------------------------------\u001b[0m",
      "\u001b[1;31mNameError\u001b[0m                                 Traceback (most recent call last)",
      "\u001b[1;32m<ipython-input-3-f8f0f2087e58>\u001b[0m in \u001b[0;36m<module>\u001b[1;34m\u001b[0m\n\u001b[1;32m----> 1\u001b[1;33m \u001b[0ms3_bucket\u001b[0m\u001b[1;33m.\u001b[0m\u001b[0mcreation_date\u001b[0m\u001b[1;33m\u001b[0m\u001b[1;33m\u001b[0m\u001b[0m\n\u001b[0m",
      "\u001b[1;31mNameError\u001b[0m: name 's3_bucket' is not defined"
     ]
    }
   ],
   "source": [
    "s3_bucket.creation_date"
   ]
  },
  {
   "cell_type": "code",
   "execution_count": null,
   "id": "a3dbec10",
   "metadata": {},
   "outputs": [],
   "source": []
  },
  {
   "cell_type": "code",
   "execution_count": 20,
   "id": "1b39c454",
   "metadata": {
    "ExecuteTime": {
     "end_time": "2021-07-03T09:47:54.430905Z",
     "start_time": "2021-07-03T09:47:54.157889Z"
    }
   },
   "outputs": [],
   "source": [
    "dynamodb=boto3.resource('dynamodb')"
   ]
  },
  {
   "cell_type": "code",
   "execution_count": null,
   "id": "d75dbab3",
   "metadata": {},
   "outputs": [],
   "source": [
    "table=dynamodb.batch_write_item()"
   ]
  }
 ],
 "metadata": {
  "kernelspec": {
   "display_name": "Python 3",
   "language": "python",
   "name": "python3"
  },
  "language_info": {
   "codemirror_mode": {
    "name": "ipython",
    "version": 3
   },
   "file_extension": ".py",
   "mimetype": "text/x-python",
   "name": "python",
   "nbconvert_exporter": "python",
   "pygments_lexer": "ipython3",
   "version": "3.7.9"
  },
  "toc": {
   "base_numbering": 1,
   "nav_menu": {},
   "number_sections": true,
   "sideBar": true,
   "skip_h1_title": false,
   "title_cell": "Table of Contents",
   "title_sidebar": "Contents",
   "toc_cell": false,
   "toc_position": {},
   "toc_section_display": true,
   "toc_window_display": false
  }
 },
 "nbformat": 4,
 "nbformat_minor": 5
}
