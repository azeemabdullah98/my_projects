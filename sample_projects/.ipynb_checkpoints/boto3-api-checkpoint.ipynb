{
 "cells": [
  {
   "cell_type": "code",
   "execution_count": 1,
   "id": "bac3ad2b",
   "metadata": {
    "ExecuteTime": {
     "end_time": "2021-06-28T07:48:21.518067Z",
     "start_time": "2021-06-28T07:48:17.677598Z"
    }
   },
   "outputs": [],
   "source": [
    "import boto3"
   ]
  },
  {
   "cell_type": "code",
   "execution_count": 7,
   "id": "add76ef8",
   "metadata": {
    "ExecuteTime": {
     "end_time": "2021-07-06T12:43:07.829391Z",
     "start_time": "2021-07-06T12:43:07.817396Z"
    }
   },
   "outputs": [],
   "source": [
    "client=boto3.client(aws_access_key_id=,aws_secret_access_key=,service_name='dynamodb')"
   ]
  },
  {
   "cell_type": "code",
   "execution_count": 81,
   "id": "4dfd949a",
   "metadata": {
    "ExecuteTime": {
     "end_time": "2021-07-06T10:07:09.308146Z",
     "start_time": "2021-07-06T10:07:07.568337Z"
    }
   },
   "outputs": [],
   "source": [
    "dynamodb = boto3.resource('dynamodb')\n",
    "table = dynamodb.Table('price_comparison')\n",
    "data = table.scan()"
   ]
  },
  {
   "cell_type": "code",
   "execution_count": 4,
   "id": "961fea49",
   "metadata": {
    "ExecuteTime": {
     "end_time": "2021-06-28T07:49:36.450534Z",
     "start_time": "2021-06-28T07:49:35.860238Z"
    }
   },
   "outputs": [],
   "source": [
    "dynamodb=boto3.resource('dynamodb')\n",
    "s3=boto3.resource('s3')"
   ]
  },
  {
   "cell_type": "code",
   "execution_count": 5,
   "id": "bde2faa0",
   "metadata": {
    "ExecuteTime": {
     "end_time": "2021-06-28T07:49:55.098451Z",
     "start_time": "2021-06-28T07:49:53.617197Z"
    }
   },
   "outputs": [],
   "source": [
    "buckets=client.list_buckets()"
   ]
  },
  {
   "cell_type": "code",
   "execution_count": 6,
   "id": "686b36d1",
   "metadata": {
    "ExecuteTime": {
     "end_time": "2021-06-28T07:50:05.617443Z",
     "start_time": "2021-06-28T07:50:05.601445Z"
    }
   },
   "outputs": [
    {
     "data": {
      "text/plain": [
       "[{'Name': 'web.scrapping.1',\n",
       "  'CreationDate': datetime.datetime(2021, 6, 27, 16, 32, 20, tzinfo=tzutc())}]"
      ]
     },
     "execution_count": 6,
     "metadata": {},
     "output_type": "execute_result"
    }
   ],
   "source": [
    "buckets['Buckets']"
   ]
  },
  {
   "cell_type": "code",
   "execution_count": 16,
   "id": "0b987a45",
   "metadata": {
    "ExecuteTime": {
     "end_time": "2021-07-06T15:52:22.386026Z",
     "start_time": "2021-07-06T15:52:22.363591Z"
    }
   },
   "outputs": [
    {
     "ename": "NameError",
     "evalue": "name 'client' is not defined",
     "output_type": "error",
     "traceback": [
      "\u001b[1;31m---------------------------------------------------------------------------\u001b[0m",
      "\u001b[1;31mNameError\u001b[0m                                 Traceback (most recent call last)",
      "\u001b[1;32m<ipython-input-16-acd6d6d658a9>\u001b[0m in \u001b[0;36m<module>\u001b[1;34m\u001b[0m\n\u001b[1;32m----> 1\u001b[1;33m \u001b[0mclient\u001b[0m\u001b[1;33m.\u001b[0m\u001b[0mlist_buckets\u001b[0m\u001b[1;33m(\u001b[0m\u001b[1;33m)\u001b[0m\u001b[1;33m\u001b[0m\u001b[1;33m\u001b[0m\u001b[0m\n\u001b[0m",
      "\u001b[1;31mNameError\u001b[0m: name 'client' is not defined"
     ]
    }
   ],
   "source": [
    "client.list_buckets()"
   ]
  },
  {
   "cell_type": "code",
   "execution_count": null,
   "id": "1ca3ec27",
   "metadata": {},
   "outputs": [],
   "source": [
    "for bucket in s3.buckets.all():\n",
    "    bucket.upload_file('c:/python_projects/json_files/tender.json',Key='tender_scrape.json')"
   ]
  },
  {
   "cell_type": "code",
   "execution_count": null,
   "id": "c105c173",
   "metadata": {},
   "outputs": [],
   "source": [
    "def upload_file(fileName,Bucket,objectName=None,args=None):\n",
    "    if objectName is None:\n",
    "        objectName=fileName\n",
    "    response=client.upload_file(fileName,Bucket,objectName,ExtraArgs=args)\n",
    "    print(response)"
   ]
  },
  {
   "cell_type": "code",
   "execution_count": null,
   "id": "be40bd4d",
   "metadata": {},
   "outputs": [],
   "source": [
    "args={'ACL':'public-read'}\n",
    "upload_file('c:/python_projects/json_files/tender.json','web.scrapping.1',objectName='tender_scrape.json',args=args)"
   ]
  },
  {
   "cell_type": "code",
   "execution_count": 8,
   "id": "789eb6e4",
   "metadata": {
    "ExecuteTime": {
     "end_time": "2021-06-28T07:52:09.358311Z",
     "start_time": "2021-06-28T07:52:09.338331Z"
    }
   },
   "outputs": [],
   "source": [
    "dynamodb=boto3.resource('dynamodb')"
   ]
  },
  {
   "cell_type": "code",
   "execution_count": 9,
   "id": "e03b23e5",
   "metadata": {
    "ExecuteTime": {
     "end_time": "2021-06-28T07:53:10.280973Z",
     "start_time": "2021-06-28T07:53:10.257115Z"
    }
   },
   "outputs": [],
   "source": [
    "table=dynamodb.Table('price_comparison')"
   ]
  },
  {
   "cell_type": "code",
   "execution_count": 10,
   "id": "05c91ee2",
   "metadata": {
    "ExecuteTime": {
     "end_time": "2021-06-28T07:53:30.257161Z",
     "start_time": "2021-06-28T07:53:30.249166Z"
    }
   },
   "outputs": [
    {
     "name": "stdout",
     "output_type": "stream",
     "text": [
      "2021-06-25 13:46:41.345000+05:30\n"
     ]
    }
   ],
   "source": [
    "print(table.creation_date_time)"
   ]
  },
  {
   "cell_type": "code",
   "execution_count": 17,
   "id": "75ff7f12",
   "metadata": {
    "ExecuteTime": {
     "end_time": "2021-07-06T15:52:32.866832Z",
     "start_time": "2021-07-06T15:52:32.842451Z"
    }
   },
   "outputs": [
    {
     "ename": "NameError",
     "evalue": "name 'table' is not defined",
     "output_type": "error",
     "traceback": [
      "\u001b[1;31m---------------------------------------------------------------------------\u001b[0m",
      "\u001b[1;31mNameError\u001b[0m                                 Traceback (most recent call last)",
      "\u001b[1;32m<ipython-input-17-afb3cceab410>\u001b[0m in \u001b[0;36m<module>\u001b[1;34m\u001b[0m\n\u001b[1;32m----> 1\u001b[1;33m \u001b[0mtable\u001b[0m\u001b[1;33m.\u001b[0m\u001b[0mput_item\u001b[0m\u001b[1;33m(\u001b[0m\u001b[0mItem\u001b[0m\u001b[1;33m=\u001b[0m\u001b[1;33m{\u001b[0m\u001b[1;34m'CTM_StdText'\u001b[0m\u001b[1;33m:\u001b[0m\u001b[1;34m'Dry Ribbon Fish'\u001b[0m\u001b[1;33m}\u001b[0m\u001b[1;33m)\u001b[0m\u001b[1;33m\u001b[0m\u001b[1;33m\u001b[0m\u001b[0m\n\u001b[0m",
      "\u001b[1;31mNameError\u001b[0m: name 'table' is not defined"
     ]
    }
   ],
   "source": [
    "table.put_item(Item={'CTM_StdText':'Dry Ribbon Fish'})"
   ]
  },
  {
   "cell_type": "code",
   "execution_count": 15,
   "id": "e49bb32e",
   "metadata": {
    "ExecuteTime": {
     "end_time": "2021-06-28T08:05:30.983366Z",
     "start_time": "2021-06-28T08:05:29.580259Z"
    }
   },
   "outputs": [
    {
     "name": "stdout",
     "output_type": "stream",
     "text": [
      "{'CTM_StdText': 'Dry Ribbon Fish'}\n"
     ]
    }
   ],
   "source": [
    "response=table.get_item(\n",
    "        Key={\n",
    "            'CTM_StdText':'Dry Ribbon Fish'\n",
    "        })\n",
    "item=response['Item']\n",
    "print(item)"
   ]
  },
  {
   "cell_type": "code",
   "execution_count": 14,
   "id": "071383e2",
   "metadata": {
    "ExecuteTime": {
     "end_time": "2021-07-06T15:51:52.771039Z",
     "start_time": "2021-07-06T15:51:52.706185Z"
    }
   },
   "outputs": [
    {
     "ename": "NameError",
     "evalue": "name 'table' is not defined",
     "output_type": "error",
     "traceback": [
      "\u001b[1;31m---------------------------------------------------------------------------\u001b[0m",
      "\u001b[1;31mNameError\u001b[0m                                 Traceback (most recent call last)",
      "\u001b[1;32m<ipython-input-14-21f2be3ddaee>\u001b[0m in \u001b[0;36m<module>\u001b[1;34m\u001b[0m\n\u001b[1;32m----> 1\u001b[1;33m table.update_item(\n\u001b[0m\u001b[0;32m      2\u001b[0m     Key={\n\u001b[0;32m      3\u001b[0m         \u001b[1;34m'CTM_StdText'\u001b[0m\u001b[1;33m:\u001b[0m\u001b[1;34m'Dry Ribbon Fish'\u001b[0m\u001b[1;33m\u001b[0m\u001b[1;33m\u001b[0m\u001b[0m\n\u001b[0;32m      4\u001b[0m     },\n\u001b[0;32m      5\u001b[0m     \u001b[0mUpdateExpression\u001b[0m\u001b[1;33m=\u001b[0m\u001b[1;34m'SET price = :val1'\u001b[0m\u001b[1;33m,\u001b[0m\u001b[1;33m\u001b[0m\u001b[1;33m\u001b[0m\u001b[0m\n",
      "\u001b[1;31mNameError\u001b[0m: name 'table' is not defined"
     ]
    }
   ],
   "source": [
    "table.update_item(\n",
    "    Key={\n",
    "        'CTM_StdText':'Dry Ribbon Fish'\n",
    "    },\n",
    "    UpdateExpression='SET price = :val1',\n",
    "    ExpressionAttributeValues={\n",
    "        ':val1': 60\n",
    "    }\n",
    ")"
   ]
  },
  {
   "cell_type": "code",
   "execution_count": 23,
   "id": "c22a8afb",
   "metadata": {
    "ExecuteTime": {
     "end_time": "2021-06-28T08:15:31.098665Z",
     "start_time": "2021-06-28T08:15:29.545998Z"
    }
   },
   "outputs": [
    {
     "name": "stdout",
     "output_type": "stream",
     "text": [
      "{'price': Decimal('60'), 'CTM_StdText': 'Dry Ribbon Fish'}\n"
     ]
    }
   ],
   "source": [
    "response=table.get_item(\n",
    "        Key={\n",
    "            'CTM_StdText':'Dry Ribbon Fish'\n",
    "        })\n",
    "item=response['Item']\n",
    "print(item)"
   ]
  },
  {
   "cell_type": "code",
   "execution_count": 24,
   "id": "01f5c5c8",
   "metadata": {
    "ExecuteTime": {
     "end_time": "2021-06-28T08:19:54.368062Z",
     "start_time": "2021-06-28T08:19:52.856653Z"
    }
   },
   "outputs": [],
   "source": [
    "with table.batch_writer() as batch:\n",
    "    batch.put_item(Item={'CTM_StdText':'Dry Seer Fish '})\n",
    "    batch.put_item(Item={'CTM_StdText':'DryPrawnBig'})"
   ]
  },
  {
   "cell_type": "code",
   "execution_count": 15,
   "id": "3c0395ea",
   "metadata": {
    "ExecuteTime": {
     "end_time": "2021-07-06T15:51:58.143497Z",
     "start_time": "2021-07-06T15:51:58.124545Z"
    }
   },
   "outputs": [
    {
     "ename": "NameError",
     "evalue": "name 'table' is not defined",
     "output_type": "error",
     "traceback": [
      "\u001b[1;31m---------------------------------------------------------------------------\u001b[0m",
      "\u001b[1;31mNameError\u001b[0m                                 Traceback (most recent call last)",
      "\u001b[1;32m<ipython-input-15-e64b4a46b318>\u001b[0m in \u001b[0;36m<module>\u001b[1;34m\u001b[0m\n\u001b[1;32m----> 1\u001b[1;33m table.delete_item(\n\u001b[0m\u001b[0;32m      2\u001b[0m         Key={\n\u001b[0;32m      3\u001b[0m             \u001b[1;34m'CTM_StdText'\u001b[0m\u001b[1;33m:\u001b[0m\u001b[1;34m'Dry Ribbon Fish'\u001b[0m\u001b[1;33m\u001b[0m\u001b[1;33m\u001b[0m\u001b[0m\n\u001b[0;32m      4\u001b[0m         })\n",
      "\u001b[1;31mNameError\u001b[0m: name 'table' is not defined"
     ]
    }
   ],
   "source": [
    "table.delete_item(\n",
    "        Key={\n",
    "            'CTM_StdText':'Dry Ribbon Fish'\n",
    "        })"
   ]
  },
  {
   "cell_type": "code",
   "execution_count": 33,
   "id": "b28337a9",
   "metadata": {
    "ExecuteTime": {
     "end_time": "2021-06-28T08:31:04.683107Z",
     "start_time": "2021-06-28T08:31:03.257572Z"
    }
   },
   "outputs": [],
   "source": [
    "with table.batch_writer() as batch:\n",
    "    batch.put_item(Item={'CTM_StdText':'Dry Ribbon Fish','Price':60})\n",
    "    batch.put_item(Item={'CTM_StdText':'Dry Anchovies Fish','Price':120})\n",
    "    batch.put_item(Item={'CTM_StdText':'Dry Seer Fish','Price':120})\n",
    "    batch.put_item(Item={'CTM_StdText':'Dry Prawn Big','Price':75})"
   ]
  },
  {
   "cell_type": "code",
   "execution_count": 1,
   "id": "c3f96c85",
   "metadata": {
    "ExecuteTime": {
     "end_time": "2021-07-06T07:10:24.208919Z",
     "start_time": "2021-07-06T07:10:23.367090Z"
    }
   },
   "outputs": [],
   "source": [
    "import boto3\n",
    "import pandas as pd"
   ]
  },
  {
   "cell_type": "code",
   "execution_count": 2,
   "id": "80217601",
   "metadata": {
    "ExecuteTime": {
     "end_time": "2021-07-06T07:10:25.011427Z",
     "start_time": "2021-07-06T07:10:24.824857Z"
    }
   },
   "outputs": [],
   "source": [
    "s3=boto3.resource('s3')"
   ]
  },
  {
   "cell_type": "code",
   "execution_count": 3,
   "id": "11c22459",
   "metadata": {
    "ExecuteTime": {
     "end_time": "2021-07-06T07:10:30.177367Z",
     "start_time": "2021-07-06T07:10:28.808333Z"
    }
   },
   "outputs": [
    {
     "name": "stdout",
     "output_type": "stream",
     "text": [
      "cf-templates-smf7wp3uczl1-us-east-2\n",
      "destination.s3.bucket\n",
      "querybucketathena\n",
      "web.scrapping.1\n"
     ]
    }
   ],
   "source": [
    "for bucket in s3.buckets.all():\n",
    "    print(bucket.name)"
   ]
  },
  {
   "cell_type": "code",
   "execution_count": 4,
   "id": "dbf597ac",
   "metadata": {
    "ExecuteTime": {
     "end_time": "2021-07-06T07:02:34.007085Z",
     "start_time": "2021-07-06T07:02:33.994117Z"
    }
   },
   "outputs": [],
   "source": [
    "s3_bucket=s3.Bucket('cf-templates-smf7wp3uczl1-us-east-2')"
   ]
  },
  {
   "cell_type": "code",
   "execution_count": 23,
   "id": "af4f398e",
   "metadata": {
    "ExecuteTime": {
     "end_time": "2021-07-03T09:58:56.725507Z",
     "start_time": "2021-07-03T09:58:56.716775Z"
    }
   },
   "outputs": [
    {
     "data": {
      "text/plain": [
       "datetime.datetime(2021, 7, 3, 6, 25, 20, tzinfo=tzutc())"
      ]
     },
     "execution_count": 23,
     "metadata": {},
     "output_type": "execute_result"
    }
   ],
   "source": [
    "s3_bucket.creation_date"
   ]
  },
  {
   "cell_type": "code",
   "execution_count": 2,
   "id": "a3dbec10",
   "metadata": {
    "ExecuteTime": {
     "end_time": "2021-07-06T15:41:49.350894Z",
     "start_time": "2021-07-06T15:41:49.332076Z"
    }
   },
   "outputs": [],
   "source": [
    "df=pd.read_csv(\"c:/python_projects/fipola/cc_final.csv\",index_col=False)"
   ]
  },
  {
   "cell_type": "code",
   "execution_count": 3,
   "id": "44f38a31",
   "metadata": {
    "ExecuteTime": {
     "end_time": "2021-07-06T15:41:50.822412Z",
     "start_time": "2021-07-06T15:41:50.699603Z"
    }
   },
   "outputs": [
    {
     "ename": "KeyError",
     "evalue": "\"['Weight'] not found in axis\"",
     "output_type": "error",
     "traceback": [
      "\u001b[1;31m---------------------------------------------------------------------------\u001b[0m",
      "\u001b[1;31mKeyError\u001b[0m                                  Traceback (most recent call last)",
      "\u001b[1;32m<ipython-input-3-82d79ad2079a>\u001b[0m in \u001b[0;36m<module>\u001b[1;34m\u001b[0m\n\u001b[1;32m----> 1\u001b[1;33m \u001b[0mdf\u001b[0m\u001b[1;33m.\u001b[0m\u001b[0mdrop\u001b[0m\u001b[1;33m(\u001b[0m\u001b[0mcolumns\u001b[0m\u001b[1;33m=\u001b[0m\u001b[1;34m'Weight'\u001b[0m\u001b[1;33m,\u001b[0m\u001b[0minplace\u001b[0m\u001b[1;33m=\u001b[0m\u001b[1;32mTrue\u001b[0m\u001b[1;33m)\u001b[0m\u001b[1;33m\u001b[0m\u001b[1;33m\u001b[0m\u001b[0m\n\u001b[0m",
      "\u001b[1;32mc:\\python37\\lib\\site-packages\\pandas\\core\\frame.py\u001b[0m in \u001b[0;36mdrop\u001b[1;34m(self, labels, axis, index, columns, level, inplace, errors)\u001b[0m\n\u001b[0;32m   4313\u001b[0m             \u001b[0mlevel\u001b[0m\u001b[1;33m=\u001b[0m\u001b[0mlevel\u001b[0m\u001b[1;33m,\u001b[0m\u001b[1;33m\u001b[0m\u001b[1;33m\u001b[0m\u001b[0m\n\u001b[0;32m   4314\u001b[0m             \u001b[0minplace\u001b[0m\u001b[1;33m=\u001b[0m\u001b[0minplace\u001b[0m\u001b[1;33m,\u001b[0m\u001b[1;33m\u001b[0m\u001b[1;33m\u001b[0m\u001b[0m\n\u001b[1;32m-> 4315\u001b[1;33m             \u001b[0merrors\u001b[0m\u001b[1;33m=\u001b[0m\u001b[0merrors\u001b[0m\u001b[1;33m,\u001b[0m\u001b[1;33m\u001b[0m\u001b[1;33m\u001b[0m\u001b[0m\n\u001b[0m\u001b[0;32m   4316\u001b[0m         )\n\u001b[0;32m   4317\u001b[0m \u001b[1;33m\u001b[0m\u001b[0m\n",
      "\u001b[1;32mc:\\python37\\lib\\site-packages\\pandas\\core\\generic.py\u001b[0m in \u001b[0;36mdrop\u001b[1;34m(self, labels, axis, index, columns, level, inplace, errors)\u001b[0m\n\u001b[0;32m   4151\u001b[0m         \u001b[1;32mfor\u001b[0m \u001b[0maxis\u001b[0m\u001b[1;33m,\u001b[0m \u001b[0mlabels\u001b[0m \u001b[1;32min\u001b[0m \u001b[0maxes\u001b[0m\u001b[1;33m.\u001b[0m\u001b[0mitems\u001b[0m\u001b[1;33m(\u001b[0m\u001b[1;33m)\u001b[0m\u001b[1;33m:\u001b[0m\u001b[1;33m\u001b[0m\u001b[1;33m\u001b[0m\u001b[0m\n\u001b[0;32m   4152\u001b[0m             \u001b[1;32mif\u001b[0m \u001b[0mlabels\u001b[0m \u001b[1;32mis\u001b[0m \u001b[1;32mnot\u001b[0m \u001b[1;32mNone\u001b[0m\u001b[1;33m:\u001b[0m\u001b[1;33m\u001b[0m\u001b[1;33m\u001b[0m\u001b[0m\n\u001b[1;32m-> 4153\u001b[1;33m                 \u001b[0mobj\u001b[0m \u001b[1;33m=\u001b[0m \u001b[0mobj\u001b[0m\u001b[1;33m.\u001b[0m\u001b[0m_drop_axis\u001b[0m\u001b[1;33m(\u001b[0m\u001b[0mlabels\u001b[0m\u001b[1;33m,\u001b[0m \u001b[0maxis\u001b[0m\u001b[1;33m,\u001b[0m \u001b[0mlevel\u001b[0m\u001b[1;33m=\u001b[0m\u001b[0mlevel\u001b[0m\u001b[1;33m,\u001b[0m \u001b[0merrors\u001b[0m\u001b[1;33m=\u001b[0m\u001b[0merrors\u001b[0m\u001b[1;33m)\u001b[0m\u001b[1;33m\u001b[0m\u001b[1;33m\u001b[0m\u001b[0m\n\u001b[0m\u001b[0;32m   4154\u001b[0m \u001b[1;33m\u001b[0m\u001b[0m\n\u001b[0;32m   4155\u001b[0m         \u001b[1;32mif\u001b[0m \u001b[0minplace\u001b[0m\u001b[1;33m:\u001b[0m\u001b[1;33m\u001b[0m\u001b[1;33m\u001b[0m\u001b[0m\n",
      "\u001b[1;32mc:\\python37\\lib\\site-packages\\pandas\\core\\generic.py\u001b[0m in \u001b[0;36m_drop_axis\u001b[1;34m(self, labels, axis, level, errors)\u001b[0m\n\u001b[0;32m   4186\u001b[0m                 \u001b[0mnew_axis\u001b[0m \u001b[1;33m=\u001b[0m \u001b[0maxis\u001b[0m\u001b[1;33m.\u001b[0m\u001b[0mdrop\u001b[0m\u001b[1;33m(\u001b[0m\u001b[0mlabels\u001b[0m\u001b[1;33m,\u001b[0m \u001b[0mlevel\u001b[0m\u001b[1;33m=\u001b[0m\u001b[0mlevel\u001b[0m\u001b[1;33m,\u001b[0m \u001b[0merrors\u001b[0m\u001b[1;33m=\u001b[0m\u001b[0merrors\u001b[0m\u001b[1;33m)\u001b[0m\u001b[1;33m\u001b[0m\u001b[1;33m\u001b[0m\u001b[0m\n\u001b[0;32m   4187\u001b[0m             \u001b[1;32melse\u001b[0m\u001b[1;33m:\u001b[0m\u001b[1;33m\u001b[0m\u001b[1;33m\u001b[0m\u001b[0m\n\u001b[1;32m-> 4188\u001b[1;33m                 \u001b[0mnew_axis\u001b[0m \u001b[1;33m=\u001b[0m \u001b[0maxis\u001b[0m\u001b[1;33m.\u001b[0m\u001b[0mdrop\u001b[0m\u001b[1;33m(\u001b[0m\u001b[0mlabels\u001b[0m\u001b[1;33m,\u001b[0m \u001b[0merrors\u001b[0m\u001b[1;33m=\u001b[0m\u001b[0merrors\u001b[0m\u001b[1;33m)\u001b[0m\u001b[1;33m\u001b[0m\u001b[1;33m\u001b[0m\u001b[0m\n\u001b[0m\u001b[0;32m   4189\u001b[0m             \u001b[0mresult\u001b[0m \u001b[1;33m=\u001b[0m \u001b[0mself\u001b[0m\u001b[1;33m.\u001b[0m\u001b[0mreindex\u001b[0m\u001b[1;33m(\u001b[0m\u001b[1;33m**\u001b[0m\u001b[1;33m{\u001b[0m\u001b[0maxis_name\u001b[0m\u001b[1;33m:\u001b[0m \u001b[0mnew_axis\u001b[0m\u001b[1;33m}\u001b[0m\u001b[1;33m)\u001b[0m\u001b[1;33m\u001b[0m\u001b[1;33m\u001b[0m\u001b[0m\n\u001b[0;32m   4190\u001b[0m \u001b[1;33m\u001b[0m\u001b[0m\n",
      "\u001b[1;32mc:\\python37\\lib\\site-packages\\pandas\\core\\indexes\\base.py\u001b[0m in \u001b[0;36mdrop\u001b[1;34m(self, labels, errors)\u001b[0m\n\u001b[0;32m   5589\u001b[0m         \u001b[1;32mif\u001b[0m \u001b[0mmask\u001b[0m\u001b[1;33m.\u001b[0m\u001b[0many\u001b[0m\u001b[1;33m(\u001b[0m\u001b[1;33m)\u001b[0m\u001b[1;33m:\u001b[0m\u001b[1;33m\u001b[0m\u001b[1;33m\u001b[0m\u001b[0m\n\u001b[0;32m   5590\u001b[0m             \u001b[1;32mif\u001b[0m \u001b[0merrors\u001b[0m \u001b[1;33m!=\u001b[0m \u001b[1;34m\"ignore\"\u001b[0m\u001b[1;33m:\u001b[0m\u001b[1;33m\u001b[0m\u001b[1;33m\u001b[0m\u001b[0m\n\u001b[1;32m-> 5591\u001b[1;33m                 \u001b[1;32mraise\u001b[0m \u001b[0mKeyError\u001b[0m\u001b[1;33m(\u001b[0m\u001b[1;34mf\"{labels[mask]} not found in axis\"\u001b[0m\u001b[1;33m)\u001b[0m\u001b[1;33m\u001b[0m\u001b[1;33m\u001b[0m\u001b[0m\n\u001b[0m\u001b[0;32m   5592\u001b[0m             \u001b[0mindexer\u001b[0m \u001b[1;33m=\u001b[0m \u001b[0mindexer\u001b[0m\u001b[1;33m[\u001b[0m\u001b[1;33m~\u001b[0m\u001b[0mmask\u001b[0m\u001b[1;33m]\u001b[0m\u001b[1;33m\u001b[0m\u001b[1;33m\u001b[0m\u001b[0m\n\u001b[0;32m   5593\u001b[0m         \u001b[1;32mreturn\u001b[0m \u001b[0mself\u001b[0m\u001b[1;33m.\u001b[0m\u001b[0mdelete\u001b[0m\u001b[1;33m(\u001b[0m\u001b[0mindexer\u001b[0m\u001b[1;33m)\u001b[0m\u001b[1;33m\u001b[0m\u001b[1;33m\u001b[0m\u001b[0m\n",
      "\u001b[1;31mKeyError\u001b[0m: \"['Weight'] not found in axis\""
     ]
    }
   ],
   "source": [
    "df.drop(columns='Weight',inplace=True)"
   ]
  },
  {
   "cell_type": "code",
   "execution_count": 4,
   "id": "e27281e2",
   "metadata": {
    "ExecuteTime": {
     "end_time": "2021-07-06T15:41:51.541759Z",
     "start_time": "2021-07-06T15:41:51.527589Z"
    }
   },
   "outputs": [],
   "source": [
    "df.drop(columns=\"Text\",inplace=True)"
   ]
  },
  {
   "cell_type": "code",
   "execution_count": 5,
   "id": "4bdfef7e",
   "metadata": {
    "ExecuteTime": {
     "end_time": "2021-07-06T15:42:01.671466Z",
     "start_time": "2021-07-06T15:42:01.651442Z"
    }
   },
   "outputs": [],
   "source": [
    "df.to_csv(\"c:/python_projects/fipola/cc_result.csv\",index=False)"
   ]
  },
  {
   "cell_type": "code",
   "execution_count": 3,
   "id": "7c175511",
   "metadata": {
    "ExecuteTime": {
     "end_time": "2021-07-06T14:37:08.170043Z",
     "start_time": "2021-07-06T14:37:08.157026Z"
    }
   },
   "outputs": [],
   "source": [
    "df1=pd.DataFrame(data=list(zip(title,total_weight,amount)),columns=['Text','Weight','Price'])"
   ]
  },
  {
   "cell_type": "code",
   "execution_count": 11,
   "id": "c8164794",
   "metadata": {
    "ExecuteTime": {
     "end_time": "2021-07-06T14:37:39.350598Z",
     "start_time": "2021-07-06T14:37:39.339744Z"
    }
   },
   "outputs": [],
   "source": [
    "df_col_merged = pd.concat([df, df1], axis=1)"
   ]
  },
  {
   "cell_type": "code",
   "execution_count": null,
   "id": "1203b559",
   "metadata": {},
   "outputs": [],
   "source": [
    "df.append()"
   ]
  },
  {
   "cell_type": "code",
   "execution_count": 12,
   "id": "318fbc36",
   "metadata": {
    "ExecuteTime": {
     "end_time": "2021-07-06T14:07:40.345435Z",
     "start_time": "2021-07-06T14:07:40.319151Z"
    }
   },
   "outputs": [
    {
     "data": {
      "text/html": [
       "<div>\n",
       "<style scoped>\n",
       "    .dataframe tbody tr th:only-of-type {\n",
       "        vertical-align: middle;\n",
       "    }\n",
       "\n",
       "    .dataframe tbody tr th {\n",
       "        vertical-align: top;\n",
       "    }\n",
       "\n",
       "    .dataframe thead th {\n",
       "        text-align: right;\n",
       "    }\n",
       "</style>\n",
       "<table border=\"1\" class=\"dataframe\">\n",
       "  <thead>\n",
       "    <tr style=\"text-align: right;\">\n",
       "      <th></th>\n",
       "      <th>Name</th>\n",
       "      <th>Product Code</th>\n",
       "      <th>Unit of Measurement</th>\n",
       "      <th>Text</th>\n",
       "      <th>Weight</th>\n",
       "      <th>Price</th>\n",
       "    </tr>\n",
       "  </thead>\n",
       "  <tbody>\n",
       "    <tr>\n",
       "      <th>0</th>\n",
       "      <td>tendercuts</td>\n",
       "      <td>200004</td>\n",
       "      <td>gm</td>\n",
       "      <td>Dry Ribbon Fish</td>\n",
       "      <td>Weight  :  1 Pack</td>\n",
       "      <td>60</td>\n",
       "    </tr>\n",
       "    <tr>\n",
       "      <th>1</th>\n",
       "      <td>tendercuts</td>\n",
       "      <td>200029</td>\n",
       "      <td>gm</td>\n",
       "      <td>NaN</td>\n",
       "      <td>NaN</td>\n",
       "      <td>NaN</td>\n",
       "    </tr>\n",
       "    <tr>\n",
       "      <th>2</th>\n",
       "      <td>tendercuts</td>\n",
       "      <td>200102</td>\n",
       "      <td>gm</td>\n",
       "      <td>NaN</td>\n",
       "      <td>NaN</td>\n",
       "      <td>NaN</td>\n",
       "    </tr>\n",
       "    <tr>\n",
       "      <th>3</th>\n",
       "      <td>tendercuts</td>\n",
       "      <td>200103</td>\n",
       "      <td>gm</td>\n",
       "      <td>NaN</td>\n",
       "      <td>NaN</td>\n",
       "      <td>NaN</td>\n",
       "    </tr>\n",
       "    <tr>\n",
       "      <th>4</th>\n",
       "      <td>tendercuts</td>\n",
       "      <td>200104</td>\n",
       "      <td>gm</td>\n",
       "      <td>NaN</td>\n",
       "      <td>NaN</td>\n",
       "      <td>NaN</td>\n",
       "    </tr>\n",
       "    <tr>\n",
       "      <th>...</th>\n",
       "      <td>...</td>\n",
       "      <td>...</td>\n",
       "      <td>...</td>\n",
       "      <td>...</td>\n",
       "      <td>...</td>\n",
       "      <td>...</td>\n",
       "    </tr>\n",
       "    <tr>\n",
       "      <th>182</th>\n",
       "      <td>tendercuts</td>\n",
       "      <td>200011</td>\n",
       "      <td>gm</td>\n",
       "      <td>NaN</td>\n",
       "      <td>NaN</td>\n",
       "      <td>NaN</td>\n",
       "    </tr>\n",
       "    <tr>\n",
       "      <th>183</th>\n",
       "      <td>tendercuts</td>\n",
       "      <td>200004</td>\n",
       "      <td>gm</td>\n",
       "      <td>NaN</td>\n",
       "      <td>NaN</td>\n",
       "      <td>NaN</td>\n",
       "    </tr>\n",
       "    <tr>\n",
       "      <th>184</th>\n",
       "      <td>tendercuts</td>\n",
       "      <td>200029</td>\n",
       "      <td>gm</td>\n",
       "      <td>NaN</td>\n",
       "      <td>NaN</td>\n",
       "      <td>NaN</td>\n",
       "    </tr>\n",
       "    <tr>\n",
       "      <th>185</th>\n",
       "      <td>tendercuts</td>\n",
       "      <td>200102</td>\n",
       "      <td>gm</td>\n",
       "      <td>NaN</td>\n",
       "      <td>NaN</td>\n",
       "      <td>NaN</td>\n",
       "    </tr>\n",
       "    <tr>\n",
       "      <th>186</th>\n",
       "      <td>tendercuts</td>\n",
       "      <td>200103</td>\n",
       "      <td>gm</td>\n",
       "      <td>NaN</td>\n",
       "      <td>NaN</td>\n",
       "      <td>NaN</td>\n",
       "    </tr>\n",
       "  </tbody>\n",
       "</table>\n",
       "<p>187 rows × 6 columns</p>\n",
       "</div>"
      ],
      "text/plain": [
       "           Name  Product Code Unit of Measurement             Text  \\\n",
       "0    tendercuts        200004                  gm  Dry Ribbon Fish   \n",
       "1    tendercuts        200029                  gm              NaN   \n",
       "2    tendercuts        200102                  gm              NaN   \n",
       "3    tendercuts        200103                  gm              NaN   \n",
       "4    tendercuts        200104                  gm              NaN   \n",
       "..          ...           ...                 ...              ...   \n",
       "182  tendercuts        200011                  gm              NaN   \n",
       "183  tendercuts        200004                  gm              NaN   \n",
       "184  tendercuts        200029                  gm              NaN   \n",
       "185  tendercuts        200102                  gm              NaN   \n",
       "186  tendercuts        200103                  gm              NaN   \n",
       "\n",
       "                Weight Price  \n",
       "0    Weight  :  1 Pack    60  \n",
       "1                  NaN   NaN  \n",
       "2                  NaN   NaN  \n",
       "3                  NaN   NaN  \n",
       "4                  NaN   NaN  \n",
       "..                 ...   ...  \n",
       "182                NaN   NaN  \n",
       "183                NaN   NaN  \n",
       "184                NaN   NaN  \n",
       "185                NaN   NaN  \n",
       "186                NaN   NaN  \n",
       "\n",
       "[187 rows x 6 columns]"
      ]
     },
     "execution_count": 12,
     "metadata": {},
     "output_type": "execute_result"
    }
   ],
   "source": [
    "df_col_merged"
   ]
  },
  {
   "cell_type": "code",
   "execution_count": 3,
   "id": "2c64e7b1",
   "metadata": {
    "ExecuteTime": {
     "end_time": "2021-07-06T14:06:13.651653Z",
     "start_time": "2021-07-06T14:06:13.624256Z"
    }
   },
   "outputs": [
    {
     "data": {
      "text/html": [
       "<div>\n",
       "<style scoped>\n",
       "    .dataframe tbody tr th:only-of-type {\n",
       "        vertical-align: middle;\n",
       "    }\n",
       "\n",
       "    .dataframe tbody tr th {\n",
       "        vertical-align: top;\n",
       "    }\n",
       "\n",
       "    .dataframe thead th {\n",
       "        text-align: right;\n",
       "    }\n",
       "</style>\n",
       "<table border=\"1\" class=\"dataframe\">\n",
       "  <thead>\n",
       "    <tr style=\"text-align: right;\">\n",
       "      <th></th>\n",
       "      <th>Text</th>\n",
       "      <th>Weight</th>\n",
       "      <th>Price</th>\n",
       "    </tr>\n",
       "  </thead>\n",
       "  <tbody>\n",
       "    <tr>\n",
       "      <th>0</th>\n",
       "      <td>Dry Ribbon Fish</td>\n",
       "      <td>Weight  :  1 Pack</td>\n",
       "      <td>60</td>\n",
       "    </tr>\n",
       "  </tbody>\n",
       "</table>\n",
       "</div>"
      ],
      "text/plain": [
       "              Text             Weight Price\n",
       "0  Dry Ribbon Fish  Weight  :  1 Pack    60"
      ]
     },
     "execution_count": 3,
     "metadata": {},
     "output_type": "execute_result"
    }
   ],
   "source": [
    "df1"
   ]
  },
  {
   "cell_type": "code",
   "execution_count": 4,
   "id": "1b39c454",
   "metadata": {
    "ExecuteTime": {
     "end_time": "2021-07-06T07:10:39.456751Z",
     "start_time": "2021-07-06T07:10:39.408486Z"
    }
   },
   "outputs": [],
   "source": [
    "dynamodb=boto3.resource('dynamodb')"
   ]
  },
  {
   "cell_type": "code",
   "execution_count": 38,
   "id": "e152f874",
   "metadata": {
    "ExecuteTime": {
     "end_time": "2021-07-06T08:19:19.272021Z",
     "start_time": "2021-07-06T08:19:19.266065Z"
    }
   },
   "outputs": [],
   "source": [
    "table=dynamodb.Table('price_comparison')"
   ]
  },
  {
   "cell_type": "code",
   "execution_count": 9,
   "id": "cc6156ac",
   "metadata": {
    "ExecuteTime": {
     "end_time": "2021-07-06T12:44:21.072739Z",
     "start_time": "2021-07-06T12:44:20.751789Z"
    }
   },
   "outputs": [],
   "source": [
    "response = client.get_item(\n",
    "    Key={\n",
    "        'Std Text': {\n",
    "            'S': 'Dry Ribbon Fish',\n",
    "        },\n",
    "    },\n",
    "    TableName='material_master',\n",
    ")\n",
    "\n",
    "link=response['Item']['Std Class3']['S']"
   ]
  },
  {
   "cell_type": "code",
   "execution_count": 10,
   "id": "0930a8e1",
   "metadata": {
    "ExecuteTime": {
     "end_time": "2021-07-06T12:44:22.304992Z",
     "start_time": "2021-07-06T12:44:22.287963Z"
    }
   },
   "outputs": [
    {
     "data": {
      "text/plain": [
       "'https://tendercuts.in/product/dry-ribbon-fish'"
      ]
     },
     "execution_count": 10,
     "metadata": {},
     "output_type": "execute_result"
    }
   ],
   "source": [
    "link"
   ]
  },
  {
   "cell_type": "code",
   "execution_count": 12,
   "id": "6fa800e6",
   "metadata": {
    "ExecuteTime": {
     "end_time": "2021-07-06T15:46:53.895407Z",
     "start_time": "2021-07-06T15:46:53.868426Z"
    }
   },
   "outputs": [],
   "source": [
    "import requests\n",
    "from bs4 import BeautifulSoup\n",
    "import re\n",
    "import pandas as pd\n",
    "import boto3\n",
    "import os\n",
    "\n",
    "\n",
    "def ProductScrape():\n",
    "    client=boto3.client(aws_access_key_id=,aws_secret_access_key=,service_name='dynamodb')\n",
    "    response = client.get_item(\n",
    "        Key={\n",
    "            'Std Text': {\n",
    "                'S': 'Dry Anchovies Fish',\n",
    "            },\n",
    "        },\n",
    "        TableName='material_master',\n",
    "    )\n",
    "    url=response['Item']['Std Class3']['S']\n",
    "    html=requests.get(url).text\n",
    "    soup = BeautifulSoup(html,'lxml')\n",
    "    title=[]\n",
    "    for name in soup.find_all(\"h3\",class_=\"product-name\"):\n",
    "        title.append(name.text)\n",
    "    price=soup(\"app-price-display\")\n",
    "    net_price=[re.sub(\"[^0-9Starts fromto\\t]\",\"\",price[k].get_text()) for k in range(len(price)) if price[k] not in price[k+1:]]\n",
    "    prRX=re.compile(r\"[0-9]+\")\n",
    "    totalPrice=[]\n",
    "    amount=[]\n",
    "    for netPrice in net_price:\n",
    "        prObjs=prRX.findall(netPrice)\n",
    "        totalPrice.append(prObjs[-1])\n",
    "        amount.append(totalPrice[0])\n",
    "    gross_weight=[]\n",
    "    net_weight=[]\n",
    "    total_weight=[]\n",
    "    for weight in soup.find_all(\"span\",class_=\"callout\"):\n",
    "        if weight.text.startswith(\"Gross\"):\n",
    "            gross_weight.append(weight.text)\n",
    "        if weight.text.startswith(\"Net\"):\n",
    "            net_weight.append(weight.text)\n",
    "#             return title,gross_weight,net_weight,amount\n",
    "        elif weight.text.startswith(\"Weight\"):\n",
    "            total_weight.append(weight.text)\n",
    "#             return title,total_weight,amount\n",
    "    df=pd.read_csv(\"c:/python_projects/fipola/cc_result.csv\",index_col=False)\n",
    "    if len(gross_weight)+len(net_weight) == 0:\n",
    "        df1=pd.DataFrame(data=list(zip(title,total_weight,amount)),columns=['Text','Weight','Price'])\n",
    "    else:\n",
    "        df1=pd.DataFrame(data=list(zip(title,gross_weight,net_weight,amount)),columns=['Text','Gross Weight','Net Weight','Price'])\n",
    "    dataframe=pd.concat([df,df1],axis=1)\n",
    "    path=\"c:/python_projects/fipola/customer_competition.csv\"\n",
    "    if os.path.isfile(path) == True:\n",
    "        file=pd.read_csv(path)\n",
    "        data=pd.concat([file,df1],ignore_index=True)\n",
    "        data.to_csv(path,index=False)\n",
    "    else:\n",
    "        dataframe.to_csv(path,index=False)"
   ]
  },
  {
   "cell_type": "code",
   "execution_count": 13,
   "id": "116d3cad",
   "metadata": {
    "ExecuteTime": {
     "end_time": "2021-07-06T15:46:56.496288Z",
     "start_time": "2021-07-06T15:46:54.330653Z"
    }
   },
   "outputs": [],
   "source": [
    "ProductScrape()"
   ]
  },
  {
   "cell_type": "code",
   "execution_count": 1,
   "id": "34423697",
   "metadata": {
    "ExecuteTime": {
     "end_time": "2021-07-06T15:41:34.043420Z",
     "start_time": "2021-07-06T15:41:31.955184Z"
    }
   },
   "outputs": [],
   "source": [
    "import requests\n",
    "from bs4 import BeautifulSoup\n",
    "import re\n",
    "import pandas as pd\n",
    "import boto3\n",
    "\n",
    "\n",
    "url='https://tendercuts.in/product/dry-ribbon-fish'\n",
    "html=requests.get(url).text\n",
    "soup = BeautifulSoup(html,'lxml')\n",
    "title=[]\n",
    "for name in soup.find_all(\"h3\",class_=\"product-name\"):\n",
    "    title.append(name.text)\n",
    "price=soup(\"app-price-display\")\n",
    "net_price=[re.sub(\"[^0-9Starts fromto\\t]\",\"\",price[k].get_text()) for k in range(len(price)) if price[k] not in price[k+1:]]\n",
    "prRX=re.compile(r\"[0-9]+\")\n",
    "totalPrice=[]\n",
    "amount=[]\n",
    "for netPrice in net_price:\n",
    "    prObjs=prRX.findall(netPrice)\n",
    "    totalPrice.append(prObjs[-1])\n",
    "    amount.append(totalPrice[0])\n",
    "gross_weight=[]\n",
    "net_weight=[]\n",
    "total_weight=[]\n",
    "for weight in soup.find_all(\"span\",class_=\"callout\"):\n",
    "    if weight.text.startswith(\"Gross\"):\n",
    "        gross_weight.append(weight.text)\n",
    "    if weight.text.startswith(\"Net\"):\n",
    "        net_weight.append(weight.text)\n",
    "    elif weight.text.startswith(\"Weight\"):\n",
    "        total_weight.append(weight.text)"
   ]
  },
  {
   "cell_type": "code",
   "execution_count": 14,
   "id": "0d2629ee",
   "metadata": {
    "ExecuteTime": {
     "end_time": "2021-07-06T12:44:59.006247Z",
     "start_time": "2021-07-06T12:44:57.080446Z"
    }
   },
   "outputs": [
    {
     "data": {
      "text/plain": [
       "('Dry Ribbon Fish', 'Weight  :  1 Pack', '60')"
      ]
     },
     "execution_count": 14,
     "metadata": {},
     "output_type": "execute_result"
    }
   ],
   "source": [
    "ProductScrape()"
   ]
  },
  {
   "cell_type": "code",
   "execution_count": 18,
   "id": "de38f223",
   "metadata": {
    "ExecuteTime": {
     "end_time": "2021-07-06T15:53:24.593788Z",
     "start_time": "2021-07-06T15:53:24.564469Z"
    }
   },
   "outputs": [
    {
     "ename": "NameError",
     "evalue": "name 'client' is not defined",
     "output_type": "error",
     "traceback": [
      "\u001b[1;31m---------------------------------------------------------------------------\u001b[0m",
      "\u001b[1;31mNameError\u001b[0m                                 Traceback (most recent call last)",
      "\u001b[1;32m<ipython-input-18-f8c81c534440>\u001b[0m in \u001b[0;36m<module>\u001b[1;34m\u001b[0m\n\u001b[1;32m----> 1\u001b[1;33m response = client.get_item(\n\u001b[0m\u001b[0;32m      2\u001b[0m     \u001b[0mTableName\u001b[0m\u001b[1;33m=\u001b[0m\u001b[1;34m'price_comparison'\u001b[0m\u001b[1;33m,\u001b[0m\u001b[1;33m\u001b[0m\u001b[1;33m\u001b[0m\u001b[0m\n\u001b[0;32m      3\u001b[0m     Key={\n\u001b[0;32m      4\u001b[0m         'Std Text': {\n\u001b[0;32m      5\u001b[0m             \u001b[1;34m'S'\u001b[0m\u001b[1;33m:\u001b[0m \u001b[1;34m'Dry Ribbon Fish'\u001b[0m\u001b[1;33m,\u001b[0m\u001b[1;33m\u001b[0m\u001b[1;33m\u001b[0m\u001b[0m\n",
      "\u001b[1;31mNameError\u001b[0m: name 'client' is not defined"
     ]
    }
   ],
   "source": [
    "response = client.get_item(\n",
    "    TableName='price_comparison',\n",
    "    Key={\n",
    "        'Std Text': {\n",
    "            'S': 'Dry Ribbon Fish',\n",
    "        }\n",
    "    },\n",
    "    ConsistentRead=True|False,\n",
    "    ProjectionExpression='StdClass3',\n",
    "    \n",
    ")\n",
    "print(response)"
   ]
  },
  {
   "cell_type": "code",
   "execution_count": 5,
   "id": "db5e3d5d",
   "metadata": {
    "ExecuteTime": {
     "end_time": "2021-07-06T12:40:59.039915Z",
     "start_time": "2021-07-06T12:40:59.020915Z"
    }
   },
   "outputs": [],
   "source": [
    "productList = df['Std Text'].to_list()\n",
    "TypeList=df['Type'].to_list()\n",
    "ContextList=df['Context'].to_list()\n",
    "accessidList=df['Access ID'].to_list()\n",
    "TextList=df['Text'].to_list()\n",
    "forprdFrom=df['ForPrd From'].to_list()\n",
    "forprdTo=df['ForPrd To'].to_list()\n",
    "StdClass1=df['Std Class1'].to_list()\n",
    "StdClass2=df['Std Class2'].to_list()\n",
    "StdClass3=df['Std Class3'].to_list()\n",
    "StdClass4=df['Std Class4'].to_list()\n",
    "StdClass5=df['Std Class5'].to_list()"
   ]
  },
  {
   "cell_type": "code",
   "execution_count": 8,
   "id": "8bd90374",
   "metadata": {
    "ExecuteTime": {
     "end_time": "2021-07-06T12:43:18.780636Z",
     "start_time": "2021-07-06T12:43:15.844102Z"
    }
   },
   "outputs": [
    {
     "ename": "ParamValidationError",
     "evalue": "Parameter validation failed:\nInvalid type for parameter RequestItems.material_master[0].PutRequest.Item.Std Class4.S, value: nan, type: <class 'float'>, valid types: <class 'str'>",
     "output_type": "error",
     "traceback": [
      "\u001b[1;31m---------------------------------------------------------------------------\u001b[0m",
      "\u001b[1;31mParamValidationError\u001b[0m                      Traceback (most recent call last)",
      "\u001b[1;32m<ipython-input-8-bffd07f29ed9>\u001b[0m in \u001b[0;36m<module>\u001b[1;34m\u001b[0m\n\u001b[0;32m     39\u001b[0m                         },\n\u001b[0;32m     40\u001b[0m                         'Std Class5':{\n\u001b[1;32m---> 41\u001b[1;33m                             \u001b[1;34m'S'\u001b[0m\u001b[1;33m:\u001b[0m\u001b[0mStdClass5\u001b[0m\u001b[1;33m[\u001b[0m\u001b[0mi\u001b[0m\u001b[1;33m]\u001b[0m\u001b[1;33m,\u001b[0m\u001b[1;33m\u001b[0m\u001b[1;33m\u001b[0m\u001b[0m\n\u001b[0m\u001b[0;32m     42\u001b[0m                         },\n\u001b[0;32m     43\u001b[0m                     }\n",
      "\u001b[1;32mc:\\python37\\lib\\site-packages\\botocore\\client.py\u001b[0m in \u001b[0;36m_api_call\u001b[1;34m(self, *args, **kwargs)\u001b[0m\n\u001b[0;32m    384\u001b[0m                     \"%s() only accepts keyword arguments.\" % py_operation_name)\n\u001b[0;32m    385\u001b[0m             \u001b[1;31m# The \"self\" in this scope is referring to the BaseClient.\u001b[0m\u001b[1;33m\u001b[0m\u001b[1;33m\u001b[0m\u001b[1;33m\u001b[0m\u001b[0m\n\u001b[1;32m--> 386\u001b[1;33m             \u001b[1;32mreturn\u001b[0m \u001b[0mself\u001b[0m\u001b[1;33m.\u001b[0m\u001b[0m_make_api_call\u001b[0m\u001b[1;33m(\u001b[0m\u001b[0moperation_name\u001b[0m\u001b[1;33m,\u001b[0m \u001b[0mkwargs\u001b[0m\u001b[1;33m)\u001b[0m\u001b[1;33m\u001b[0m\u001b[1;33m\u001b[0m\u001b[0m\n\u001b[0m\u001b[0;32m    387\u001b[0m \u001b[1;33m\u001b[0m\u001b[0m\n\u001b[0;32m    388\u001b[0m         \u001b[0m_api_call\u001b[0m\u001b[1;33m.\u001b[0m\u001b[0m__name__\u001b[0m \u001b[1;33m=\u001b[0m \u001b[0mstr\u001b[0m\u001b[1;33m(\u001b[0m\u001b[0mpy_operation_name\u001b[0m\u001b[1;33m)\u001b[0m\u001b[1;33m\u001b[0m\u001b[1;33m\u001b[0m\u001b[0m\n",
      "\u001b[1;32mc:\\python37\\lib\\site-packages\\botocore\\client.py\u001b[0m in \u001b[0;36m_make_api_call\u001b[1;34m(self, operation_name, api_params)\u001b[0m\n\u001b[0;32m    676\u001b[0m         }\n\u001b[0;32m    677\u001b[0m         request_dict = self._convert_to_request_dict(\n\u001b[1;32m--> 678\u001b[1;33m             api_params, operation_model, context=request_context)\n\u001b[0m\u001b[0;32m    679\u001b[0m \u001b[1;33m\u001b[0m\u001b[0m\n\u001b[0;32m    680\u001b[0m         \u001b[0mservice_id\u001b[0m \u001b[1;33m=\u001b[0m \u001b[0mself\u001b[0m\u001b[1;33m.\u001b[0m\u001b[0m_service_model\u001b[0m\u001b[1;33m.\u001b[0m\u001b[0mservice_id\u001b[0m\u001b[1;33m.\u001b[0m\u001b[0mhyphenize\u001b[0m\u001b[1;33m(\u001b[0m\u001b[1;33m)\u001b[0m\u001b[1;33m\u001b[0m\u001b[1;33m\u001b[0m\u001b[0m\n",
      "\u001b[1;32mc:\\python37\\lib\\site-packages\\botocore\\client.py\u001b[0m in \u001b[0;36m_convert_to_request_dict\u001b[1;34m(self, api_params, operation_model, context)\u001b[0m\n\u001b[0;32m    724\u001b[0m             api_params, operation_model, context)\n\u001b[0;32m    725\u001b[0m         request_dict = self._serializer.serialize_to_request(\n\u001b[1;32m--> 726\u001b[1;33m             api_params, operation_model)\n\u001b[0m\u001b[0;32m    727\u001b[0m         \u001b[1;32mif\u001b[0m \u001b[1;32mnot\u001b[0m \u001b[0mself\u001b[0m\u001b[1;33m.\u001b[0m\u001b[0m_client_config\u001b[0m\u001b[1;33m.\u001b[0m\u001b[0minject_host_prefix\u001b[0m\u001b[1;33m:\u001b[0m\u001b[1;33m\u001b[0m\u001b[1;33m\u001b[0m\u001b[0m\n\u001b[0;32m    728\u001b[0m             \u001b[0mrequest_dict\u001b[0m\u001b[1;33m.\u001b[0m\u001b[0mpop\u001b[0m\u001b[1;33m(\u001b[0m\u001b[1;34m'host_prefix'\u001b[0m\u001b[1;33m,\u001b[0m \u001b[1;32mNone\u001b[0m\u001b[1;33m)\u001b[0m\u001b[1;33m\u001b[0m\u001b[1;33m\u001b[0m\u001b[0m\n",
      "\u001b[1;32mc:\\python37\\lib\\site-packages\\botocore\\validate.py\u001b[0m in \u001b[0;36mserialize_to_request\u001b[1;34m(self, parameters, operation_model)\u001b[0m\n\u001b[0;32m    317\u001b[0m                                                     operation_model.input_shape)\n\u001b[0;32m    318\u001b[0m             \u001b[1;32mif\u001b[0m \u001b[0mreport\u001b[0m\u001b[1;33m.\u001b[0m\u001b[0mhas_errors\u001b[0m\u001b[1;33m(\u001b[0m\u001b[1;33m)\u001b[0m\u001b[1;33m:\u001b[0m\u001b[1;33m\u001b[0m\u001b[1;33m\u001b[0m\u001b[0m\n\u001b[1;32m--> 319\u001b[1;33m                 \u001b[1;32mraise\u001b[0m \u001b[0mParamValidationError\u001b[0m\u001b[1;33m(\u001b[0m\u001b[0mreport\u001b[0m\u001b[1;33m=\u001b[0m\u001b[0mreport\u001b[0m\u001b[1;33m.\u001b[0m\u001b[0mgenerate_report\u001b[0m\u001b[1;33m(\u001b[0m\u001b[1;33m)\u001b[0m\u001b[1;33m)\u001b[0m\u001b[1;33m\u001b[0m\u001b[1;33m\u001b[0m\u001b[0m\n\u001b[0m\u001b[0;32m    320\u001b[0m         return self._serializer.serialize_to_request(parameters,\n\u001b[0;32m    321\u001b[0m                                                      operation_model)\n",
      "\u001b[1;31mParamValidationError\u001b[0m: Parameter validation failed:\nInvalid type for parameter RequestItems.material_master[0].PutRequest.Item.Std Class4.S, value: nan, type: <class 'float'>, valid types: <class 'str'>"
     ]
    }
   ],
   "source": [
    "for i in range(len(df)):    \n",
    "    response=client.batch_write_item(RequestItems={\n",
    "        'material_master':[\n",
    "            {\n",
    "                'PutRequest':{\n",
    "                    'Item':{\n",
    "                        'Std Text':{\n",
    "                            'S':productList[i],\n",
    "                        },\n",
    "                        'Type':{\n",
    "                            'S':TypeList[i],\n",
    "                        },\n",
    "                        'Context':{\n",
    "                            'S':ContextList[i],\n",
    "                        },\n",
    "                        'Access ID':{\n",
    "                            'S':accessidList[i],\n",
    "                        },\n",
    "                        'Text':{\n",
    "                            'S':TextList[i],\n",
    "                        },\n",
    "                        'ForPrd From':{\n",
    "                            'S':forprdFrom[i],\n",
    "                        },\n",
    "                        'ForPrd To':{\n",
    "                            'S':forprdTo[i],\n",
    "                        },\n",
    "                        'Std Class1':{\n",
    "                            'S':StdClass1[i],\n",
    "                        },\n",
    "                        'Std Class2':{\n",
    "                            'S':StdClass2[i],\n",
    "                        },\n",
    "                        'Std Class3':{\n",
    "                            'S':StdClass3[i],\n",
    "                        },\n",
    "                        'Std Class4':{\n",
    "                            'S':StdClass4[i],\n",
    "                        },\n",
    "                        'Std Class5':{\n",
    "                            'S':StdClass5[i],\n",
    "                        },\n",
    "                    }\n",
    "\n",
    "                }\n",
    "                    }\n",
    "        ]\n",
    "        })"
   ]
  },
  {
   "cell_type": "code",
   "execution_count": 14,
   "id": "113ccd58",
   "metadata": {
    "ExecuteTime": {
     "end_time": "2021-07-06T07:23:05.197371Z",
     "start_time": "2021-07-06T07:23:04.690920Z"
    }
   },
   "outputs": [
    {
     "ename": "ClientError",
     "evalue": "An error occurred (ValidationException) when calling the PutItem operation: One or more parameter values were invalid: Type mismatch for key Std Text expected: S actual: L",
     "output_type": "error",
     "traceback": [
      "\u001b[1;31m---------------------------------------------------------------------------\u001b[0m",
      "\u001b[1;31mClientError\u001b[0m                               Traceback (most recent call last)",
      "\u001b[1;32m<ipython-input-14-8063107ed3de>\u001b[0m in \u001b[0;36m<module>\u001b[1;34m\u001b[0m\n\u001b[0;32m      6\u001b[0m         \u001b[1;34m'Access ID'\u001b[0m\u001b[1;33m:\u001b[0m \u001b[0mdf\u001b[0m\u001b[1;33m[\u001b[0m\u001b[1;34m'Access ID'\u001b[0m\u001b[1;33m]\u001b[0m\u001b[1;33m.\u001b[0m\u001b[0mto_list\u001b[0m\u001b[1;33m(\u001b[0m\u001b[1;33m)\u001b[0m\u001b[1;33m,\u001b[0m\u001b[1;33m\u001b[0m\u001b[1;33m\u001b[0m\u001b[0m\n\u001b[0;32m      7\u001b[0m         \u001b[1;34m'Text'\u001b[0m\u001b[1;33m:\u001b[0m \u001b[0mdf\u001b[0m\u001b[1;33m[\u001b[0m\u001b[1;34m'Text'\u001b[0m\u001b[1;33m]\u001b[0m\u001b[1;33m.\u001b[0m\u001b[0mto_list\u001b[0m\u001b[1;33m(\u001b[0m\u001b[1;33m)\u001b[0m\u001b[1;33m,\u001b[0m\u001b[1;33m\u001b[0m\u001b[1;33m\u001b[0m\u001b[0m\n\u001b[1;32m----> 8\u001b[1;33m         \u001b[1;34m'ForPrd From'\u001b[0m\u001b[1;33m:\u001b[0m \u001b[0mdf\u001b[0m\u001b[1;33m[\u001b[0m\u001b[1;34m'ForPrd From'\u001b[0m\u001b[1;33m]\u001b[0m\u001b[1;33m.\u001b[0m\u001b[0mto_list\u001b[0m\u001b[1;33m(\u001b[0m\u001b[1;33m)\u001b[0m\u001b[1;33m,\u001b[0m\u001b[1;33m\u001b[0m\u001b[1;33m\u001b[0m\u001b[0m\n\u001b[0m\u001b[0;32m      9\u001b[0m     }\n\u001b[0;32m     10\u001b[0m )\n",
      "\u001b[1;32mc:\\python37\\lib\\site-packages\\boto3\\resources\\factory.py\u001b[0m in \u001b[0;36mdo_action\u001b[1;34m(self, *args, **kwargs)\u001b[0m\n\u001b[0;32m    518\u001b[0m             \u001b[1;31m# instance via ``self``.\u001b[0m\u001b[1;33m\u001b[0m\u001b[1;33m\u001b[0m\u001b[1;33m\u001b[0m\u001b[0m\n\u001b[0;32m    519\u001b[0m             \u001b[1;32mdef\u001b[0m \u001b[0mdo_action\u001b[0m\u001b[1;33m(\u001b[0m\u001b[0mself\u001b[0m\u001b[1;33m,\u001b[0m \u001b[1;33m*\u001b[0m\u001b[0margs\u001b[0m\u001b[1;33m,\u001b[0m \u001b[1;33m**\u001b[0m\u001b[0mkwargs\u001b[0m\u001b[1;33m)\u001b[0m\u001b[1;33m:\u001b[0m\u001b[1;33m\u001b[0m\u001b[1;33m\u001b[0m\u001b[0m\n\u001b[1;32m--> 520\u001b[1;33m                 \u001b[0mresponse\u001b[0m \u001b[1;33m=\u001b[0m \u001b[0maction\u001b[0m\u001b[1;33m(\u001b[0m\u001b[0mself\u001b[0m\u001b[1;33m,\u001b[0m \u001b[1;33m*\u001b[0m\u001b[0margs\u001b[0m\u001b[1;33m,\u001b[0m \u001b[1;33m**\u001b[0m\u001b[0mkwargs\u001b[0m\u001b[1;33m)\u001b[0m\u001b[1;33m\u001b[0m\u001b[1;33m\u001b[0m\u001b[0m\n\u001b[0m\u001b[0;32m    521\u001b[0m \u001b[1;33m\u001b[0m\u001b[0m\n\u001b[0;32m    522\u001b[0m                 \u001b[1;32mif\u001b[0m \u001b[0mhasattr\u001b[0m\u001b[1;33m(\u001b[0m\u001b[0mself\u001b[0m\u001b[1;33m,\u001b[0m \u001b[1;34m'load'\u001b[0m\u001b[1;33m)\u001b[0m\u001b[1;33m:\u001b[0m\u001b[1;33m\u001b[0m\u001b[1;33m\u001b[0m\u001b[0m\n",
      "\u001b[1;32mc:\\python37\\lib\\site-packages\\boto3\\resources\\action.py\u001b[0m in \u001b[0;36m__call__\u001b[1;34m(self, parent, *args, **kwargs)\u001b[0m\n\u001b[0;32m     81\u001b[0m                     operation_name, params)\n\u001b[0;32m     82\u001b[0m \u001b[1;33m\u001b[0m\u001b[0m\n\u001b[1;32m---> 83\u001b[1;33m         \u001b[0mresponse\u001b[0m \u001b[1;33m=\u001b[0m \u001b[0mgetattr\u001b[0m\u001b[1;33m(\u001b[0m\u001b[0mparent\u001b[0m\u001b[1;33m.\u001b[0m\u001b[0mmeta\u001b[0m\u001b[1;33m.\u001b[0m\u001b[0mclient\u001b[0m\u001b[1;33m,\u001b[0m \u001b[0moperation_name\u001b[0m\u001b[1;33m)\u001b[0m\u001b[1;33m(\u001b[0m\u001b[1;33m*\u001b[0m\u001b[0margs\u001b[0m\u001b[1;33m,\u001b[0m \u001b[1;33m**\u001b[0m\u001b[0mparams\u001b[0m\u001b[1;33m)\u001b[0m\u001b[1;33m\u001b[0m\u001b[1;33m\u001b[0m\u001b[0m\n\u001b[0m\u001b[0;32m     84\u001b[0m \u001b[1;33m\u001b[0m\u001b[0m\n\u001b[0;32m     85\u001b[0m         \u001b[0mlogger\u001b[0m\u001b[1;33m.\u001b[0m\u001b[0mdebug\u001b[0m\u001b[1;33m(\u001b[0m\u001b[1;34m'Response: %r'\u001b[0m\u001b[1;33m,\u001b[0m \u001b[0mresponse\u001b[0m\u001b[1;33m)\u001b[0m\u001b[1;33m\u001b[0m\u001b[1;33m\u001b[0m\u001b[0m\n",
      "\u001b[1;32mc:\\python37\\lib\\site-packages\\botocore\\client.py\u001b[0m in \u001b[0;36m_api_call\u001b[1;34m(self, *args, **kwargs)\u001b[0m\n\u001b[0;32m    384\u001b[0m                     \"%s() only accepts keyword arguments.\" % py_operation_name)\n\u001b[0;32m    385\u001b[0m             \u001b[1;31m# The \"self\" in this scope is referring to the BaseClient.\u001b[0m\u001b[1;33m\u001b[0m\u001b[1;33m\u001b[0m\u001b[1;33m\u001b[0m\u001b[0m\n\u001b[1;32m--> 386\u001b[1;33m             \u001b[1;32mreturn\u001b[0m \u001b[0mself\u001b[0m\u001b[1;33m.\u001b[0m\u001b[0m_make_api_call\u001b[0m\u001b[1;33m(\u001b[0m\u001b[0moperation_name\u001b[0m\u001b[1;33m,\u001b[0m \u001b[0mkwargs\u001b[0m\u001b[1;33m)\u001b[0m\u001b[1;33m\u001b[0m\u001b[1;33m\u001b[0m\u001b[0m\n\u001b[0m\u001b[0;32m    387\u001b[0m \u001b[1;33m\u001b[0m\u001b[0m\n\u001b[0;32m    388\u001b[0m         \u001b[0m_api_call\u001b[0m\u001b[1;33m.\u001b[0m\u001b[0m__name__\u001b[0m \u001b[1;33m=\u001b[0m \u001b[0mstr\u001b[0m\u001b[1;33m(\u001b[0m\u001b[0mpy_operation_name\u001b[0m\u001b[1;33m)\u001b[0m\u001b[1;33m\u001b[0m\u001b[1;33m\u001b[0m\u001b[0m\n",
      "\u001b[1;32mc:\\python37\\lib\\site-packages\\botocore\\client.py\u001b[0m in \u001b[0;36m_make_api_call\u001b[1;34m(self, operation_name, api_params)\u001b[0m\n\u001b[0;32m    703\u001b[0m             \u001b[0merror_code\u001b[0m \u001b[1;33m=\u001b[0m \u001b[0mparsed_response\u001b[0m\u001b[1;33m.\u001b[0m\u001b[0mget\u001b[0m\u001b[1;33m(\u001b[0m\u001b[1;34m\"Error\"\u001b[0m\u001b[1;33m,\u001b[0m \u001b[1;33m{\u001b[0m\u001b[1;33m}\u001b[0m\u001b[1;33m)\u001b[0m\u001b[1;33m.\u001b[0m\u001b[0mget\u001b[0m\u001b[1;33m(\u001b[0m\u001b[1;34m\"Code\"\u001b[0m\u001b[1;33m)\u001b[0m\u001b[1;33m\u001b[0m\u001b[1;33m\u001b[0m\u001b[0m\n\u001b[0;32m    704\u001b[0m             \u001b[0merror_class\u001b[0m \u001b[1;33m=\u001b[0m \u001b[0mself\u001b[0m\u001b[1;33m.\u001b[0m\u001b[0mexceptions\u001b[0m\u001b[1;33m.\u001b[0m\u001b[0mfrom_code\u001b[0m\u001b[1;33m(\u001b[0m\u001b[0merror_code\u001b[0m\u001b[1;33m)\u001b[0m\u001b[1;33m\u001b[0m\u001b[1;33m\u001b[0m\u001b[0m\n\u001b[1;32m--> 705\u001b[1;33m             \u001b[1;32mraise\u001b[0m \u001b[0merror_class\u001b[0m\u001b[1;33m(\u001b[0m\u001b[0mparsed_response\u001b[0m\u001b[1;33m,\u001b[0m \u001b[0moperation_name\u001b[0m\u001b[1;33m)\u001b[0m\u001b[1;33m\u001b[0m\u001b[1;33m\u001b[0m\u001b[0m\n\u001b[0m\u001b[0;32m    706\u001b[0m         \u001b[1;32melse\u001b[0m\u001b[1;33m:\u001b[0m\u001b[1;33m\u001b[0m\u001b[1;33m\u001b[0m\u001b[0m\n\u001b[0;32m    707\u001b[0m             \u001b[1;32mreturn\u001b[0m \u001b[0mparsed_response\u001b[0m\u001b[1;33m\u001b[0m\u001b[1;33m\u001b[0m\u001b[0m\n",
      "\u001b[1;31mClientError\u001b[0m: An error occurred (ValidationException) when calling the PutItem operation: One or more parameter values were invalid: Type mismatch for key Std Text expected: S actual: L"
     ]
    }
   ],
   "source": [
    "table.put_item(\n",
    "   Item={\n",
    "        'Std Text': df['Std Text'].to_list() ,\n",
    "        'Type': df['Type'].to_list(),\n",
    "        'Context': df['Context'].to_list(),\n",
    "        'Access ID': df['Access ID'].to_list(),\n",
    "        'Text': df['Text'].to_list(),\n",
    "        'ForPrd From': df['ForPrd From'].to_list(),\n",
    "        'ForPrd To': df['ForPrd To'].to_list(),\n",
    "        'Std Class 1': df['Std Class1'].to_list(),\n",
    "        'Std Class 2': df['Std Class2'].to_list(),\n",
    "        'Std Class 3': df['Std Class3'].to_list(),\n",
    "        'Std Class 4': df['Std Class4'].to_list(),\n",
    "        'Std Class 5': df['Std Class5'].to_list(),\n",
    "    }\n",
    ")"
   ]
  },
  {
   "cell_type": "code",
   "execution_count": null,
   "id": "d75dbab3",
   "metadata": {},
   "outputs": [],
   "source": [
    "table=dynamodb.batch_write_item()"
   ]
  }
 ],
 "metadata": {
  "kernelspec": {
   "display_name": "Python 3",
   "language": "python",
   "name": "python3"
  },
  "language_info": {
   "codemirror_mode": {
    "name": "ipython",
    "version": 3
   },
   "file_extension": ".py",
   "mimetype": "text/x-python",
   "name": "python",
   "nbconvert_exporter": "python",
   "pygments_lexer": "ipython3",
   "version": "3.7.9"
  },
  "toc": {
   "base_numbering": 1,
   "nav_menu": {},
   "number_sections": true,
   "sideBar": true,
   "skip_h1_title": false,
   "title_cell": "Table of Contents",
   "title_sidebar": "Contents",
   "toc_cell": false,
   "toc_position": {},
   "toc_section_display": true,
   "toc_window_display": false
  }
 },
 "nbformat": 4,
 "nbformat_minor": 5
}
