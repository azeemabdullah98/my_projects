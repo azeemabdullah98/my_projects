{
 "cells": [
  {
   "cell_type": "code",
   "execution_count": 2,
   "id": "violent-northern",
   "metadata": {},
   "outputs": [],
   "source": [
    "class Car:\n",
    "    car_type = \"Sedan\"\n",
    "    def __init__(self,name,mileage):\n",
    "        self.name = name\n",
    "        self.mileage = mileage\n",
    "    def description(self):\n",
    "        return f\"{self.name} can give mileage of {self.mileage} km/l\"\n",
    "    def max_speed(self,speed):\n",
    "        return f\"{self.name} can give a maximum speed of {speed} km/hr\""
   ]
  },
  {
   "cell_type": "code",
   "execution_count": 4,
   "id": "floral-vertical",
   "metadata": {},
   "outputs": [
    {
     "name": "stdout",
     "output_type": "stream",
     "text": [
      "Honda can give mileage of 20 km/l\n",
      "Honda can give a maximum speed of 250 km/hr\n"
     ]
    }
   ],
   "source": [
    "honda = Car(\"Honda\",\"20\")\n",
    "print(honda.description())\n",
    "print(honda.max_speed(250))"
   ]
  },
  {
   "cell_type": "code",
   "execution_count": 5,
   "id": "activated-event",
   "metadata": {},
   "outputs": [
    {
     "name": "stdout",
     "output_type": "stream",
     "text": [
      "Skoda can give mileage of 25 km/l\n",
      "Skoda can give a maximum speed of 200 km/hr\n"
     ]
    }
   ],
   "source": [
    "skoda = Car(\"Skoda\",\"25\")\n",
    "print(skoda.description())\n",
    "print(skoda.max_speed(200))"
   ]
  },
  {
   "cell_type": "code",
   "execution_count": 6,
   "id": "noticed-mobility",
   "metadata": {},
   "outputs": [
    {
     "name": "stdout",
     "output_type": "stream",
     "text": [
      "<__main__.Car object at 0x0000029F0D0346C8>\n"
     ]
    }
   ],
   "source": [
    "tesla = Car(\"Tesla\",50)\n",
    "print(tesla)"
   ]
  },
  {
   "cell_type": "code",
   "execution_count": 7,
   "id": "realistic-emission",
   "metadata": {},
   "outputs": [
    {
     "data": {
      "text/plain": [
       "'Tesla can give mileage of 50 km/l'"
      ]
     },
     "execution_count": 7,
     "metadata": {},
     "output_type": "execute_result"
    }
   ],
   "source": [
    "tesla.description()"
   ]
  },
  {
   "cell_type": "code",
   "execution_count": 8,
   "id": "yellow-convenience",
   "metadata": {},
   "outputs": [
    {
     "data": {
      "text/plain": [
       "'Tesla can give a maximum speed of 500 km/hr'"
      ]
     },
     "execution_count": 8,
     "metadata": {},
     "output_type": "execute_result"
    }
   ],
   "source": [
    "tesla.max_speed(500)"
   ]
  },
  {
   "cell_type": "code",
   "execution_count": 12,
   "id": "occasional-university",
   "metadata": {},
   "outputs": [],
   "source": [
    "# Parent class and child class...(inheritance)\n",
    "class Honda(Car):\n",
    "    pass\n",
    "class Tesla(Car):\n",
    "    def specification(self):\n",
    "        return \"This is the advanced autonomous vehicle\""
   ]
  },
  {
   "cell_type": "code",
   "execution_count": 15,
   "id": "understood-andrews",
   "metadata": {},
   "outputs": [
    {
     "name": "stdout",
     "output_type": "stream",
     "text": [
      "Honda can give mileage of 25 km/l\n",
      "Tesla can give mileage of 45 km/l\n",
      "This is the advanced autonomous vehicle\n"
     ]
    }
   ],
   "source": [
    "obj1 = Honda(\"Honda\",\"25\")\n",
    "print (obj1.description())\n",
    "\n",
    "obj2 = Tesla(\"Tesla\",\"45\")\n",
    "print (obj2.description())\n",
    "print(obj2.specification())"
   ]
  },
  {
   "cell_type": "code",
   "execution_count": 17,
   "id": "genuine-return",
   "metadata": {},
   "outputs": [
    {
     "name": "stdout",
     "output_type": "stream",
     "text": [
      "Tesla\n",
      "45\n"
     ]
    }
   ],
   "source": [
    "print(obj2.name)\n",
    "print(obj2.mileage)"
   ]
  },
  {
   "cell_type": "code",
   "execution_count": 9,
   "id": "aquatic-grass",
   "metadata": {},
   "outputs": [
    {
     "data": {
      "text/plain": [
       "{'apple': 40,\n",
       " 'mango': 45,\n",
       " 'papaya': 50,\n",
       " 'onion': 50,\n",
       " 'potato': 40,\n",
       " 'beans': 20}"
      ]
     },
     "execution_count": 9,
     "metadata": {},
     "output_type": "execute_result"
    }
   ],
   "source": [
    "fruit_prices = {\"apple\":40,\"mango\":45,\"papaya\":50}\n",
    "vegetable_prices = {\"onion\":50,\"potato\":40,\"beans\":20}\n",
    "{**fruit_prices,**vegetable_prices}"
   ]
  },
  {
   "cell_type": "code",
   "execution_count": 10,
   "id": "second-running",
   "metadata": {},
   "outputs": [
    {
     "name": "stdout",
     "output_type": "stream",
     "text": [
      "apple -> 40\n",
      "mango -> 45\n",
      "papaya -> 50\n",
      "onion -> 50\n",
      "potato -> 40\n",
      "beans -> 20\n"
     ]
    }
   ],
   "source": [
    "for k,v in {**fruit_prices,**vegetable_prices}.items():\n",
    "    print(k, '->' ,v)"
   ]
  },
  {
   "cell_type": "code",
   "execution_count": 3,
   "id": "express-celebrity",
   "metadata": {},
   "outputs": [],
   "source": [
    "for k,v in fruit_prices.items():\n",
    "    fruit_prices[k] = round(v*0.9,2)"
   ]
  },
  {
   "cell_type": "code",
   "execution_count": 4,
   "id": "harmful-monkey",
   "metadata": {},
   "outputs": [
    {
     "data": {
      "text/plain": [
       "{'apple': 36.0, 'mango': 40.5, 'papaya': 45.0}"
      ]
     },
     "execution_count": 4,
     "metadata": {},
     "output_type": "execute_result"
    }
   ],
   "source": [
    "fruit_prices"
   ]
  },
  {
   "cell_type": "code",
   "execution_count": 12,
   "id": "normal-testimony",
   "metadata": {},
   "outputs": [],
   "source": [
    "for k in list(fruit_prices.keys()):\n",
    "    if k == 'mango':\n",
    "        del fruit_prices[k]"
   ]
  },
  {
   "cell_type": "code",
   "execution_count": 13,
   "id": "removed-perfume",
   "metadata": {},
   "outputs": [
    {
     "data": {
      "text/plain": [
       "{'apple': 36.0, 'papaya': 45.0}"
      ]
     },
     "execution_count": 13,
     "metadata": {},
     "output_type": "execute_result"
    }
   ],
   "source": [
    "fruit_prices"
   ]
  },
  {
   "cell_type": "code",
   "execution_count": 1,
   "id": "virgin-welding",
   "metadata": {},
   "outputs": [
    {
     "data": {
      "text/plain": [
       "17100"
      ]
     },
     "execution_count": 1,
     "metadata": {},
     "output_type": "execute_result"
    }
   ],
   "source": [
    "incomes = {\"apple\":5600,\"orange\":6000,\"guvava\":5500}\n",
    "total_income = sum([values for values in incomes.values()])\n",
    "total_income"
   ]
  },
  {
   "cell_type": "code",
   "execution_count": 2,
   "id": "polished-least",
   "metadata": {},
   "outputs": [
    {
     "name": "stdout",
     "output_type": "stream",
     "text": [
      "5500\n",
      "5600\n",
      "6000\n"
     ]
    }
   ],
   "source": [
    "for k in sorted(incomes.values()):\n",
    "    print(k)"
   ]
  },
  {
   "cell_type": "code",
   "execution_count": 4,
   "id": "roman-canada",
   "metadata": {},
   "outputs": [
    {
     "name": "stdout",
     "output_type": "stream",
     "text": [
      "guvava -> 5500\n",
      "apple -> 5600\n",
      "orange -> 6000\n"
     ]
    }
   ],
   "source": [
    "def by_value(item):\n",
    "    return item[1]\n",
    "for k,v in sorted(incomes.items(),key=by_value):\n",
    "    print(k,'->',v)"
   ]
  },
  {
   "cell_type": "code",
   "execution_count": 26,
   "id": "grand-shift",
   "metadata": {},
   "outputs": [
    {
     "name": "stdout",
     "output_type": "stream",
     "text": [
      "Dictionary length:3\n",
      "('food', 'biscuit') removed\n",
      "Dictionary length:2\n",
      "('pet', 'dog') removed\n",
      "Dictionary length:1\n",
      "('color', 'blue') removed\n",
      "Dictionary length:0\n",
      "The Dictionary has no items now\n"
     ]
    }
   ],
   "source": [
    "#Removing the items of the dictionary in sequential steps using .popitem() built-in function...\n",
    "a_dict = {\"color\":\"blue\",\"pet\":\"dog\",\"food\":\"biscuit\"}\n",
    "while True:\n",
    "    try:\n",
    "        print(f\"Dictionary length:{len(a_dict)}\")\n",
    "        item = a_dict.popitem()\n",
    "        print(f\"{item} removed\")\n",
    "    except KeyError:\n",
    "        print(\"The Dictionary has no items now\")\n",
    "        break"
   ]
  },
  {
   "cell_type": "code",
   "execution_count": 18,
   "id": "flexible-istanbul",
   "metadata": {},
   "outputs": [
    {
     "data": {
      "text/plain": [
       "{'apple': 80.75, 'grapes': 61.75, 'pomegranate': 76.0}"
      ]
     },
     "execution_count": 18,
     "metadata": {},
     "output_type": "execute_result"
    }
   ],
   "source": [
    "# Using map function to add discount to each value of the dictionary...\n",
    "prices = {\"apple\":85,\"grapes\":65,\"pomegranate\":80}\n",
    "def discount(current_prices):\n",
    "    return (current_prices[0],round(current_prices[1]*0.95,2))\n",
    "new_prices = dict(map(discount,prices.items()))\n",
    "new_prices"
   ]
  },
  {
   "cell_type": "code",
   "execution_count": 25,
   "id": "opposite-weekly",
   "metadata": {},
   "outputs": [
    {
     "data": {
      "text/plain": [
       "['mango']"
      ]
     },
     "execution_count": 25,
     "metadata": {},
     "output_type": "execute_result"
    }
   ],
   "source": [
    "# Using filter to filter out the fruits price which are less than 80...\n",
    "cost = {\"mango\":56,\"papaya\":65,\"orange\":60}\n",
    "def by_lowvalue(price):\n",
    "    return cost[price] < 60\n",
    "low_cost = list(filter(by_lowvalue,cost.keys()))\n",
    "low_cost"
   ]
  },
  {
   "cell_type": "code",
   "execution_count": 13,
   "id": "basic-subject",
   "metadata": {},
   "outputs": [
    {
     "data": {
      "text/plain": [
       "ChainMap({'mango': 56, 'papaya': 65, 'orange': 60}, {'apple': 85, 'grapes': 65, 'pomegranate': 80})"
      ]
     },
     "execution_count": 13,
     "metadata": {},
     "output_type": "execute_result"
    }
   ],
   "source": [
    "#using collection.chainmap() to group multiple dictionary to single updateable view...\n",
    "from collections import ChainMap\n",
    "cost = {\"mango\":56,\"papaya\":65,\"orange\":60}\n",
    "prices = {\"apple\":85,\"grapes\":65,\"pomegranate\":80}\n",
    "chained_items = ChainMap(cost,prices)\n",
    "chained_items"
   ]
  },
  {
   "cell_type": "code",
   "execution_count": 14,
   "id": "familiar-synthetic",
   "metadata": {},
   "outputs": [
    {
     "name": "stdout",
     "output_type": "stream",
     "text": [
      "apple -> 85\n",
      "grapes -> 65\n",
      "pomegranate -> 80\n",
      "mango -> 56\n",
      "papaya -> 65\n",
      "orange -> 60\n"
     ]
    }
   ],
   "source": [
    "for key in chained_items:\n",
    "    print(key,'->',chained_items[key])"
   ]
  },
  {
   "cell_type": "code",
   "execution_count": 15,
   "id": "animal-protest",
   "metadata": {},
   "outputs": [
    {
     "name": "stdout",
     "output_type": "stream",
     "text": [
      "apple -> 85\n",
      "grapes -> 65\n",
      "pomegranate -> 80\n",
      "mango -> 56\n",
      "papaya -> 65\n",
      "orange -> 60\n"
     ]
    }
   ],
   "source": [
    "for key,value in chained_items.items():\n",
    "    print(key,'->',value)"
   ]
  },
  {
   "cell_type": "code",
   "execution_count": 17,
   "id": "editorial-germany",
   "metadata": {},
   "outputs": [
    {
     "name": "stdout",
     "output_type": "stream",
     "text": [
      "('apple', 85)\n",
      "('grapes', 65)\n",
      "('pomegranate', 80)\n",
      "('apple', 85)\n",
      "('grapes', 65)\n",
      "('pomegranate', 80)\n",
      "('apple', 85)\n",
      "('grapes', 65)\n",
      "('pomegranate', 80)\n"
     ]
    }
   ],
   "source": [
    "#Using itertools.cycle to repeat the dictionary the number of times you want...\n",
    "from itertools import cycle\n",
    "prices = {\"apple\":85,\"grapes\":65,\"pomegranate\":80}\n",
    "times = 3\n",
    "total_items = times*len(prices)\n",
    "for item in cycle(prices.items()):\n",
    "    if not total_items:\n",
    "        break\n",
    "    total_items -= 1\n",
    "    print(item)"
   ]
  },
  {
   "cell_type": "code",
   "execution_count": 20,
   "id": "motivated-austria",
   "metadata": {},
   "outputs": [
    {
     "name": "stdout",
     "output_type": "stream",
     "text": [
      "apple -> 85\n",
      "grapes -> 65\n",
      "pomegranate -> 80\n",
      "mango -> 56\n",
      "papaya -> 65\n",
      "orange -> 60\n"
     ]
    }
   ],
   "source": [
    "#Using itertools.Chain to iterate through multiple dictionary...\n",
    "from itertools import chain\n",
    "prices = {\"apple\":85,\"grapes\":65,\"pomegranate\":80}\n",
    "cost = {\"mango\":56,\"papaya\":65,\"orange\":60}\n",
    "for key,value in chain(prices.items(),cost.items()):\n",
    "    print(key,'->',value)"
   ]
  },
  {
   "cell_type": "code",
   "execution_count": 30,
   "id": "minute-thriller",
   "metadata": {},
   "outputs": [
    {
     "name": "stderr",
     "output_type": "stream",
     "text": [
      "usage: ipykernel_launcher.py [-h]\n",
      "ipykernel_launcher.py: error: unrecognized arguments: -f C:\\Users\\Azeem\\AppData\\Roaming\\jupyter\\runtime\\kernel-c8076501-0aca-400e-9b48-9b8be1e98bc1.json\n"
     ]
    },
    {
     "ename": "SystemExit",
     "evalue": "2",
     "output_type": "error",
     "traceback": [
      "An exception has occurred, use %tb to see the full traceback.\n",
      "\u001b[1;31mSystemExit\u001b[0m\u001b[1;31m:\u001b[0m 2\n"
     ]
    },
    {
     "name": "stderr",
     "output_type": "stream",
     "text": [
      "c:\\users\\azeem\\appdata\\local\\programs\\python\\python37\\lib\\site-packages\\IPython\\core\\interactiveshell.py:3445: UserWarning: To exit: use 'exit', 'quit', or Ctrl-D.\n",
      "  warn(\"To exit: use 'exit', 'quit', or Ctrl-D.\", stacklevel=1)\n"
     ]
    }
   ],
   "source": [
    "import argparse\n",
    "\n",
    "if __name__ == \"__main__\":\n",
    "    parser = argparse.ArgumentParser()\n",
    "    args = parser.parse_args()"
   ]
  },
  {
   "cell_type": "code",
   "execution_count": null,
   "id": "sticky-stereo",
   "metadata": {},
   "outputs": [],
   "source": []
  }
 ],
 "metadata": {
  "kernelspec": {
   "display_name": "Python 3",
   "language": "python",
   "name": "python3"
  },
  "language_info": {
   "codemirror_mode": {
    "name": "ipython",
    "version": 3
   },
   "file_extension": ".py",
   "mimetype": "text/x-python",
   "name": "python",
   "nbconvert_exporter": "python",
   "pygments_lexer": "ipython3",
   "version": "3.7.9"
  },
  "toc": {
   "base_numbering": 1,
   "nav_menu": {},
   "number_sections": true,
   "sideBar": true,
   "skip_h1_title": false,
   "title_cell": "Table of Contents",
   "title_sidebar": "Contents",
   "toc_cell": false,
   "toc_position": {},
   "toc_section_display": true,
   "toc_window_display": false
  }
 },
 "nbformat": 4,
 "nbformat_minor": 5
}
