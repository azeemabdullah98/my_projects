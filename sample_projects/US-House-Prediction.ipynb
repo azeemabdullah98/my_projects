{
 "cells": [
  {
   "cell_type": "code",
   "execution_count": 1,
   "id": "written-sweden",
   "metadata": {},
   "outputs": [],
   "source": [
    "##import libraries\n",
    "import pandas as pd\n",
    "import numpy as np\n",
    "\n",
    "from sklearn.linear_model import (LinearRegression,Ridge,Lasso,HuberRegressor)\n",
    "from sklearn.model_selection import train_test_split\n",
    "from sklearn.metrics import mean_squared_error"
   ]
  },
  {
   "cell_type": "code",
   "execution_count": 2,
   "id": "solar-electronics",
   "metadata": {},
   "outputs": [
    {
     "data": {
      "text/html": [
       "<div>\n",
       "<style scoped>\n",
       "    .dataframe tbody tr th:only-of-type {\n",
       "        vertical-align: middle;\n",
       "    }\n",
       "\n",
       "    .dataframe tbody tr th {\n",
       "        vertical-align: top;\n",
       "    }\n",
       "\n",
       "    .dataframe thead th {\n",
       "        text-align: right;\n",
       "    }\n",
       "</style>\n",
       "<table border=\"1\" class=\"dataframe\">\n",
       "  <thead>\n",
       "    <tr style=\"text-align: right;\">\n",
       "      <th></th>\n",
       "      <th>Avg. Area Income</th>\n",
       "      <th>Avg. Area House Age</th>\n",
       "      <th>Avg. Area Number of Rooms</th>\n",
       "      <th>Avg. Area Number of Bedrooms</th>\n",
       "      <th>Area Population</th>\n",
       "      <th>Price</th>\n",
       "      <th>Address</th>\n",
       "    </tr>\n",
       "  </thead>\n",
       "  <tbody>\n",
       "    <tr>\n",
       "      <th>0</th>\n",
       "      <td>79545.458574</td>\n",
       "      <td>5.682861</td>\n",
       "      <td>7.009188</td>\n",
       "      <td>4.09</td>\n",
       "      <td>23086.800503</td>\n",
       "      <td>1.059034e+06</td>\n",
       "      <td>208 Michael Ferry Apt. 674\\nLaurabury, NE 3701...</td>\n",
       "    </tr>\n",
       "    <tr>\n",
       "      <th>1</th>\n",
       "      <td>79248.642455</td>\n",
       "      <td>6.002900</td>\n",
       "      <td>6.730821</td>\n",
       "      <td>3.09</td>\n",
       "      <td>40173.072174</td>\n",
       "      <td>1.505891e+06</td>\n",
       "      <td>188 Johnson Views Suite 079\\nLake Kathleen, CA...</td>\n",
       "    </tr>\n",
       "    <tr>\n",
       "      <th>2</th>\n",
       "      <td>61287.067179</td>\n",
       "      <td>5.865890</td>\n",
       "      <td>8.512727</td>\n",
       "      <td>5.13</td>\n",
       "      <td>36882.159400</td>\n",
       "      <td>1.058988e+06</td>\n",
       "      <td>9127 Elizabeth Stravenue\\nDanieltown, WI 06482...</td>\n",
       "    </tr>\n",
       "    <tr>\n",
       "      <th>3</th>\n",
       "      <td>63345.240046</td>\n",
       "      <td>7.188236</td>\n",
       "      <td>5.586729</td>\n",
       "      <td>3.26</td>\n",
       "      <td>34310.242831</td>\n",
       "      <td>1.260617e+06</td>\n",
       "      <td>USS Barnett\\nFPO AP 44820</td>\n",
       "    </tr>\n",
       "    <tr>\n",
       "      <th>4</th>\n",
       "      <td>59982.197226</td>\n",
       "      <td>5.040555</td>\n",
       "      <td>7.839388</td>\n",
       "      <td>4.23</td>\n",
       "      <td>26354.109472</td>\n",
       "      <td>6.309435e+05</td>\n",
       "      <td>USNS Raymond\\nFPO AE 09386</td>\n",
       "    </tr>\n",
       "  </tbody>\n",
       "</table>\n",
       "</div>"
      ],
      "text/plain": [
       "   Avg. Area Income  Avg. Area House Age  Avg. Area Number of Rooms  \\\n",
       "0      79545.458574             5.682861                   7.009188   \n",
       "1      79248.642455             6.002900                   6.730821   \n",
       "2      61287.067179             5.865890                   8.512727   \n",
       "3      63345.240046             7.188236                   5.586729   \n",
       "4      59982.197226             5.040555                   7.839388   \n",
       "\n",
       "   Avg. Area Number of Bedrooms  Area Population         Price  \\\n",
       "0                          4.09     23086.800503  1.059034e+06   \n",
       "1                          3.09     40173.072174  1.505891e+06   \n",
       "2                          5.13     36882.159400  1.058988e+06   \n",
       "3                          3.26     34310.242831  1.260617e+06   \n",
       "4                          4.23     26354.109472  6.309435e+05   \n",
       "\n",
       "                                             Address  \n",
       "0  208 Michael Ferry Apt. 674\\nLaurabury, NE 3701...  \n",
       "1  188 Johnson Views Suite 079\\nLake Kathleen, CA...  \n",
       "2  9127 Elizabeth Stravenue\\nDanieltown, WI 06482...  \n",
       "3                          USS Barnett\\nFPO AP 44820  \n",
       "4                         USNS Raymond\\nFPO AE 09386  "
      ]
     },
     "execution_count": 2,
     "metadata": {},
     "output_type": "execute_result"
    }
   ],
   "source": [
    "##step-1 load dataset\n",
    "dataset = pd.read_csv(\"D:/US_House_Price_Pred/USA_Housing.csv\")\n",
    "dataset.head()"
   ]
  },
  {
   "cell_type": "code",
   "execution_count": 7,
   "id": "fluid-bunny",
   "metadata": {},
   "outputs": [],
   "source": [
    "roundedDataset = round(dataset.loc[:,:],ndigits=1 )"
   ]
  },
  {
   "cell_type": "code",
   "execution_count": 8,
   "id": "legitimate-sector",
   "metadata": {},
   "outputs": [
    {
     "data": {
      "text/html": [
       "<div>\n",
       "<style scoped>\n",
       "    .dataframe tbody tr th:only-of-type {\n",
       "        vertical-align: middle;\n",
       "    }\n",
       "\n",
       "    .dataframe tbody tr th {\n",
       "        vertical-align: top;\n",
       "    }\n",
       "\n",
       "    .dataframe thead th {\n",
       "        text-align: right;\n",
       "    }\n",
       "</style>\n",
       "<table border=\"1\" class=\"dataframe\">\n",
       "  <thead>\n",
       "    <tr style=\"text-align: right;\">\n",
       "      <th></th>\n",
       "      <th>Avg. Area Income</th>\n",
       "      <th>Avg. Area House Age</th>\n",
       "      <th>Avg. Area Number of Rooms</th>\n",
       "      <th>Avg. Area Number of Bedrooms</th>\n",
       "      <th>Area Population</th>\n",
       "    </tr>\n",
       "  </thead>\n",
       "  <tbody>\n",
       "    <tr>\n",
       "      <th>0</th>\n",
       "      <td>79545.5</td>\n",
       "      <td>5.7</td>\n",
       "      <td>7.0</td>\n",
       "      <td>4.1</td>\n",
       "      <td>23086.8</td>\n",
       "    </tr>\n",
       "    <tr>\n",
       "      <th>1</th>\n",
       "      <td>79248.6</td>\n",
       "      <td>6.0</td>\n",
       "      <td>6.7</td>\n",
       "      <td>3.1</td>\n",
       "      <td>40173.1</td>\n",
       "    </tr>\n",
       "    <tr>\n",
       "      <th>2</th>\n",
       "      <td>61287.1</td>\n",
       "      <td>5.9</td>\n",
       "      <td>8.5</td>\n",
       "      <td>5.1</td>\n",
       "      <td>36882.2</td>\n",
       "    </tr>\n",
       "    <tr>\n",
       "      <th>3</th>\n",
       "      <td>63345.2</td>\n",
       "      <td>7.2</td>\n",
       "      <td>5.6</td>\n",
       "      <td>3.3</td>\n",
       "      <td>34310.2</td>\n",
       "    </tr>\n",
       "    <tr>\n",
       "      <th>4</th>\n",
       "      <td>59982.2</td>\n",
       "      <td>5.0</td>\n",
       "      <td>7.8</td>\n",
       "      <td>4.2</td>\n",
       "      <td>26354.1</td>\n",
       "    </tr>\n",
       "  </tbody>\n",
       "</table>\n",
       "</div>"
      ],
      "text/plain": [
       "   Avg. Area Income  Avg. Area House Age  Avg. Area Number of Rooms  \\\n",
       "0           79545.5                  5.7                        7.0   \n",
       "1           79248.6                  6.0                        6.7   \n",
       "2           61287.1                  5.9                        8.5   \n",
       "3           63345.2                  7.2                        5.6   \n",
       "4           59982.2                  5.0                        7.8   \n",
       "\n",
       "   Avg. Area Number of Bedrooms  Area Population  \n",
       "0                           4.1          23086.8  \n",
       "1                           3.1          40173.1  \n",
       "2                           5.1          36882.2  \n",
       "3                           3.3          34310.2  \n",
       "4                           4.2          26354.1  "
      ]
     },
     "execution_count": 8,
     "metadata": {},
     "output_type": "execute_result"
    }
   ],
   "source": [
    "x = roundedDataset.loc[:,\"Avg. Area Income\":\"Area Population\"]\n",
    "x.head()"
   ]
  },
  {
   "cell_type": "code",
   "execution_count": 5,
   "id": "pressed-words",
   "metadata": {},
   "outputs": [
    {
     "data": {
      "text/plain": [
       "0    1.059034e+06\n",
       "1    1.505891e+06\n",
       "2    1.058988e+06\n",
       "3    1.260617e+06\n",
       "4    6.309435e+05\n",
       "Name: Price, dtype: float64"
      ]
     },
     "execution_count": 5,
     "metadata": {},
     "output_type": "execute_result"
    }
   ],
   "source": [
    "y = dataset[\"Price\"]\n",
    "y.head()"
   ]
  },
  {
   "cell_type": "code",
   "execution_count": 6,
   "id": "formed-reputation",
   "metadata": {},
   "outputs": [],
   "source": [
    "##step-2 split dataset\n",
    "xtrain,xtest,ytrain,ytest = train_test_split(x,y,test_size=0.4,random_state=3)"
   ]
  },
  {
   "cell_type": "code",
   "execution_count": 7,
   "id": "advanced-planning",
   "metadata": {},
   "outputs": [
    {
     "data": {
      "text/plain": [
       "((3000, 5), (2000, 5), (5000, 5))"
      ]
     },
     "execution_count": 7,
     "metadata": {},
     "output_type": "execute_result"
    }
   ],
   "source": [
    "xtrain.shape,xtest.shape,x.shape"
   ]
  },
  {
   "cell_type": "code",
   "execution_count": 8,
   "id": "invalid-bernard",
   "metadata": {},
   "outputs": [
    {
     "data": {
      "text/html": [
       "<div>\n",
       "<style scoped>\n",
       "    .dataframe tbody tr th:only-of-type {\n",
       "        vertical-align: middle;\n",
       "    }\n",
       "\n",
       "    .dataframe tbody tr th {\n",
       "        vertical-align: top;\n",
       "    }\n",
       "\n",
       "    .dataframe thead th {\n",
       "        text-align: right;\n",
       "    }\n",
       "</style>\n",
       "<table border=\"1\" class=\"dataframe\">\n",
       "  <thead>\n",
       "    <tr style=\"text-align: right;\">\n",
       "      <th></th>\n",
       "      <th>Avg. Area Income</th>\n",
       "      <th>Avg. Area House Age</th>\n",
       "      <th>Avg. Area Number of Rooms</th>\n",
       "      <th>Avg. Area Number of Bedrooms</th>\n",
       "      <th>Area Population</th>\n",
       "    </tr>\n",
       "  </thead>\n",
       "  <tbody>\n",
       "    <tr>\n",
       "      <th>2512</th>\n",
       "      <td>68201.412486</td>\n",
       "      <td>4.196948</td>\n",
       "      <td>5.969959</td>\n",
       "      <td>2.30</td>\n",
       "      <td>43468.164465</td>\n",
       "    </tr>\n",
       "    <tr>\n",
       "      <th>597</th>\n",
       "      <td>64823.015835</td>\n",
       "      <td>5.079006</td>\n",
       "      <td>7.053927</td>\n",
       "      <td>5.12</td>\n",
       "      <td>36481.327752</td>\n",
       "    </tr>\n",
       "    <tr>\n",
       "      <th>3091</th>\n",
       "      <td>46367.205859</td>\n",
       "      <td>5.290720</td>\n",
       "      <td>5.181614</td>\n",
       "      <td>4.50</td>\n",
       "      <td>26015.296447</td>\n",
       "    </tr>\n",
       "    <tr>\n",
       "      <th>4830</th>\n",
       "      <td>55468.486886</td>\n",
       "      <td>6.783951</td>\n",
       "      <td>7.798628</td>\n",
       "      <td>3.40</td>\n",
       "      <td>37666.331185</td>\n",
       "    </tr>\n",
       "    <tr>\n",
       "      <th>493</th>\n",
       "      <td>62566.562637</td>\n",
       "      <td>4.937435</td>\n",
       "      <td>6.346328</td>\n",
       "      <td>2.41</td>\n",
       "      <td>29365.607608</td>\n",
       "    </tr>\n",
       "  </tbody>\n",
       "</table>\n",
       "</div>"
      ],
      "text/plain": [
       "      Avg. Area Income  Avg. Area House Age  Avg. Area Number of Rooms  \\\n",
       "2512      68201.412486             4.196948                   5.969959   \n",
       "597       64823.015835             5.079006                   7.053927   \n",
       "3091      46367.205859             5.290720                   5.181614   \n",
       "4830      55468.486886             6.783951                   7.798628   \n",
       "493       62566.562637             4.937435                   6.346328   \n",
       "\n",
       "      Avg. Area Number of Bedrooms  Area Population  \n",
       "2512                          2.30     43468.164465  \n",
       "597                           5.12     36481.327752  \n",
       "3091                          4.50     26015.296447  \n",
       "4830                          3.40     37666.331185  \n",
       "493                           2.41     29365.607608  "
      ]
     },
     "execution_count": 8,
     "metadata": {},
     "output_type": "execute_result"
    }
   ],
   "source": [
    "xtrain.head()"
   ]
  },
  {
   "cell_type": "code",
   "execution_count": 9,
   "id": "chinese-value",
   "metadata": {},
   "outputs": [],
   "source": [
    "##step-3 define an algorithm\n",
    "model1 = LinearRegression()\n",
    "model2 = Ridge()\n",
    "model3 = Lasso()\n",
    "model4 = HuberRegressor()"
   ]
  },
  {
   "cell_type": "code",
   "execution_count": 10,
   "id": "potential-passage",
   "metadata": {},
   "outputs": [
    {
     "data": {
      "text/plain": [
       "LinearRegression()"
      ]
     },
     "execution_count": 10,
     "metadata": {},
     "output_type": "execute_result"
    }
   ],
   "source": [
    "##step-4 Training \n",
    "model1.fit(xtrain,ytrain)"
   ]
  },
  {
   "cell_type": "code",
   "execution_count": 11,
   "id": "fundamental-cylinder",
   "metadata": {},
   "outputs": [
    {
     "data": {
      "text/plain": [
       "Ridge()"
      ]
     },
     "execution_count": 11,
     "metadata": {},
     "output_type": "execute_result"
    }
   ],
   "source": [
    "model2.fit(xtrain,ytrain)"
   ]
  },
  {
   "cell_type": "code",
   "execution_count": 12,
   "id": "received-raise",
   "metadata": {},
   "outputs": [
    {
     "data": {
      "text/plain": [
       "Lasso()"
      ]
     },
     "execution_count": 12,
     "metadata": {},
     "output_type": "execute_result"
    }
   ],
   "source": [
    "model3.fit(xtrain,ytrain)"
   ]
  },
  {
   "cell_type": "code",
   "execution_count": 13,
   "id": "polyphonic-owner",
   "metadata": {},
   "outputs": [
    {
     "data": {
      "text/plain": [
       "HuberRegressor()"
      ]
     },
     "execution_count": 13,
     "metadata": {},
     "output_type": "execute_result"
    }
   ],
   "source": [
    "model4.fit(xtrain,ytrain)"
   ]
  },
  {
   "cell_type": "code",
   "execution_count": 14,
   "id": "naval-bosnia",
   "metadata": {},
   "outputs": [],
   "source": [
    "##step-5 and step-6 skipping for now..."
   ]
  },
  {
   "cell_type": "code",
   "execution_count": 15,
   "id": "cellular-poland",
   "metadata": {},
   "outputs": [
    {
     "data": {
      "text/plain": [
       "array([1262721.89209657, 1497473.65051982, 1563168.24058248, ...,\n",
       "       1409653.3207282 ,  906014.98617218, 1308471.15437722])"
      ]
     },
     "execution_count": 15,
     "metadata": {},
     "output_type": "execute_result"
    }
   ],
   "source": [
    "##step-7 cross validation for model 1 (linear regression)\n",
    "ypred1 = model1.predict(xtest)\n",
    "ypred1"
   ]
  },
  {
   "cell_type": "code",
   "execution_count": 16,
   "id": "cooked-finnish",
   "metadata": {},
   "outputs": [
    {
     "data": {
      "text/plain": [
       "2584    1.122083e+06\n",
       "4338    1.565152e+06\n",
       "4556    1.603075e+06\n",
       "3438    1.104116e+06\n",
       "737     1.442129e+06\n",
       "            ...     \n",
       "3812    8.840152e+05\n",
       "2816    1.539085e+06\n",
       "2491    1.431517e+06\n",
       "3363    8.908877e+05\n",
       "2352    1.358983e+06\n",
       "Name: Price, Length: 2000, dtype: float64"
      ]
     },
     "execution_count": 16,
     "metadata": {},
     "output_type": "execute_result"
    }
   ],
   "source": [
    "ytest"
   ]
  },
  {
   "cell_type": "code",
   "execution_count": 17,
   "id": "sustainable-philadelphia",
   "metadata": {},
   "outputs": [
    {
     "data": {
      "text/plain": [
       "102286.8055354031"
      ]
     },
     "execution_count": 17,
     "metadata": {},
     "output_type": "execute_result"
    }
   ],
   "source": [
    "error1 = np.sqrt(mean_squared_error(ypred1,ytest))\n",
    "error1"
   ]
  },
  {
   "cell_type": "code",
   "execution_count": 18,
   "id": "essential-brand",
   "metadata": {},
   "outputs": [
    {
     "data": {
      "text/plain": [
       "array([1.94855649e+08])"
      ]
     },
     "execution_count": 18,
     "metadata": {},
     "output_type": "execute_result"
    }
   ],
   "source": [
    "model1.predict([[1000,1000,250,250,250]])"
   ]
  },
  {
   "cell_type": "code",
   "execution_count": 19,
   "id": "liberal-madonna",
   "metadata": {},
   "outputs": [
    {
     "data": {
      "text/plain": [
       "array([1262769.6091313 , 1497353.8917814 , 1563203.66306151, ...,\n",
       "       1409622.71587283,  906070.08924859, 1308550.74430106])"
      ]
     },
     "execution_count": 19,
     "metadata": {},
     "output_type": "execute_result"
    }
   ],
   "source": [
    "##model 2 (Ridge)\n",
    "ypred2 = model2.predict(xtest)\n",
    "ypred2"
   ]
  },
  {
   "cell_type": "code",
   "execution_count": 20,
   "id": "mounted-correction",
   "metadata": {},
   "outputs": [
    {
     "data": {
      "text/plain": [
       "102284.44756899243"
      ]
     },
     "execution_count": 20,
     "metadata": {},
     "output_type": "execute_result"
    }
   ],
   "source": [
    "error2 = np.sqrt(mean_squared_error(ypred2, ytest))\n",
    "error2"
   ]
  },
  {
   "cell_type": "code",
   "execution_count": 21,
   "id": "domestic-level",
   "metadata": {},
   "outputs": [
    {
     "data": {
      "text/plain": [
       "array([1.94791901e+08])"
      ]
     },
     "execution_count": 21,
     "metadata": {},
     "output_type": "execute_result"
    }
   ],
   "source": [
    "model2.predict([[1000,1000,250,250,250]])"
   ]
  },
  {
   "cell_type": "code",
   "execution_count": 23,
   "id": "informational-kingston",
   "metadata": {},
   "outputs": [
    {
     "data": {
      "text/plain": [
       "array([1262722.4686708 , 1497472.11330824, 1563168.61881137, ...,\n",
       "       1409651.96981058,  906016.5253657 , 1308472.2323728 ])"
      ]
     },
     "execution_count": 23,
     "metadata": {},
     "output_type": "execute_result"
    }
   ],
   "source": [
    "##model 3 (Lasso)\n",
    "ypred3 = model3.predict(xtest)\n",
    "ypred3"
   ]
  },
  {
   "cell_type": "code",
   "execution_count": 24,
   "id": "immediate-edwards",
   "metadata": {},
   "outputs": [
    {
     "data": {
      "text/plain": [
       "102286.72071961843"
      ]
     },
     "execution_count": 24,
     "metadata": {},
     "output_type": "execute_result"
    }
   ],
   "source": [
    "error3 = np.sqrt(mean_squared_error(ypred3,ytest))\n",
    "error3"
   ]
  },
  {
   "cell_type": "code",
   "execution_count": 25,
   "id": "configured-injury",
   "metadata": {},
   "outputs": [
    {
     "data": {
      "text/plain": [
       "array([1.94854366e+08])"
      ]
     },
     "execution_count": 25,
     "metadata": {},
     "output_type": "execute_result"
    }
   ],
   "source": [
    "model3.predict([[1000,1000,250,250,250]])"
   ]
  },
  {
   "cell_type": "code",
   "execution_count": 26,
   "id": "tired-adrian",
   "metadata": {},
   "outputs": [
    {
     "data": {
      "text/plain": [
       "array([1350317.36143755, 1233288.25212089, 1485959.70566753, ...,\n",
       "       1274642.69923687, 1141441.67094882, 1400726.23323893])"
      ]
     },
     "execution_count": 26,
     "metadata": {},
     "output_type": "execute_result"
    }
   ],
   "source": [
    "##model 4 (huber regressor)\n",
    "ypred4 = model4.predict(xtest)\n",
    "ypred4"
   ]
  },
  {
   "cell_type": "code",
   "execution_count": 28,
   "id": "impossible-pastor",
   "metadata": {},
   "outputs": [
    {
     "data": {
      "text/plain": [
       "250257.2273627124"
      ]
     },
     "execution_count": 28,
     "metadata": {},
     "output_type": "execute_result"
    }
   ],
   "source": [
    "error4 = np.sqrt(mean_squared_error(ypred4,ytest))\n",
    "error4"
   ]
  },
  {
   "cell_type": "code",
   "execution_count": 29,
   "id": "surrounded-integral",
   "metadata": {},
   "outputs": [
    {
     "data": {
      "text/plain": [
       "array([15378.29721695])"
      ]
     },
     "execution_count": 29,
     "metadata": {},
     "output_type": "execute_result"
    }
   ],
   "source": [
    "model4.predict([[1000,1000,250,250,250]])"
   ]
  },
  {
   "cell_type": "code",
   "execution_count": 43,
   "id": "active-beijing",
   "metadata": {},
   "outputs": [],
   "source": [
    "import pickle as pk"
   ]
  },
  {
   "cell_type": "code",
   "execution_count": 44,
   "id": "mechanical-audio",
   "metadata": {},
   "outputs": [],
   "source": [
    "##Linear Regression\n",
    "fileName1 = \"US-House-Prediction-using-linear-regression.pkl\""
   ]
  },
  {
   "cell_type": "code",
   "execution_count": 45,
   "id": "bottom-cambridge",
   "metadata": {},
   "outputs": [],
   "source": [
    "pk.dump(model1,open(fileName1,'wb'))"
   ]
  },
  {
   "cell_type": "code",
   "execution_count": 50,
   "id": "written-stable",
   "metadata": {},
   "outputs": [
    {
     "data": {
      "text/plain": [
       "LinearRegression()"
      ]
     },
     "execution_count": 50,
     "metadata": {},
     "output_type": "execute_result"
    }
   ],
   "source": [
    "loadedDataset1 = pk.load(open(fileName1,'rb'))\n",
    "loadedDataset1"
   ]
  },
  {
   "cell_type": "code",
   "execution_count": 51,
   "id": "municipal-turkish",
   "metadata": {},
   "outputs": [
    {
     "data": {
      "text/plain": [
       "array([1.94855649e+08])"
      ]
     },
     "execution_count": 51,
     "metadata": {},
     "output_type": "execute_result"
    }
   ],
   "source": [
    "loadedDataset1.predict([[1000,1000,250,250,250]])"
   ]
  },
  {
   "cell_type": "code",
   "execution_count": 52,
   "id": "prescribed-despite",
   "metadata": {},
   "outputs": [],
   "source": [
    "##Ridge Regression\n",
    "fileName2 = \"US-House-Prediction-using-RIDGE.pkl\""
   ]
  },
  {
   "cell_type": "code",
   "execution_count": 53,
   "id": "sustainable-airline",
   "metadata": {},
   "outputs": [],
   "source": [
    "pk.dump(model2,open(fileName2,'wb'))"
   ]
  },
  {
   "cell_type": "code",
   "execution_count": 54,
   "id": "falling-macintosh",
   "metadata": {},
   "outputs": [
    {
     "data": {
      "text/plain": [
       "Ridge()"
      ]
     },
     "execution_count": 54,
     "metadata": {},
     "output_type": "execute_result"
    }
   ],
   "source": [
    "loadedDataset2 = pk.load(open(fileName2,'rb'))\n",
    "loadedDataset2"
   ]
  },
  {
   "cell_type": "code",
   "execution_count": 55,
   "id": "authentic-recording",
   "metadata": {},
   "outputs": [
    {
     "data": {
      "text/plain": [
       "array([1.94791901e+08])"
      ]
     },
     "execution_count": 55,
     "metadata": {},
     "output_type": "execute_result"
    }
   ],
   "source": [
    "loadedDataset2.predict([[1000.,1000,250,250,250]])"
   ]
  },
  {
   "cell_type": "code",
   "execution_count": 56,
   "id": "incorrect-journey",
   "metadata": {},
   "outputs": [],
   "source": [
    "##Lasso Regression\n",
    "fileName3 = \"US-House-Prediction-using-LASSO.pkl\""
   ]
  },
  {
   "cell_type": "code",
   "execution_count": 57,
   "id": "martial-explosion",
   "metadata": {},
   "outputs": [],
   "source": [
    "pk.dump(model3,open(fileName3,'wb'))"
   ]
  },
  {
   "cell_type": "code",
   "execution_count": 58,
   "id": "athletic-diabetes",
   "metadata": {},
   "outputs": [
    {
     "data": {
      "text/plain": [
       "Lasso()"
      ]
     },
     "execution_count": 58,
     "metadata": {},
     "output_type": "execute_result"
    }
   ],
   "source": [
    "loadedDataset3 = pk.load(open(fileName3,'rb'))\n",
    "loadedDataset3"
   ]
  },
  {
   "cell_type": "code",
   "execution_count": 59,
   "id": "centered-development",
   "metadata": {},
   "outputs": [
    {
     "data": {
      "text/plain": [
       "array([1.94854366e+08])"
      ]
     },
     "execution_count": 59,
     "metadata": {},
     "output_type": "execute_result"
    }
   ],
   "source": [
    "loadedDataset3.predict([[1000,1000,250,250,250]])"
   ]
  },
  {
   "cell_type": "code",
   "execution_count": 60,
   "id": "democratic-nashville",
   "metadata": {},
   "outputs": [],
   "source": [
    "## Huber Regression\n",
    "fileName4 = \"US-House-Prediction-using-huber.pkl\""
   ]
  },
  {
   "cell_type": "code",
   "execution_count": 61,
   "id": "strategic-joseph",
   "metadata": {},
   "outputs": [],
   "source": [
    "pk.dump(model4,open(fileName4,'wb'))"
   ]
  },
  {
   "cell_type": "code",
   "execution_count": 63,
   "id": "parliamentary-hacker",
   "metadata": {},
   "outputs": [
    {
     "data": {
      "text/plain": [
       "HuberRegressor()"
      ]
     },
     "execution_count": 63,
     "metadata": {},
     "output_type": "execute_result"
    }
   ],
   "source": [
    "loadedDataset4 = pk.load(open(fileName4,'rb'))\n",
    "loadedDataset4"
   ]
  },
  {
   "cell_type": "code",
   "execution_count": 64,
   "id": "foreign-coordinator",
   "metadata": {},
   "outputs": [
    {
     "data": {
      "text/plain": [
       "array([15378.29721695])"
      ]
     },
     "execution_count": 64,
     "metadata": {},
     "output_type": "execute_result"
    }
   ],
   "source": [
    "loadedDataset4.predict([[1000,1000,250,250,250]])"
   ]
  },
  {
   "cell_type": "code",
   "execution_count": null,
   "id": "accompanied-panic",
   "metadata": {},
   "outputs": [],
   "source": []
  }
 ],
 "metadata": {
  "kernelspec": {
   "display_name": "Python 3",
   "language": "python",
   "name": "python3"
  },
  "language_info": {
   "codemirror_mode": {
    "name": "ipython",
    "version": 3
   },
   "file_extension": ".py",
   "mimetype": "text/x-python",
   "name": "python",
   "nbconvert_exporter": "python",
   "pygments_lexer": "ipython3",
   "version": "3.7.9"
  },
  "toc": {
   "base_numbering": 1,
   "nav_menu": {},
   "number_sections": true,
   "sideBar": true,
   "skip_h1_title": false,
   "title_cell": "Table of Contents",
   "title_sidebar": "Contents",
   "toc_cell": false,
   "toc_position": {},
   "toc_section_display": true,
   "toc_window_display": false
  }
 },
 "nbformat": 4,
 "nbformat_minor": 5
}
