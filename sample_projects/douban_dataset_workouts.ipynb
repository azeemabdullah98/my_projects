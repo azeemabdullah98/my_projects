{
 "cells": [
  {
   "cell_type": "code",
   "execution_count": 1,
   "id": "6e40f251",
   "metadata": {
    "ExecuteTime": {
     "end_time": "2021-08-18T03:18:08.444079Z",
     "start_time": "2021-08-18T03:18:07.333619Z"
    }
   },
   "outputs": [],
   "source": [
    "import pandas as pd"
   ]
  },
  {
   "cell_type": "code",
   "execution_count": 2,
   "id": "c05f452d",
   "metadata": {
    "ExecuteTime": {
     "end_time": "2021-08-18T03:18:27.491633Z",
     "start_time": "2021-08-18T03:18:26.126087Z"
    }
   },
   "outputs": [],
   "source": [
    "df=pd.read_csv(\"c:/python_projects/data.csv\")"
   ]
  },
  {
   "cell_type": "code",
   "execution_count": 3,
   "id": "866327e6",
   "metadata": {
    "ExecuteTime": {
     "end_time": "2021-08-18T03:18:33.190696Z",
     "start_time": "2021-08-18T03:18:32.905276Z"
    }
   },
   "outputs": [
    {
     "data": {
      "text/html": [
       "<div>\n",
       "<style scoped>\n",
       "    .dataframe tbody tr th:only-of-type {\n",
       "        vertical-align: middle;\n",
       "    }\n",
       "\n",
       "    .dataframe tbody tr th {\n",
       "        vertical-align: top;\n",
       "    }\n",
       "\n",
       "    .dataframe thead th {\n",
       "        text-align: right;\n",
       "    }\n",
       "</style>\n",
       "<table border=\"1\" class=\"dataframe\">\n",
       "  <thead>\n",
       "    <tr style=\"text-align: right;\">\n",
       "      <th></th>\n",
       "      <th>atmid</th>\n",
       "      <th>date</th>\n",
       "      <th>problemname</th>\n",
       "      <th>mode</th>\n",
       "      <th>eventcd</th>\n",
       "      <th>source</th>\n",
       "      <th>docketref</th>\n",
       "      <th>gname</th>\n",
       "    </tr>\n",
       "  </thead>\n",
       "  <tbody>\n",
       "    <tr>\n",
       "      <th>0</th>\n",
       "      <td>PAYTM003</td>\n",
       "      <td>2021-04-08 20:41</td>\n",
       "      <td>BREAK DOWN/SOFTWARE CORRUPTED</td>\n",
       "      <td>SLM_DOCKET_CLOSED</td>\n",
       "      <td>BREAK DOWN/SOFTWARE CORRUPTED/HDD Machine</td>\n",
       "      <td>SLM_HISTORY</td>\n",
       "      <td>060421/15695</td>\n",
       "      <td>Machine Down/Software Corruption</td>\n",
       "    </tr>\n",
       "    <tr>\n",
       "      <th>1</th>\n",
       "      <td>PAYTM003</td>\n",
       "      <td>2021-04-08 20:41</td>\n",
       "      <td>BREAK DOWN/SOFTWARE CORRUPTED</td>\n",
       "      <td>PART_REPL_CLOSED</td>\n",
       "      <td>FOC-HTNS-S5693000045</td>\n",
       "      <td>PART_REPL_HISTORY</td>\n",
       "      <td>060421/15695</td>\n",
       "      <td>Machine Down/Software Corruption</td>\n",
       "    </tr>\n",
       "    <tr>\n",
       "      <th>2</th>\n",
       "      <td>PAYTM006</td>\n",
       "      <td>2021-04-03 11:46</td>\n",
       "      <td>BREAK DOWN/EPP</td>\n",
       "      <td>SLM_DOCKET_CREATED</td>\n",
       "      <td>BREAK DOWN/EPP/EPP - Encrypting PIN Pad</td>\n",
       "      <td>SLM_HISTORY</td>\n",
       "      <td>030421/2145</td>\n",
       "      <td>Machine Down/EPP Faulty</td>\n",
       "    </tr>\n",
       "    <tr>\n",
       "      <th>3</th>\n",
       "      <td>PAYTM006</td>\n",
       "      <td>2021-04-03 19:52</td>\n",
       "      <td>BREAK DOWN/EPP</td>\n",
       "      <td>SLM_DOCKET_CLOSED</td>\n",
       "      <td>BREAK DOWN/EPP/EPP - Encrypting PIN Pad</td>\n",
       "      <td>SLM_HISTORY</td>\n",
       "      <td>030421/2145</td>\n",
       "      <td>Machine Down/EPP Faulty</td>\n",
       "    </tr>\n",
       "    <tr>\n",
       "      <th>4</th>\n",
       "      <td>PAYTM011</td>\n",
       "      <td>2021-04-05 20:24</td>\n",
       "      <td>BREAK DOWN/SOFTWARE CORRUPTED</td>\n",
       "      <td>SLM_DOCKET_CREATED</td>\n",
       "      <td>BREAK DOWN/SOFTWARE CORRUPTED/Ghost/Operating ...</td>\n",
       "      <td>SLM_HISTORY</td>\n",
       "      <td>050421/15586</td>\n",
       "      <td>Machine Down/Software Corruption</td>\n",
       "    </tr>\n",
       "    <tr>\n",
       "      <th>5</th>\n",
       "      <td>PAYTM011</td>\n",
       "      <td>2021-04-07 9:15</td>\n",
       "      <td>BREAK DOWN/SOFTWARE CORRUPTED</td>\n",
       "      <td>SLM_DOCKET_CLOSED</td>\n",
       "      <td>BREAK DOWN/SOFTWARE CORRUPTED/Ghost/Operating ...</td>\n",
       "      <td>SLM_HISTORY</td>\n",
       "      <td>050421/15586</td>\n",
       "      <td>Machine Down/Software Corruption</td>\n",
       "    </tr>\n",
       "    <tr>\n",
       "      <th>6</th>\n",
       "      <td>PAYTM027</td>\n",
       "      <td>2021-04-14 10:05</td>\n",
       "      <td>BREAK DOWN/DISPENSER FAILURE</td>\n",
       "      <td>SLM_DOCKET_CREATED</td>\n",
       "      <td>BREAK DOWN/DISPENSER FAILURE/Reject Cassette Full</td>\n",
       "      <td>SLM_HISTORY</td>\n",
       "      <td>050421/11202-C1</td>\n",
       "      <td>Machine Down/Dispenser Problem/Cash Dispenser ...</td>\n",
       "    </tr>\n",
       "    <tr>\n",
       "      <th>7</th>\n",
       "      <td>PAYTM027</td>\n",
       "      <td>2021-04-15 20:40</td>\n",
       "      <td>BREAK DOWN/DISPENSER FAILURE</td>\n",
       "      <td>SLM_DOCKET_CLOSED</td>\n",
       "      <td>BREAK DOWN/DISPENSER FAILURE/Reject Cassette Full</td>\n",
       "      <td>SLM_HISTORY</td>\n",
       "      <td>050421/11202-C1</td>\n",
       "      <td>Machine Down/Dispenser Problem/Cash Dispenser ...</td>\n",
       "    </tr>\n",
       "    <tr>\n",
       "      <th>8</th>\n",
       "      <td>PAYTM028</td>\n",
       "      <td>2021-04-16 11:23</td>\n",
       "      <td>BREAK DOWN/DISPENSER FAILURE</td>\n",
       "      <td>SLM_DOCKET_CREATED</td>\n",
       "      <td>BREAK DOWN/DISPENSER FAILURE/Others</td>\n",
       "      <td>SLM_HISTORY</td>\n",
       "      <td>050421/11203-C1</td>\n",
       "      <td>Machine Down/Dispenser Problem/Cash Dispenser ...</td>\n",
       "    </tr>\n",
       "    <tr>\n",
       "      <th>9</th>\n",
       "      <td>PAYTM028</td>\n",
       "      <td>2021-04-17 17:08</td>\n",
       "      <td>BREAK DOWN/DISPENSER FAILURE</td>\n",
       "      <td>SLM_DOCKET_CLOSED</td>\n",
       "      <td>BREAK DOWN/DISPENSER FAILURE/Others</td>\n",
       "      <td>SLM_HISTORY</td>\n",
       "      <td>050421/11203-C1</td>\n",
       "      <td>Machine Down/Dispenser Problem/Cash Dispenser ...</td>\n",
       "    </tr>\n",
       "    <tr>\n",
       "      <th>10</th>\n",
       "      <td>PAYTM028</td>\n",
       "      <td>2021-04-21 17:58</td>\n",
       "      <td>BREAK DOWN/DISPENSER FAILURE</td>\n",
       "      <td>SLM_DOCKET_CREATED</td>\n",
       "      <td>BREAK DOWN/DISPENSER FAILURE/SF Module 1 - 2/5600</td>\n",
       "      <td>SLM_HISTORY</td>\n",
       "      <td>050421/11203-C2</td>\n",
       "      <td>Machine Down/Dispenser Problem/Cash Dispenser ...</td>\n",
       "    </tr>\n",
       "    <tr>\n",
       "      <th>11</th>\n",
       "      <td>PAYTM028</td>\n",
       "      <td>2021-04-23 10:20</td>\n",
       "      <td>BREAK DOWN/DISPENSER FAILURE</td>\n",
       "      <td>SLM_DOCKET_CLOSED</td>\n",
       "      <td>BREAK DOWN/DISPENSER FAILURE/SF Module 1 - 2/5600</td>\n",
       "      <td>SLM_HISTORY</td>\n",
       "      <td>050421/11203-C2</td>\n",
       "      <td>Machine Down/Dispenser Problem/Cash Dispenser ...</td>\n",
       "    </tr>\n",
       "    <tr>\n",
       "      <th>12</th>\n",
       "      <td>PAYTM029</td>\n",
       "      <td>2021-04-19 14:00</td>\n",
       "      <td>BREAK DOWN/CARD READER</td>\n",
       "      <td>SLM_DOCKET_CREATED</td>\n",
       "      <td>BREAK DOWN/CARD READER/Cable Others</td>\n",
       "      <td>SLM_HISTORY</td>\n",
       "      <td>050421/11204-C1</td>\n",
       "      <td>Machine Down/Card Reader Problem</td>\n",
       "    </tr>\n",
       "    <tr>\n",
       "      <th>13</th>\n",
       "      <td>PAYTM029</td>\n",
       "      <td>2021-04-20 17:58</td>\n",
       "      <td>BREAK DOWN/CARD READER</td>\n",
       "      <td>PART_REPL_OPEN</td>\n",
       "      <td>HTNS-S3200007953</td>\n",
       "      <td>PART_REPL_HISTORY</td>\n",
       "      <td>050421/11204-C1</td>\n",
       "      <td>Machine Down/Card Reader Problem</td>\n",
       "    </tr>\n",
       "    <tr>\n",
       "      <th>14</th>\n",
       "      <td>PAYTM029</td>\n",
       "      <td>2021-04-22 20:09</td>\n",
       "      <td>BREAK DOWN/CARD READER</td>\n",
       "      <td>PART_REPL_CLOSED</td>\n",
       "      <td>HTNS-S3200007953</td>\n",
       "      <td>PART_REPL_HISTORY</td>\n",
       "      <td>050421/11204-C1</td>\n",
       "      <td>Machine Down/Card Reader Problem</td>\n",
       "    </tr>\n",
       "    <tr>\n",
       "      <th>15</th>\n",
       "      <td>PAYTM029</td>\n",
       "      <td>2021-04-22 20:09</td>\n",
       "      <td>BREAK DOWN/CARD READER</td>\n",
       "      <td>SLM_DOCKET_CLOSED</td>\n",
       "      <td>BREAK DOWN/CARD READER/Cable Others</td>\n",
       "      <td>SLM_HISTORY</td>\n",
       "      <td>050421/11204-C1</td>\n",
       "      <td>Machine Down/Card Reader Problem</td>\n",
       "    </tr>\n",
       "    <tr>\n",
       "      <th>16</th>\n",
       "      <td>PAYTM033</td>\n",
       "      <td>2021-04-19 12:54</td>\n",
       "      <td>BREAK DOWN/OUT OF SERVICE</td>\n",
       "      <td>SLM_DOCKET_CREATED</td>\n",
       "      <td>BREAK DOWN/OUT OF SERVICE/Cable USB Type</td>\n",
       "      <td>SLM_HISTORY</td>\n",
       "      <td>050421/3967-C1</td>\n",
       "      <td>Machine Down/ATM Out of Service</td>\n",
       "    </tr>\n",
       "    <tr>\n",
       "      <th>17</th>\n",
       "      <td>PAYTM033</td>\n",
       "      <td>2021-04-19 17:50</td>\n",
       "      <td>BREAK DOWN/OUT OF SERVICE</td>\n",
       "      <td>SLM_DOCKET_CLOSED</td>\n",
       "      <td>BREAK DOWN/OUT OF SERVICE/Cable USB Type</td>\n",
       "      <td>SLM_HISTORY</td>\n",
       "      <td>050421/3967-C1</td>\n",
       "      <td>Machine Down/ATM Out of Service</td>\n",
       "    </tr>\n",
       "    <tr>\n",
       "      <th>18</th>\n",
       "      <td>PAYTM040</td>\n",
       "      <td>2021-04-11 9:53</td>\n",
       "      <td>BREAK DOWN/DISPENSER FAILURE</td>\n",
       "      <td>SLM_DOCKET_CREATED</td>\n",
       "      <td>BREAK DOWN/DISPENSER FAILURE/Others</td>\n",
       "      <td>SLM_HISTORY</td>\n",
       "      <td>050421/11208-C1</td>\n",
       "      <td>Machine Down/Dispenser Problem/Cash Dispenser ...</td>\n",
       "    </tr>\n",
       "    <tr>\n",
       "      <th>19</th>\n",
       "      <td>PAYTM040</td>\n",
       "      <td>2021-04-13 16:21</td>\n",
       "      <td>BREAK DOWN/DISPENSER FAILURE</td>\n",
       "      <td>SLM_DOCKET_CLOSED</td>\n",
       "      <td>BREAK DOWN/DISPENSER FAILURE/Others</td>\n",
       "      <td>SLM_HISTORY</td>\n",
       "      <td>050421/11208-C1</td>\n",
       "      <td>Machine Down/Dispenser Problem/Cash Dispenser ...</td>\n",
       "    </tr>\n",
       "    <tr>\n",
       "      <th>20</th>\n",
       "      <td>PAYTM040</td>\n",
       "      <td>2021-04-14 9:58</td>\n",
       "      <td>BREAK DOWN/DISPENSER FAILURE</td>\n",
       "      <td>SLM_DOCKET_CREATED</td>\n",
       "      <td>BREAK DOWN/DISPENSER FAILURE/Others</td>\n",
       "      <td>SLM_HISTORY</td>\n",
       "      <td>050421/11208-C2</td>\n",
       "      <td>Machine Down/Dispenser Problem/Cash Dispenser ...</td>\n",
       "    </tr>\n",
       "    <tr>\n",
       "      <th>21</th>\n",
       "      <td>PAYTM040</td>\n",
       "      <td>2021-04-17 13:41</td>\n",
       "      <td>BREAK DOWN/DISPENSER FAILURE</td>\n",
       "      <td>SLM_DOCKET_CLOSED</td>\n",
       "      <td>BREAK DOWN/DISPENSER FAILURE/Others</td>\n",
       "      <td>SLM_HISTORY</td>\n",
       "      <td>050421/11208-C2</td>\n",
       "      <td>Machine Down/Dispenser Problem/Cash Dispenser ...</td>\n",
       "    </tr>\n",
       "    <tr>\n",
       "      <th>22</th>\n",
       "      <td>PAYTM041</td>\n",
       "      <td>2021-04-11 11:47</td>\n",
       "      <td>BREAK DOWN/DISPENSER FAILURE</td>\n",
       "      <td>SLM_DOCKET_CREATED</td>\n",
       "      <td>BREAK DOWN/DISPENSER FAILURE/No Problem Found</td>\n",
       "      <td>SLM_HISTORY</td>\n",
       "      <td>050421/11209-C1</td>\n",
       "      <td>Machine Down/Dispenser Problem/Cash Dispenser ...</td>\n",
       "    </tr>\n",
       "    <tr>\n",
       "      <th>23</th>\n",
       "      <td>PAYTM041</td>\n",
       "      <td>2021-04-15 20:40</td>\n",
       "      <td>BREAK DOWN/DISPENSER FAILURE</td>\n",
       "      <td>SLM_DOCKET_CLOSED</td>\n",
       "      <td>BREAK DOWN/DISPENSER FAILURE/No Problem Found</td>\n",
       "      <td>SLM_HISTORY</td>\n",
       "      <td>050421/11209-C1</td>\n",
       "      <td>Machine Down/Dispenser Problem/Cash Dispenser ...</td>\n",
       "    </tr>\n",
       "    <tr>\n",
       "      <th>24</th>\n",
       "      <td>PAYTM041</td>\n",
       "      <td>2021-04-20 15:46</td>\n",
       "      <td>BREAK DOWN/DISPENSER FAILURE</td>\n",
       "      <td>SLM_DOCKET_CREATED</td>\n",
       "      <td>BREAK DOWN/DISPENSER FAILURE/Others</td>\n",
       "      <td>SLM_HISTORY</td>\n",
       "      <td>050421/11209-C2</td>\n",
       "      <td>Machine Down/Dispenser Problem/Cash Dispenser ...</td>\n",
       "    </tr>\n",
       "    <tr>\n",
       "      <th>25</th>\n",
       "      <td>PAYTM041</td>\n",
       "      <td>2021-04-22 16:40</td>\n",
       "      <td>BREAK DOWN/DISPENSER FAILURE</td>\n",
       "      <td>SLM_DOCKET_CLOSED</td>\n",
       "      <td>BREAK DOWN/DISPENSER FAILURE/Others</td>\n",
       "      <td>SLM_HISTORY</td>\n",
       "      <td>050421/11209-C2</td>\n",
       "      <td>Machine Down/Dispenser Problem/Cash Dispenser ...</td>\n",
       "    </tr>\n",
       "    <tr>\n",
       "      <th>26</th>\n",
       "      <td>PAYTM043</td>\n",
       "      <td>2021-04-03 15:32</td>\n",
       "      <td>OPERATIONAL/RECEIPT PRINTER</td>\n",
       "      <td>SLM_DOCKET_CREATED</td>\n",
       "      <td>OPERATIONAL/RECEIPT PRINTER/Others</td>\n",
       "      <td>SLM_HISTORY</td>\n",
       "      <td>030421/2714</td>\n",
       "      <td>Receipt Printer Device H/W Error</td>\n",
       "    </tr>\n",
       "    <tr>\n",
       "      <th>27</th>\n",
       "      <td>PAYTM043</td>\n",
       "      <td>2021-04-04 13:17</td>\n",
       "      <td>OPERATIONAL/RECEIPT PRINTER</td>\n",
       "      <td>SLM_DOCKET_CLOSED</td>\n",
       "      <td>OPERATIONAL/RECEIPT PRINTER/Others</td>\n",
       "      <td>SLM_HISTORY</td>\n",
       "      <td>030421/2714</td>\n",
       "      <td>Receipt Printer Device H/W Error</td>\n",
       "    </tr>\n",
       "    <tr>\n",
       "      <th>28</th>\n",
       "      <td>PAYTM045</td>\n",
       "      <td>2021-04-09 16:32</td>\n",
       "      <td>BREAK DOWN/DISPENSER FAILURE</td>\n",
       "      <td>SLM_DOCKET_CREATED</td>\n",
       "      <td>BREAK DOWN/DISPENSER FAILURE/Machine</td>\n",
       "      <td>SLM_HISTORY</td>\n",
       "      <td>060421/16694-C1</td>\n",
       "      <td>Machine Down/Dispenser Problem/Cash Dispenser ...</td>\n",
       "    </tr>\n",
       "    <tr>\n",
       "      <th>29</th>\n",
       "      <td>PAYTM045</td>\n",
       "      <td>2021-04-10 12:26</td>\n",
       "      <td>BREAK DOWN/DISPENSER FAILURE</td>\n",
       "      <td>SLM_DOCKET_CLOSED</td>\n",
       "      <td>BREAK DOWN/DISPENSER FAILURE/Machine</td>\n",
       "      <td>SLM_HISTORY</td>\n",
       "      <td>060421/16694-C1</td>\n",
       "      <td>Machine Down/Dispenser Problem/Cash Dispenser ...</td>\n",
       "    </tr>\n",
       "    <tr>\n",
       "      <th>30</th>\n",
       "      <td>PAYTM048</td>\n",
       "      <td>2021-04-10 10:47</td>\n",
       "      <td>BREAK DOWN/SOFTWARE CORRUPTED</td>\n",
       "      <td>SLM_DOCKET_CREATED</td>\n",
       "      <td>BREAK DOWN/SOFTWARE CORRUPTED/HDD</td>\n",
       "      <td>SLM_HISTORY</td>\n",
       "      <td>060421/16695-C1</td>\n",
       "      <td>Machine Down/Software Corruption</td>\n",
       "    </tr>\n",
       "    <tr>\n",
       "      <th>31</th>\n",
       "      <td>PAYTM048</td>\n",
       "      <td>2021-04-10 13:27</td>\n",
       "      <td>BREAK DOWN/SOFTWARE CORRUPTED</td>\n",
       "      <td>PART_REPL_OPEN</td>\n",
       "      <td>100088-HDD</td>\n",
       "      <td>PART_REPL_HISTORY</td>\n",
       "      <td>060421/16695-C1</td>\n",
       "      <td>Machine Down/Software Corruption</td>\n",
       "    </tr>\n",
       "    <tr>\n",
       "      <th>32</th>\n",
       "      <td>PAYTM048</td>\n",
       "      <td>2021-04-15 12:46</td>\n",
       "      <td>BREAK DOWN/SOFTWARE CORRUPTED</td>\n",
       "      <td>PART_REPL_CLOSED</td>\n",
       "      <td>100088-HDD</td>\n",
       "      <td>PART_REPL_HISTORY</td>\n",
       "      <td>060421/16695-C1</td>\n",
       "      <td>Machine Down/Software Corruption</td>\n",
       "    </tr>\n",
       "    <tr>\n",
       "      <th>33</th>\n",
       "      <td>PAYTM048</td>\n",
       "      <td>2021-04-15 12:46</td>\n",
       "      <td>BREAK DOWN/SOFTWARE CORRUPTED</td>\n",
       "      <td>SLM_DOCKET_CLOSED</td>\n",
       "      <td>BREAK DOWN/SOFTWARE CORRUPTED/HDD</td>\n",
       "      <td>SLM_HISTORY</td>\n",
       "      <td>060421/16695-C1</td>\n",
       "      <td>Machine Down/Software Corruption</td>\n",
       "    </tr>\n",
       "    <tr>\n",
       "      <th>34</th>\n",
       "      <td>PAYTM048</td>\n",
       "      <td>2021-04-27 10:22</td>\n",
       "      <td>BREAK DOWN/DISPENSER FAILURE</td>\n",
       "      <td>SLM_DOCKET_CREATED</td>\n",
       "      <td>BREAK DOWN/DISPENSER FAILURE/Dispenser Railing</td>\n",
       "      <td>SLM_HISTORY</td>\n",
       "      <td>060421/16695-C2</td>\n",
       "      <td>Machine Down/Dispenser Problem/Cash Dispenser ...</td>\n",
       "    </tr>\n",
       "    <tr>\n",
       "      <th>35</th>\n",
       "      <td>PAYTM048</td>\n",
       "      <td>2021-04-27 12:15</td>\n",
       "      <td>BREAK DOWN/DISPENSER FAILURE</td>\n",
       "      <td>SLM_DOCKET_CLOSED</td>\n",
       "      <td>BREAK DOWN/DISPENSER FAILURE/Dispenser Railing</td>\n",
       "      <td>SLM_HISTORY</td>\n",
       "      <td>060421/16695-C2</td>\n",
       "      <td>Machine Down/Dispenser Problem/Cash Dispenser ...</td>\n",
       "    </tr>\n",
       "    <tr>\n",
       "      <th>36</th>\n",
       "      <td>PAYTM050</td>\n",
       "      <td>2021-04-10 11:21</td>\n",
       "      <td>BREAK DOWN/CARD READER</td>\n",
       "      <td>SLM_DOCKET_CREATED</td>\n",
       "      <td>BREAK DOWN/CARD READER/Card Reader</td>\n",
       "      <td>SLM_HISTORY</td>\n",
       "      <td>060421/16697-C1</td>\n",
       "      <td>Machine Down/Card Reader Problem</td>\n",
       "    </tr>\n",
       "    <tr>\n",
       "      <th>37</th>\n",
       "      <td>PAYTM050</td>\n",
       "      <td>2021-04-12 16:47</td>\n",
       "      <td>BREAK DOWN/CARD READER</td>\n",
       "      <td>PART_REPL_OPEN</td>\n",
       "      <td>FOC-HTNS-S7030000134</td>\n",
       "      <td>PART_REPL_HISTORY</td>\n",
       "      <td>060421/16697-C1</td>\n",
       "      <td>Machine Down/Card Reader Problem</td>\n",
       "    </tr>\n",
       "    <tr>\n",
       "      <th>38</th>\n",
       "      <td>PAYTM050</td>\n",
       "      <td>2021-04-13 13:21</td>\n",
       "      <td>BREAK DOWN/CARD READER</td>\n",
       "      <td>PART_REPL_CLOSED</td>\n",
       "      <td>FOC-HTNS-S7030000134</td>\n",
       "      <td>PART_REPL_HISTORY</td>\n",
       "      <td>060421/16697-C1</td>\n",
       "      <td>Machine Down/Card Reader Problem</td>\n",
       "    </tr>\n",
       "    <tr>\n",
       "      <th>39</th>\n",
       "      <td>PAYTM050</td>\n",
       "      <td>2021-04-13 13:21</td>\n",
       "      <td>BREAK DOWN/CARD READER</td>\n",
       "      <td>SLM_DOCKET_CLOSED</td>\n",
       "      <td>BREAK DOWN/CARD READER/Card Reader</td>\n",
       "      <td>SLM_HISTORY</td>\n",
       "      <td>060421/16697-C1</td>\n",
       "      <td>Machine Down/Card Reader Problem</td>\n",
       "    </tr>\n",
       "    <tr>\n",
       "      <th>40</th>\n",
       "      <td>PAYTM058</td>\n",
       "      <td>2021-04-08 17:30</td>\n",
       "      <td>BREAK DOWN/SOFTWARE CORRUPTED</td>\n",
       "      <td>SLM_DOCKET_CREATED</td>\n",
       "      <td>BREAK DOWN/SOFTWARE CORRUPTED/Ghost/Operating ...</td>\n",
       "      <td>SLM_HISTORY</td>\n",
       "      <td>060421/16702-C1</td>\n",
       "      <td>Machine Down/Software Corruption</td>\n",
       "    </tr>\n",
       "    <tr>\n",
       "      <th>41</th>\n",
       "      <td>PAYTM058</td>\n",
       "      <td>2021-04-10 18:51</td>\n",
       "      <td>BREAK DOWN/SOFTWARE CORRUPTED</td>\n",
       "      <td>SLM_DOCKET_CLOSED</td>\n",
       "      <td>BREAK DOWN/SOFTWARE CORRUPTED/Ghost/Operating ...</td>\n",
       "      <td>SLM_HISTORY</td>\n",
       "      <td>060421/16702-C1</td>\n",
       "      <td>Machine Down/Software Corruption</td>\n",
       "    </tr>\n",
       "    <tr>\n",
       "      <th>42</th>\n",
       "      <td>PAYTM058</td>\n",
       "      <td>2021-04-21 12:27</td>\n",
       "      <td>BREAK DOWN/DISPENSER FAILURE</td>\n",
       "      <td>SLM_DOCKET_CREATED</td>\n",
       "      <td>BREAK DOWN/DISPENSER FAILURE/Cash Jam - Hardwa...</td>\n",
       "      <td>SLM_HISTORY</td>\n",
       "      <td>210421/34785</td>\n",
       "      <td>Machine Down/Dispenser Problem/Cash Dispenser ...</td>\n",
       "    </tr>\n",
       "    <tr>\n",
       "      <th>43</th>\n",
       "      <td>PAYTM058</td>\n",
       "      <td>2021-04-28 16:36</td>\n",
       "      <td>BREAK DOWN/DISPENSER FAILURE</td>\n",
       "      <td>SLM_DOCKET_CLOSED</td>\n",
       "      <td>BREAK DOWN/DISPENSER FAILURE/Cash Jam - Hardwa...</td>\n",
       "      <td>SLM_HISTORY</td>\n",
       "      <td>210421/34785</td>\n",
       "      <td>Machine Down/Dispenser Problem/Cash Dispenser ...</td>\n",
       "    </tr>\n",
       "    <tr>\n",
       "      <th>44</th>\n",
       "      <td>PAYTM058</td>\n",
       "      <td>2021-04-30 15:36</td>\n",
       "      <td>BREAK DOWN/DISPENSER FAILURE</td>\n",
       "      <td>SLM_DOCKET_CREATED</td>\n",
       "      <td>BREAK DOWN/DISPENSER FAILURE/Cash Jam - Hardwa...</td>\n",
       "      <td>SLM_HISTORY</td>\n",
       "      <td>300421/38062</td>\n",
       "      <td>Machine Down/Dispenser Problem/Cash Dispenser ...</td>\n",
       "    </tr>\n",
       "    <tr>\n",
       "      <th>45</th>\n",
       "      <td>PAYTM058</td>\n",
       "      <td>2021-05-01 20:25</td>\n",
       "      <td>BREAK DOWN/DISPENSER FAILURE</td>\n",
       "      <td>SLM_DOCKET_CLOSED</td>\n",
       "      <td>BREAK DOWN/DISPENSER FAILURE/Cash Jam - Hardwa...</td>\n",
       "      <td>SLM_HISTORY</td>\n",
       "      <td>300421/38062</td>\n",
       "      <td>Machine Down/Dispenser Problem/Cash Dispenser ...</td>\n",
       "    </tr>\n",
       "    <tr>\n",
       "      <th>46</th>\n",
       "      <td>PAYTM059</td>\n",
       "      <td>2021-04-16 16:47</td>\n",
       "      <td>BREAK DOWN/OUT OF SERVICE</td>\n",
       "      <td>SLM_DOCKET_CREATED</td>\n",
       "      <td>BREAK DOWN/OUT OF SERVICE/HDD Main Power Suppl...</td>\n",
       "      <td>SLM_HISTORY</td>\n",
       "      <td>060421/16703-C1</td>\n",
       "      <td>Machine Down/ATM Out of Service</td>\n",
       "    </tr>\n",
       "    <tr>\n",
       "      <th>47</th>\n",
       "      <td>PAYTM059</td>\n",
       "      <td>2021-04-17 13:11</td>\n",
       "      <td>BREAK DOWN/OUT OF SERVICE</td>\n",
       "      <td>PART_REPL_OPEN</td>\n",
       "      <td>CIN-000471</td>\n",
       "      <td>PART_REPL_HISTORY</td>\n",
       "      <td>060421/16703-C1</td>\n",
       "      <td>Machine Down/ATM Out of Service</td>\n",
       "    </tr>\n",
       "    <tr>\n",
       "      <th>48</th>\n",
       "      <td>PAYTM059</td>\n",
       "      <td>2021-04-17 13:11</td>\n",
       "      <td>BREAK DOWN/OUT OF SERVICE</td>\n",
       "      <td>PART_REPL_OPEN</td>\n",
       "      <td>FOC-HTNS-S5621000043</td>\n",
       "      <td>PART_REPL_HISTORY</td>\n",
       "      <td>060421/16703-C1</td>\n",
       "      <td>Machine Down/ATM Out of Service</td>\n",
       "    </tr>\n",
       "    <tr>\n",
       "      <th>49</th>\n",
       "      <td>PAYTM059</td>\n",
       "      <td>2021-04-17 15:25</td>\n",
       "      <td>BREAK DOWN/OUT OF SERVICE</td>\n",
       "      <td>PART_REPL_OPEN</td>\n",
       "      <td>FOC-HTNS-S5611000627</td>\n",
       "      <td>PART_REPL_HISTORY</td>\n",
       "      <td>060421/16703-C1</td>\n",
       "      <td>Machine Down/ATM Out of Service</td>\n",
       "    </tr>\n",
       "  </tbody>\n",
       "</table>\n",
       "</div>"
      ],
      "text/plain": [
       "        atmid              date                    problemname  \\\n",
       "0    PAYTM003  2021-04-08 20:41  BREAK DOWN/SOFTWARE CORRUPTED   \n",
       "1    PAYTM003  2021-04-08 20:41  BREAK DOWN/SOFTWARE CORRUPTED   \n",
       "2   PAYTM006   2021-04-03 11:46                 BREAK DOWN/EPP   \n",
       "3   PAYTM006   2021-04-03 19:52                 BREAK DOWN/EPP   \n",
       "4    PAYTM011  2021-04-05 20:24  BREAK DOWN/SOFTWARE CORRUPTED   \n",
       "5    PAYTM011   2021-04-07 9:15  BREAK DOWN/SOFTWARE CORRUPTED   \n",
       "6    PAYTM027  2021-04-14 10:05   BREAK DOWN/DISPENSER FAILURE   \n",
       "7    PAYTM027  2021-04-15 20:40   BREAK DOWN/DISPENSER FAILURE   \n",
       "8    PAYTM028  2021-04-16 11:23   BREAK DOWN/DISPENSER FAILURE   \n",
       "9    PAYTM028  2021-04-17 17:08   BREAK DOWN/DISPENSER FAILURE   \n",
       "10   PAYTM028  2021-04-21 17:58   BREAK DOWN/DISPENSER FAILURE   \n",
       "11   PAYTM028  2021-04-23 10:20   BREAK DOWN/DISPENSER FAILURE   \n",
       "12   PAYTM029  2021-04-19 14:00         BREAK DOWN/CARD READER   \n",
       "13   PAYTM029  2021-04-20 17:58         BREAK DOWN/CARD READER   \n",
       "14   PAYTM029  2021-04-22 20:09         BREAK DOWN/CARD READER   \n",
       "15   PAYTM029  2021-04-22 20:09         BREAK DOWN/CARD READER   \n",
       "16   PAYTM033  2021-04-19 12:54      BREAK DOWN/OUT OF SERVICE   \n",
       "17   PAYTM033  2021-04-19 17:50      BREAK DOWN/OUT OF SERVICE   \n",
       "18   PAYTM040   2021-04-11 9:53   BREAK DOWN/DISPENSER FAILURE   \n",
       "19   PAYTM040  2021-04-13 16:21   BREAK DOWN/DISPENSER FAILURE   \n",
       "20   PAYTM040   2021-04-14 9:58   BREAK DOWN/DISPENSER FAILURE   \n",
       "21   PAYTM040  2021-04-17 13:41   BREAK DOWN/DISPENSER FAILURE   \n",
       "22   PAYTM041  2021-04-11 11:47   BREAK DOWN/DISPENSER FAILURE   \n",
       "23   PAYTM041  2021-04-15 20:40   BREAK DOWN/DISPENSER FAILURE   \n",
       "24   PAYTM041  2021-04-20 15:46   BREAK DOWN/DISPENSER FAILURE   \n",
       "25   PAYTM041  2021-04-22 16:40   BREAK DOWN/DISPENSER FAILURE   \n",
       "26   PAYTM043  2021-04-03 15:32    OPERATIONAL/RECEIPT PRINTER   \n",
       "27   PAYTM043  2021-04-04 13:17    OPERATIONAL/RECEIPT PRINTER   \n",
       "28  PAYTM045   2021-04-09 16:32   BREAK DOWN/DISPENSER FAILURE   \n",
       "29  PAYTM045   2021-04-10 12:26   BREAK DOWN/DISPENSER FAILURE   \n",
       "30   PAYTM048  2021-04-10 10:47  BREAK DOWN/SOFTWARE CORRUPTED   \n",
       "31   PAYTM048  2021-04-10 13:27  BREAK DOWN/SOFTWARE CORRUPTED   \n",
       "32   PAYTM048  2021-04-15 12:46  BREAK DOWN/SOFTWARE CORRUPTED   \n",
       "33   PAYTM048  2021-04-15 12:46  BREAK DOWN/SOFTWARE CORRUPTED   \n",
       "34   PAYTM048  2021-04-27 10:22   BREAK DOWN/DISPENSER FAILURE   \n",
       "35   PAYTM048  2021-04-27 12:15   BREAK DOWN/DISPENSER FAILURE   \n",
       "36   PAYTM050  2021-04-10 11:21         BREAK DOWN/CARD READER   \n",
       "37   PAYTM050  2021-04-12 16:47         BREAK DOWN/CARD READER   \n",
       "38   PAYTM050  2021-04-13 13:21         BREAK DOWN/CARD READER   \n",
       "39   PAYTM050  2021-04-13 13:21         BREAK DOWN/CARD READER   \n",
       "40   PAYTM058  2021-04-08 17:30  BREAK DOWN/SOFTWARE CORRUPTED   \n",
       "41   PAYTM058  2021-04-10 18:51  BREAK DOWN/SOFTWARE CORRUPTED   \n",
       "42   PAYTM058  2021-04-21 12:27   BREAK DOWN/DISPENSER FAILURE   \n",
       "43   PAYTM058  2021-04-28 16:36   BREAK DOWN/DISPENSER FAILURE   \n",
       "44   PAYTM058  2021-04-30 15:36   BREAK DOWN/DISPENSER FAILURE   \n",
       "45   PAYTM058  2021-05-01 20:25   BREAK DOWN/DISPENSER FAILURE   \n",
       "46   PAYTM059  2021-04-16 16:47      BREAK DOWN/OUT OF SERVICE   \n",
       "47   PAYTM059  2021-04-17 13:11      BREAK DOWN/OUT OF SERVICE   \n",
       "48   PAYTM059  2021-04-17 13:11      BREAK DOWN/OUT OF SERVICE   \n",
       "49   PAYTM059  2021-04-17 15:25      BREAK DOWN/OUT OF SERVICE   \n",
       "\n",
       "                  mode                                            eventcd  \\\n",
       "0    SLM_DOCKET_CLOSED          BREAK DOWN/SOFTWARE CORRUPTED/HDD Machine   \n",
       "1     PART_REPL_CLOSED                               FOC-HTNS-S5693000045   \n",
       "2   SLM_DOCKET_CREATED            BREAK DOWN/EPP/EPP - Encrypting PIN Pad   \n",
       "3    SLM_DOCKET_CLOSED            BREAK DOWN/EPP/EPP - Encrypting PIN Pad   \n",
       "4   SLM_DOCKET_CREATED  BREAK DOWN/SOFTWARE CORRUPTED/Ghost/Operating ...   \n",
       "5    SLM_DOCKET_CLOSED  BREAK DOWN/SOFTWARE CORRUPTED/Ghost/Operating ...   \n",
       "6   SLM_DOCKET_CREATED  BREAK DOWN/DISPENSER FAILURE/Reject Cassette Full   \n",
       "7    SLM_DOCKET_CLOSED  BREAK DOWN/DISPENSER FAILURE/Reject Cassette Full   \n",
       "8   SLM_DOCKET_CREATED                BREAK DOWN/DISPENSER FAILURE/Others   \n",
       "9    SLM_DOCKET_CLOSED                BREAK DOWN/DISPENSER FAILURE/Others   \n",
       "10  SLM_DOCKET_CREATED  BREAK DOWN/DISPENSER FAILURE/SF Module 1 - 2/5600   \n",
       "11   SLM_DOCKET_CLOSED  BREAK DOWN/DISPENSER FAILURE/SF Module 1 - 2/5600   \n",
       "12  SLM_DOCKET_CREATED                BREAK DOWN/CARD READER/Cable Others   \n",
       "13      PART_REPL_OPEN                                   HTNS-S3200007953   \n",
       "14    PART_REPL_CLOSED                                   HTNS-S3200007953   \n",
       "15   SLM_DOCKET_CLOSED                BREAK DOWN/CARD READER/Cable Others   \n",
       "16  SLM_DOCKET_CREATED           BREAK DOWN/OUT OF SERVICE/Cable USB Type   \n",
       "17   SLM_DOCKET_CLOSED           BREAK DOWN/OUT OF SERVICE/Cable USB Type   \n",
       "18  SLM_DOCKET_CREATED                BREAK DOWN/DISPENSER FAILURE/Others   \n",
       "19   SLM_DOCKET_CLOSED                BREAK DOWN/DISPENSER FAILURE/Others   \n",
       "20  SLM_DOCKET_CREATED                BREAK DOWN/DISPENSER FAILURE/Others   \n",
       "21   SLM_DOCKET_CLOSED                BREAK DOWN/DISPENSER FAILURE/Others   \n",
       "22  SLM_DOCKET_CREATED      BREAK DOWN/DISPENSER FAILURE/No Problem Found   \n",
       "23   SLM_DOCKET_CLOSED      BREAK DOWN/DISPENSER FAILURE/No Problem Found   \n",
       "24  SLM_DOCKET_CREATED                BREAK DOWN/DISPENSER FAILURE/Others   \n",
       "25   SLM_DOCKET_CLOSED                BREAK DOWN/DISPENSER FAILURE/Others   \n",
       "26  SLM_DOCKET_CREATED                 OPERATIONAL/RECEIPT PRINTER/Others   \n",
       "27   SLM_DOCKET_CLOSED                 OPERATIONAL/RECEIPT PRINTER/Others   \n",
       "28  SLM_DOCKET_CREATED               BREAK DOWN/DISPENSER FAILURE/Machine   \n",
       "29   SLM_DOCKET_CLOSED               BREAK DOWN/DISPENSER FAILURE/Machine   \n",
       "30  SLM_DOCKET_CREATED                  BREAK DOWN/SOFTWARE CORRUPTED/HDD   \n",
       "31      PART_REPL_OPEN                                         100088-HDD   \n",
       "32    PART_REPL_CLOSED                                         100088-HDD   \n",
       "33   SLM_DOCKET_CLOSED                  BREAK DOWN/SOFTWARE CORRUPTED/HDD   \n",
       "34  SLM_DOCKET_CREATED     BREAK DOWN/DISPENSER FAILURE/Dispenser Railing   \n",
       "35   SLM_DOCKET_CLOSED     BREAK DOWN/DISPENSER FAILURE/Dispenser Railing   \n",
       "36  SLM_DOCKET_CREATED                 BREAK DOWN/CARD READER/Card Reader   \n",
       "37      PART_REPL_OPEN                               FOC-HTNS-S7030000134   \n",
       "38    PART_REPL_CLOSED                               FOC-HTNS-S7030000134   \n",
       "39   SLM_DOCKET_CLOSED                 BREAK DOWN/CARD READER/Card Reader   \n",
       "40  SLM_DOCKET_CREATED  BREAK DOWN/SOFTWARE CORRUPTED/Ghost/Operating ...   \n",
       "41   SLM_DOCKET_CLOSED  BREAK DOWN/SOFTWARE CORRUPTED/Ghost/Operating ...   \n",
       "42  SLM_DOCKET_CREATED  BREAK DOWN/DISPENSER FAILURE/Cash Jam - Hardwa...   \n",
       "43   SLM_DOCKET_CLOSED  BREAK DOWN/DISPENSER FAILURE/Cash Jam - Hardwa...   \n",
       "44  SLM_DOCKET_CREATED  BREAK DOWN/DISPENSER FAILURE/Cash Jam - Hardwa...   \n",
       "45   SLM_DOCKET_CLOSED  BREAK DOWN/DISPENSER FAILURE/Cash Jam - Hardwa...   \n",
       "46  SLM_DOCKET_CREATED  BREAK DOWN/OUT OF SERVICE/HDD Main Power Suppl...   \n",
       "47      PART_REPL_OPEN                                         CIN-000471   \n",
       "48      PART_REPL_OPEN                               FOC-HTNS-S5621000043   \n",
       "49      PART_REPL_OPEN                               FOC-HTNS-S5611000627   \n",
       "\n",
       "               source        docketref  \\\n",
       "0         SLM_HISTORY     060421/15695   \n",
       "1   PART_REPL_HISTORY     060421/15695   \n",
       "2         SLM_HISTORY      030421/2145   \n",
       "3         SLM_HISTORY      030421/2145   \n",
       "4         SLM_HISTORY     050421/15586   \n",
       "5         SLM_HISTORY     050421/15586   \n",
       "6         SLM_HISTORY  050421/11202-C1   \n",
       "7         SLM_HISTORY  050421/11202-C1   \n",
       "8         SLM_HISTORY  050421/11203-C1   \n",
       "9         SLM_HISTORY  050421/11203-C1   \n",
       "10        SLM_HISTORY  050421/11203-C2   \n",
       "11        SLM_HISTORY  050421/11203-C2   \n",
       "12        SLM_HISTORY  050421/11204-C1   \n",
       "13  PART_REPL_HISTORY  050421/11204-C1   \n",
       "14  PART_REPL_HISTORY  050421/11204-C1   \n",
       "15        SLM_HISTORY  050421/11204-C1   \n",
       "16        SLM_HISTORY   050421/3967-C1   \n",
       "17        SLM_HISTORY   050421/3967-C1   \n",
       "18        SLM_HISTORY  050421/11208-C1   \n",
       "19        SLM_HISTORY  050421/11208-C1   \n",
       "20        SLM_HISTORY  050421/11208-C2   \n",
       "21        SLM_HISTORY  050421/11208-C2   \n",
       "22        SLM_HISTORY  050421/11209-C1   \n",
       "23        SLM_HISTORY  050421/11209-C1   \n",
       "24        SLM_HISTORY  050421/11209-C2   \n",
       "25        SLM_HISTORY  050421/11209-C2   \n",
       "26        SLM_HISTORY      030421/2714   \n",
       "27        SLM_HISTORY      030421/2714   \n",
       "28        SLM_HISTORY  060421/16694-C1   \n",
       "29        SLM_HISTORY  060421/16694-C1   \n",
       "30        SLM_HISTORY  060421/16695-C1   \n",
       "31  PART_REPL_HISTORY  060421/16695-C1   \n",
       "32  PART_REPL_HISTORY  060421/16695-C1   \n",
       "33        SLM_HISTORY  060421/16695-C1   \n",
       "34        SLM_HISTORY  060421/16695-C2   \n",
       "35        SLM_HISTORY  060421/16695-C2   \n",
       "36        SLM_HISTORY  060421/16697-C1   \n",
       "37  PART_REPL_HISTORY  060421/16697-C1   \n",
       "38  PART_REPL_HISTORY  060421/16697-C1   \n",
       "39        SLM_HISTORY  060421/16697-C1   \n",
       "40        SLM_HISTORY  060421/16702-C1   \n",
       "41        SLM_HISTORY  060421/16702-C1   \n",
       "42        SLM_HISTORY     210421/34785   \n",
       "43        SLM_HISTORY     210421/34785   \n",
       "44        SLM_HISTORY     300421/38062   \n",
       "45        SLM_HISTORY     300421/38062   \n",
       "46        SLM_HISTORY  060421/16703-C1   \n",
       "47  PART_REPL_HISTORY  060421/16703-C1   \n",
       "48  PART_REPL_HISTORY  060421/16703-C1   \n",
       "49  PART_REPL_HISTORY  060421/16703-C1   \n",
       "\n",
       "                                                gname  \n",
       "0                    Machine Down/Software Corruption  \n",
       "1                    Machine Down/Software Corruption  \n",
       "2                             Machine Down/EPP Faulty  \n",
       "3                             Machine Down/EPP Faulty  \n",
       "4                    Machine Down/Software Corruption  \n",
       "5                    Machine Down/Software Corruption  \n",
       "6   Machine Down/Dispenser Problem/Cash Dispenser ...  \n",
       "7   Machine Down/Dispenser Problem/Cash Dispenser ...  \n",
       "8   Machine Down/Dispenser Problem/Cash Dispenser ...  \n",
       "9   Machine Down/Dispenser Problem/Cash Dispenser ...  \n",
       "10  Machine Down/Dispenser Problem/Cash Dispenser ...  \n",
       "11  Machine Down/Dispenser Problem/Cash Dispenser ...  \n",
       "12                   Machine Down/Card Reader Problem  \n",
       "13                   Machine Down/Card Reader Problem  \n",
       "14                   Machine Down/Card Reader Problem  \n",
       "15                   Machine Down/Card Reader Problem  \n",
       "16                    Machine Down/ATM Out of Service  \n",
       "17                    Machine Down/ATM Out of Service  \n",
       "18  Machine Down/Dispenser Problem/Cash Dispenser ...  \n",
       "19  Machine Down/Dispenser Problem/Cash Dispenser ...  \n",
       "20  Machine Down/Dispenser Problem/Cash Dispenser ...  \n",
       "21  Machine Down/Dispenser Problem/Cash Dispenser ...  \n",
       "22  Machine Down/Dispenser Problem/Cash Dispenser ...  \n",
       "23  Machine Down/Dispenser Problem/Cash Dispenser ...  \n",
       "24  Machine Down/Dispenser Problem/Cash Dispenser ...  \n",
       "25  Machine Down/Dispenser Problem/Cash Dispenser ...  \n",
       "26                   Receipt Printer Device H/W Error  \n",
       "27                   Receipt Printer Device H/W Error  \n",
       "28  Machine Down/Dispenser Problem/Cash Dispenser ...  \n",
       "29  Machine Down/Dispenser Problem/Cash Dispenser ...  \n",
       "30                   Machine Down/Software Corruption  \n",
       "31                   Machine Down/Software Corruption  \n",
       "32                   Machine Down/Software Corruption  \n",
       "33                   Machine Down/Software Corruption  \n",
       "34  Machine Down/Dispenser Problem/Cash Dispenser ...  \n",
       "35  Machine Down/Dispenser Problem/Cash Dispenser ...  \n",
       "36                   Machine Down/Card Reader Problem  \n",
       "37                   Machine Down/Card Reader Problem  \n",
       "38                   Machine Down/Card Reader Problem  \n",
       "39                   Machine Down/Card Reader Problem  \n",
       "40                   Machine Down/Software Corruption  \n",
       "41                   Machine Down/Software Corruption  \n",
       "42  Machine Down/Dispenser Problem/Cash Dispenser ...  \n",
       "43  Machine Down/Dispenser Problem/Cash Dispenser ...  \n",
       "44  Machine Down/Dispenser Problem/Cash Dispenser ...  \n",
       "45  Machine Down/Dispenser Problem/Cash Dispenser ...  \n",
       "46                    Machine Down/ATM Out of Service  \n",
       "47                    Machine Down/ATM Out of Service  \n",
       "48                    Machine Down/ATM Out of Service  \n",
       "49                    Machine Down/ATM Out of Service  "
      ]
     },
     "execution_count": 3,
     "metadata": {},
     "output_type": "execute_result"
    }
   ],
   "source": [
    "df.head(50)"
   ]
  },
  {
   "cell_type": "code",
   "execution_count": 9,
   "id": "fb817529",
   "metadata": {
    "ExecuteTime": {
     "end_time": "2021-08-18T03:22:56.389603Z",
     "start_time": "2021-08-18T03:22:56.340574Z"
    }
   },
   "outputs": [],
   "source": [
    "eventcd=dict.fromkeys(df['eventcd'].unique())"
   ]
  },
  {
   "cell_type": "code",
   "execution_count": 10,
   "id": "b2af7d3a",
   "metadata": {
    "ExecuteTime": {
     "end_time": "2021-08-18T03:23:46.182533Z",
     "start_time": "2021-08-18T03:23:46.170815Z"
    }
   },
   "outputs": [
    {
     "data": {
      "text/plain": [
       "2155"
      ]
     },
     "execution_count": 10,
     "metadata": {},
     "output_type": "execute_result"
    }
   ],
   "source": [
    "len(eventcd)"
   ]
  },
  {
   "cell_type": "code",
   "execution_count": 70,
   "id": "edb79ff2",
   "metadata": {
    "ExecuteTime": {
     "end_time": "2021-08-18T10:52:20.054473Z",
     "start_time": "2021-08-18T10:52:20.037727Z"
    }
   },
   "outputs": [],
   "source": [
    "array=[(1,2),(2,3)]"
   ]
  },
  {
   "cell_type": "code",
   "execution_count": 73,
   "id": "6a5bedee",
   "metadata": {
    "ExecuteTime": {
     "end_time": "2021-08-18T10:54:10.339563Z",
     "start_time": "2021-08-18T10:54:10.330919Z"
    }
   },
   "outputs": [],
   "source": [
    "f=[deg for (n,deg) in list(array)]"
   ]
  },
  {
   "cell_type": "code",
   "execution_count": 74,
   "id": "1a988a42",
   "metadata": {
    "ExecuteTime": {
     "end_time": "2021-08-18T10:54:13.112973Z",
     "start_time": "2021-08-18T10:54:13.099994Z"
    }
   },
   "outputs": [
    {
     "data": {
      "text/plain": [
       "[2, 3]"
      ]
     },
     "execution_count": 74,
     "metadata": {},
     "output_type": "execute_result"
    }
   ],
   "source": [
    "f"
   ]
  },
  {
   "cell_type": "code",
   "execution_count": null,
   "id": "1f43a241",
   "metadata": {},
   "outputs": [],
   "source": []
  },
  {
   "cell_type": "code",
   "execution_count": null,
   "id": "29e2caf7",
   "metadata": {},
   "outputs": [],
   "source": []
  },
  {
   "cell_type": "code",
   "execution_count": null,
   "id": "f3015b06",
   "metadata": {},
   "outputs": [],
   "source": []
  },
  {
   "cell_type": "code",
   "execution_count": null,
   "id": "678fbd14",
   "metadata": {},
   "outputs": [],
   "source": []
  },
  {
   "cell_type": "code",
   "execution_count": null,
   "id": "17565728",
   "metadata": {},
   "outputs": [],
   "source": []
  },
  {
   "cell_type": "markdown",
   "id": "fa9239d5",
   "metadata": {},
   "source": [
    "# train.py"
   ]
  },
  {
   "cell_type": "markdown",
   "id": "3f0479f8",
   "metadata": {},
   "source": [
    "## Function: load data monti (dataset,testing=False)"
   ]
  },
  {
   "cell_type": "code",
   "execution_count": 1,
   "id": "a7eb01ba",
   "metadata": {
    "ExecuteTime": {
     "end_time": "2021-08-31T04:41:57.889772Z",
     "start_time": "2021-08-31T04:41:57.564171Z"
    }
   },
   "outputs": [],
   "source": [
    "import mat73\n",
    "import numpy as np"
   ]
  },
  {
   "cell_type": "code",
   "execution_count": 2,
   "id": "cbd5097d",
   "metadata": {
    "ExecuteTime": {
     "end_time": "2021-08-31T04:42:06.495551Z",
     "start_time": "2021-08-31T04:41:58.525983Z"
    }
   },
   "outputs": [],
   "source": [
    "M=mat73.loadmat(\"c:/my_projects-main/gcmc/data/douban/training_test_dataset.mat\",'M')\n",
    "Otraining=mat73.loadmat(\"c:/my_projects-main/gcmc/data/douban/training_test_dataset.mat\",'Otraining')\n",
    "Otest=mat73.loadmat(\"c:/my_projects-main/gcmc/data/douban/training_test_dataset.mat\",'Otest')"
   ]
  },
  {
   "cell_type": "code",
   "execution_count": 3,
   "id": "f4bb9b62",
   "metadata": {
    "ExecuteTime": {
     "end_time": "2021-08-31T04:42:19.837308Z",
     "start_time": "2021-08-31T04:42:19.816579Z"
    }
   },
   "outputs": [
    {
     "data": {
      "text/plain": [
       "dict_keys(['M', 'Otest', 'Otraining', 'W_users'])"
      ]
     },
     "execution_count": 3,
     "metadata": {},
     "output_type": "execute_result"
    }
   ],
   "source": [
    "M.keys()"
   ]
  },
  {
   "cell_type": "code",
   "execution_count": 3,
   "id": "3d30b048",
   "metadata": {
    "ExecuteTime": {
     "end_time": "2021-08-30T05:13:57.263114Z",
     "start_time": "2021-08-30T05:13:57.233303Z"
    },
    "scrolled": true
   },
   "outputs": [
    {
     "data": {
      "text/plain": [
       "{'M': array([[0., 0., 0., ..., 0., 0., 0.],\n",
       "        [0., 5., 0., ..., 0., 0., 0.],\n",
       "        [0., 0., 0., ..., 0., 0., 0.],\n",
       "        ...,\n",
       "        [0., 0., 0., ..., 0., 0., 0.],\n",
       "        [0., 0., 0., ..., 0., 0., 0.],\n",
       "        [0., 0., 0., ..., 0., 0., 0.]]),\n",
       " 'Otest': array([[0., 0., 0., ..., 0., 0., 0.],\n",
       "        [0., 1., 0., ..., 0., 0., 0.],\n",
       "        [0., 0., 0., ..., 0., 0., 0.],\n",
       "        ...,\n",
       "        [0., 0., 0., ..., 0., 0., 0.],\n",
       "        [0., 0., 0., ..., 0., 0., 0.],\n",
       "        [0., 0., 0., ..., 0., 0., 0.]]),\n",
       " 'Otraining': array([[0., 0., 0., ..., 0., 0., 0.],\n",
       "        [0., 0., 0., ..., 0., 0., 0.],\n",
       "        [0., 0., 0., ..., 0., 0., 0.],\n",
       "        ...,\n",
       "        [0., 0., 0., ..., 0., 0., 0.],\n",
       "        [0., 0., 0., ..., 0., 0., 0.],\n",
       "        [0., 0., 0., ..., 0., 0., 0.]]),\n",
       " 'W_users': array([[0., 0., 0., ..., 0., 0., 0.],\n",
       "        [0., 0., 0., ..., 0., 0., 0.],\n",
       "        [0., 0., 0., ..., 0., 0., 0.],\n",
       "        ...,\n",
       "        [0., 0., 0., ..., 0., 0., 0.],\n",
       "        [0., 0., 0., ..., 0., 0., 0.],\n",
       "        [0., 0., 0., ..., 0., 0., 0.]])}"
      ]
     },
     "execution_count": 3,
     "metadata": {},
     "output_type": "execute_result"
    }
   ],
   "source": [
    "M"
   ]
  },
  {
   "cell_type": "code",
   "execution_count": 4,
   "id": "02d0b7b2",
   "metadata": {
    "ExecuteTime": {
     "end_time": "2021-08-30T05:14:09.389533Z",
     "start_time": "2021-08-30T05:14:09.377662Z"
    }
   },
   "outputs": [
    {
     "name": "stdout",
     "output_type": "stream",
     "text": [
      "3000\n",
      "3000\n"
     ]
    }
   ],
   "source": [
    "num_users=M['M'].shape[0]\n",
    "print(num_users)\n",
    "num_items=M['M'].shape[1]\n",
    "print(num_items)"
   ]
  },
  {
   "cell_type": "code",
   "execution_count": 5,
   "id": "a6232696",
   "metadata": {
    "ExecuteTime": {
     "end_time": "2021-08-30T05:14:10.949652Z",
     "start_time": "2021-08-30T05:14:10.921019Z"
    }
   },
   "outputs": [
    {
     "data": {
      "text/plain": [
       "[0.0,\n",
       " 0.0,\n",
       " 0.0,\n",
       " 0.0,\n",
       " 0.0,\n",
       " 0.0,\n",
       " 0.0,\n",
       " 0.0,\n",
       " 0.0,\n",
       " 0.0,\n",
       " 0.0,\n",
       " 0.0,\n",
       " 0.0,\n",
       " 0.0,\n",
       " 0.0,\n",
       " 0.0,\n",
       " 0.0,\n",
       " 0.0,\n",
       " 0.0,\n",
       " 0.0,\n",
       " 0.0,\n",
       " 0.0,\n",
       " 0.0,\n",
       " 0.0,\n",
       " 0.0,\n",
       " 0.0,\n",
       " 0.0,\n",
       " 0.0,\n",
       " 0.0,\n",
       " 0.0,\n",
       " 0.0,\n",
       " 0.0,\n",
       " 0.0,\n",
       " 0.0,\n",
       " 0.0,\n",
       " 0.0,\n",
       " 0.0,\n",
       " 0.0,\n",
       " 0.0,\n",
       " 0.0,\n",
       " 0.0,\n",
       " 0.0,\n",
       " 0.0,\n",
       " 0.0,\n",
       " 0.0,\n",
       " 0.0,\n",
       " 0.0,\n",
       " 0.0,\n",
       " 0.0,\n",
       " 0.0,\n",
       " 0.0,\n",
       " 0.0,\n",
       " 0.0,\n",
       " 0.0,\n",
       " 0.0,\n",
       " 0.0,\n",
       " 0.0,\n",
       " 0.0,\n",
       " 0.0,\n",
       " 0.0,\n",
       " 0.0,\n",
       " 0.0,\n",
       " 0.0,\n",
       " 0.0,\n",
       " 0.0,\n",
       " 0.0,\n",
       " 0.0,\n",
       " 0.0,\n",
       " 0.0,\n",
       " 0.0,\n",
       " 0.0,\n",
       " 0.0,\n",
       " 0.0,\n",
       " 0.0,\n",
       " 0.0,\n",
       " 0.0,\n",
       " 0.0,\n",
       " 0.0,\n",
       " 0.0,\n",
       " 0.0,\n",
       " 0.0,\n",
       " 0.0,\n",
       " 0.0,\n",
       " 0.0,\n",
       " 0.0,\n",
       " 0.0,\n",
       " 0.0,\n",
       " 0.0,\n",
       " 0.0,\n",
       " 0.0,\n",
       " 0.0,\n",
       " 0.0,\n",
       " 0.0,\n",
       " 0.0,\n",
       " 0.0,\n",
       " 0.0,\n",
       " 0.0,\n",
       " 0.0,\n",
       " 0.0,\n",
       " 0.0,\n",
       " 0.0,\n",
       " 0.0,\n",
       " 0.0,\n",
       " 0.0,\n",
       " 1.0,\n",
       " 0.0,\n",
       " 0.0,\n",
       " 0.0,\n",
       " 0.0,\n",
       " 0.0,\n",
       " 0.0,\n",
       " 0.0,\n",
       " 0.0,\n",
       " 0.0,\n",
       " 0.0,\n",
       " 0.0,\n",
       " 0.0,\n",
       " 0.0,\n",
       " 0.0,\n",
       " 0.0,\n",
       " 0.0,\n",
       " 0.0,\n",
       " 0.0,\n",
       " 0.0,\n",
       " 0.0,\n",
       " 0.0,\n",
       " 0.0,\n",
       " 0.0,\n",
       " 0.0,\n",
       " 0.0,\n",
       " 0.0,\n",
       " 0.0,\n",
       " 0.0,\n",
       " 0.0,\n",
       " 0.0,\n",
       " 0.0,\n",
       " 0.0,\n",
       " 0.0,\n",
       " 0.0,\n",
       " 0.0,\n",
       " 0.0,\n",
       " 0.0,\n",
       " 0.0,\n",
       " 0.0,\n",
       " 0.0,\n",
       " 0.0,\n",
       " 0.0,\n",
       " 0.0,\n",
       " 0.0,\n",
       " 0.0,\n",
       " 0.0,\n",
       " 0.0,\n",
       " 0.0,\n",
       " 0.0,\n",
       " 0.0,\n",
       " 0.0,\n",
       " 0.0,\n",
       " 0.0,\n",
       " 0.0,\n",
       " 0.0,\n",
       " 0.0,\n",
       " 0.0,\n",
       " 0.0,\n",
       " 0.0,\n",
       " 0.0,\n",
       " 0.0,\n",
       " 0.0,\n",
       " 0.0,\n",
       " 0.0,\n",
       " 0.0,\n",
       " 0.0,\n",
       " 0.0,\n",
       " 0.0,\n",
       " 0.0,\n",
       " 0.0,\n",
       " 0.0,\n",
       " 0.0,\n",
       " 0.0,\n",
       " 0.0,\n",
       " 0.0,\n",
       " 0.0,\n",
       " 0.0,\n",
       " 0.0,\n",
       " 0.0,\n",
       " 0.0,\n",
       " 0.0,\n",
       " 0.0,\n",
       " 0.0,\n",
       " 0.0,\n",
       " 0.0,\n",
       " 0.0,\n",
       " 0.0,\n",
       " 1.0,\n",
       " 0.0,\n",
       " 0.0,\n",
       " 0.0,\n",
       " 0.0,\n",
       " 0.0,\n",
       " 0.0,\n",
       " 0.0,\n",
       " 0.0,\n",
       " 0.0,\n",
       " 0.0,\n",
       " 0.0,\n",
       " 0.0,\n",
       " 0.0,\n",
       " 0.0,\n",
       " 0.0,\n",
       " 0.0,\n",
       " 0.0,\n",
       " 0.0,\n",
       " 0.0,\n",
       " 0.0,\n",
       " 0.0,\n",
       " 0.0,\n",
       " 0.0,\n",
       " 0.0,\n",
       " 0.0,\n",
       " 0.0,\n",
       " 0.0,\n",
       " 0.0,\n",
       " 0.0,\n",
       " 0.0,\n",
       " 0.0,\n",
       " 0.0,\n",
       " 0.0,\n",
       " 0.0,\n",
       " 0.0,\n",
       " 0.0,\n",
       " 0.0,\n",
       " 0.0,\n",
       " 0.0,\n",
       " 0.0,\n",
       " 0.0,\n",
       " 0.0,\n",
       " 0.0,\n",
       " 0.0,\n",
       " 0.0,\n",
       " 0.0,\n",
       " 0.0,\n",
       " 0.0,\n",
       " 0.0,\n",
       " 0.0,\n",
       " 0.0,\n",
       " 0.0,\n",
       " 0.0,\n",
       " 0.0,\n",
       " 0.0,\n",
       " 0.0,\n",
       " 0.0,\n",
       " 0.0,\n",
       " 0.0,\n",
       " 0.0,\n",
       " 0.0,\n",
       " 0.0,\n",
       " 0.0,\n",
       " 0.0,\n",
       " 0.0,\n",
       " 0.0,\n",
       " 0.0,\n",
       " 0.0,\n",
       " 0.0,\n",
       " 0.0,\n",
       " 0.0,\n",
       " 0.0,\n",
       " 0.0,\n",
       " 0.0,\n",
       " 0.0,\n",
       " 0.0,\n",
       " 0.0,\n",
       " 0.0,\n",
       " 0.0,\n",
       " 0.0,\n",
       " 0.0,\n",
       " 0.0,\n",
       " 0.0,\n",
       " 0.0,\n",
       " 0.0,\n",
       " 0.0,\n",
       " 0.0,\n",
       " 0.0,\n",
       " 0.0,\n",
       " 0.0,\n",
       " 0.0,\n",
       " 0.0,\n",
       " 0.0,\n",
       " 0.0,\n",
       " 0.0,\n",
       " 0.0,\n",
       " 0.0,\n",
       " 0.0,\n",
       " 0.0,\n",
       " 0.0,\n",
       " 0.0,\n",
       " 0.0,\n",
       " 0.0,\n",
       " 0.0,\n",
       " 0.0,\n",
       " 0.0,\n",
       " 0.0,\n",
       " 0.0,\n",
       " 0.0,\n",
       " 0.0,\n",
       " 0.0,\n",
       " 0.0,\n",
       " 0.0,\n",
       " 0.0,\n",
       " 0.0,\n",
       " 0.0,\n",
       " 0.0,\n",
       " 0.0,\n",
       " 0.0,\n",
       " 0.0,\n",
       " 0.0,\n",
       " 0.0,\n",
       " 0.0,\n",
       " 0.0,\n",
       " 0.0,\n",
       " 0.0,\n",
       " 0.0,\n",
       " 0.0,\n",
       " 0.0,\n",
       " 0.0,\n",
       " 0.0,\n",
       " 0.0,\n",
       " 0.0,\n",
       " 0.0,\n",
       " 0.0,\n",
       " 0.0,\n",
       " 0.0,\n",
       " 0.0,\n",
       " 0.0,\n",
       " 0.0,\n",
       " 0.0,\n",
       " 0.0,\n",
       " 1.0,\n",
       " 0.0,\n",
       " 0.0,\n",
       " 0.0,\n",
       " 0.0,\n",
       " 0.0,\n",
       " 0.0,\n",
       " 0.0,\n",
       " 0.0,\n",
       " 0.0,\n",
       " 0.0,\n",
       " 0.0,\n",
       " 0.0,\n",
       " 0.0,\n",
       " 0.0,\n",
       " 0.0,\n",
       " 0.0,\n",
       " 0.0,\n",
       " 0.0,\n",
       " 0.0,\n",
       " 0.0,\n",
       " 0.0,\n",
       " 0.0,\n",
       " 0.0,\n",
       " 0.0,\n",
       " 0.0,\n",
       " 0.0,\n",
       " 0.0,\n",
       " 0.0,\n",
       " 0.0,\n",
       " 0.0,\n",
       " 0.0,\n",
       " 0.0,\n",
       " 0.0,\n",
       " 0.0,\n",
       " 0.0,\n",
       " 0.0,\n",
       " 0.0,\n",
       " 0.0,\n",
       " 0.0,\n",
       " 0.0,\n",
       " 0.0,\n",
       " 0.0,\n",
       " 0.0,\n",
       " 0.0,\n",
       " 0.0,\n",
       " 0.0,\n",
       " 0.0,\n",
       " 0.0,\n",
       " 0.0,\n",
       " 0.0,\n",
       " 0.0,\n",
       " 0.0,\n",
       " 0.0,\n",
       " 0.0,\n",
       " 0.0,\n",
       " 0.0,\n",
       " 0.0,\n",
       " 0.0,\n",
       " 0.0,\n",
       " 0.0,\n",
       " 0.0,\n",
       " 0.0,\n",
       " 0.0,\n",
       " 0.0,\n",
       " 0.0,\n",
       " 0.0,\n",
       " 0.0,\n",
       " 0.0,\n",
       " 0.0,\n",
       " 0.0,\n",
       " 0.0,\n",
       " 0.0,\n",
       " 0.0,\n",
       " 0.0,\n",
       " 0.0,\n",
       " 0.0,\n",
       " 0.0,\n",
       " 0.0,\n",
       " 0.0,\n",
       " 0.0,\n",
       " 0.0,\n",
       " 0.0,\n",
       " 0.0,\n",
       " 0.0,\n",
       " 0.0,\n",
       " 0.0,\n",
       " 0.0,\n",
       " 0.0,\n",
       " 0.0,\n",
       " 0.0,\n",
       " 0.0,\n",
       " 0.0,\n",
       " 0.0,\n",
       " 0.0,\n",
       " 0.0,\n",
       " 0.0,\n",
       " 0.0,\n",
       " 0.0,\n",
       " 0.0,\n",
       " 0.0,\n",
       " 0.0,\n",
       " 0.0,\n",
       " 0.0,\n",
       " 0.0,\n",
       " 0.0,\n",
       " 0.0,\n",
       " 0.0,\n",
       " 0.0,\n",
       " 0.0,\n",
       " 0.0,\n",
       " 0.0,\n",
       " 0.0,\n",
       " 0.0,\n",
       " 0.0,\n",
       " 0.0,\n",
       " 0.0,\n",
       " 0.0,\n",
       " 0.0,\n",
       " 0.0,\n",
       " 0.0,\n",
       " 0.0,\n",
       " 0.0,\n",
       " 0.0,\n",
       " 0.0,\n",
       " 0.0,\n",
       " 0.0,\n",
       " 0.0,\n",
       " 0.0,\n",
       " 0.0,\n",
       " 0.0,\n",
       " 0.0,\n",
       " 0.0,\n",
       " 0.0,\n",
       " 0.0,\n",
       " 0.0,\n",
       " 0.0,\n",
       " 0.0,\n",
       " 0.0,\n",
       " 0.0,\n",
       " 0.0,\n",
       " 0.0,\n",
       " 0.0,\n",
       " 0.0,\n",
       " 0.0,\n",
       " 0.0,\n",
       " 0.0,\n",
       " 0.0,\n",
       " 1.0,\n",
       " 0.0,\n",
       " 0.0,\n",
       " 0.0,\n",
       " 0.0,\n",
       " 0.0,\n",
       " 0.0,\n",
       " 0.0,\n",
       " 0.0,\n",
       " 0.0,\n",
       " 0.0,\n",
       " 0.0,\n",
       " 0.0,\n",
       " 0.0,\n",
       " 0.0,\n",
       " 0.0,\n",
       " 0.0,\n",
       " 0.0,\n",
       " 0.0,\n",
       " 0.0,\n",
       " 0.0,\n",
       " 0.0,\n",
       " 0.0,\n",
       " 0.0,\n",
       " 0.0,\n",
       " 0.0,\n",
       " 0.0,\n",
       " 0.0,\n",
       " 0.0,\n",
       " 0.0,\n",
       " 0.0,\n",
       " 0.0,\n",
       " 0.0,\n",
       " 0.0,\n",
       " 0.0,\n",
       " 0.0,\n",
       " 0.0,\n",
       " 0.0,\n",
       " 0.0,\n",
       " 0.0,\n",
       " 0.0,\n",
       " 0.0,\n",
       " 0.0,\n",
       " 0.0,\n",
       " 0.0,\n",
       " 0.0,\n",
       " 0.0,\n",
       " 0.0,\n",
       " 0.0,\n",
       " 0.0,\n",
       " 0.0,\n",
       " 0.0,\n",
       " 0.0,\n",
       " 0.0,\n",
       " 0.0,\n",
       " 0.0,\n",
       " 0.0,\n",
       " 0.0,\n",
       " 0.0,\n",
       " 0.0,\n",
       " 0.0,\n",
       " 0.0,\n",
       " 0.0,\n",
       " 0.0,\n",
       " 0.0,\n",
       " 0.0,\n",
       " 0.0,\n",
       " 0.0,\n",
       " 0.0,\n",
       " 0.0,\n",
       " 0.0,\n",
       " 0.0,\n",
       " 0.0,\n",
       " 0.0,\n",
       " 0.0,\n",
       " 0.0,\n",
       " 0.0,\n",
       " 0.0,\n",
       " 0.0,\n",
       " 0.0,\n",
       " 0.0,\n",
       " 0.0,\n",
       " 0.0,\n",
       " 0.0,\n",
       " 0.0,\n",
       " 0.0,\n",
       " 0.0,\n",
       " 0.0,\n",
       " 0.0,\n",
       " 0.0,\n",
       " 0.0,\n",
       " 0.0,\n",
       " 0.0,\n",
       " 0.0,\n",
       " 0.0,\n",
       " 0.0,\n",
       " 0.0,\n",
       " 0.0,\n",
       " 0.0,\n",
       " 0.0,\n",
       " 0.0,\n",
       " 0.0,\n",
       " 0.0,\n",
       " 0.0,\n",
       " 0.0,\n",
       " 0.0,\n",
       " 0.0,\n",
       " 0.0,\n",
       " 0.0,\n",
       " 0.0,\n",
       " 0.0,\n",
       " 0.0,\n",
       " 0.0,\n",
       " 0.0,\n",
       " 0.0,\n",
       " 0.0,\n",
       " 0.0,\n",
       " 0.0,\n",
       " 0.0,\n",
       " 0.0,\n",
       " 0.0,\n",
       " 0.0,\n",
       " 0.0,\n",
       " 0.0,\n",
       " 0.0,\n",
       " 0.0,\n",
       " 0.0,\n",
       " 0.0,\n",
       " 0.0,\n",
       " 0.0,\n",
       " 0.0,\n",
       " 0.0,\n",
       " 0.0,\n",
       " 1.0,\n",
       " 0.0,\n",
       " 0.0,\n",
       " 0.0,\n",
       " 0.0,\n",
       " 0.0,\n",
       " 0.0,\n",
       " 0.0,\n",
       " 0.0,\n",
       " 0.0,\n",
       " 0.0,\n",
       " 0.0,\n",
       " 0.0,\n",
       " 0.0,\n",
       " 0.0,\n",
       " 0.0,\n",
       " 0.0,\n",
       " 0.0,\n",
       " 0.0,\n",
       " 0.0,\n",
       " 0.0,\n",
       " 0.0,\n",
       " 0.0,\n",
       " 0.0,\n",
       " 0.0,\n",
       " 0.0,\n",
       " 0.0,\n",
       " 0.0,\n",
       " 0.0,\n",
       " 0.0,\n",
       " 0.0,\n",
       " 0.0,\n",
       " 0.0,\n",
       " 0.0,\n",
       " 0.0,\n",
       " 0.0,\n",
       " 0.0,\n",
       " 0.0,\n",
       " 0.0,\n",
       " 0.0,\n",
       " 0.0,\n",
       " 0.0,\n",
       " 0.0,\n",
       " 0.0,\n",
       " 0.0,\n",
       " 0.0,\n",
       " 0.0,\n",
       " 0.0,\n",
       " 0.0,\n",
       " 0.0,\n",
       " 0.0,\n",
       " 0.0,\n",
       " 0.0,\n",
       " 0.0,\n",
       " 0.0,\n",
       " 0.0,\n",
       " 0.0,\n",
       " 0.0,\n",
       " 0.0,\n",
       " 0.0,\n",
       " 0.0,\n",
       " 0.0,\n",
       " 0.0,\n",
       " 0.0,\n",
       " 0.0,\n",
       " 0.0,\n",
       " 0.0,\n",
       " 0.0,\n",
       " 0.0,\n",
       " 0.0,\n",
       " 0.0,\n",
       " 0.0,\n",
       " 0.0,\n",
       " 0.0,\n",
       " 0.0,\n",
       " 0.0,\n",
       " 0.0,\n",
       " 0.0,\n",
       " 0.0,\n",
       " 0.0,\n",
       " 0.0,\n",
       " 0.0,\n",
       " 0.0,\n",
       " 0.0,\n",
       " 0.0,\n",
       " 0.0,\n",
       " 0.0,\n",
       " 0.0,\n",
       " 0.0,\n",
       " 0.0,\n",
       " 0.0,\n",
       " 0.0,\n",
       " 0.0,\n",
       " 0.0,\n",
       " 0.0,\n",
       " 0.0,\n",
       " 0.0,\n",
       " 0.0,\n",
       " 0.0,\n",
       " 1.0,\n",
       " 0.0,\n",
       " 0.0,\n",
       " 0.0,\n",
       " 0.0,\n",
       " 0.0,\n",
       " 0.0,\n",
       " 0.0,\n",
       " 0.0,\n",
       " 0.0,\n",
       " 0.0,\n",
       " 0.0,\n",
       " 0.0,\n",
       " 0.0,\n",
       " 0.0,\n",
       " 0.0,\n",
       " 0.0,\n",
       " 0.0,\n",
       " 0.0,\n",
       " 0.0,\n",
       " 0.0,\n",
       " 0.0,\n",
       " 0.0,\n",
       " 0.0,\n",
       " 0.0,\n",
       " 0.0,\n",
       " 0.0,\n",
       " 0.0,\n",
       " 0.0,\n",
       " 0.0,\n",
       " 0.0,\n",
       " 0.0,\n",
       " 0.0,\n",
       " 0.0,\n",
       " 0.0,\n",
       " 0.0,\n",
       " 0.0,\n",
       " 0.0,\n",
       " 0.0,\n",
       " 0.0,\n",
       " 0.0,\n",
       " 0.0,\n",
       " 0.0,\n",
       " 0.0,\n",
       " 0.0,\n",
       " 0.0,\n",
       " 0.0,\n",
       " 0.0,\n",
       " 0.0,\n",
       " 0.0,\n",
       " 0.0,\n",
       " 0.0,\n",
       " 0.0,\n",
       " 0.0,\n",
       " 0.0,\n",
       " 0.0,\n",
       " 0.0,\n",
       " 0.0,\n",
       " 0.0,\n",
       " 0.0,\n",
       " 0.0,\n",
       " 0.0,\n",
       " 0.0,\n",
       " 0.0,\n",
       " 0.0,\n",
       " 0.0,\n",
       " 0.0,\n",
       " 0.0,\n",
       " 0.0,\n",
       " 0.0,\n",
       " 0.0,\n",
       " 0.0,\n",
       " 0.0,\n",
       " 0.0,\n",
       " 0.0,\n",
       " 0.0,\n",
       " 0.0,\n",
       " 0.0,\n",
       " 0.0,\n",
       " 0.0,\n",
       " 0.0,\n",
       " 0.0,\n",
       " 0.0,\n",
       " 0.0,\n",
       " 0.0,\n",
       " 0.0,\n",
       " 0.0,\n",
       " 0.0,\n",
       " 0.0,\n",
       " 0.0,\n",
       " 0.0,\n",
       " 0.0,\n",
       " 0.0,\n",
       " 0.0,\n",
       " 0.0,\n",
       " 0.0,\n",
       " 0.0,\n",
       " 0.0,\n",
       " 0.0,\n",
       " 0.0,\n",
       " 0.0,\n",
       " 0.0,\n",
       " 0.0,\n",
       " 0.0,\n",
       " 0.0,\n",
       " 0.0,\n",
       " 0.0,\n",
       " 0.0,\n",
       " 0.0,\n",
       " 0.0,\n",
       " 0.0,\n",
       " 0.0,\n",
       " 0.0,\n",
       " 0.0,\n",
       " 0.0,\n",
       " 0.0,\n",
       " 0.0,\n",
       " 0.0,\n",
       " 0.0,\n",
       " 0.0,\n",
       " 0.0,\n",
       " 0.0,\n",
       " 0.0,\n",
       " 0.0,\n",
       " 0.0,\n",
       " 0.0,\n",
       " 0.0,\n",
       " 0.0,\n",
       " 0.0,\n",
       " 0.0,\n",
       " 0.0,\n",
       " 0.0,\n",
       " 0.0,\n",
       " 0.0,\n",
       " 0.0,\n",
       " 0.0,\n",
       " 0.0,\n",
       " 0.0,\n",
       " 0.0,\n",
       " 0.0,\n",
       " 0.0,\n",
       " 0.0,\n",
       " 0.0,\n",
       " 0.0,\n",
       " 0.0,\n",
       " 0.0,\n",
       " 0.0,\n",
       " 0.0,\n",
       " 0.0,\n",
       " 0.0,\n",
       " 0.0,\n",
       " 0.0,\n",
       " 0.0,\n",
       " 0.0,\n",
       " 0.0,\n",
       " 0.0,\n",
       " 0.0,\n",
       " 0.0,\n",
       " 0.0,\n",
       " 0.0,\n",
       " 0.0,\n",
       " 0.0,\n",
       " 0.0,\n",
       " 0.0,\n",
       " 0.0,\n",
       " 0.0,\n",
       " 0.0,\n",
       " 0.0,\n",
       " 0.0,\n",
       " 0.0,\n",
       " 0.0,\n",
       " 0.0,\n",
       " 0.0,\n",
       " 0.0,\n",
       " 0.0,\n",
       " 0.0,\n",
       " 0.0,\n",
       " 0.0,\n",
       " 0.0,\n",
       " 0.0,\n",
       " 0.0,\n",
       " 0.0,\n",
       " 0.0,\n",
       " 0.0,\n",
       " 0.0,\n",
       " 0.0,\n",
       " 0.0,\n",
       " 0.0,\n",
       " 0.0,\n",
       " 0.0,\n",
       " 0.0,\n",
       " 0.0,\n",
       " 0.0,\n",
       " 0.0,\n",
       " 0.0,\n",
       " 0.0,\n",
       " 0.0,\n",
       " 0.0,\n",
       " 0.0,\n",
       " 0.0,\n",
       " 0.0,\n",
       " 0.0,\n",
       " 0.0,\n",
       " 0.0,\n",
       " 0.0,\n",
       " 0.0,\n",
       " 0.0,\n",
       " 0.0,\n",
       " 0.0,\n",
       " 0.0,\n",
       " 0.0,\n",
       " 0.0,\n",
       " 0.0,\n",
       " 0.0,\n",
       " 0.0,\n",
       " 0.0,\n",
       " 0.0,\n",
       " 0.0,\n",
       " 0.0,\n",
       " 0.0,\n",
       " 0.0,\n",
       " 0.0,\n",
       " 0.0,\n",
       " 0.0,\n",
       " 0.0,\n",
       " 0.0,\n",
       " 0.0,\n",
       " 0.0,\n",
       " 0.0,\n",
       " 0.0,\n",
       " 0.0,\n",
       " 0.0,\n",
       " 0.0,\n",
       " 0.0,\n",
       " 0.0,\n",
       " 0.0,\n",
       " 0.0,\n",
       " 0.0,\n",
       " 0.0,\n",
       " 0.0,\n",
       " 0.0,\n",
       " 0.0,\n",
       " 0.0,\n",
       " 0.0,\n",
       " 0.0,\n",
       " 0.0,\n",
       " 0.0,\n",
       " 0.0,\n",
       " 0.0,\n",
       " 0.0,\n",
       " 0.0,\n",
       " 0.0,\n",
       " 0.0,\n",
       " 0.0,\n",
       " 0.0,\n",
       " 0.0,\n",
       " 0.0,\n",
       " 0.0,\n",
       " 0.0,\n",
       " 0.0,\n",
       " 0.0,\n",
       " 0.0,\n",
       " 0.0,\n",
       " 0.0,\n",
       " 0.0,\n",
       " 0.0,\n",
       " 0.0,\n",
       " 0.0,\n",
       " 0.0,\n",
       " 0.0,\n",
       " 0.0,\n",
       " 0.0,\n",
       " 0.0,\n",
       " 0.0,\n",
       " 0.0,\n",
       " 0.0,\n",
       " 0.0,\n",
       " 0.0,\n",
       " 0.0,\n",
       " 0.0,\n",
       " 0.0,\n",
       " 0.0,\n",
       " 0.0,\n",
       " 0.0,\n",
       " 0.0,\n",
       " ...]"
      ]
     },
     "execution_count": 5,
     "metadata": {},
     "output_type": "execute_result"
    }
   ],
   "source": [
    "M['Otest'][0].tolist()"
   ]
  },
  {
   "cell_type": "code",
   "execution_count": 6,
   "id": "cb6d67e3",
   "metadata": {
    "ExecuteTime": {
     "end_time": "2021-08-30T05:14:32.207232Z",
     "start_time": "2021-08-30T05:14:32.186037Z"
    }
   },
   "outputs": [
    {
     "data": {
      "text/plain": [
       "(3000, 3000)"
      ]
     },
     "execution_count": 6,
     "metadata": {},
     "output_type": "execute_result"
    }
   ],
   "source": [
    "M['Otest'].shape"
   ]
  },
  {
   "cell_type": "code",
   "execution_count": 5,
   "id": "16475927",
   "metadata": {
    "ExecuteTime": {
     "end_time": "2021-08-26T07:28:50.865548Z",
     "start_time": "2021-08-26T07:28:50.853294Z"
    }
   },
   "outputs": [],
   "source": [
    "u_features=M['W_users'] # user id X features...(3000X3000)"
   ]
  },
  {
   "cell_type": "code",
   "execution_count": 6,
   "id": "a73f6bb0",
   "metadata": {
    "ExecuteTime": {
     "end_time": "2021-08-26T07:29:02.733614Z",
     "start_time": "2021-08-26T07:29:02.713562Z"
    }
   },
   "outputs": [
    {
     "data": {
      "text/plain": [
       "((3000, 3000), 0.0)"
      ]
     },
     "execution_count": 6,
     "metadata": {},
     "output_type": "execute_result"
    }
   ],
   "source": [
    "u_features.shape,u_features[4,109]"
   ]
  },
  {
   "cell_type": "code",
   "execution_count": 6,
   "id": "399c94c4",
   "metadata": {
    "ExecuteTime": {
     "end_time": "2021-08-25T13:37:13.763092Z",
     "start_time": "2021-08-25T13:37:13.751234Z"
    }
   },
   "outputs": [],
   "source": [
    "v_features=np.eye(M['M'].shape[1]) #initializing identity matrix for v_features of shape (3000X3000)"
   ]
  },
  {
   "cell_type": "code",
   "execution_count": 8,
   "id": "fa94964a",
   "metadata": {
    "ExecuteTime": {
     "end_time": "2021-08-25T13:32:37.137144Z",
     "start_time": "2021-08-25T13:32:37.119582Z"
    }
   },
   "outputs": [
    {
     "data": {
      "text/plain": [
       "array([[1., 0., 0., ..., 0., 0., 0.],\n",
       "       [0., 1., 0., ..., 0., 0., 0.],\n",
       "       [0., 0., 1., ..., 0., 0., 0.],\n",
       "       ...,\n",
       "       [0., 0., 0., ..., 1., 0., 0.],\n",
       "       [0., 0., 0., ..., 0., 1., 0.],\n",
       "       [0., 0., 0., ..., 0., 0., 1.]])"
      ]
     },
     "execution_count": 8,
     "metadata": {},
     "output_type": "execute_result"
    }
   ],
   "source": [
    "v_features"
   ]
  },
  {
   "cell_type": "code",
   "execution_count": 7,
   "id": "a12be7a4",
   "metadata": {
    "ExecuteTime": {
     "end_time": "2021-08-25T13:37:16.480072Z",
     "start_time": "2021-08-25T13:37:16.199927Z"
    }
   },
   "outputs": [],
   "source": [
    "u_nodes_ratings = np.where(M['M'])[0] #which user given rating ...\n",
    "v_nodes_ratings = np.where(M['M'])[1] #which movies got rating..."
   ]
  },
  {
   "cell_type": "code",
   "execution_count": 10,
   "id": "67abd8d6",
   "metadata": {
    "ExecuteTime": {
     "end_time": "2021-08-25T13:32:38.887844Z",
     "start_time": "2021-08-25T13:32:38.874865Z"
    }
   },
   "outputs": [
    {
     "data": {
      "text/plain": [
       "array([   0,    0,    0, ..., 2999, 2999, 2999], dtype=int64)"
      ]
     },
     "execution_count": 10,
     "metadata": {},
     "output_type": "execute_result"
    }
   ],
   "source": [
    "u_nodes_ratings"
   ]
  },
  {
   "cell_type": "code",
   "execution_count": 13,
   "id": "7f53e590",
   "metadata": {
    "ExecuteTime": {
     "end_time": "2021-08-25T10:26:37.251043Z",
     "start_time": "2021-08-25T10:26:37.241198Z"
    }
   },
   "outputs": [
    {
     "data": {
      "text/plain": [
       "(136891,)"
      ]
     },
     "execution_count": 13,
     "metadata": {},
     "output_type": "execute_result"
    }
   ],
   "source": [
    "u_nodes_ratings.shape"
   ]
  },
  {
   "cell_type": "code",
   "execution_count": 12,
   "id": "436ff6ca",
   "metadata": {
    "ExecuteTime": {
     "end_time": "2021-08-24T17:23:24.466542Z",
     "start_time": "2021-08-24T17:23:24.427582Z"
    }
   },
   "outputs": [
    {
     "data": {
      "text/plain": [
       "[22,\n",
       " 31,\n",
       " 81,\n",
       " 104,\n",
       " 119,\n",
       " 170,\n",
       " 192,\n",
       " 249,\n",
       " 269,\n",
       " 335,\n",
       " 410,\n",
       " 483,\n",
       " 491,\n",
       " 553,\n",
       " 581,\n",
       " 599,\n",
       " 616,\n",
       " 622,\n",
       " 627,\n",
       " 631,\n",
       " 632,\n",
       " 636,\n",
       " 701,\n",
       " 705,\n",
       " 715,\n",
       " 721,\n",
       " 807,\n",
       " 823,\n",
       " 866,\n",
       " 886,\n",
       " 933,\n",
       " 975,\n",
       " 986,\n",
       " 987,\n",
       " 991,\n",
       " 1060,\n",
       " 1076,\n",
       " 1080,\n",
       " 1089,\n",
       " 1177,\n",
       " 1178,\n",
       " 1184,\n",
       " 1191,\n",
       " 1231,\n",
       " 1259,\n",
       " 1302,\n",
       " 1324,\n",
       " 1387,\n",
       " 1391,\n",
       " 1395,\n",
       " 1494,\n",
       " 1617,\n",
       " 1705,\n",
       " 1706,\n",
       " 1738,\n",
       " 1740,\n",
       " 1769,\n",
       " 1813,\n",
       " 1893,\n",
       " 2036,\n",
       " 2104,\n",
       " 2201,\n",
       " 2232,\n",
       " 2314,\n",
       " 2325,\n",
       " 2361,\n",
       " 2403,\n",
       " 2833,\n",
       " 2859,\n",
       " 2983,\n",
       " 2984,\n",
       " 1,\n",
       " 4,\n",
       " 84,\n",
       " 164,\n",
       " 203,\n",
       " 248,\n",
       " 255,\n",
       " 300,\n",
       " 357,\n",
       " 392,\n",
       " 426,\n",
       " 437,\n",
       " 440,\n",
       " 583,\n",
       " 606,\n",
       " 656,\n",
       " 709,\n",
       " 873,\n",
       " 956,\n",
       " 997,\n",
       " 1159,\n",
       " 1165,\n",
       " 1181,\n",
       " 1232,\n",
       " 1455,\n",
       " 1501,\n",
       " 1585,\n",
       " 1626,\n",
       " 1733,\n",
       " 1826,\n",
       " 1945,\n",
       " 1971,\n",
       " 2080,\n",
       " 2184,\n",
       " 2249,\n",
       " 2329,\n",
       " 2338,\n",
       " 2547,\n",
       " 2639,\n",
       " 2739,\n",
       " 2763,\n",
       " 2866,\n",
       " 4,\n",
       " 14,\n",
       " 40,\n",
       " 65,\n",
       " 67,\n",
       " 79,\n",
       " 145,\n",
       " 163,\n",
       " 202,\n",
       " 257,\n",
       " 265,\n",
       " 296,\n",
       " 323,\n",
       " 348,\n",
       " 364,\n",
       " 390,\n",
       " 408,\n",
       " 413,\n",
       " 458,\n",
       " 510,\n",
       " 551,\n",
       " 582,\n",
       " 610,\n",
       " 645,\n",
       " 683,\n",
       " 769,\n",
       " 831,\n",
       " 835,\n",
       " 846,\n",
       " 887,\n",
       " 920,\n",
       " 955,\n",
       " 1038,\n",
       " 1046,\n",
       " 1138,\n",
       " 1156,\n",
       " 1195,\n",
       " 1205,\n",
       " 1296,\n",
       " 1497,\n",
       " 1517,\n",
       " 1520,\n",
       " 1562,\n",
       " 1602,\n",
       " 1617,\n",
       " 1640,\n",
       " 1679,\n",
       " 1698,\n",
       " 1882,\n",
       " 1923,\n",
       " 1975,\n",
       " 2065,\n",
       " 2320,\n",
       " 2327,\n",
       " 2376,\n",
       " 2473,\n",
       " 2513,\n",
       " 2661,\n",
       " 2770,\n",
       " 2917,\n",
       " 23,\n",
       " 55,\n",
       " 82,\n",
       " 103,\n",
       " 105,\n",
       " 109,\n",
       " 133,\n",
       " 153,\n",
       " 158,\n",
       " 228,\n",
       " 249,\n",
       " 269,\n",
       " 283,\n",
       " 303,\n",
       " 360,\n",
       " 368,\n",
       " 370,\n",
       " 383,\n",
       " 401,\n",
       " 406,\n",
       " 409,\n",
       " 446,\n",
       " 463,\n",
       " 475,\n",
       " 487,\n",
       " 518,\n",
       " 543,\n",
       " 563,\n",
       " 568,\n",
       " 581,\n",
       " 592,\n",
       " 695,\n",
       " 706,\n",
       " 723,\n",
       " 749,\n",
       " 761,\n",
       " 811,\n",
       " 830,\n",
       " 840,\n",
       " 852,\n",
       " 974,\n",
       " 1030,\n",
       " 1083,\n",
       " 1089,\n",
       " 1169,\n",
       " 1225,\n",
       " 1249,\n",
       " 1262,\n",
       " 1308,\n",
       " 1315,\n",
       " 1386,\n",
       " 1403,\n",
       " 1498,\n",
       " 1500,\n",
       " 1509,\n",
       " 1595,\n",
       " 1672,\n",
       " 1769,\n",
       " 1778,\n",
       " 1854,\n",
       " 1860,\n",
       " 1908,\n",
       " 1954,\n",
       " 2015,\n",
       " 2196,\n",
       " 2259,\n",
       " 2272,\n",
       " 2291,\n",
       " 2365,\n",
       " 2460,\n",
       " 2502,\n",
       " 2654,\n",
       " 2722,\n",
       " 2801,\n",
       " 2943,\n",
       " 2998,\n",
       " 10,\n",
       " 21,\n",
       " 49,\n",
       " 53,\n",
       " 90,\n",
       " 94,\n",
       " 128,\n",
       " 161,\n",
       " 220,\n",
       " 316,\n",
       " 322,\n",
       " 376,\n",
       " 377,\n",
       " 383,\n",
       " 396,\n",
       " 447,\n",
       " 475,\n",
       " 480,\n",
       " 514,\n",
       " 561,\n",
       " 566,\n",
       " 584,\n",
       " 592,\n",
       " 646,\n",
       " 673,\n",
       " 676,\n",
       " 679,\n",
       " 681,\n",
       " 786,\n",
       " 836,\n",
       " 876,\n",
       " 903,\n",
       " 909,\n",
       " 916,\n",
       " 921,\n",
       " 927,\n",
       " 961,\n",
       " 1050,\n",
       " 1057,\n",
       " 1065,\n",
       " 1116,\n",
       " 1163,\n",
       " 1230,\n",
       " 1236,\n",
       " 1349,\n",
       " 1354,\n",
       " 1413,\n",
       " 1422,\n",
       " 1434,\n",
       " 1469,\n",
       " 1521,\n",
       " 1565,\n",
       " 1588,\n",
       " 1703,\n",
       " 1795,\n",
       " 1803,\n",
       " 1846,\n",
       " 1878,\n",
       " 1917,\n",
       " 1970,\n",
       " 2109,\n",
       " 2115,\n",
       " 2139,\n",
       " 2169,\n",
       " 2493,\n",
       " 2554,\n",
       " 2678,\n",
       " 2775,\n",
       " 2782,\n",
       " 2790,\n",
       " 2839,\n",
       " 2890,\n",
       " 2948,\n",
       " 1,\n",
       " 51,\n",
       " 103,\n",
       " 326,\n",
       " 567,\n",
       " 636,\n",
       " 643,\n",
       " 650,\n",
       " 753,\n",
       " 755,\n",
       " 758,\n",
       " 970,\n",
       " 1001,\n",
       " 1058,\n",
       " 1545,\n",
       " 1827,\n",
       " 1973,\n",
       " 2079,\n",
       " 2140,\n",
       " 2204,\n",
       " 2470,\n",
       " 2684,\n",
       " 23,\n",
       " 25,\n",
       " 84,\n",
       " 85,\n",
       " 96,\n",
       " 99,\n",
       " 133,\n",
       " 147,\n",
       " 196,\n",
       " 206,\n",
       " 213,\n",
       " 345,\n",
       " 387,\n",
       " 405,\n",
       " 416,\n",
       " 447,\n",
       " 487,\n",
       " 564,\n",
       " 626,\n",
       " 717,\n",
       " 966,\n",
       " 1100,\n",
       " 1149,\n",
       " 1187,\n",
       " 1191,\n",
       " 1234,\n",
       " 1253,\n",
       " 1254,\n",
       " 1369,\n",
       " 1429,\n",
       " 1609,\n",
       " 1627,\n",
       " 1908,\n",
       " 1960,\n",
       " 2097,\n",
       " 2289,\n",
       " 2351,\n",
       " 2848,\n",
       " 9,\n",
       " 22,\n",
       " 44,\n",
       " 85,\n",
       " 90,\n",
       " 100,\n",
       " 184,\n",
       " 213,\n",
       " 250,\n",
       " 260,\n",
       " 348,\n",
       " 367,\n",
       " 374,\n",
       " 405,\n",
       " 447,\n",
       " 546,\n",
       " 685,\n",
       " 693,\n",
       " 741,\n",
       " 890,\n",
       " 926,\n",
       " 932,\n",
       " 1276,\n",
       " 1304,\n",
       " 1322,\n",
       " 1385,\n",
       " 1628,\n",
       " 1836,\n",
       " 1844,\n",
       " 2033,\n",
       " 2131,\n",
       " 2156,\n",
       " 2198,\n",
       " 2285,\n",
       " 2310,\n",
       " 2331,\n",
       " 2381,\n",
       " 2431,\n",
       " 2557,\n",
       " 2795,\n",
       " 2979,\n",
       " 46,\n",
       " 49,\n",
       " 54,\n",
       " 108,\n",
       " 128,\n",
       " 155,\n",
       " 223,\n",
       " 242,\n",
       " 267,\n",
       " 271,\n",
       " 297,\n",
       " 352,\n",
       " 362,\n",
       " 406,\n",
       " 407,\n",
       " 417,\n",
       " 481,\n",
       " 540,\n",
       " 568,\n",
       " 638,\n",
       " 668,\n",
       " 679,\n",
       " 690,\n",
       " 711,\n",
       " 838,\n",
       " 866,\n",
       " 936,\n",
       " 943,\n",
       " 955,\n",
       " 957,\n",
       " 961,\n",
       " 1176,\n",
       " 1197,\n",
       " 1224,\n",
       " 1262,\n",
       " 1300,\n",
       " 1325,\n",
       " 1339,\n",
       " 1369,\n",
       " 1372,\n",
       " 1406,\n",
       " 1438,\n",
       " 1447,\n",
       " 1503,\n",
       " 1517,\n",
       " 1709,\n",
       " 1723,\n",
       " 1801,\n",
       " 1824,\n",
       " 1835,\n",
       " 1849,\n",
       " 1983,\n",
       " 2094,\n",
       " 2100,\n",
       " 2200,\n",
       " 2237,\n",
       " 2267,\n",
       " 2276,\n",
       " 2311,\n",
       " 2313,\n",
       " 2314,\n",
       " 2379,\n",
       " 2396,\n",
       " 2417,\n",
       " 2468,\n",
       " 2510,\n",
       " 2590,\n",
       " 2722,\n",
       " 2779,\n",
       " 2828,\n",
       " 2832,\n",
       " 2881,\n",
       " 2909,\n",
       " 2931,\n",
       " 2933,\n",
       " 2949,\n",
       " 25,\n",
       " 122,\n",
       " 133,\n",
       " 153,\n",
       " 156,\n",
       " 160,\n",
       " 208,\n",
       " 228,\n",
       " 348,\n",
       " 460,\n",
       " 469,\n",
       " 487,\n",
       " 638,\n",
       " 706,\n",
       " 729,\n",
       " 760,\n",
       " 765,\n",
       " 1035,\n",
       " 1073,\n",
       " 1101,\n",
       " 1129,\n",
       " 1163,\n",
       " 1224,\n",
       " 1250,\n",
       " 1265,\n",
       " 1337,\n",
       " 1372,\n",
       " 1405,\n",
       " 1558,\n",
       " 1597,\n",
       " 1658,\n",
       " 1821,\n",
       " 2019,\n",
       " 2030,\n",
       " 2112,\n",
       " 2510,\n",
       " 2537,\n",
       " 195,\n",
       " 199,\n",
       " 224,\n",
       " 228,\n",
       " 306,\n",
       " 317,\n",
       " 396,\n",
       " 530,\n",
       " 588,\n",
       " 600,\n",
       " 728,\n",
       " 761,\n",
       " 799,\n",
       " 852,\n",
       " 968,\n",
       " 1067,\n",
       " 1072,\n",
       " 1105,\n",
       " 1137,\n",
       " 1138,\n",
       " 1173,\n",
       " 1215,\n",
       " 1237,\n",
       " 1309,\n",
       " 1313,\n",
       " 1425,\n",
       " 1605,\n",
       " 1913,\n",
       " 1964,\n",
       " 1981,\n",
       " 2022,\n",
       " 2025,\n",
       " 2371,\n",
       " 2576,\n",
       " 2600,\n",
       " 2665,\n",
       " 2786,\n",
       " 2795,\n",
       " 2802,\n",
       " 2846,\n",
       " 2853,\n",
       " 2870,\n",
       " 2927,\n",
       " 2944,\n",
       " 2949,\n",
       " 0,\n",
       " 48,\n",
       " 76,\n",
       " 124,\n",
       " 134,\n",
       " 172,\n",
       " 196,\n",
       " 208,\n",
       " 243,\n",
       " 340,\n",
       " 341,\n",
       " 390,\n",
       " 526,\n",
       " 553,\n",
       " 564,\n",
       " 639,\n",
       " 651,\n",
       " 727,\n",
       " 732,\n",
       " 750,\n",
       " 760,\n",
       " 765,\n",
       " 850,\n",
       " 882,\n",
       " 888,\n",
       " 922,\n",
       " 931,\n",
       " 949,\n",
       " 966,\n",
       " 1106,\n",
       " 1129,\n",
       " 1162,\n",
       " 1191,\n",
       " 1250,\n",
       " 1314,\n",
       " 1357,\n",
       " 1363,\n",
       " 1439,\n",
       " 1446,\n",
       " 1482,\n",
       " 1491,\n",
       " 1501,\n",
       " 1506,\n",
       " 1522,\n",
       " 1662,\n",
       " 1666,\n",
       " 1743,\n",
       " 1772,\n",
       " 1830,\n",
       " 1838,\n",
       " 1853,\n",
       " 1924,\n",
       " 1950,\n",
       " 1984,\n",
       " 2005,\n",
       " 2033,\n",
       " 2045,\n",
       " 2091,\n",
       " 2102,\n",
       " 2123,\n",
       " 2143,\n",
       " 2157,\n",
       " 2193,\n",
       " 2225,\n",
       " 2309,\n",
       " 2313,\n",
       " 2322,\n",
       " 2371,\n",
       " 2424,\n",
       " 2494,\n",
       " 2533,\n",
       " 2558,\n",
       " 2583,\n",
       " 2602,\n",
       " 2690,\n",
       " 2741,\n",
       " 2751,\n",
       " 2777,\n",
       " 2793,\n",
       " 2854,\n",
       " 2859,\n",
       " 2904,\n",
       " 2944,\n",
       " 2998,\n",
       " 3,\n",
       " 8,\n",
       " 35,\n",
       " 47,\n",
       " 119,\n",
       " 130,\n",
       " 154,\n",
       " 168,\n",
       " 187,\n",
       " 203,\n",
       " 211,\n",
       " 236,\n",
       " 247,\n",
       " 329,\n",
       " 331,\n",
       " 382,\n",
       " 420,\n",
       " 464,\n",
       " 580,\n",
       " 607,\n",
       " 661,\n",
       " 671,\n",
       " 673,\n",
       " 724,\n",
       " 733,\n",
       " 791,\n",
       " 867,\n",
       " 910,\n",
       " 923,\n",
       " 954,\n",
       " 970,\n",
       " 1019,\n",
       " 1051,\n",
       " 1084,\n",
       " 1157,\n",
       " 1166,\n",
       " 1181,\n",
       " 1309,\n",
       " 1321,\n",
       " 1342,\n",
       " 1355,\n",
       " 1376,\n",
       " 1455,\n",
       " 1510,\n",
       " 1565,\n",
       " 1574,\n",
       " 1671,\n",
       " 1703,\n",
       " 1766,\n",
       " 1771,\n",
       " 2002,\n",
       " 2028,\n",
       " 2051,\n",
       " 2081,\n",
       " 2319,\n",
       " 2752,\n",
       " 14,\n",
       " 19,\n",
       " 29,\n",
       " 44,\n",
       " 48,\n",
       " 59,\n",
       " 82,\n",
       " 85,\n",
       " 110,\n",
       " 122,\n",
       " 123,\n",
       " 144,\n",
       " 163,\n",
       " 200,\n",
       " 207,\n",
       " 209,\n",
       " 253,\n",
       " 385,\n",
       " 389,\n",
       " 422,\n",
       " 427,\n",
       " 457,\n",
       " 469,\n",
       " 483,\n",
       " 484,\n",
       " 495,\n",
       " 542,\n",
       " 587,\n",
       " 594,\n",
       " 678,\n",
       " 690,\n",
       " 718,\n",
       " 880,\n",
       " 886,\n",
       " 900,\n",
       " 931,\n",
       " 979,\n",
       " 995,\n",
       " 1037,\n",
       " 1088,\n",
       " 1115,\n",
       " 1147,\n",
       " 1162,\n",
       " 1167,\n",
       " 1170,\n",
       " 1242,\n",
       " 1272,\n",
       " 1295,\n",
       " 1350,\n",
       " 1408,\n",
       " 1436,\n",
       " 1472,\n",
       " 1476,\n",
       " 1481,\n",
       " 1492,\n",
       " 1512,\n",
       " 1551,\n",
       " 1566,\n",
       " 1659,\n",
       " 1671,\n",
       " 1710,\n",
       " 1808,\n",
       " 1844,\n",
       " 1873,\n",
       " 1876,\n",
       " 2011,\n",
       " 2013,\n",
       " 2052,\n",
       " 2256,\n",
       " 2372,\n",
       " 2406,\n",
       " 2538,\n",
       " 2589,\n",
       " 2618,\n",
       " 2628,\n",
       " 2736,\n",
       " 2744,\n",
       " 2781,\n",
       " 2884,\n",
       " 5,\n",
       " 12,\n",
       " 23,\n",
       " 90,\n",
       " 109,\n",
       " 112,\n",
       " 132,\n",
       " 133,\n",
       " 203,\n",
       " 228,\n",
       " 313,\n",
       " 419,\n",
       " 522,\n",
       " 652,\n",
       " 662,\n",
       " 726,\n",
       " 841,\n",
       " 857,\n",
       " 877,\n",
       " 1001,\n",
       " 1048,\n",
       " 1085,\n",
       " 1128,\n",
       " 1149,\n",
       " 1267,\n",
       " 1325,\n",
       " 1330,\n",
       " 1839,\n",
       " 1932,\n",
       " 2116,\n",
       " 2572,\n",
       " 2726,\n",
       " 1,\n",
       " 32,\n",
       " 33,\n",
       " 69,\n",
       " 75,\n",
       " 136,\n",
       " 225,\n",
       " 231,\n",
       " 243,\n",
       " 252,\n",
       " 275,\n",
       " 352,\n",
       " 362,\n",
       " 369,\n",
       " 393,\n",
       " 575,\n",
       " 643,\n",
       " 651,\n",
       " 687,\n",
       " 757,\n",
       " 778,\n",
       " 816,\n",
       " 826,\n",
       " 862,\n",
       " 1198,\n",
       " 1325,\n",
       " 1393,\n",
       " 1440,\n",
       " 1455,\n",
       " 1531,\n",
       " 1584,\n",
       " 1600,\n",
       " 1887,\n",
       " 2211,\n",
       " 2750,\n",
       " 12,\n",
       " 97,\n",
       " 115,\n",
       " 140,\n",
       " 170,\n",
       " 178,\n",
       " 219,\n",
       " 227,\n",
       " 246,\n",
       " 292,\n",
       " 293,\n",
       " 341,\n",
       " 374,\n",
       " 380,\n",
       " 416,\n",
       " 452,\n",
       " 465,\n",
       " 489,\n",
       " 516,\n",
       " 517,\n",
       " 538,\n",
       " 622,\n",
       " 641,\n",
       " 681,\n",
       " 720,\n",
       " 800,\n",
       " 910,\n",
       " 949,\n",
       " 1013,\n",
       " 1049,\n",
       " 1313,\n",
       " 1331,\n",
       " 1638,\n",
       " 1640,\n",
       " 1741,\n",
       " 1986,\n",
       " 2277,\n",
       " 2292,\n",
       " 2806,\n",
       " 2842,\n",
       " 2984,\n",
       " 51,\n",
       " 69,\n",
       " 128,\n",
       " 152,\n",
       " 214,\n",
       " 220,\n",
       " 258,\n",
       " 266,\n",
       " 278,\n",
       " 296,\n",
       " 350,\n",
       " 366,\n",
       " 377,\n",
       " 386,\n",
       " 417,\n",
       " 440,\n",
       " 517,\n",
       " 526,\n",
       " 554,\n",
       " 567,\n",
       " 585,\n",
       " 641,\n",
       " 643,\n",
       " 746,\n",
       " 757,\n",
       " 780,\n",
       " 838,\n",
       " 862,\n",
       " 873,\n",
       " 930,\n",
       " 957,\n",
       " 1002,\n",
       " 1058,\n",
       " 1083,\n",
       " 1142,\n",
       " 1143,\n",
       " 1170,\n",
       " 1216,\n",
       " 1300,\n",
       " 1422,\n",
       " 1545,\n",
       " 1585,\n",
       " 1618,\n",
       " 1626,\n",
       " 1797,\n",
       " 1801,\n",
       " 1807,\n",
       " 1827,\n",
       " 1923,\n",
       " 1991,\n",
       " 2179,\n",
       " 2218,\n",
       " 2278,\n",
       " 2314,\n",
       " 2328,\n",
       " 2444,\n",
       " 2478,\n",
       " 2530,\n",
       " 2583,\n",
       " 2723,\n",
       " 2787,\n",
       " 12,\n",
       " 26,\n",
       " 35,\n",
       " 43,\n",
       " 105,\n",
       " 111,\n",
       " 138,\n",
       " 151,\n",
       " 173,\n",
       " 233,\n",
       " 255,\n",
       " 309,\n",
       " 318,\n",
       " 330,\n",
       " 385,\n",
       " 406,\n",
       " 419,\n",
       " 431,\n",
       " 454,\n",
       " 495,\n",
       " 511,\n",
       " 588,\n",
       " 594,\n",
       " 711,\n",
       " 810,\n",
       " 854,\n",
       " 870,\n",
       " 881,\n",
       " 963,\n",
       " 995,\n",
       " 1026,\n",
       " ...]"
      ]
     },
     "execution_count": 12,
     "metadata": {},
     "output_type": "execute_result"
    }
   ],
   "source": [
    "v_nodes_ratings.tolist()"
   ]
  },
  {
   "cell_type": "code",
   "execution_count": 14,
   "id": "52bbe990",
   "metadata": {
    "ExecuteTime": {
     "end_time": "2021-08-25T10:26:47.431048Z",
     "start_time": "2021-08-25T10:26:47.421158Z"
    }
   },
   "outputs": [
    {
     "data": {
      "text/plain": [
       "(136891,)"
      ]
     },
     "execution_count": 14,
     "metadata": {},
     "output_type": "execute_result"
    }
   ],
   "source": [
    "v_nodes_ratings.shape"
   ]
  },
  {
   "cell_type": "code",
   "execution_count": 8,
   "id": "7377ce03",
   "metadata": {
    "ExecuteTime": {
     "end_time": "2021-08-25T13:37:26.474083Z",
     "start_time": "2021-08-25T13:37:26.304049Z"
    }
   },
   "outputs": [],
   "source": [
    "ratings = M['M'][np.where(M['M'])] #rating given for each movie id by each user id..."
   ]
  },
  {
   "cell_type": "code",
   "execution_count": 10,
   "id": "405bd03d",
   "metadata": {
    "ExecuteTime": {
     "end_time": "2021-08-25T13:24:46.731933Z",
     "start_time": "2021-08-25T13:24:46.713109Z"
    }
   },
   "outputs": [
    {
     "data": {
      "text/plain": [
       "array([4., 2., 1., ..., 4., 3., 3.])"
      ]
     },
     "execution_count": 10,
     "metadata": {},
     "output_type": "execute_result"
    }
   ],
   "source": [
    "ratings"
   ]
  },
  {
   "cell_type": "code",
   "execution_count": 17,
   "id": "00790814",
   "metadata": {
    "ExecuteTime": {
     "end_time": "2021-08-25T10:30:05.533685Z",
     "start_time": "2021-08-25T10:30:05.516593Z"
    }
   },
   "outputs": [
    {
     "data": {
      "text/plain": [
       "(136891,)"
      ]
     },
     "execution_count": 17,
     "metadata": {},
     "output_type": "execute_result"
    }
   ],
   "source": [
    "ratings.shape"
   ]
  },
  {
   "cell_type": "code",
   "execution_count": 9,
   "id": "41b19b2f",
   "metadata": {
    "ExecuteTime": {
     "end_time": "2021-08-25T13:37:30.073979Z",
     "start_time": "2021-08-25T13:37:30.055098Z"
    }
   },
   "outputs": [],
   "source": [
    "u_nodes_ratings, v_nodes_ratings = u_nodes_ratings.astype(np.int64), v_nodes_ratings.astype(np.int32)\n",
    "ratings = ratings.astype(np.float64)"
   ]
  },
  {
   "cell_type": "code",
   "execution_count": 19,
   "id": "0d0b4c73",
   "metadata": {
    "ExecuteTime": {
     "end_time": "2021-08-25T10:30:26.398669Z",
     "start_time": "2021-08-25T10:30:26.391889Z"
    }
   },
   "outputs": [
    {
     "data": {
      "text/plain": [
       "((136891,), (136891,), (136891,))"
      ]
     },
     "execution_count": 19,
     "metadata": {},
     "output_type": "execute_result"
    }
   ],
   "source": [
    "u_nodes_ratings.shape,v_nodes_ratings.shape,ratings.shape"
   ]
  },
  {
   "cell_type": "code",
   "execution_count": 10,
   "id": "f753cc27",
   "metadata": {
    "ExecuteTime": {
     "end_time": "2021-08-25T13:37:33.951073Z",
     "start_time": "2021-08-25T13:37:33.887144Z"
    }
   },
   "outputs": [
    {
     "name": "stdout",
     "output_type": "stream",
     "text": [
      "number of users =  2999\n",
      "number of item =  3000\n"
     ]
    }
   ],
   "source": [
    "u_nodes = u_nodes_ratings\n",
    "v_nodes = v_nodes_ratings\n",
    "\n",
    "print('number of users = ', len(set(u_nodes)))\n",
    "print('number of item = ', len(set(v_nodes)))"
   ]
  },
  {
   "cell_type": "code",
   "execution_count": 21,
   "id": "4ae49287",
   "metadata": {
    "ExecuteTime": {
     "end_time": "2021-08-25T10:30:36.638434Z",
     "start_time": "2021-08-25T10:30:36.620783Z"
    }
   },
   "outputs": [
    {
     "data": {
      "text/plain": [
       "(array([   0,    0,    0, ..., 2999, 2999, 2999], dtype=int64),\n",
       " array([  22,   31,   81, ..., 2210, 2341, 2469]),\n",
       " array([4., 2., 1., ..., 4., 3., 3.]))"
      ]
     },
     "execution_count": 21,
     "metadata": {},
     "output_type": "execute_result"
    }
   ],
   "source": [
    "u_nodes,v_nodes,ratings"
   ]
  },
  {
   "cell_type": "code",
   "execution_count": 22,
   "id": "e7a28995",
   "metadata": {
    "ExecuteTime": {
     "end_time": "2021-08-25T10:31:42.127454Z",
     "start_time": "2021-08-25T10:31:42.119857Z"
    }
   },
   "outputs": [
    {
     "data": {
      "text/plain": [
       "(136891,)"
      ]
     },
     "execution_count": 22,
     "metadata": {},
     "output_type": "execute_result"
    }
   ],
   "source": [
    "u_nodes.shape"
   ]
  },
  {
   "cell_type": "code",
   "execution_count": 11,
   "id": "8210e691",
   "metadata": {
    "ExecuteTime": {
     "end_time": "2021-08-25T13:37:37.805555Z",
     "start_time": "2021-08-25T13:37:37.791216Z"
    }
   },
   "outputs": [],
   "source": [
    "neutral_rating = -1\n",
    "# assumes that ratings_train contains at least one example of every rating type\n",
    "rating_dict = {r: i for i, r in enumerate(np.sort(np.unique(ratings)).tolist())}"
   ]
  },
  {
   "cell_type": "code",
   "execution_count": 12,
   "id": "9860b7b5",
   "metadata": {
    "ExecuteTime": {
     "end_time": "2021-08-25T12:50:35.964845Z",
     "start_time": "2021-08-25T12:50:35.950844Z"
    }
   },
   "outputs": [
    {
     "data": {
      "text/plain": [
       "{1.0: 0, 2.0: 1, 3.0: 2, 4.0: 3, 5.0: 4}"
      ]
     },
     "execution_count": 12,
     "metadata": {},
     "output_type": "execute_result"
    }
   ],
   "source": [
    "rating_dict"
   ]
  },
  {
   "cell_type": "code",
   "execution_count": 12,
   "id": "9dcba8eb",
   "metadata": {
    "ExecuteTime": {
     "end_time": "2021-08-25T13:37:40.999256Z",
     "start_time": "2021-08-25T13:37:40.983273Z"
    }
   },
   "outputs": [],
   "source": [
    "labels = np.full((num_users, num_items), neutral_rating, dtype=np.int32)"
   ]
  },
  {
   "cell_type": "code",
   "execution_count": 15,
   "id": "bfeb0966",
   "metadata": {
    "ExecuteTime": {
     "end_time": "2021-08-25T13:24:59.504654Z",
     "start_time": "2021-08-25T13:24:59.487552Z"
    },
    "scrolled": false
   },
   "outputs": [
    {
     "data": {
      "text/plain": [
       "array([[-1, -1, -1, ..., -1, -1, -1],\n",
       "       [-1, -1, -1, ..., -1, -1, -1],\n",
       "       [-1, -1, -1, ..., -1, -1, -1],\n",
       "       ...,\n",
       "       [-1, -1, -1, ..., -1, -1, -1],\n",
       "       [-1, -1, -1, ..., -1, -1, -1],\n",
       "       [-1, -1, -1, ..., -1, -1, -1]])"
      ]
     },
     "execution_count": 15,
     "metadata": {},
     "output_type": "execute_result"
    }
   ],
   "source": [
    "labels"
   ]
  },
  {
   "cell_type": "code",
   "execution_count": 27,
   "id": "a393bc1c",
   "metadata": {
    "ExecuteTime": {
     "end_time": "2021-08-25T10:32:06.804412Z",
     "start_time": "2021-08-25T10:32:06.797647Z"
    }
   },
   "outputs": [
    {
     "data": {
      "text/plain": [
       "(3000, 3000)"
      ]
     },
     "execution_count": 27,
     "metadata": {},
     "output_type": "execute_result"
    }
   ],
   "source": [
    "labels.shape"
   ]
  },
  {
   "cell_type": "code",
   "execution_count": 13,
   "id": "6b763ea5",
   "metadata": {
    "ExecuteTime": {
     "end_time": "2021-08-25T13:37:49.333040Z",
     "start_time": "2021-08-25T13:37:49.255244Z"
    }
   },
   "outputs": [],
   "source": [
    "labels[u_nodes, v_nodes] = np.array([rating_dict[r] for r in ratings])"
   ]
  },
  {
   "cell_type": "code",
   "execution_count": 16,
   "id": "848e68e2",
   "metadata": {
    "ExecuteTime": {
     "end_time": "2021-08-25T12:50:47.421139Z",
     "start_time": "2021-08-25T12:50:47.401137Z"
    }
   },
   "outputs": [
    {
     "data": {
      "text/plain": [
       "array([[-1, -1, -1, ..., -1, -1, -1],\n",
       "       [-1,  4, -1, ..., -1, -1, -1],\n",
       "       [-1, -1, -1, ..., -1, -1, -1],\n",
       "       ...,\n",
       "       [-1, -1, -1, ..., -1, -1, -1],\n",
       "       [-1, -1, -1, ..., -1, -1, -1],\n",
       "       [-1, -1, -1, ..., -1, -1, -1]])"
      ]
     },
     "execution_count": 16,
     "metadata": {},
     "output_type": "execute_result"
    }
   ],
   "source": [
    "labels"
   ]
  },
  {
   "cell_type": "code",
   "execution_count": 29,
   "id": "d9fce52e",
   "metadata": {
    "ExecuteTime": {
     "end_time": "2021-08-24T17:25:16.474302Z",
     "start_time": "2021-08-24T17:25:16.440904Z"
    }
   },
   "outputs": [
    {
     "data": {
      "text/plain": [
       "[-1,\n",
       " -1,\n",
       " -1,\n",
       " -1,\n",
       " -1,\n",
       " -1,\n",
       " -1,\n",
       " -1,\n",
       " -1,\n",
       " -1,\n",
       " -1,\n",
       " -1,\n",
       " -1,\n",
       " -1,\n",
       " -1,\n",
       " -1,\n",
       " -1,\n",
       " -1,\n",
       " -1,\n",
       " -1,\n",
       " -1,\n",
       " -1,\n",
       " 3,\n",
       " -1,\n",
       " -1,\n",
       " -1,\n",
       " -1,\n",
       " -1,\n",
       " -1,\n",
       " -1,\n",
       " -1,\n",
       " 1,\n",
       " -1,\n",
       " -1,\n",
       " -1,\n",
       " -1,\n",
       " -1,\n",
       " -1,\n",
       " -1,\n",
       " -1,\n",
       " -1,\n",
       " -1,\n",
       " -1,\n",
       " -1,\n",
       " -1,\n",
       " -1,\n",
       " -1,\n",
       " -1,\n",
       " -1,\n",
       " -1,\n",
       " -1,\n",
       " -1,\n",
       " -1,\n",
       " -1,\n",
       " -1,\n",
       " -1,\n",
       " -1,\n",
       " -1,\n",
       " -1,\n",
       " -1,\n",
       " -1,\n",
       " -1,\n",
       " -1,\n",
       " -1,\n",
       " -1,\n",
       " -1,\n",
       " -1,\n",
       " -1,\n",
       " -1,\n",
       " -1,\n",
       " -1,\n",
       " -1,\n",
       " -1,\n",
       " -1,\n",
       " -1,\n",
       " -1,\n",
       " -1,\n",
       " -1,\n",
       " -1,\n",
       " -1,\n",
       " -1,\n",
       " 0,\n",
       " -1,\n",
       " -1,\n",
       " -1,\n",
       " -1,\n",
       " -1,\n",
       " -1,\n",
       " -1,\n",
       " -1,\n",
       " -1,\n",
       " -1,\n",
       " -1,\n",
       " -1,\n",
       " -1,\n",
       " -1,\n",
       " -1,\n",
       " -1,\n",
       " -1,\n",
       " -1,\n",
       " -1,\n",
       " -1,\n",
       " -1,\n",
       " -1,\n",
       " 2,\n",
       " -1,\n",
       " -1,\n",
       " -1,\n",
       " -1,\n",
       " -1,\n",
       " -1,\n",
       " -1,\n",
       " -1,\n",
       " -1,\n",
       " -1,\n",
       " -1,\n",
       " -1,\n",
       " -1,\n",
       " -1,\n",
       " 2,\n",
       " -1,\n",
       " -1,\n",
       " -1,\n",
       " -1,\n",
       " -1,\n",
       " -1,\n",
       " -1,\n",
       " -1,\n",
       " -1,\n",
       " -1,\n",
       " -1,\n",
       " -1,\n",
       " -1,\n",
       " -1,\n",
       " -1,\n",
       " -1,\n",
       " -1,\n",
       " -1,\n",
       " -1,\n",
       " -1,\n",
       " -1,\n",
       " -1,\n",
       " -1,\n",
       " -1,\n",
       " -1,\n",
       " -1,\n",
       " -1,\n",
       " -1,\n",
       " -1,\n",
       " -1,\n",
       " -1,\n",
       " -1,\n",
       " -1,\n",
       " -1,\n",
       " -1,\n",
       " -1,\n",
       " -1,\n",
       " -1,\n",
       " -1,\n",
       " -1,\n",
       " -1,\n",
       " -1,\n",
       " -1,\n",
       " -1,\n",
       " -1,\n",
       " -1,\n",
       " -1,\n",
       " -1,\n",
       " -1,\n",
       " -1,\n",
       " 1,\n",
       " -1,\n",
       " -1,\n",
       " -1,\n",
       " -1,\n",
       " -1,\n",
       " -1,\n",
       " -1,\n",
       " -1,\n",
       " -1,\n",
       " -1,\n",
       " -1,\n",
       " -1,\n",
       " -1,\n",
       " -1,\n",
       " -1,\n",
       " -1,\n",
       " -1,\n",
       " -1,\n",
       " -1,\n",
       " -1,\n",
       " -1,\n",
       " 1,\n",
       " -1,\n",
       " -1,\n",
       " -1,\n",
       " -1,\n",
       " -1,\n",
       " -1,\n",
       " -1,\n",
       " -1,\n",
       " -1,\n",
       " -1,\n",
       " -1,\n",
       " -1,\n",
       " -1,\n",
       " -1,\n",
       " -1,\n",
       " -1,\n",
       " -1,\n",
       " -1,\n",
       " -1,\n",
       " -1,\n",
       " -1,\n",
       " -1,\n",
       " -1,\n",
       " -1,\n",
       " -1,\n",
       " -1,\n",
       " -1,\n",
       " -1,\n",
       " -1,\n",
       " -1,\n",
       " -1,\n",
       " -1,\n",
       " -1,\n",
       " -1,\n",
       " -1,\n",
       " -1,\n",
       " -1,\n",
       " -1,\n",
       " -1,\n",
       " -1,\n",
       " -1,\n",
       " -1,\n",
       " -1,\n",
       " -1,\n",
       " -1,\n",
       " -1,\n",
       " -1,\n",
       " -1,\n",
       " -1,\n",
       " -1,\n",
       " -1,\n",
       " -1,\n",
       " -1,\n",
       " -1,\n",
       " -1,\n",
       " -1,\n",
       " 1,\n",
       " -1,\n",
       " -1,\n",
       " -1,\n",
       " -1,\n",
       " -1,\n",
       " -1,\n",
       " -1,\n",
       " -1,\n",
       " -1,\n",
       " -1,\n",
       " -1,\n",
       " -1,\n",
       " -1,\n",
       " -1,\n",
       " -1,\n",
       " -1,\n",
       " -1,\n",
       " -1,\n",
       " -1,\n",
       " 4,\n",
       " -1,\n",
       " -1,\n",
       " -1,\n",
       " -1,\n",
       " -1,\n",
       " -1,\n",
       " -1,\n",
       " -1,\n",
       " -1,\n",
       " -1,\n",
       " -1,\n",
       " -1,\n",
       " -1,\n",
       " -1,\n",
       " -1,\n",
       " -1,\n",
       " -1,\n",
       " -1,\n",
       " -1,\n",
       " -1,\n",
       " -1,\n",
       " -1,\n",
       " -1,\n",
       " -1,\n",
       " -1,\n",
       " -1,\n",
       " -1,\n",
       " -1,\n",
       " -1,\n",
       " -1,\n",
       " -1,\n",
       " -1,\n",
       " -1,\n",
       " -1,\n",
       " -1,\n",
       " -1,\n",
       " -1,\n",
       " -1,\n",
       " -1,\n",
       " -1,\n",
       " -1,\n",
       " -1,\n",
       " -1,\n",
       " -1,\n",
       " -1,\n",
       " -1,\n",
       " -1,\n",
       " -1,\n",
       " -1,\n",
       " -1,\n",
       " -1,\n",
       " -1,\n",
       " -1,\n",
       " -1,\n",
       " -1,\n",
       " -1,\n",
       " -1,\n",
       " -1,\n",
       " -1,\n",
       " -1,\n",
       " -1,\n",
       " -1,\n",
       " -1,\n",
       " -1,\n",
       " -1,\n",
       " 0,\n",
       " -1,\n",
       " -1,\n",
       " -1,\n",
       " -1,\n",
       " -1,\n",
       " -1,\n",
       " -1,\n",
       " -1,\n",
       " -1,\n",
       " -1,\n",
       " -1,\n",
       " -1,\n",
       " -1,\n",
       " -1,\n",
       " -1,\n",
       " -1,\n",
       " -1,\n",
       " -1,\n",
       " -1,\n",
       " -1,\n",
       " -1,\n",
       " -1,\n",
       " -1,\n",
       " -1,\n",
       " -1,\n",
       " -1,\n",
       " -1,\n",
       " -1,\n",
       " -1,\n",
       " -1,\n",
       " -1,\n",
       " -1,\n",
       " -1,\n",
       " -1,\n",
       " -1,\n",
       " -1,\n",
       " -1,\n",
       " -1,\n",
       " -1,\n",
       " -1,\n",
       " -1,\n",
       " -1,\n",
       " -1,\n",
       " -1,\n",
       " -1,\n",
       " -1,\n",
       " -1,\n",
       " -1,\n",
       " -1,\n",
       " -1,\n",
       " -1,\n",
       " -1,\n",
       " -1,\n",
       " -1,\n",
       " -1,\n",
       " -1,\n",
       " -1,\n",
       " -1,\n",
       " -1,\n",
       " -1,\n",
       " -1,\n",
       " -1,\n",
       " -1,\n",
       " -1,\n",
       " -1,\n",
       " -1,\n",
       " -1,\n",
       " -1,\n",
       " -1,\n",
       " -1,\n",
       " -1,\n",
       " -1,\n",
       " -1,\n",
       " -1,\n",
       " 2,\n",
       " -1,\n",
       " -1,\n",
       " -1,\n",
       " -1,\n",
       " -1,\n",
       " -1,\n",
       " -1,\n",
       " -1,\n",
       " -1,\n",
       " -1,\n",
       " -1,\n",
       " -1,\n",
       " -1,\n",
       " -1,\n",
       " -1,\n",
       " -1,\n",
       " -1,\n",
       " -1,\n",
       " -1,\n",
       " -1,\n",
       " -1,\n",
       " -1,\n",
       " -1,\n",
       " -1,\n",
       " -1,\n",
       " -1,\n",
       " -1,\n",
       " -1,\n",
       " -1,\n",
       " -1,\n",
       " -1,\n",
       " -1,\n",
       " -1,\n",
       " -1,\n",
       " -1,\n",
       " -1,\n",
       " -1,\n",
       " -1,\n",
       " -1,\n",
       " -1,\n",
       " -1,\n",
       " -1,\n",
       " -1,\n",
       " -1,\n",
       " -1,\n",
       " -1,\n",
       " -1,\n",
       " -1,\n",
       " -1,\n",
       " -1,\n",
       " -1,\n",
       " -1,\n",
       " -1,\n",
       " -1,\n",
       " -1,\n",
       " -1,\n",
       " -1,\n",
       " -1,\n",
       " -1,\n",
       " -1,\n",
       " -1,\n",
       " -1,\n",
       " -1,\n",
       " -1,\n",
       " -1,\n",
       " -1,\n",
       " -1,\n",
       " -1,\n",
       " -1,\n",
       " -1,\n",
       " -1,\n",
       " -1,\n",
       " 4,\n",
       " -1,\n",
       " -1,\n",
       " -1,\n",
       " -1,\n",
       " -1,\n",
       " -1,\n",
       " -1,\n",
       " 3,\n",
       " -1,\n",
       " -1,\n",
       " -1,\n",
       " -1,\n",
       " -1,\n",
       " -1,\n",
       " -1,\n",
       " -1,\n",
       " -1,\n",
       " -1,\n",
       " -1,\n",
       " -1,\n",
       " -1,\n",
       " -1,\n",
       " -1,\n",
       " -1,\n",
       " -1,\n",
       " -1,\n",
       " -1,\n",
       " -1,\n",
       " -1,\n",
       " -1,\n",
       " -1,\n",
       " -1,\n",
       " -1,\n",
       " -1,\n",
       " -1,\n",
       " -1,\n",
       " -1,\n",
       " -1,\n",
       " -1,\n",
       " -1,\n",
       " -1,\n",
       " -1,\n",
       " -1,\n",
       " -1,\n",
       " -1,\n",
       " -1,\n",
       " -1,\n",
       " -1,\n",
       " -1,\n",
       " -1,\n",
       " -1,\n",
       " -1,\n",
       " -1,\n",
       " -1,\n",
       " -1,\n",
       " -1,\n",
       " -1,\n",
       " -1,\n",
       " -1,\n",
       " -1,\n",
       " -1,\n",
       " -1,\n",
       " -1,\n",
       " -1,\n",
       " -1,\n",
       " -1,\n",
       " -1,\n",
       " -1,\n",
       " -1,\n",
       " 2,\n",
       " -1,\n",
       " -1,\n",
       " -1,\n",
       " -1,\n",
       " -1,\n",
       " -1,\n",
       " -1,\n",
       " -1,\n",
       " -1,\n",
       " -1,\n",
       " -1,\n",
       " -1,\n",
       " -1,\n",
       " -1,\n",
       " -1,\n",
       " -1,\n",
       " -1,\n",
       " -1,\n",
       " -1,\n",
       " -1,\n",
       " -1,\n",
       " -1,\n",
       " -1,\n",
       " -1,\n",
       " -1,\n",
       " -1,\n",
       " -1,\n",
       " 2,\n",
       " -1,\n",
       " -1,\n",
       " -1,\n",
       " -1,\n",
       " -1,\n",
       " -1,\n",
       " -1,\n",
       " -1,\n",
       " -1,\n",
       " -1,\n",
       " -1,\n",
       " -1,\n",
       " -1,\n",
       " -1,\n",
       " -1,\n",
       " -1,\n",
       " -1,\n",
       " 2,\n",
       " -1,\n",
       " -1,\n",
       " -1,\n",
       " -1,\n",
       " -1,\n",
       " -1,\n",
       " -1,\n",
       " -1,\n",
       " -1,\n",
       " -1,\n",
       " -1,\n",
       " -1,\n",
       " -1,\n",
       " -1,\n",
       " -1,\n",
       " -1,\n",
       " 2,\n",
       " -1,\n",
       " -1,\n",
       " -1,\n",
       " -1,\n",
       " -1,\n",
       " 0,\n",
       " -1,\n",
       " -1,\n",
       " -1,\n",
       " -1,\n",
       " 1,\n",
       " -1,\n",
       " -1,\n",
       " -1,\n",
       " 1,\n",
       " 2,\n",
       " -1,\n",
       " -1,\n",
       " -1,\n",
       " 3,\n",
       " -1,\n",
       " -1,\n",
       " -1,\n",
       " -1,\n",
       " -1,\n",
       " -1,\n",
       " -1,\n",
       " -1,\n",
       " -1,\n",
       " -1,\n",
       " -1,\n",
       " -1,\n",
       " -1,\n",
       " -1,\n",
       " -1,\n",
       " -1,\n",
       " -1,\n",
       " -1,\n",
       " -1,\n",
       " -1,\n",
       " -1,\n",
       " -1,\n",
       " -1,\n",
       " -1,\n",
       " -1,\n",
       " -1,\n",
       " -1,\n",
       " -1,\n",
       " -1,\n",
       " -1,\n",
       " -1,\n",
       " -1,\n",
       " -1,\n",
       " -1,\n",
       " -1,\n",
       " -1,\n",
       " -1,\n",
       " -1,\n",
       " -1,\n",
       " -1,\n",
       " -1,\n",
       " -1,\n",
       " -1,\n",
       " -1,\n",
       " -1,\n",
       " -1,\n",
       " -1,\n",
       " -1,\n",
       " -1,\n",
       " -1,\n",
       " -1,\n",
       " -1,\n",
       " -1,\n",
       " -1,\n",
       " -1,\n",
       " -1,\n",
       " -1,\n",
       " -1,\n",
       " -1,\n",
       " -1,\n",
       " -1,\n",
       " -1,\n",
       " -1,\n",
       " -1,\n",
       " 1,\n",
       " -1,\n",
       " -1,\n",
       " -1,\n",
       " 0,\n",
       " -1,\n",
       " -1,\n",
       " -1,\n",
       " -1,\n",
       " -1,\n",
       " -1,\n",
       " -1,\n",
       " -1,\n",
       " -1,\n",
       " 3,\n",
       " -1,\n",
       " -1,\n",
       " -1,\n",
       " -1,\n",
       " -1,\n",
       " 2,\n",
       " -1,\n",
       " -1,\n",
       " -1,\n",
       " -1,\n",
       " -1,\n",
       " -1,\n",
       " -1,\n",
       " -1,\n",
       " -1,\n",
       " -1,\n",
       " -1,\n",
       " -1,\n",
       " -1,\n",
       " -1,\n",
       " -1,\n",
       " -1,\n",
       " -1,\n",
       " -1,\n",
       " -1,\n",
       " -1,\n",
       " -1,\n",
       " -1,\n",
       " -1,\n",
       " -1,\n",
       " -1,\n",
       " -1,\n",
       " -1,\n",
       " -1,\n",
       " -1,\n",
       " -1,\n",
       " -1,\n",
       " -1,\n",
       " -1,\n",
       " -1,\n",
       " -1,\n",
       " -1,\n",
       " -1,\n",
       " -1,\n",
       " -1,\n",
       " -1,\n",
       " -1,\n",
       " -1,\n",
       " -1,\n",
       " -1,\n",
       " -1,\n",
       " -1,\n",
       " -1,\n",
       " -1,\n",
       " -1,\n",
       " -1,\n",
       " -1,\n",
       " -1,\n",
       " -1,\n",
       " -1,\n",
       " -1,\n",
       " -1,\n",
       " -1,\n",
       " -1,\n",
       " -1,\n",
       " -1,\n",
       " -1,\n",
       " -1,\n",
       " -1,\n",
       " -1,\n",
       " -1,\n",
       " -1,\n",
       " -1,\n",
       " -1,\n",
       " -1,\n",
       " -1,\n",
       " -1,\n",
       " -1,\n",
       " -1,\n",
       " -1,\n",
       " -1,\n",
       " -1,\n",
       " -1,\n",
       " -1,\n",
       " -1,\n",
       " -1,\n",
       " -1,\n",
       " -1,\n",
       " -1,\n",
       " -1,\n",
       " -1,\n",
       " 0,\n",
       " -1,\n",
       " -1,\n",
       " -1,\n",
       " -1,\n",
       " -1,\n",
       " -1,\n",
       " -1,\n",
       " -1,\n",
       " -1,\n",
       " -1,\n",
       " -1,\n",
       " -1,\n",
       " -1,\n",
       " -1,\n",
       " -1,\n",
       " 3,\n",
       " -1,\n",
       " -1,\n",
       " -1,\n",
       " -1,\n",
       " -1,\n",
       " -1,\n",
       " -1,\n",
       " -1,\n",
       " -1,\n",
       " -1,\n",
       " -1,\n",
       " -1,\n",
       " -1,\n",
       " -1,\n",
       " -1,\n",
       " -1,\n",
       " -1,\n",
       " -1,\n",
       " -1,\n",
       " -1,\n",
       " -1,\n",
       " -1,\n",
       " -1,\n",
       " -1,\n",
       " -1,\n",
       " -1,\n",
       " -1,\n",
       " -1,\n",
       " -1,\n",
       " -1,\n",
       " -1,\n",
       " -1,\n",
       " -1,\n",
       " -1,\n",
       " -1,\n",
       " -1,\n",
       " -1,\n",
       " -1,\n",
       " -1,\n",
       " -1,\n",
       " -1,\n",
       " -1,\n",
       " 1,\n",
       " -1,\n",
       " -1,\n",
       " -1,\n",
       " -1,\n",
       " -1,\n",
       " -1,\n",
       " -1,\n",
       " -1,\n",
       " -1,\n",
       " -1,\n",
       " -1,\n",
       " -1,\n",
       " -1,\n",
       " -1,\n",
       " -1,\n",
       " -1,\n",
       " -1,\n",
       " -1,\n",
       " -1,\n",
       " 2,\n",
       " -1,\n",
       " -1,\n",
       " -1,\n",
       " -1,\n",
       " -1,\n",
       " -1,\n",
       " -1,\n",
       " -1,\n",
       " -1,\n",
       " -1,\n",
       " -1,\n",
       " -1,\n",
       " -1,\n",
       " -1,\n",
       " -1,\n",
       " -1,\n",
       " -1,\n",
       " -1,\n",
       " -1,\n",
       " -1,\n",
       " -1,\n",
       " -1,\n",
       " -1,\n",
       " -1,\n",
       " -1,\n",
       " -1,\n",
       " -1,\n",
       " -1,\n",
       " -1,\n",
       " -1,\n",
       " -1,\n",
       " -1,\n",
       " -1,\n",
       " -1,\n",
       " -1,\n",
       " -1,\n",
       " -1,\n",
       " -1,\n",
       " -1,\n",
       " -1,\n",
       " -1,\n",
       " -1,\n",
       " -1,\n",
       " -1,\n",
       " -1,\n",
       " -1,\n",
       " 3,\n",
       " -1,\n",
       " -1,\n",
       " -1,\n",
       " -1,\n",
       " -1,\n",
       " -1,\n",
       " -1,\n",
       " -1,\n",
       " -1,\n",
       " -1,\n",
       " -1,\n",
       " -1,\n",
       " -1,\n",
       " -1,\n",
       " -1,\n",
       " -1,\n",
       " -1,\n",
       " -1,\n",
       " -1,\n",
       " -1,\n",
       " -1,\n",
       " -1,\n",
       " -1,\n",
       " -1,\n",
       " -1,\n",
       " -1,\n",
       " -1,\n",
       " -1,\n",
       " -1,\n",
       " -1,\n",
       " -1,\n",
       " -1,\n",
       " -1,\n",
       " -1,\n",
       " -1,\n",
       " -1,\n",
       " -1,\n",
       " -1,\n",
       " -1,\n",
       " -1,\n",
       " -1,\n",
       " 1,\n",
       " -1,\n",
       " -1,\n",
       " -1,\n",
       " -1,\n",
       " -1,\n",
       " -1,\n",
       " -1,\n",
       " -1,\n",
       " -1,\n",
       " -1,\n",
       " 1,\n",
       " 2,\n",
       " -1,\n",
       " -1,\n",
       " -1,\n",
       " 1,\n",
       " -1,\n",
       " -1,\n",
       " -1,\n",
       " -1,\n",
       " -1,\n",
       " -1,\n",
       " -1,\n",
       " -1,\n",
       " ...]"
      ]
     },
     "execution_count": 29,
     "metadata": {},
     "output_type": "execute_result"
    }
   ],
   "source": [
    "labels[0].tolist()"
   ]
  },
  {
   "cell_type": "code",
   "execution_count": 14,
   "id": "f711c096",
   "metadata": {
    "ExecuteTime": {
     "end_time": "2021-08-25T13:37:52.896540Z",
     "start_time": "2021-08-25T13:37:52.694682Z"
    }
   },
   "outputs": [],
   "source": [
    "for i in range(len(u_nodes)):\n",
    "    assert(labels[u_nodes[i], v_nodes[i]] == rating_dict[ratings[i]])\n",
    "\n",
    "labels = labels.reshape([-1]) # converting 3000X3000 matrix to 1-d array"
   ]
  },
  {
   "cell_type": "code",
   "execution_count": 18,
   "id": "dcdb94bd",
   "metadata": {
    "ExecuteTime": {
     "end_time": "2021-08-25T12:50:51.945148Z",
     "start_time": "2021-08-25T12:50:51.935154Z"
    }
   },
   "outputs": [
    {
     "data": {
      "text/plain": [
       "(array([-1, -1, -1, ..., -1, -1, -1]), (9000000,))"
      ]
     },
     "execution_count": 18,
     "metadata": {},
     "output_type": "execute_result"
    }
   ],
   "source": [
    "labels,labels.shape "
   ]
  },
  {
   "cell_type": "code",
   "execution_count": 15,
   "id": "e11da53e",
   "metadata": {
    "ExecuteTime": {
     "end_time": "2021-08-25T13:37:56.721103Z",
     "start_time": "2021-08-25T13:37:56.562416Z"
    }
   },
   "outputs": [
    {
     "data": {
      "text/plain": [
       "123202"
      ]
     },
     "execution_count": 15,
     "metadata": {},
     "output_type": "execute_result"
    }
   ],
   "source": [
    "# number of test and validation edges\n",
    "num_train = np.where(Otraining['Otraining'])[0].shape[0] # sames as u_nodes but with 123202 rows... \n",
    "num_train"
   ]
  },
  {
   "cell_type": "code",
   "execution_count": 16,
   "id": "5ff1b5a9",
   "metadata": {
    "ExecuteTime": {
     "end_time": "2021-08-25T13:37:58.370304Z",
     "start_time": "2021-08-25T13:37:58.214007Z"
    }
   },
   "outputs": [
    {
     "data": {
      "text/plain": [
       "array([   0,    0,    0, ..., 2999, 2999, 2999], dtype=int64)"
      ]
     },
     "execution_count": 16,
     "metadata": {},
     "output_type": "execute_result"
    }
   ],
   "source": [
    "num_train_temp = np.where(Otraining['Otraining'])[0]\n",
    "num_train_temp"
   ]
  },
  {
   "cell_type": "code",
   "execution_count": 17,
   "id": "51064b66",
   "metadata": {
    "ExecuteTime": {
     "end_time": "2021-08-25T13:37:59.809112Z",
     "start_time": "2021-08-25T13:37:59.673157Z"
    }
   },
   "outputs": [
    {
     "data": {
      "text/plain": [
       "13689"
      ]
     },
     "execution_count": 17,
     "metadata": {},
     "output_type": "execute_result"
    }
   ],
   "source": [
    "num_test = np.where(Otest['Otest'])[0].shape[0] #same as u_nodes but with 13689 rows...\n",
    "num_test"
   ]
  },
  {
   "cell_type": "code",
   "execution_count": 18,
   "id": "7b7e146d",
   "metadata": {
    "ExecuteTime": {
     "end_time": "2021-08-25T13:38:01.043379Z",
     "start_time": "2021-08-25T13:38:00.888827Z"
    }
   },
   "outputs": [
    {
     "data": {
      "text/plain": [
       "array([   0,    0,    0, ..., 2999, 2999, 2999], dtype=int64)"
      ]
     },
     "execution_count": 18,
     "metadata": {},
     "output_type": "execute_result"
    }
   ],
   "source": [
    "num_test_temp = np.where(Otest['Otest'])[0]\n",
    "num_test_temp"
   ]
  },
  {
   "cell_type": "code",
   "execution_count": 19,
   "id": "ec9c016f",
   "metadata": {
    "ExecuteTime": {
     "end_time": "2021-08-25T13:38:03.131453Z",
     "start_time": "2021-08-25T13:38:03.111449Z"
    }
   },
   "outputs": [
    {
     "data": {
      "text/plain": [
       "24641"
      ]
     },
     "execution_count": 19,
     "metadata": {},
     "output_type": "execute_result"
    }
   ],
   "source": [
    "num_val = int(np.ceil(num_train * 0.2))\n",
    "num_val"
   ]
  },
  {
   "cell_type": "code",
   "execution_count": 20,
   "id": "08ccd0f2",
   "metadata": {
    "ExecuteTime": {
     "end_time": "2021-08-25T13:38:03.835194Z",
     "start_time": "2021-08-25T13:38:03.824234Z"
    }
   },
   "outputs": [
    {
     "data": {
      "text/plain": [
       "98561"
      ]
     },
     "execution_count": 20,
     "metadata": {},
     "output_type": "execute_result"
    }
   ],
   "source": [
    "num_train = num_train - num_val\n",
    "num_train"
   ]
  },
  {
   "cell_type": "code",
   "execution_count": 21,
   "id": "5d379906",
   "metadata": {
    "ExecuteTime": {
     "end_time": "2021-08-25T13:38:06.186429Z",
     "start_time": "2021-08-25T13:38:05.600561Z"
    }
   },
   "outputs": [
    {
     "name": "stdout",
     "output_type": "stream",
     "text": [
      "[[   0   22]\n",
      " [   0   31]\n",
      " [   0   81]\n",
      " ...\n",
      " [2999 2210]\n",
      " [2999 2341]\n",
      " [2999 2469]]\n",
      "[     22      31      81 ... 8999210 8999341 8999469]\n",
      "123202\n"
     ]
    }
   ],
   "source": [
    "#user id : movie id (rating given by a particular user for a particular movie or a set of movies)\n",
    "pairs_nonzero_train = np.array([[u, v] for u, v in zip(np.where(Otraining['Otraining'])[0], np.where(Otraining['Otraining'])[1])])\n",
    "print(pairs_nonzero_train)\n",
    "# user id*number of items+movie id (for e.g. considering first row, 0*3000+22=22)\n",
    "idx_nonzero_train = np.array([u * num_items + v for u, v in pairs_nonzero_train])\n",
    "print(idx_nonzero_train)\n",
    "print(len(idx_nonzero_train))"
   ]
  },
  {
   "cell_type": "code",
   "execution_count": 22,
   "id": "ff712e2f",
   "metadata": {
    "ExecuteTime": {
     "end_time": "2021-08-25T13:38:07.946741Z",
     "start_time": "2021-08-25T13:38:07.591608Z"
    }
   },
   "outputs": [
    {
     "name": "stdout",
     "output_type": "stream",
     "text": [
      "[[   0  104]\n",
      " [   0  192]\n",
      " [   0  335]\n",
      " ...\n",
      " [2999 1390]\n",
      " [2999 1975]\n",
      " [2999 2128]]\n",
      "[    104     192     335 ... 8998390 8998975 8999128]\n",
      "13689\n"
     ]
    }
   ],
   "source": [
    "pairs_nonzero_test = np.array([[u, v] for u, v in zip(np.where(Otest['Otest'])[0], np.where(Otest['Otest'])[1])])\n",
    "print(pairs_nonzero_test)\n",
    "idx_nonzero_test = np.array([u * num_items + v for u, v in pairs_nonzero_test])\n",
    "print(idx_nonzero_test)\n",
    "print(len(idx_nonzero_test))"
   ]
  },
  {
   "cell_type": "code",
   "execution_count": 23,
   "id": "692cf6a7",
   "metadata": {
    "ExecuteTime": {
     "end_time": "2021-08-25T13:38:09.719240Z",
     "start_time": "2021-08-25T13:38:09.689438Z"
    }
   },
   "outputs": [
    {
     "data": {
      "text/plain": [
       "[0,\n",
       " 1,\n",
       " 2,\n",
       " 3,\n",
       " 4,\n",
       " 5,\n",
       " 6,\n",
       " 7,\n",
       " 8,\n",
       " 9,\n",
       " 10,\n",
       " 11,\n",
       " 12,\n",
       " 13,\n",
       " 14,\n",
       " 15,\n",
       " 16,\n",
       " 17,\n",
       " 18,\n",
       " 19,\n",
       " 20,\n",
       " 21,\n",
       " 22,\n",
       " 23,\n",
       " 24,\n",
       " 25,\n",
       " 26,\n",
       " 27,\n",
       " 28,\n",
       " 29,\n",
       " 30,\n",
       " 31,\n",
       " 32,\n",
       " 33,\n",
       " 34,\n",
       " 35,\n",
       " 36,\n",
       " 37,\n",
       " 38,\n",
       " 39,\n",
       " 40,\n",
       " 41,\n",
       " 42,\n",
       " 43,\n",
       " 44,\n",
       " 45,\n",
       " 46,\n",
       " 47,\n",
       " 48,\n",
       " 49,\n",
       " 50,\n",
       " 51,\n",
       " 52,\n",
       " 53,\n",
       " 54,\n",
       " 55,\n",
       " 56,\n",
       " 57,\n",
       " 58,\n",
       " 59,\n",
       " 60,\n",
       " 61,\n",
       " 62,\n",
       " 63,\n",
       " 64,\n",
       " 65,\n",
       " 66,\n",
       " 67,\n",
       " 68,\n",
       " 69,\n",
       " 70,\n",
       " 71,\n",
       " 72,\n",
       " 73,\n",
       " 74,\n",
       " 75,\n",
       " 76,\n",
       " 77,\n",
       " 78,\n",
       " 79,\n",
       " 80,\n",
       " 81,\n",
       " 82,\n",
       " 83,\n",
       " 84,\n",
       " 85,\n",
       " 86,\n",
       " 87,\n",
       " 88,\n",
       " 89,\n",
       " 90,\n",
       " 91,\n",
       " 92,\n",
       " 93,\n",
       " 94,\n",
       " 95,\n",
       " 96,\n",
       " 97,\n",
       " 98,\n",
       " 99,\n",
       " 100,\n",
       " 101,\n",
       " 102,\n",
       " 103,\n",
       " 104,\n",
       " 105,\n",
       " 106,\n",
       " 107,\n",
       " 108,\n",
       " 109,\n",
       " 110,\n",
       " 111,\n",
       " 112,\n",
       " 113,\n",
       " 114,\n",
       " 115,\n",
       " 116,\n",
       " 117,\n",
       " 118,\n",
       " 119,\n",
       " 120,\n",
       " 121,\n",
       " 122,\n",
       " 123,\n",
       " 124,\n",
       " 125,\n",
       " 126,\n",
       " 127,\n",
       " 128,\n",
       " 129,\n",
       " 130,\n",
       " 131,\n",
       " 132,\n",
       " 133,\n",
       " 134,\n",
       " 135,\n",
       " 136,\n",
       " 137,\n",
       " 138,\n",
       " 139,\n",
       " 140,\n",
       " 141,\n",
       " 142,\n",
       " 143,\n",
       " 144,\n",
       " 145,\n",
       " 146,\n",
       " 147,\n",
       " 148,\n",
       " 149,\n",
       " 150,\n",
       " 151,\n",
       " 152,\n",
       " 153,\n",
       " 154,\n",
       " 155,\n",
       " 156,\n",
       " 157,\n",
       " 158,\n",
       " 159,\n",
       " 160,\n",
       " 161,\n",
       " 162,\n",
       " 163,\n",
       " 164,\n",
       " 165,\n",
       " 166,\n",
       " 167,\n",
       " 168,\n",
       " 169,\n",
       " 170,\n",
       " 171,\n",
       " 172,\n",
       " 173,\n",
       " 174,\n",
       " 175,\n",
       " 176,\n",
       " 177,\n",
       " 178,\n",
       " 179,\n",
       " 180,\n",
       " 181,\n",
       " 182,\n",
       " 183,\n",
       " 184,\n",
       " 185,\n",
       " 186,\n",
       " 187,\n",
       " 188,\n",
       " 189,\n",
       " 190,\n",
       " 191,\n",
       " 192,\n",
       " 193,\n",
       " 194,\n",
       " 195,\n",
       " 196,\n",
       " 197,\n",
       " 198,\n",
       " 199,\n",
       " 200,\n",
       " 201,\n",
       " 202,\n",
       " 203,\n",
       " 204,\n",
       " 205,\n",
       " 206,\n",
       " 207,\n",
       " 208,\n",
       " 209,\n",
       " 210,\n",
       " 211,\n",
       " 212,\n",
       " 213,\n",
       " 214,\n",
       " 215,\n",
       " 216,\n",
       " 217,\n",
       " 218,\n",
       " 219,\n",
       " 220,\n",
       " 221,\n",
       " 222,\n",
       " 223,\n",
       " 224,\n",
       " 225,\n",
       " 226,\n",
       " 227,\n",
       " 228,\n",
       " 229,\n",
       " 230,\n",
       " 231,\n",
       " 232,\n",
       " 233,\n",
       " 234,\n",
       " 235,\n",
       " 236,\n",
       " 237,\n",
       " 238,\n",
       " 239,\n",
       " 240,\n",
       " 241,\n",
       " 242,\n",
       " 243,\n",
       " 244,\n",
       " 245,\n",
       " 246,\n",
       " 247,\n",
       " 248,\n",
       " 249,\n",
       " 250,\n",
       " 251,\n",
       " 252,\n",
       " 253,\n",
       " 254,\n",
       " 255,\n",
       " 256,\n",
       " 257,\n",
       " 258,\n",
       " 259,\n",
       " 260,\n",
       " 261,\n",
       " 262,\n",
       " 263,\n",
       " 264,\n",
       " 265,\n",
       " 266,\n",
       " 267,\n",
       " 268,\n",
       " 269,\n",
       " 270,\n",
       " 271,\n",
       " 272,\n",
       " 273,\n",
       " 274,\n",
       " 275,\n",
       " 276,\n",
       " 277,\n",
       " 278,\n",
       " 279,\n",
       " 280,\n",
       " 281,\n",
       " 282,\n",
       " 283,\n",
       " 284,\n",
       " 285,\n",
       " 286,\n",
       " 287,\n",
       " 288,\n",
       " 289,\n",
       " 290,\n",
       " 291,\n",
       " 292,\n",
       " 293,\n",
       " 294,\n",
       " 295,\n",
       " 296,\n",
       " 297,\n",
       " 298,\n",
       " 299,\n",
       " 300,\n",
       " 301,\n",
       " 302,\n",
       " 303,\n",
       " 304,\n",
       " 305,\n",
       " 306,\n",
       " 307,\n",
       " 308,\n",
       " 309,\n",
       " 310,\n",
       " 311,\n",
       " 312,\n",
       " 313,\n",
       " 314,\n",
       " 315,\n",
       " 316,\n",
       " 317,\n",
       " 318,\n",
       " 319,\n",
       " 320,\n",
       " 321,\n",
       " 322,\n",
       " 323,\n",
       " 324,\n",
       " 325,\n",
       " 326,\n",
       " 327,\n",
       " 328,\n",
       " 329,\n",
       " 330,\n",
       " 331,\n",
       " 332,\n",
       " 333,\n",
       " 334,\n",
       " 335,\n",
       " 336,\n",
       " 337,\n",
       " 338,\n",
       " 339,\n",
       " 340,\n",
       " 341,\n",
       " 342,\n",
       " 343,\n",
       " 344,\n",
       " 345,\n",
       " 346,\n",
       " 347,\n",
       " 348,\n",
       " 349,\n",
       " 350,\n",
       " 351,\n",
       " 352,\n",
       " 353,\n",
       " 354,\n",
       " 355,\n",
       " 356,\n",
       " 357,\n",
       " 358,\n",
       " 359,\n",
       " 360,\n",
       " 361,\n",
       " 362,\n",
       " 363,\n",
       " 364,\n",
       " 365,\n",
       " 366,\n",
       " 367,\n",
       " 368,\n",
       " 369,\n",
       " 370,\n",
       " 371,\n",
       " 372,\n",
       " 373,\n",
       " 374,\n",
       " 375,\n",
       " 376,\n",
       " 377,\n",
       " 378,\n",
       " 379,\n",
       " 380,\n",
       " 381,\n",
       " 382,\n",
       " 383,\n",
       " 384,\n",
       " 385,\n",
       " 386,\n",
       " 387,\n",
       " 388,\n",
       " 389,\n",
       " 390,\n",
       " 391,\n",
       " 392,\n",
       " 393,\n",
       " 394,\n",
       " 395,\n",
       " 396,\n",
       " 397,\n",
       " 398,\n",
       " 399,\n",
       " 400,\n",
       " 401,\n",
       " 402,\n",
       " 403,\n",
       " 404,\n",
       " 405,\n",
       " 406,\n",
       " 407,\n",
       " 408,\n",
       " 409,\n",
       " 410,\n",
       " 411,\n",
       " 412,\n",
       " 413,\n",
       " 414,\n",
       " 415,\n",
       " 416,\n",
       " 417,\n",
       " 418,\n",
       " 419,\n",
       " 420,\n",
       " 421,\n",
       " 422,\n",
       " 423,\n",
       " 424,\n",
       " 425,\n",
       " 426,\n",
       " 427,\n",
       " 428,\n",
       " 429,\n",
       " 430,\n",
       " 431,\n",
       " 432,\n",
       " 433,\n",
       " 434,\n",
       " 435,\n",
       " 436,\n",
       " 437,\n",
       " 438,\n",
       " 439,\n",
       " 440,\n",
       " 441,\n",
       " 442,\n",
       " 443,\n",
       " 444,\n",
       " 445,\n",
       " 446,\n",
       " 447,\n",
       " 448,\n",
       " 449,\n",
       " 450,\n",
       " 451,\n",
       " 452,\n",
       " 453,\n",
       " 454,\n",
       " 455,\n",
       " 456,\n",
       " 457,\n",
       " 458,\n",
       " 459,\n",
       " 460,\n",
       " 461,\n",
       " 462,\n",
       " 463,\n",
       " 464,\n",
       " 465,\n",
       " 466,\n",
       " 467,\n",
       " 468,\n",
       " 469,\n",
       " 470,\n",
       " 471,\n",
       " 472,\n",
       " 473,\n",
       " 474,\n",
       " 475,\n",
       " 476,\n",
       " 477,\n",
       " 478,\n",
       " 479,\n",
       " 480,\n",
       " 481,\n",
       " 482,\n",
       " 483,\n",
       " 484,\n",
       " 485,\n",
       " 486,\n",
       " 487,\n",
       " 488,\n",
       " 489,\n",
       " 490,\n",
       " 491,\n",
       " 492,\n",
       " 493,\n",
       " 494,\n",
       " 495,\n",
       " 496,\n",
       " 497,\n",
       " 498,\n",
       " 499,\n",
       " 500,\n",
       " 501,\n",
       " 502,\n",
       " 503,\n",
       " 504,\n",
       " 505,\n",
       " 506,\n",
       " 507,\n",
       " 508,\n",
       " 509,\n",
       " 510,\n",
       " 511,\n",
       " 512,\n",
       " 513,\n",
       " 514,\n",
       " 515,\n",
       " 516,\n",
       " 517,\n",
       " 518,\n",
       " 519,\n",
       " 520,\n",
       " 521,\n",
       " 522,\n",
       " 523,\n",
       " 524,\n",
       " 525,\n",
       " 526,\n",
       " 527,\n",
       " 528,\n",
       " 529,\n",
       " 530,\n",
       " 531,\n",
       " 532,\n",
       " 533,\n",
       " 534,\n",
       " 535,\n",
       " 536,\n",
       " 537,\n",
       " 538,\n",
       " 539,\n",
       " 540,\n",
       " 541,\n",
       " 542,\n",
       " 543,\n",
       " 544,\n",
       " 545,\n",
       " 546,\n",
       " 547,\n",
       " 548,\n",
       " 549,\n",
       " 550,\n",
       " 551,\n",
       " 552,\n",
       " 553,\n",
       " 554,\n",
       " 555,\n",
       " 556,\n",
       " 557,\n",
       " 558,\n",
       " 559,\n",
       " 560,\n",
       " 561,\n",
       " 562,\n",
       " 563,\n",
       " 564,\n",
       " 565,\n",
       " 566,\n",
       " 567,\n",
       " 568,\n",
       " 569,\n",
       " 570,\n",
       " 571,\n",
       " 572,\n",
       " 573,\n",
       " 574,\n",
       " 575,\n",
       " 576,\n",
       " 577,\n",
       " 578,\n",
       " 579,\n",
       " 580,\n",
       " 581,\n",
       " 582,\n",
       " 583,\n",
       " 584,\n",
       " 585,\n",
       " 586,\n",
       " 587,\n",
       " 588,\n",
       " 589,\n",
       " 590,\n",
       " 591,\n",
       " 592,\n",
       " 593,\n",
       " 594,\n",
       " 595,\n",
       " 596,\n",
       " 597,\n",
       " 598,\n",
       " 599,\n",
       " 600,\n",
       " 601,\n",
       " 602,\n",
       " 603,\n",
       " 604,\n",
       " 605,\n",
       " 606,\n",
       " 607,\n",
       " 608,\n",
       " 609,\n",
       " 610,\n",
       " 611,\n",
       " 612,\n",
       " 613,\n",
       " 614,\n",
       " 615,\n",
       " 616,\n",
       " 617,\n",
       " 618,\n",
       " 619,\n",
       " 620,\n",
       " 621,\n",
       " 622,\n",
       " 623,\n",
       " 624,\n",
       " 625,\n",
       " 626,\n",
       " 627,\n",
       " 628,\n",
       " 629,\n",
       " 630,\n",
       " 631,\n",
       " 632,\n",
       " 633,\n",
       " 634,\n",
       " 635,\n",
       " 636,\n",
       " 637,\n",
       " 638,\n",
       " 639,\n",
       " 640,\n",
       " 641,\n",
       " 642,\n",
       " 643,\n",
       " 644,\n",
       " 645,\n",
       " 646,\n",
       " 647,\n",
       " 648,\n",
       " 649,\n",
       " 650,\n",
       " 651,\n",
       " 652,\n",
       " 653,\n",
       " 654,\n",
       " 655,\n",
       " 656,\n",
       " 657,\n",
       " 658,\n",
       " 659,\n",
       " 660,\n",
       " 661,\n",
       " 662,\n",
       " 663,\n",
       " 664,\n",
       " 665,\n",
       " 666,\n",
       " 667,\n",
       " 668,\n",
       " 669,\n",
       " 670,\n",
       " 671,\n",
       " 672,\n",
       " 673,\n",
       " 674,\n",
       " 675,\n",
       " 676,\n",
       " 677,\n",
       " 678,\n",
       " 679,\n",
       " 680,\n",
       " 681,\n",
       " 682,\n",
       " 683,\n",
       " 684,\n",
       " 685,\n",
       " 686,\n",
       " 687,\n",
       " 688,\n",
       " 689,\n",
       " 690,\n",
       " 691,\n",
       " 692,\n",
       " 693,\n",
       " 694,\n",
       " 695,\n",
       " 696,\n",
       " 697,\n",
       " 698,\n",
       " 699,\n",
       " 700,\n",
       " 701,\n",
       " 702,\n",
       " 703,\n",
       " 704,\n",
       " 705,\n",
       " 706,\n",
       " 707,\n",
       " 708,\n",
       " 709,\n",
       " 710,\n",
       " 711,\n",
       " 712,\n",
       " 713,\n",
       " 714,\n",
       " 715,\n",
       " 716,\n",
       " 717,\n",
       " 718,\n",
       " 719,\n",
       " 720,\n",
       " 721,\n",
       " 722,\n",
       " 723,\n",
       " 724,\n",
       " 725,\n",
       " 726,\n",
       " 727,\n",
       " 728,\n",
       " 729,\n",
       " 730,\n",
       " 731,\n",
       " 732,\n",
       " 733,\n",
       " 734,\n",
       " 735,\n",
       " 736,\n",
       " 737,\n",
       " 738,\n",
       " 739,\n",
       " 740,\n",
       " 741,\n",
       " 742,\n",
       " 743,\n",
       " 744,\n",
       " 745,\n",
       " 746,\n",
       " 747,\n",
       " 748,\n",
       " 749,\n",
       " 750,\n",
       " 751,\n",
       " 752,\n",
       " 753,\n",
       " 754,\n",
       " 755,\n",
       " 756,\n",
       " 757,\n",
       " 758,\n",
       " 759,\n",
       " 760,\n",
       " 761,\n",
       " 762,\n",
       " 763,\n",
       " 764,\n",
       " 765,\n",
       " 766,\n",
       " 767,\n",
       " 768,\n",
       " 769,\n",
       " 770,\n",
       " 771,\n",
       " 772,\n",
       " 773,\n",
       " 774,\n",
       " 775,\n",
       " 776,\n",
       " 777,\n",
       " 778,\n",
       " 779,\n",
       " 780,\n",
       " 781,\n",
       " 782,\n",
       " 783,\n",
       " 784,\n",
       " 785,\n",
       " 786,\n",
       " 787,\n",
       " 788,\n",
       " 789,\n",
       " 790,\n",
       " 791,\n",
       " 792,\n",
       " 793,\n",
       " 794,\n",
       " 795,\n",
       " 796,\n",
       " 797,\n",
       " 798,\n",
       " 799,\n",
       " 800,\n",
       " 801,\n",
       " 802,\n",
       " 803,\n",
       " 804,\n",
       " 805,\n",
       " 806,\n",
       " 807,\n",
       " 808,\n",
       " 809,\n",
       " 810,\n",
       " 811,\n",
       " 812,\n",
       " 813,\n",
       " 814,\n",
       " 815,\n",
       " 816,\n",
       " 817,\n",
       " 818,\n",
       " 819,\n",
       " 820,\n",
       " 821,\n",
       " 822,\n",
       " 823,\n",
       " 824,\n",
       " 825,\n",
       " 826,\n",
       " 827,\n",
       " 828,\n",
       " 829,\n",
       " 830,\n",
       " 831,\n",
       " 832,\n",
       " 833,\n",
       " 834,\n",
       " 835,\n",
       " 836,\n",
       " 837,\n",
       " 838,\n",
       " 839,\n",
       " 840,\n",
       " 841,\n",
       " 842,\n",
       " 843,\n",
       " 844,\n",
       " 845,\n",
       " 846,\n",
       " 847,\n",
       " 848,\n",
       " 849,\n",
       " 850,\n",
       " 851,\n",
       " 852,\n",
       " 853,\n",
       " 854,\n",
       " 855,\n",
       " 856,\n",
       " 857,\n",
       " 858,\n",
       " 859,\n",
       " 860,\n",
       " 861,\n",
       " 862,\n",
       " 863,\n",
       " 864,\n",
       " 865,\n",
       " 866,\n",
       " 867,\n",
       " 868,\n",
       " 869,\n",
       " 870,\n",
       " 871,\n",
       " 872,\n",
       " 873,\n",
       " 874,\n",
       " 875,\n",
       " 876,\n",
       " 877,\n",
       " 878,\n",
       " 879,\n",
       " 880,\n",
       " 881,\n",
       " 882,\n",
       " 883,\n",
       " 884,\n",
       " 885,\n",
       " 886,\n",
       " 887,\n",
       " 888,\n",
       " 889,\n",
       " 890,\n",
       " 891,\n",
       " 892,\n",
       " 893,\n",
       " 894,\n",
       " 895,\n",
       " 896,\n",
       " 897,\n",
       " 898,\n",
       " 899,\n",
       " 900,\n",
       " 901,\n",
       " 902,\n",
       " 903,\n",
       " 904,\n",
       " 905,\n",
       " 906,\n",
       " 907,\n",
       " 908,\n",
       " 909,\n",
       " 910,\n",
       " 911,\n",
       " 912,\n",
       " 913,\n",
       " 914,\n",
       " 915,\n",
       " 916,\n",
       " 917,\n",
       " 918,\n",
       " 919,\n",
       " 920,\n",
       " 921,\n",
       " 922,\n",
       " 923,\n",
       " 924,\n",
       " 925,\n",
       " 926,\n",
       " 927,\n",
       " 928,\n",
       " 929,\n",
       " 930,\n",
       " 931,\n",
       " 932,\n",
       " 933,\n",
       " 934,\n",
       " 935,\n",
       " 936,\n",
       " 937,\n",
       " 938,\n",
       " 939,\n",
       " 940,\n",
       " 941,\n",
       " 942,\n",
       " 943,\n",
       " 944,\n",
       " 945,\n",
       " 946,\n",
       " 947,\n",
       " 948,\n",
       " 949,\n",
       " 950,\n",
       " 951,\n",
       " 952,\n",
       " 953,\n",
       " 954,\n",
       " 955,\n",
       " 956,\n",
       " 957,\n",
       " 958,\n",
       " 959,\n",
       " 960,\n",
       " 961,\n",
       " 962,\n",
       " 963,\n",
       " 964,\n",
       " 965,\n",
       " 966,\n",
       " 967,\n",
       " 968,\n",
       " 969,\n",
       " 970,\n",
       " 971,\n",
       " 972,\n",
       " 973,\n",
       " 974,\n",
       " 975,\n",
       " 976,\n",
       " 977,\n",
       " 978,\n",
       " 979,\n",
       " 980,\n",
       " 981,\n",
       " 982,\n",
       " 983,\n",
       " 984,\n",
       " 985,\n",
       " 986,\n",
       " 987,\n",
       " 988,\n",
       " 989,\n",
       " 990,\n",
       " 991,\n",
       " 992,\n",
       " 993,\n",
       " 994,\n",
       " 995,\n",
       " 996,\n",
       " 997,\n",
       " 998,\n",
       " 999,\n",
       " ...]"
      ]
     },
     "execution_count": 23,
     "metadata": {},
     "output_type": "execute_result"
    }
   ],
   "source": [
    "# Internally shuffle training set (before splitting off validation set)...\n",
    "rand_idx = list(range(len(idx_nonzero_train)))\n",
    "rand_idx"
   ]
  },
  {
   "cell_type": "code",
   "execution_count": 28,
   "id": "c4a7f71e",
   "metadata": {
    "ExecuteTime": {
     "end_time": "2021-08-25T12:51:19.654847Z",
     "start_time": "2021-08-25T12:51:19.646849Z"
    }
   },
   "outputs": [
    {
     "name": "stdout",
     "output_type": "stream",
     "text": [
      "123202\n"
     ]
    }
   ],
   "source": [
    "print(len(rand_idx))"
   ]
  },
  {
   "cell_type": "code",
   "execution_count": 24,
   "id": "357eb06d",
   "metadata": {
    "ExecuteTime": {
     "end_time": "2021-08-25T13:38:14.004876Z",
     "start_time": "2021-08-25T13:38:13.975483Z"
    }
   },
   "outputs": [],
   "source": [
    "np.random.seed(42)\n",
    "np.random.shuffle(rand_idx)"
   ]
  },
  {
   "cell_type": "code",
   "execution_count": 25,
   "id": "2f43e946",
   "metadata": {
    "ExecuteTime": {
     "end_time": "2021-08-25T13:38:14.949284Z",
     "start_time": "2021-08-25T13:38:14.882888Z"
    }
   },
   "outputs": [
    {
     "name": "stdout",
     "output_type": "stream",
     "text": [
      "[3207860  738658  936032 ...   53478 1034056 8898464]\n",
      "[[1069  860]\n",
      " [ 246  658]\n",
      " [ 312   32]\n",
      " ...\n",
      " [  17 2478]\n",
      " [ 344 2056]\n",
      " [2966  464]]\n"
     ]
    }
   ],
   "source": [
    "idx_nonzero_train = idx_nonzero_train[rand_idx]\n",
    "print(idx_nonzero_train)\n",
    "pairs_nonzero_train = pairs_nonzero_train[rand_idx]\n",
    "print(pairs_nonzero_train)"
   ]
  },
  {
   "cell_type": "code",
   "execution_count": 26,
   "id": "0c145733",
   "metadata": {
    "ExecuteTime": {
     "end_time": "2021-08-25T13:38:18.068307Z",
     "start_time": "2021-08-25T13:38:18.047625Z"
    }
   },
   "outputs": [],
   "source": [
    "idx_nonzero = np.concatenate([idx_nonzero_train, idx_nonzero_test], axis=0)\n",
    "pairs_nonzero = np.concatenate([pairs_nonzero_train, pairs_nonzero_test], axis=0)"
   ]
  },
  {
   "cell_type": "code",
   "execution_count": 47,
   "id": "4fce7f07",
   "metadata": {
    "ExecuteTime": {
     "end_time": "2021-08-25T10:45:09.568427Z",
     "start_time": "2021-08-25T10:45:09.558352Z"
    }
   },
   "outputs": [
    {
     "data": {
      "text/plain": [
       "((136891,), (136891, 2))"
      ]
     },
     "execution_count": 47,
     "metadata": {},
     "output_type": "execute_result"
    }
   ],
   "source": [
    "idx_nonzero.shape,pairs_nonzero.shape"
   ]
  },
  {
   "cell_type": "code",
   "execution_count": 46,
   "id": "eaef2d29",
   "metadata": {
    "ExecuteTime": {
     "end_time": "2021-08-24T08:17:55.774990Z",
     "start_time": "2021-08-24T08:17:55.769900Z"
    }
   },
   "outputs": [
    {
     "data": {
      "text/plain": [
       "array([3207860,  738658,  936032, ..., 8998390, 8998975, 8999128],\n",
       "      dtype=int64)"
      ]
     },
     "execution_count": 46,
     "metadata": {},
     "output_type": "execute_result"
    }
   ],
   "source": [
    "idx_nonzero"
   ]
  },
  {
   "cell_type": "code",
   "execution_count": 27,
   "id": "f7623291",
   "metadata": {
    "ExecuteTime": {
     "end_time": "2021-08-25T13:38:20.589817Z",
     "start_time": "2021-08-25T13:38:20.576405Z"
    }
   },
   "outputs": [],
   "source": [
    "val_idx = idx_nonzero[0:num_val]\n",
    "train_idx = idx_nonzero[num_val:num_train + num_val]\n",
    "test_idx = idx_nonzero[num_train + num_val:]"
   ]
  },
  {
   "cell_type": "code",
   "execution_count": 49,
   "id": "9e4841dd",
   "metadata": {
    "ExecuteTime": {
     "end_time": "2021-08-25T10:45:51.356363Z",
     "start_time": "2021-08-25T10:45:51.349943Z"
    }
   },
   "outputs": [
    {
     "data": {
      "text/plain": [
       "(array([3207860,  738658,  936032, ..., 7233601, 1735040, 2631585],\n",
       "       dtype=int64),\n",
       " 24641)"
      ]
     },
     "execution_count": 49,
     "metadata": {},
     "output_type": "execute_result"
    }
   ],
   "source": [
    "val_idx,len(val_idx)"
   ]
  },
  {
   "cell_type": "code",
   "execution_count": 50,
   "id": "7dbbbc8e",
   "metadata": {
    "ExecuteTime": {
     "end_time": "2021-08-25T10:45:54.502650Z",
     "start_time": "2021-08-25T10:45:54.484587Z"
    }
   },
   "outputs": [
    {
     "data": {
      "text/plain": [
       "(array([8134121, 4207664, 1732173, ...,   53478, 1034056, 8898464],\n",
       "       dtype=int64),\n",
       " 24641)"
      ]
     },
     "execution_count": 50,
     "metadata": {},
     "output_type": "execute_result"
    }
   ],
   "source": [
    "train_idx,len(val_idx)"
   ]
  },
  {
   "cell_type": "code",
   "execution_count": 51,
   "id": "4e9c4839",
   "metadata": {
    "ExecuteTime": {
     "end_time": "2021-08-25T10:45:55.783794Z",
     "start_time": "2021-08-25T10:45:55.764939Z"
    }
   },
   "outputs": [
    {
     "data": {
      "text/plain": [
       "(array([    104,     192,     335, ..., 8998390, 8998975, 8999128],\n",
       "       dtype=int64),\n",
       " 24641)"
      ]
     },
     "execution_count": 51,
     "metadata": {},
     "output_type": "execute_result"
    }
   ],
   "source": [
    "test_idx,len(val_idx)"
   ]
  },
  {
   "cell_type": "code",
   "execution_count": 28,
   "id": "d4c5c63f",
   "metadata": {
    "ExecuteTime": {
     "end_time": "2021-08-25T13:38:25.117885Z",
     "start_time": "2021-08-25T13:38:25.104328Z"
    }
   },
   "outputs": [],
   "source": [
    "assert(len(test_idx) == num_test)"
   ]
  },
  {
   "cell_type": "code",
   "execution_count": 29,
   "id": "fdb40c43",
   "metadata": {
    "ExecuteTime": {
     "end_time": "2021-08-25T13:38:26.063192Z",
     "start_time": "2021-08-25T13:38:26.046929Z"
    }
   },
   "outputs": [],
   "source": [
    "val_pairs_idx = pairs_nonzero[0:num_val]\n",
    "train_pairs_idx = pairs_nonzero[num_val:num_train + num_val]\n",
    "test_pairs_idx = pairs_nonzero[num_train + num_val:]"
   ]
  },
  {
   "cell_type": "code",
   "execution_count": 54,
   "id": "eae92edb",
   "metadata": {
    "ExecuteTime": {
     "end_time": "2021-08-25T10:46:24.876078Z",
     "start_time": "2021-08-25T10:46:24.869067Z"
    }
   },
   "outputs": [
    {
     "data": {
      "text/plain": [
       "(array([[1069,  860],\n",
       "        [ 246,  658],\n",
       "        [ 312,   32],\n",
       "        ...,\n",
       "        [2411,  601],\n",
       "        [ 578, 1040],\n",
       "        [ 877,  585]], dtype=int64),\n",
       " (24641, 2))"
      ]
     },
     "execution_count": 54,
     "metadata": {},
     "output_type": "execute_result"
    }
   ],
   "source": [
    "val_pairs_idx,val_pairs_idx.shape"
   ]
  },
  {
   "cell_type": "code",
   "execution_count": 55,
   "id": "4981385f",
   "metadata": {
    "ExecuteTime": {
     "end_time": "2021-08-25T10:46:30.901533Z",
     "start_time": "2021-08-25T10:46:30.893026Z"
    }
   },
   "outputs": [
    {
     "data": {
      "text/plain": [
       "(array([[2711, 1121],\n",
       "        [1402, 1664],\n",
       "        [ 577, 1173],\n",
       "        ...,\n",
       "        [  17, 2478],\n",
       "        [ 344, 2056],\n",
       "        [2966,  464]], dtype=int64),\n",
       " (98561, 2))"
      ]
     },
     "execution_count": 55,
     "metadata": {},
     "output_type": "execute_result"
    }
   ],
   "source": [
    "train_pairs_idx,train_pairs_idx.shape"
   ]
  },
  {
   "cell_type": "code",
   "execution_count": 56,
   "id": "3bfad1a1",
   "metadata": {
    "ExecuteTime": {
     "end_time": "2021-08-25T10:46:31.844095Z",
     "start_time": "2021-08-25T10:46:31.828414Z"
    }
   },
   "outputs": [
    {
     "data": {
      "text/plain": [
       "(array([[   0,  104],\n",
       "        [   0,  192],\n",
       "        [   0,  335],\n",
       "        ...,\n",
       "        [2999, 1390],\n",
       "        [2999, 1975],\n",
       "        [2999, 2128]], dtype=int64),\n",
       " (13689, 2))"
      ]
     },
     "execution_count": 56,
     "metadata": {},
     "output_type": "execute_result"
    }
   ],
   "source": [
    "test_pairs_idx,test_pairs_idx.shape"
   ]
  },
  {
   "cell_type": "code",
   "execution_count": 30,
   "id": "8f2f3cf7",
   "metadata": {
    "ExecuteTime": {
     "end_time": "2021-08-25T13:38:30.873066Z",
     "start_time": "2021-08-25T13:38:30.856004Z"
    }
   },
   "outputs": [],
   "source": [
    "u_test_idx, v_test_idx = test_pairs_idx.transpose()\n",
    "u_val_idx, v_val_idx = val_pairs_idx.transpose()\n",
    "u_train_idx, v_train_idx = train_pairs_idx.transpose()"
   ]
  },
  {
   "cell_type": "code",
   "execution_count": 58,
   "id": "01266dc0",
   "metadata": {
    "ExecuteTime": {
     "end_time": "2021-08-25T10:46:58.052182Z",
     "start_time": "2021-08-25T10:46:58.045271Z"
    }
   },
   "outputs": [
    {
     "data": {
      "text/plain": [
       "(array([   0,    0,    0, ..., 2999, 2999, 2999], dtype=int64),\n",
       " array([ 104,  192,  335, ..., 1390, 1975, 2128], dtype=int64))"
      ]
     },
     "execution_count": 58,
     "metadata": {},
     "output_type": "execute_result"
    }
   ],
   "source": [
    "# create labels\n",
    "u_test_idx,v_test_idx"
   ]
  },
  {
   "cell_type": "code",
   "execution_count": 59,
   "id": "d5fd9b65",
   "metadata": {
    "ExecuteTime": {
     "end_time": "2021-08-25T10:47:02.430351Z",
     "start_time": "2021-08-25T10:47:02.421584Z"
    }
   },
   "outputs": [
    {
     "data": {
      "text/plain": [
       "(array([1069,  246,  312, ..., 2411,  578,  877], dtype=int64),\n",
       " array([ 860,  658,   32, ...,  601, 1040,  585], dtype=int64))"
      ]
     },
     "execution_count": 59,
     "metadata": {},
     "output_type": "execute_result"
    }
   ],
   "source": [
    "u_val_idx, v_val_idx"
   ]
  },
  {
   "cell_type": "code",
   "execution_count": 60,
   "id": "5cfcc597",
   "metadata": {
    "ExecuteTime": {
     "end_time": "2021-08-25T10:47:02.834594Z",
     "start_time": "2021-08-25T10:47:02.827109Z"
    }
   },
   "outputs": [
    {
     "data": {
      "text/plain": [
       "(array([2711, 1402,  577, ...,   17,  344, 2966], dtype=int64),\n",
       " (98561,),\n",
       " array([1121, 1664, 1173, ..., 2478, 2056,  464], dtype=int64),\n",
       " (98561,))"
      ]
     },
     "execution_count": 60,
     "metadata": {},
     "output_type": "execute_result"
    }
   ],
   "source": [
    "u_train_idx,u_train_idx.shape, v_train_idx,v_train_idx.shape"
   ]
  },
  {
   "cell_type": "code",
   "execution_count": 31,
   "id": "ec27dbe0",
   "metadata": {
    "ExecuteTime": {
     "end_time": "2021-08-25T13:38:34.107574Z",
     "start_time": "2021-08-25T13:38:34.078836Z"
    }
   },
   "outputs": [],
   "source": [
    "train_labels = labels[train_idx]\n",
    "val_labels = labels[val_idx]\n",
    "test_labels = labels[test_idx]"
   ]
  },
  {
   "cell_type": "code",
   "execution_count": 62,
   "id": "18e0a347",
   "metadata": {
    "ExecuteTime": {
     "end_time": "2021-08-25T10:49:36.327963Z",
     "start_time": "2021-08-25T10:49:36.309508Z"
    }
   },
   "outputs": [
    {
     "data": {
      "text/plain": [
       "(array([4, 3, 2, ..., 4, 2, 3]), (98561,))"
      ]
     },
     "execution_count": 62,
     "metadata": {},
     "output_type": "execute_result"
    }
   ],
   "source": [
    "train_labels,train_labels.shape"
   ]
  },
  {
   "cell_type": "code",
   "execution_count": 63,
   "id": "14d8c394",
   "metadata": {
    "ExecuteTime": {
     "end_time": "2021-08-25T10:49:54.597363Z",
     "start_time": "2021-08-25T10:49:54.584168Z"
    }
   },
   "outputs": [
    {
     "data": {
      "text/plain": [
       "(array([3, 3, 4, ..., 3, 3, 4]), (24641,))"
      ]
     },
     "execution_count": 63,
     "metadata": {},
     "output_type": "execute_result"
    }
   ],
   "source": [
    "val_labels,val_labels.shape"
   ]
  },
  {
   "cell_type": "code",
   "execution_count": 64,
   "id": "56a6af52",
   "metadata": {
    "ExecuteTime": {
     "end_time": "2021-08-25T10:49:58.203678Z",
     "start_time": "2021-08-25T10:49:58.188476Z"
    }
   },
   "outputs": [
    {
     "data": {
      "text/plain": [
       "(array([2, 1, 0, ..., 3, 2, 2]), (13689,))"
      ]
     },
     "execution_count": 64,
     "metadata": {},
     "output_type": "execute_result"
    }
   ],
   "source": [
    "test_labels,test_labels.shape"
   ]
  },
  {
   "cell_type": "code",
   "execution_count": 32,
   "id": "6edcdc3b",
   "metadata": {
    "ExecuteTime": {
     "end_time": "2021-08-25T13:38:37.374159Z",
     "start_time": "2021-08-25T13:38:37.359900Z"
    }
   },
   "outputs": [],
   "source": [
    "u_train_idx = np.hstack([u_train_idx, u_val_idx]) # for e.g. 0,0,0,1,1,1.....2999,2999 but excluding u_test_idx\n",
    "v_train_idx = np.hstack([v_train_idx, v_val_idx]) # for e.g. 102,104.....2854,2957 but excluding v_test_idx\n",
    "train_labels = np.hstack([train_labels, val_labels])# rating for the movies given by the user...\n",
    "# for adjacency matrix construction\n",
    "train_idx = np.hstack([train_idx, val_idx]) # user id*num_items+movie id"
   ]
  },
  {
   "cell_type": "code",
   "execution_count": 67,
   "id": "b01c9ee6",
   "metadata": {
    "ExecuteTime": {
     "end_time": "2021-08-25T10:57:56.877535Z",
     "start_time": "2021-08-25T10:57:56.869910Z"
    }
   },
   "outputs": [
    {
     "data": {
      "text/plain": [
       "(array([2711, 1402,  577, ..., 2411,  578,  877], dtype=int64), (147843,))"
      ]
     },
     "execution_count": 67,
     "metadata": {},
     "output_type": "execute_result"
    }
   ],
   "source": [
    "u_train_idx,u_train_idx.shape"
   ]
  },
  {
   "cell_type": "code",
   "execution_count": 68,
   "id": "80c5f58c",
   "metadata": {
    "ExecuteTime": {
     "end_time": "2021-08-25T10:58:14.375340Z",
     "start_time": "2021-08-25T10:58:14.357777Z"
    }
   },
   "outputs": [
    {
     "data": {
      "text/plain": [
       "(array([1121, 1664, 1173, ...,  601, 1040,  585], dtype=int64), (147843,))"
      ]
     },
     "execution_count": 68,
     "metadata": {},
     "output_type": "execute_result"
    }
   ],
   "source": [
    "v_train_idx,v_train_idx.shape"
   ]
  },
  {
   "cell_type": "code",
   "execution_count": 69,
   "id": "7fb1ef66",
   "metadata": {
    "ExecuteTime": {
     "end_time": "2021-08-25T10:58:16.026791Z",
     "start_time": "2021-08-25T10:58:16.013718Z"
    }
   },
   "outputs": [
    {
     "data": {
      "text/plain": [
       "(array([4, 3, 2, ..., 3, 3, 4]), (147843,))"
      ]
     },
     "execution_count": 69,
     "metadata": {},
     "output_type": "execute_result"
    }
   ],
   "source": [
    "train_labels,train_labels.shape"
   ]
  },
  {
   "cell_type": "code",
   "execution_count": 70,
   "id": "3f072a79",
   "metadata": {
    "ExecuteTime": {
     "end_time": "2021-08-25T10:58:27.674753Z",
     "start_time": "2021-08-25T10:58:27.661676Z"
    }
   },
   "outputs": [
    {
     "data": {
      "text/plain": [
       "(array([8134121, 4207664, 1732173, ..., 7233601, 1735040, 2631585],\n",
       "       dtype=int64),\n",
       " (147843,))"
      ]
     },
     "execution_count": 70,
     "metadata": {},
     "output_type": "execute_result"
    }
   ],
   "source": [
    "train_idx,train_idx.shape"
   ]
  },
  {
   "cell_type": "code",
   "execution_count": 33,
   "id": "0ef518e7",
   "metadata": {
    "ExecuteTime": {
     "end_time": "2021-08-25T13:38:44.895388Z",
     "start_time": "2021-08-25T13:38:44.799259Z"
    }
   },
   "outputs": [],
   "source": [
    "# make training adjacency matrix\n",
    "import scipy.sparse as sp\n",
    "rating_mx_train = np.zeros(num_users * num_items, dtype=np.float32)"
   ]
  },
  {
   "cell_type": "code",
   "execution_count": 37,
   "id": "0dd6381a",
   "metadata": {
    "ExecuteTime": {
     "end_time": "2021-08-25T13:34:09.986001Z",
     "start_time": "2021-08-25T13:34:09.968756Z"
    }
   },
   "outputs": [
    {
     "data": {
      "text/plain": [
       "(array([0., 0., 0., ..., 0., 0., 0.], dtype=float32), (9000000,))"
      ]
     },
     "execution_count": 37,
     "metadata": {},
     "output_type": "execute_result"
    }
   ],
   "source": [
    "rating_mx_train,rating_mx_train.shape"
   ]
  },
  {
   "cell_type": "code",
   "execution_count": 34,
   "id": "e5617023",
   "metadata": {
    "ExecuteTime": {
     "end_time": "2021-08-25T13:38:50.127666Z",
     "start_time": "2021-08-25T13:38:50.097478Z"
    }
   },
   "outputs": [],
   "source": [
    "rating_mx_train[train_idx] = labels[train_idx].astype(np.float32) + 1."
   ]
  },
  {
   "cell_type": "code",
   "execution_count": 41,
   "id": "eac0420e",
   "metadata": {
    "ExecuteTime": {
     "end_time": "2021-08-25T12:52:06.791229Z",
     "start_time": "2021-08-25T12:52:06.785233Z"
    }
   },
   "outputs": [
    {
     "data": {
      "text/plain": [
       "(array([0., 0., 0., ..., 0., 0., 0.], dtype=float32), (9000000,))"
      ]
     },
     "execution_count": 41,
     "metadata": {},
     "output_type": "execute_result"
    }
   ],
   "source": [
    "rating_mx_train,rating_mx_train.shape"
   ]
  },
  {
   "cell_type": "code",
   "execution_count": 75,
   "id": "a87a6c00",
   "metadata": {
    "ExecuteTime": {
     "end_time": "2021-08-25T10:59:49.239248Z",
     "start_time": "2021-08-25T10:59:48.926069Z"
    }
   },
   "outputs": [
    {
     "data": {
      "text/plain": [
       "[0.0,\n",
       " 0.0,\n",
       " 0.0,\n",
       " 0.0,\n",
       " 0.0,\n",
       " 0.0,\n",
       " 0.0,\n",
       " 0.0,\n",
       " 0.0,\n",
       " 0.0,\n",
       " 0.0,\n",
       " 0.0,\n",
       " 0.0,\n",
       " 0.0,\n",
       " 0.0,\n",
       " 0.0,\n",
       " 0.0,\n",
       " 0.0,\n",
       " 0.0,\n",
       " 0.0,\n",
       " 0.0,\n",
       " 0.0,\n",
       " 4.0,\n",
       " 0.0,\n",
       " 0.0,\n",
       " 0.0,\n",
       " 0.0,\n",
       " 0.0,\n",
       " 0.0,\n",
       " 0.0,\n",
       " 0.0,\n",
       " 2.0,\n",
       " 0.0,\n",
       " 0.0,\n",
       " 0.0,\n",
       " 0.0,\n",
       " 0.0,\n",
       " 0.0,\n",
       " 0.0,\n",
       " 0.0,\n",
       " 0.0,\n",
       " 0.0,\n",
       " 0.0,\n",
       " 0.0,\n",
       " 0.0,\n",
       " 0.0,\n",
       " 0.0,\n",
       " 0.0,\n",
       " 0.0,\n",
       " 0.0,\n",
       " 0.0,\n",
       " 0.0,\n",
       " 0.0,\n",
       " 0.0,\n",
       " 0.0,\n",
       " 0.0,\n",
       " 0.0,\n",
       " 0.0,\n",
       " 0.0,\n",
       " 0.0,\n",
       " 0.0,\n",
       " 0.0,\n",
       " 0.0,\n",
       " 0.0,\n",
       " 0.0,\n",
       " 0.0,\n",
       " 0.0,\n",
       " 0.0,\n",
       " 0.0,\n",
       " 0.0,\n",
       " 0.0,\n",
       " 0.0,\n",
       " 0.0,\n",
       " 0.0,\n",
       " 0.0,\n",
       " 0.0,\n",
       " 0.0,\n",
       " 0.0,\n",
       " 0.0,\n",
       " 0.0,\n",
       " 0.0,\n",
       " 1.0,\n",
       " 0.0,\n",
       " 0.0,\n",
       " 0.0,\n",
       " 0.0,\n",
       " 0.0,\n",
       " 0.0,\n",
       " 0.0,\n",
       " 0.0,\n",
       " 0.0,\n",
       " 0.0,\n",
       " 0.0,\n",
       " 0.0,\n",
       " 0.0,\n",
       " 0.0,\n",
       " 0.0,\n",
       " 0.0,\n",
       " 0.0,\n",
       " 0.0,\n",
       " 0.0,\n",
       " 0.0,\n",
       " 0.0,\n",
       " 0.0,\n",
       " 0.0,\n",
       " 0.0,\n",
       " 0.0,\n",
       " 0.0,\n",
       " 0.0,\n",
       " 0.0,\n",
       " 0.0,\n",
       " 0.0,\n",
       " 0.0,\n",
       " 0.0,\n",
       " 0.0,\n",
       " 0.0,\n",
       " 0.0,\n",
       " 0.0,\n",
       " 0.0,\n",
       " 3.0,\n",
       " 0.0,\n",
       " 0.0,\n",
       " 0.0,\n",
       " 0.0,\n",
       " 0.0,\n",
       " 0.0,\n",
       " 0.0,\n",
       " 0.0,\n",
       " 0.0,\n",
       " 0.0,\n",
       " 0.0,\n",
       " 0.0,\n",
       " 0.0,\n",
       " 0.0,\n",
       " 0.0,\n",
       " 0.0,\n",
       " 0.0,\n",
       " 0.0,\n",
       " 0.0,\n",
       " 0.0,\n",
       " 0.0,\n",
       " 0.0,\n",
       " 0.0,\n",
       " 0.0,\n",
       " 0.0,\n",
       " 0.0,\n",
       " 0.0,\n",
       " 0.0,\n",
       " 0.0,\n",
       " 0.0,\n",
       " 0.0,\n",
       " 0.0,\n",
       " 0.0,\n",
       " 0.0,\n",
       " 0.0,\n",
       " 0.0,\n",
       " 0.0,\n",
       " 0.0,\n",
       " 0.0,\n",
       " 0.0,\n",
       " 0.0,\n",
       " 0.0,\n",
       " 0.0,\n",
       " 0.0,\n",
       " 0.0,\n",
       " 0.0,\n",
       " 0.0,\n",
       " 0.0,\n",
       " 0.0,\n",
       " 0.0,\n",
       " 2.0,\n",
       " 0.0,\n",
       " 0.0,\n",
       " 0.0,\n",
       " 0.0,\n",
       " 0.0,\n",
       " 0.0,\n",
       " 0.0,\n",
       " 0.0,\n",
       " 0.0,\n",
       " 0.0,\n",
       " 0.0,\n",
       " 0.0,\n",
       " 0.0,\n",
       " 0.0,\n",
       " 0.0,\n",
       " 0.0,\n",
       " 0.0,\n",
       " 0.0,\n",
       " 0.0,\n",
       " 0.0,\n",
       " 0.0,\n",
       " 0.0,\n",
       " 0.0,\n",
       " 0.0,\n",
       " 0.0,\n",
       " 0.0,\n",
       " 0.0,\n",
       " 0.0,\n",
       " 0.0,\n",
       " 0.0,\n",
       " 0.0,\n",
       " 0.0,\n",
       " 0.0,\n",
       " 0.0,\n",
       " 0.0,\n",
       " 0.0,\n",
       " 0.0,\n",
       " 0.0,\n",
       " 0.0,\n",
       " 0.0,\n",
       " 0.0,\n",
       " 0.0,\n",
       " 0.0,\n",
       " 0.0,\n",
       " 0.0,\n",
       " 0.0,\n",
       " 0.0,\n",
       " 0.0,\n",
       " 0.0,\n",
       " 0.0,\n",
       " 0.0,\n",
       " 0.0,\n",
       " 0.0,\n",
       " 0.0,\n",
       " 0.0,\n",
       " 0.0,\n",
       " 0.0,\n",
       " 0.0,\n",
       " 0.0,\n",
       " 0.0,\n",
       " 0.0,\n",
       " 0.0,\n",
       " 0.0,\n",
       " 0.0,\n",
       " 0.0,\n",
       " 0.0,\n",
       " 0.0,\n",
       " 0.0,\n",
       " 0.0,\n",
       " 0.0,\n",
       " 0.0,\n",
       " 0.0,\n",
       " 0.0,\n",
       " 0.0,\n",
       " 0.0,\n",
       " 0.0,\n",
       " 0.0,\n",
       " 0.0,\n",
       " 2.0,\n",
       " 0.0,\n",
       " 0.0,\n",
       " 0.0,\n",
       " 0.0,\n",
       " 0.0,\n",
       " 0.0,\n",
       " 0.0,\n",
       " 0.0,\n",
       " 0.0,\n",
       " 0.0,\n",
       " 0.0,\n",
       " 0.0,\n",
       " 0.0,\n",
       " 0.0,\n",
       " 0.0,\n",
       " 0.0,\n",
       " 0.0,\n",
       " 0.0,\n",
       " 0.0,\n",
       " 5.0,\n",
       " 0.0,\n",
       " 0.0,\n",
       " 0.0,\n",
       " 0.0,\n",
       " 0.0,\n",
       " 0.0,\n",
       " 0.0,\n",
       " 0.0,\n",
       " 0.0,\n",
       " 0.0,\n",
       " 0.0,\n",
       " 0.0,\n",
       " 0.0,\n",
       " 0.0,\n",
       " 0.0,\n",
       " 0.0,\n",
       " 0.0,\n",
       " 0.0,\n",
       " 0.0,\n",
       " 0.0,\n",
       " 0.0,\n",
       " 0.0,\n",
       " 0.0,\n",
       " 0.0,\n",
       " 0.0,\n",
       " 0.0,\n",
       " 0.0,\n",
       " 0.0,\n",
       " 0.0,\n",
       " 0.0,\n",
       " 0.0,\n",
       " 0.0,\n",
       " 0.0,\n",
       " 0.0,\n",
       " 0.0,\n",
       " 0.0,\n",
       " 0.0,\n",
       " 0.0,\n",
       " 0.0,\n",
       " 0.0,\n",
       " 0.0,\n",
       " 0.0,\n",
       " 0.0,\n",
       " 0.0,\n",
       " 0.0,\n",
       " 0.0,\n",
       " 0.0,\n",
       " 0.0,\n",
       " 0.0,\n",
       " 0.0,\n",
       " 0.0,\n",
       " 0.0,\n",
       " 0.0,\n",
       " 0.0,\n",
       " 0.0,\n",
       " 0.0,\n",
       " 0.0,\n",
       " 0.0,\n",
       " 0.0,\n",
       " 0.0,\n",
       " 0.0,\n",
       " 0.0,\n",
       " 0.0,\n",
       " 0.0,\n",
       " 0.0,\n",
       " 0.0,\n",
       " 0.0,\n",
       " 0.0,\n",
       " 0.0,\n",
       " 0.0,\n",
       " 0.0,\n",
       " 0.0,\n",
       " 0.0,\n",
       " 0.0,\n",
       " 0.0,\n",
       " 0.0,\n",
       " 0.0,\n",
       " 0.0,\n",
       " 0.0,\n",
       " 0.0,\n",
       " 0.0,\n",
       " 0.0,\n",
       " 0.0,\n",
       " 0.0,\n",
       " 0.0,\n",
       " 0.0,\n",
       " 0.0,\n",
       " 0.0,\n",
       " 0.0,\n",
       " 0.0,\n",
       " 0.0,\n",
       " 0.0,\n",
       " 0.0,\n",
       " 0.0,\n",
       " 0.0,\n",
       " 0.0,\n",
       " 0.0,\n",
       " 0.0,\n",
       " 0.0,\n",
       " 0.0,\n",
       " 0.0,\n",
       " 0.0,\n",
       " 0.0,\n",
       " 0.0,\n",
       " 0.0,\n",
       " 0.0,\n",
       " 0.0,\n",
       " 0.0,\n",
       " 0.0,\n",
       " 0.0,\n",
       " 0.0,\n",
       " 0.0,\n",
       " 0.0,\n",
       " 0.0,\n",
       " 0.0,\n",
       " 0.0,\n",
       " 0.0,\n",
       " 0.0,\n",
       " 0.0,\n",
       " 0.0,\n",
       " 0.0,\n",
       " 0.0,\n",
       " 0.0,\n",
       " 0.0,\n",
       " 0.0,\n",
       " 0.0,\n",
       " 0.0,\n",
       " 0.0,\n",
       " 0.0,\n",
       " 0.0,\n",
       " 0.0,\n",
       " 0.0,\n",
       " 0.0,\n",
       " 0.0,\n",
       " 0.0,\n",
       " 0.0,\n",
       " 0.0,\n",
       " 0.0,\n",
       " 0.0,\n",
       " 0.0,\n",
       " 3.0,\n",
       " 0.0,\n",
       " 0.0,\n",
       " 0.0,\n",
       " 0.0,\n",
       " 0.0,\n",
       " 0.0,\n",
       " 0.0,\n",
       " 0.0,\n",
       " 0.0,\n",
       " 0.0,\n",
       " 0.0,\n",
       " 0.0,\n",
       " 0.0,\n",
       " 0.0,\n",
       " 0.0,\n",
       " 0.0,\n",
       " 0.0,\n",
       " 0.0,\n",
       " 0.0,\n",
       " 0.0,\n",
       " 0.0,\n",
       " 0.0,\n",
       " 0.0,\n",
       " 0.0,\n",
       " 0.0,\n",
       " 0.0,\n",
       " 0.0,\n",
       " 0.0,\n",
       " 0.0,\n",
       " 0.0,\n",
       " 0.0,\n",
       " 0.0,\n",
       " 0.0,\n",
       " 0.0,\n",
       " 0.0,\n",
       " 0.0,\n",
       " 0.0,\n",
       " 0.0,\n",
       " 0.0,\n",
       " 0.0,\n",
       " 0.0,\n",
       " 0.0,\n",
       " 0.0,\n",
       " 0.0,\n",
       " 0.0,\n",
       " 0.0,\n",
       " 0.0,\n",
       " 0.0,\n",
       " 0.0,\n",
       " 0.0,\n",
       " 0.0,\n",
       " 0.0,\n",
       " 0.0,\n",
       " 0.0,\n",
       " 0.0,\n",
       " 0.0,\n",
       " 0.0,\n",
       " 0.0,\n",
       " 0.0,\n",
       " 0.0,\n",
       " 0.0,\n",
       " 0.0,\n",
       " 0.0,\n",
       " 0.0,\n",
       " 0.0,\n",
       " 0.0,\n",
       " 0.0,\n",
       " 0.0,\n",
       " 0.0,\n",
       " 0.0,\n",
       " 0.0,\n",
       " 0.0,\n",
       " 0.0,\n",
       " 0.0,\n",
       " 0.0,\n",
       " 0.0,\n",
       " 0.0,\n",
       " 0.0,\n",
       " 0.0,\n",
       " 0.0,\n",
       " 4.0,\n",
       " 0.0,\n",
       " 0.0,\n",
       " 0.0,\n",
       " 0.0,\n",
       " 0.0,\n",
       " 0.0,\n",
       " 0.0,\n",
       " 0.0,\n",
       " 0.0,\n",
       " 0.0,\n",
       " 0.0,\n",
       " 0.0,\n",
       " 0.0,\n",
       " 0.0,\n",
       " 0.0,\n",
       " 0.0,\n",
       " 0.0,\n",
       " 0.0,\n",
       " 0.0,\n",
       " 0.0,\n",
       " 0.0,\n",
       " 0.0,\n",
       " 0.0,\n",
       " 0.0,\n",
       " 0.0,\n",
       " 0.0,\n",
       " 0.0,\n",
       " 0.0,\n",
       " 0.0,\n",
       " 0.0,\n",
       " 0.0,\n",
       " 0.0,\n",
       " 0.0,\n",
       " 0.0,\n",
       " 0.0,\n",
       " 0.0,\n",
       " 0.0,\n",
       " 0.0,\n",
       " 0.0,\n",
       " 0.0,\n",
       " 0.0,\n",
       " 0.0,\n",
       " 0.0,\n",
       " 0.0,\n",
       " 0.0,\n",
       " 0.0,\n",
       " 0.0,\n",
       " 0.0,\n",
       " 0.0,\n",
       " 0.0,\n",
       " 0.0,\n",
       " 0.0,\n",
       " 0.0,\n",
       " 0.0,\n",
       " 0.0,\n",
       " 0.0,\n",
       " 0.0,\n",
       " 0.0,\n",
       " 0.0,\n",
       " 0.0,\n",
       " 0.0,\n",
       " 3.0,\n",
       " 0.0,\n",
       " 0.0,\n",
       " 0.0,\n",
       " 0.0,\n",
       " 0.0,\n",
       " 0.0,\n",
       " 0.0,\n",
       " 0.0,\n",
       " 0.0,\n",
       " 0.0,\n",
       " 0.0,\n",
       " 0.0,\n",
       " 0.0,\n",
       " 0.0,\n",
       " 0.0,\n",
       " 0.0,\n",
       " 0.0,\n",
       " 0.0,\n",
       " 0.0,\n",
       " 0.0,\n",
       " 0.0,\n",
       " 0.0,\n",
       " 0.0,\n",
       " 0.0,\n",
       " 0.0,\n",
       " 0.0,\n",
       " 0.0,\n",
       " 3.0,\n",
       " 0.0,\n",
       " 0.0,\n",
       " 0.0,\n",
       " 0.0,\n",
       " 0.0,\n",
       " 0.0,\n",
       " 0.0,\n",
       " 0.0,\n",
       " 0.0,\n",
       " 0.0,\n",
       " 0.0,\n",
       " 0.0,\n",
       " 0.0,\n",
       " 0.0,\n",
       " 0.0,\n",
       " 0.0,\n",
       " 0.0,\n",
       " 3.0,\n",
       " 0.0,\n",
       " 0.0,\n",
       " 0.0,\n",
       " 0.0,\n",
       " 0.0,\n",
       " 0.0,\n",
       " 0.0,\n",
       " 0.0,\n",
       " 0.0,\n",
       " 0.0,\n",
       " 0.0,\n",
       " 0.0,\n",
       " 0.0,\n",
       " 0.0,\n",
       " 0.0,\n",
       " 0.0,\n",
       " 0.0,\n",
       " 0.0,\n",
       " 0.0,\n",
       " 0.0,\n",
       " 0.0,\n",
       " 0.0,\n",
       " 1.0,\n",
       " 0.0,\n",
       " 0.0,\n",
       " 0.0,\n",
       " 0.0,\n",
       " 2.0,\n",
       " 0.0,\n",
       " 0.0,\n",
       " 0.0,\n",
       " 2.0,\n",
       " 3.0,\n",
       " 0.0,\n",
       " 0.0,\n",
       " 0.0,\n",
       " 4.0,\n",
       " 0.0,\n",
       " 0.0,\n",
       " 0.0,\n",
       " 0.0,\n",
       " 0.0,\n",
       " 0.0,\n",
       " 0.0,\n",
       " 0.0,\n",
       " 0.0,\n",
       " 0.0,\n",
       " 0.0,\n",
       " 0.0,\n",
       " 0.0,\n",
       " 0.0,\n",
       " 0.0,\n",
       " 0.0,\n",
       " 0.0,\n",
       " 0.0,\n",
       " 0.0,\n",
       " 0.0,\n",
       " 0.0,\n",
       " 0.0,\n",
       " 0.0,\n",
       " 0.0,\n",
       " 0.0,\n",
       " 0.0,\n",
       " 0.0,\n",
       " 0.0,\n",
       " 0.0,\n",
       " 0.0,\n",
       " 0.0,\n",
       " 0.0,\n",
       " 0.0,\n",
       " 0.0,\n",
       " 0.0,\n",
       " 0.0,\n",
       " 0.0,\n",
       " 0.0,\n",
       " 0.0,\n",
       " 0.0,\n",
       " 0.0,\n",
       " 0.0,\n",
       " 0.0,\n",
       " 0.0,\n",
       " 0.0,\n",
       " 0.0,\n",
       " 0.0,\n",
       " 0.0,\n",
       " 0.0,\n",
       " 0.0,\n",
       " 0.0,\n",
       " 0.0,\n",
       " 0.0,\n",
       " 0.0,\n",
       " 0.0,\n",
       " 0.0,\n",
       " 0.0,\n",
       " 0.0,\n",
       " 0.0,\n",
       " 0.0,\n",
       " 0.0,\n",
       " 0.0,\n",
       " 0.0,\n",
       " 0.0,\n",
       " 2.0,\n",
       " 0.0,\n",
       " 0.0,\n",
       " 0.0,\n",
       " 1.0,\n",
       " 0.0,\n",
       " 0.0,\n",
       " 0.0,\n",
       " 0.0,\n",
       " 0.0,\n",
       " 0.0,\n",
       " 0.0,\n",
       " 0.0,\n",
       " 0.0,\n",
       " 0.0,\n",
       " 0.0,\n",
       " 0.0,\n",
       " 0.0,\n",
       " 0.0,\n",
       " 0.0,\n",
       " 3.0,\n",
       " 0.0,\n",
       " 0.0,\n",
       " 0.0,\n",
       " 0.0,\n",
       " 0.0,\n",
       " 0.0,\n",
       " 0.0,\n",
       " 0.0,\n",
       " 0.0,\n",
       " 0.0,\n",
       " 0.0,\n",
       " 0.0,\n",
       " 0.0,\n",
       " 0.0,\n",
       " 0.0,\n",
       " 0.0,\n",
       " 0.0,\n",
       " 0.0,\n",
       " 0.0,\n",
       " 0.0,\n",
       " 0.0,\n",
       " 0.0,\n",
       " 0.0,\n",
       " 0.0,\n",
       " 0.0,\n",
       " 0.0,\n",
       " 0.0,\n",
       " 0.0,\n",
       " 0.0,\n",
       " 0.0,\n",
       " 0.0,\n",
       " 0.0,\n",
       " 0.0,\n",
       " 0.0,\n",
       " 0.0,\n",
       " 0.0,\n",
       " 0.0,\n",
       " 0.0,\n",
       " 0.0,\n",
       " 0.0,\n",
       " 0.0,\n",
       " 0.0,\n",
       " 0.0,\n",
       " 0.0,\n",
       " 0.0,\n",
       " 0.0,\n",
       " 0.0,\n",
       " 0.0,\n",
       " 0.0,\n",
       " 0.0,\n",
       " 0.0,\n",
       " 0.0,\n",
       " 0.0,\n",
       " 0.0,\n",
       " 0.0,\n",
       " 0.0,\n",
       " 0.0,\n",
       " 0.0,\n",
       " 0.0,\n",
       " 0.0,\n",
       " 0.0,\n",
       " 0.0,\n",
       " 0.0,\n",
       " 0.0,\n",
       " 0.0,\n",
       " 0.0,\n",
       " 0.0,\n",
       " 0.0,\n",
       " 0.0,\n",
       " 0.0,\n",
       " 0.0,\n",
       " 0.0,\n",
       " 0.0,\n",
       " 0.0,\n",
       " 0.0,\n",
       " 0.0,\n",
       " 0.0,\n",
       " 0.0,\n",
       " 0.0,\n",
       " 0.0,\n",
       " 0.0,\n",
       " 0.0,\n",
       " 0.0,\n",
       " 0.0,\n",
       " 0.0,\n",
       " 1.0,\n",
       " 0.0,\n",
       " 0.0,\n",
       " 0.0,\n",
       " 0.0,\n",
       " 0.0,\n",
       " 0.0,\n",
       " 0.0,\n",
       " 0.0,\n",
       " 0.0,\n",
       " 0.0,\n",
       " 0.0,\n",
       " 0.0,\n",
       " 0.0,\n",
       " 0.0,\n",
       " 0.0,\n",
       " 4.0,\n",
       " 0.0,\n",
       " 0.0,\n",
       " 0.0,\n",
       " 0.0,\n",
       " 0.0,\n",
       " 0.0,\n",
       " 0.0,\n",
       " 0.0,\n",
       " 0.0,\n",
       " 0.0,\n",
       " 0.0,\n",
       " 0.0,\n",
       " 0.0,\n",
       " 0.0,\n",
       " 0.0,\n",
       " 0.0,\n",
       " 0.0,\n",
       " 0.0,\n",
       " 0.0,\n",
       " 0.0,\n",
       " 0.0,\n",
       " 0.0,\n",
       " 0.0,\n",
       " 0.0,\n",
       " 0.0,\n",
       " 0.0,\n",
       " 0.0,\n",
       " 0.0,\n",
       " 0.0,\n",
       " 0.0,\n",
       " 0.0,\n",
       " 0.0,\n",
       " 0.0,\n",
       " 0.0,\n",
       " 0.0,\n",
       " 0.0,\n",
       " 0.0,\n",
       " 0.0,\n",
       " 0.0,\n",
       " 0.0,\n",
       " 0.0,\n",
       " 0.0,\n",
       " 2.0,\n",
       " 0.0,\n",
       " 0.0,\n",
       " 0.0,\n",
       " 0.0,\n",
       " 0.0,\n",
       " 0.0,\n",
       " 0.0,\n",
       " 0.0,\n",
       " 0.0,\n",
       " 0.0,\n",
       " 0.0,\n",
       " 0.0,\n",
       " 0.0,\n",
       " 0.0,\n",
       " 0.0,\n",
       " 0.0,\n",
       " 0.0,\n",
       " 0.0,\n",
       " 0.0,\n",
       " 3.0,\n",
       " 0.0,\n",
       " 0.0,\n",
       " 0.0,\n",
       " 0.0,\n",
       " 0.0,\n",
       " 0.0,\n",
       " 0.0,\n",
       " 0.0,\n",
       " 0.0,\n",
       " 0.0,\n",
       " 0.0,\n",
       " 0.0,\n",
       " 0.0,\n",
       " 0.0,\n",
       " 0.0,\n",
       " 0.0,\n",
       " 0.0,\n",
       " 0.0,\n",
       " 0.0,\n",
       " 0.0,\n",
       " 0.0,\n",
       " 0.0,\n",
       " 0.0,\n",
       " 0.0,\n",
       " 0.0,\n",
       " 0.0,\n",
       " 0.0,\n",
       " 0.0,\n",
       " 0.0,\n",
       " 0.0,\n",
       " 0.0,\n",
       " 0.0,\n",
       " 0.0,\n",
       " 0.0,\n",
       " 0.0,\n",
       " 0.0,\n",
       " 0.0,\n",
       " 0.0,\n",
       " 0.0,\n",
       " 0.0,\n",
       " 0.0,\n",
       " 0.0,\n",
       " 0.0,\n",
       " 0.0,\n",
       " 0.0,\n",
       " 0.0,\n",
       " 4.0,\n",
       " 0.0,\n",
       " 0.0,\n",
       " 0.0,\n",
       " 0.0,\n",
       " 0.0,\n",
       " 0.0,\n",
       " 0.0,\n",
       " 0.0,\n",
       " 0.0,\n",
       " 0.0,\n",
       " 0.0,\n",
       " 0.0,\n",
       " 0.0,\n",
       " 0.0,\n",
       " 0.0,\n",
       " 0.0,\n",
       " 0.0,\n",
       " 0.0,\n",
       " 0.0,\n",
       " 0.0,\n",
       " 0.0,\n",
       " 0.0,\n",
       " 0.0,\n",
       " 0.0,\n",
       " 0.0,\n",
       " 0.0,\n",
       " 0.0,\n",
       " 0.0,\n",
       " 0.0,\n",
       " 0.0,\n",
       " 0.0,\n",
       " 0.0,\n",
       " 0.0,\n",
       " 0.0,\n",
       " 0.0,\n",
       " 0.0,\n",
       " 0.0,\n",
       " 0.0,\n",
       " 0.0,\n",
       " 0.0,\n",
       " 0.0,\n",
       " 2.0,\n",
       " 0.0,\n",
       " 0.0,\n",
       " 0.0,\n",
       " 0.0,\n",
       " 0.0,\n",
       " 0.0,\n",
       " 0.0,\n",
       " 0.0,\n",
       " 0.0,\n",
       " 0.0,\n",
       " 2.0,\n",
       " 3.0,\n",
       " 0.0,\n",
       " 0.0,\n",
       " 0.0,\n",
       " 2.0,\n",
       " 0.0,\n",
       " 0.0,\n",
       " 0.0,\n",
       " 0.0,\n",
       " 0.0,\n",
       " 0.0,\n",
       " 0.0,\n",
       " 0.0,\n",
       " ...]"
      ]
     },
     "execution_count": 75,
     "metadata": {},
     "output_type": "execute_result"
    }
   ],
   "source": [
    "rating_mx_train.tolist()"
   ]
  },
  {
   "cell_type": "code",
   "execution_count": 35,
   "id": "41d270d9",
   "metadata": {
    "ExecuteTime": {
     "end_time": "2021-08-25T13:38:56.855570Z",
     "start_time": "2021-08-25T13:38:56.751029Z"
    }
   },
   "outputs": [],
   "source": [
    "rating_mx_train = sp.csr_matrix(rating_mx_train.reshape(num_users, num_items)) #reshaping to 3000X3000 matrix..."
   ]
  },
  {
   "cell_type": "code",
   "execution_count": 36,
   "id": "cd0aea39",
   "metadata": {
    "ExecuteTime": {
     "end_time": "2021-08-25T13:38:57.698385Z",
     "start_time": "2021-08-25T13:38:57.672764Z"
    }
   },
   "outputs": [
    {
     "data": {
      "text/plain": [
       "array([[0., 0., 0., ..., 0., 0., 0.],\n",
       "       [0., 0., 0., ..., 0., 0., 0.],\n",
       "       [0., 0., 0., ..., 0., 0., 0.],\n",
       "       ...,\n",
       "       [0., 0., 0., ..., 0., 0., 0.],\n",
       "       [0., 0., 0., ..., 0., 0., 0.],\n",
       "       [0., 0., 0., ..., 0., 0., 0.]], dtype=float32)"
      ]
     },
     "execution_count": 36,
     "metadata": {},
     "output_type": "execute_result"
    }
   ],
   "source": [
    "rating_mx_train.toarray()"
   ]
  },
  {
   "cell_type": "code",
   "execution_count": 37,
   "id": "afa82f45",
   "metadata": {
    "ExecuteTime": {
     "end_time": "2021-08-25T13:39:01.177574Z",
     "start_time": "2021-08-25T13:39:01.166748Z"
    }
   },
   "outputs": [
    {
     "data": {
      "text/plain": [
       "<3000x3000 sparse matrix of type '<class 'numpy.float32'>'\n",
       "\twith 123202 stored elements in Compressed Sparse Row format>"
      ]
     },
     "execution_count": 37,
     "metadata": {},
     "output_type": "execute_result"
    }
   ],
   "source": [
    "rating_mx_train"
   ]
  },
  {
   "cell_type": "code",
   "execution_count": 38,
   "id": "35fd509b",
   "metadata": {
    "ExecuteTime": {
     "end_time": "2021-08-25T13:39:09.345275Z",
     "start_time": "2021-08-25T13:39:09.328914Z"
    }
   },
   "outputs": [],
   "source": [
    "class_values = np.sort(np.unique(ratings))"
   ]
  },
  {
   "cell_type": "code",
   "execution_count": 39,
   "id": "2253bd70",
   "metadata": {
    "ExecuteTime": {
     "end_time": "2021-08-25T13:39:10.978283Z",
     "start_time": "2021-08-25T13:39:10.969434Z"
    }
   },
   "outputs": [
    {
     "data": {
      "text/plain": [
       "array([1., 2., 3., 4., 5.])"
      ]
     },
     "execution_count": 39,
     "metadata": {},
     "output_type": "execute_result"
    }
   ],
   "source": [
    "class_values"
   ]
  },
  {
   "cell_type": "code",
   "execution_count": 40,
   "id": "18d28712",
   "metadata": {
    "ExecuteTime": {
     "end_time": "2021-08-25T13:39:13.883369Z",
     "start_time": "2021-08-25T13:39:13.711778Z"
    },
    "scrolled": true
   },
   "outputs": [
    {
     "name": "stdout",
     "output_type": "stream",
     "text": [
      "User features shape: (3000, 3000)\n"
     ]
    }
   ],
   "source": [
    "u_features = sp.csr_matrix(u_features)\n",
    "print(\"User features shape: \" + str(u_features.shape))"
   ]
  },
  {
   "cell_type": "code",
   "execution_count": 41,
   "id": "dfd23129",
   "metadata": {
    "ExecuteTime": {
     "end_time": "2021-08-25T13:39:14.772090Z",
     "start_time": "2021-08-25T13:39:14.639887Z"
    },
    "scrolled": true
   },
   "outputs": [
    {
     "name": "stdout",
     "output_type": "stream",
     "text": [
      "Item features shape: (3000, 3000)\n"
     ]
    }
   ],
   "source": [
    "v_features = sp.csr_matrix(v_features)\n",
    "print(\"Item features shape: \" + str(v_features.shape))"
   ]
  },
  {
   "cell_type": "code",
   "execution_count": 42,
   "id": "3892d49b",
   "metadata": {
    "ExecuteTime": {
     "end_time": "2021-08-25T13:39:16.365294Z",
     "start_time": "2021-08-25T13:39:16.336129Z"
    },
    "scrolled": true
   },
   "outputs": [
    {
     "name": "stdout",
     "output_type": "stream",
     "text": [
      "u_features   (4, 109)\t1.0\n",
      "  (4, 767)\t1.0\n",
      "  (4, 1518)\t1.0\n",
      "  (4, 1719)\t1.0\n",
      "  (4, 2206)\t1.0\n",
      "  (4, 2651)\t1.0\n",
      "  (4, 2938)\t1.0\n",
      "  (12, 900)\t1.0\n",
      "  (12, 1461)\t1.0\n",
      "  (12, 2420)\t1.0\n",
      "  (12, 2767)\t1.0\n",
      "  (13, 412)\t1.0\n",
      "  (17, 2247)\t1.0\n",
      "  (20, 1045)\t1.0\n",
      "  (22, 109)\t1.0\n",
      "  (26, 1671)\t1.0\n",
      "  (28, 2836)\t1.0\n",
      "  (30, 108)\t1.0\n",
      "  (30, 952)\t1.0\n",
      "  (30, 1373)\t1.0\n",
      "  (30, 1501)\t1.0\n",
      "  (32, 309)\t1.0\n",
      "  (32, 1218)\t1.0\n",
      "  (32, 1435)\t1.0\n",
      "  (32, 2889)\t1.0\n",
      "  :\t:\n",
      "  (2971, 1612)\t1.0\n",
      "  (2971, 2839)\t1.0\n",
      "  (2972, 2128)\t1.0\n",
      "  (2972, 2255)\t1.0\n",
      "  (2973, 1536)\t1.0\n",
      "  (2976, 183)\t1.0\n",
      "  (2976, 554)\t1.0\n",
      "  (2976, 700)\t1.0\n",
      "  (2976, 1009)\t1.0\n",
      "  (2976, 1376)\t1.0\n",
      "  (2976, 2142)\t1.0\n",
      "  (2976, 2430)\t1.0\n",
      "  (2976, 2458)\t1.0\n",
      "  (2976, 2674)\t1.0\n",
      "  (2977, 309)\t1.0\n",
      "  (2977, 981)\t1.0\n",
      "  (2983, 1541)\t1.0\n",
      "  (2984, 2500)\t1.0\n",
      "  (2989, 345)\t1.0\n",
      "  (2989, 1452)\t1.0\n",
      "  (2990, 876)\t1.0\n",
      "  (2991, 2271)\t1.0\n",
      "  (2998, 1260)\t1.0\n",
      "  (2998, 2381)\t1.0\n",
      "  (2998, 2675)\t1.0\n",
      "v_features   (0, 0)\t1.0\n",
      "  (1, 1)\t1.0\n",
      "  (2, 2)\t1.0\n",
      "  (3, 3)\t1.0\n",
      "  (4, 4)\t1.0\n",
      "  (5, 5)\t1.0\n",
      "  (6, 6)\t1.0\n",
      "  (7, 7)\t1.0\n",
      "  (8, 8)\t1.0\n",
      "  (9, 9)\t1.0\n",
      "  (10, 10)\t1.0\n",
      "  (11, 11)\t1.0\n",
      "  (12, 12)\t1.0\n",
      "  (13, 13)\t1.0\n",
      "  (14, 14)\t1.0\n",
      "  (15, 15)\t1.0\n",
      "  (16, 16)\t1.0\n",
      "  (17, 17)\t1.0\n",
      "  (18, 18)\t1.0\n",
      "  (19, 19)\t1.0\n",
      "  (20, 20)\t1.0\n",
      "  (21, 21)\t1.0\n",
      "  (22, 22)\t1.0\n",
      "  (23, 23)\t1.0\n",
      "  (24, 24)\t1.0\n",
      "  :\t:\n",
      "  (2975, 2975)\t1.0\n",
      "  (2976, 2976)\t1.0\n",
      "  (2977, 2977)\t1.0\n",
      "  (2978, 2978)\t1.0\n",
      "  (2979, 2979)\t1.0\n",
      "  (2980, 2980)\t1.0\n",
      "  (2981, 2981)\t1.0\n",
      "  (2982, 2982)\t1.0\n",
      "  (2983, 2983)\t1.0\n",
      "  (2984, 2984)\t1.0\n",
      "  (2985, 2985)\t1.0\n",
      "  (2986, 2986)\t1.0\n",
      "  (2987, 2987)\t1.0\n",
      "  (2988, 2988)\t1.0\n",
      "  (2989, 2989)\t1.0\n",
      "  (2990, 2990)\t1.0\n",
      "  (2991, 2991)\t1.0\n",
      "  (2992, 2992)\t1.0\n",
      "  (2993, 2993)\t1.0\n",
      "  (2994, 2994)\t1.0\n",
      "  (2995, 2995)\t1.0\n",
      "  (2996, 2996)\t1.0\n",
      "  (2997, 2997)\t1.0\n",
      "  (2998, 2998)\t1.0\n",
      "  (2999, 2999)\t1.0\n",
      "adj_train   (0, 22)\t4.0\n",
      "  (0, 31)\t2.0\n",
      "  (0, 81)\t1.0\n",
      "  (0, 119)\t3.0\n",
      "  (0, 170)\t2.0\n",
      "  (0, 249)\t2.0\n",
      "  (0, 269)\t5.0\n",
      "  (0, 410)\t3.0\n",
      "  (0, 491)\t4.0\n",
      "  (0, 553)\t3.0\n",
      "  (0, 581)\t3.0\n",
      "  (0, 599)\t3.0\n",
      "  (0, 622)\t1.0\n",
      "  (0, 627)\t2.0\n",
      "  (0, 631)\t2.0\n",
      "  (0, 632)\t3.0\n",
      "  (0, 636)\t4.0\n",
      "  (0, 701)\t2.0\n",
      "  (0, 705)\t1.0\n",
      "  (0, 721)\t3.0\n",
      "  (0, 807)\t1.0\n",
      "  (0, 823)\t4.0\n",
      "  (0, 866)\t2.0\n",
      "  (0, 886)\t3.0\n",
      "  (0, 933)\t4.0\n",
      "  :\t:\n",
      "  (2999, 766)\t3.0\n",
      "  (2999, 809)\t2.0\n",
      "  (2999, 825)\t3.0\n",
      "  (2999, 846)\t2.0\n",
      "  (2999, 851)\t3.0\n",
      "  (2999, 917)\t5.0\n",
      "  (2999, 918)\t3.0\n",
      "  (2999, 959)\t3.0\n",
      "  (2999, 977)\t5.0\n",
      "  (2999, 985)\t3.0\n",
      "  (2999, 992)\t5.0\n",
      "  (2999, 1014)\t3.0\n",
      "  (2999, 1027)\t3.0\n",
      "  (2999, 1039)\t2.0\n",
      "  (2999, 1079)\t5.0\n",
      "  (2999, 1136)\t3.0\n",
      "  (2999, 1161)\t4.0\n",
      "  (2999, 1454)\t4.0\n",
      "  (2999, 1489)\t1.0\n",
      "  (2999, 1784)\t5.0\n",
      "  (2999, 1906)\t4.0\n",
      "  (2999, 2109)\t4.0\n",
      "  (2999, 2210)\t4.0\n",
      "  (2999, 2341)\t3.0\n",
      "  (2999, 2469)\t3.0\n",
      "train_labels  [4 3 2 ... 3 3 4]\n",
      "train_u_indices [2711 1402  577 ... 2411  578  877]\n",
      "train_v_indices [1121 1664 1173 ...  601 1040  585]\n",
      "val_labels [3 3 4 ... 3 3 4]\n",
      "val_u_indices [1069  246  312 ... 2411  578  877]\n",
      "val_v_indices [ 860  658   32 ...  601 1040  585]\n",
      "test_labels [2 1 0 ... 3 2 2]\n",
      "test_u_indices [   0    0    0 ... 2999 2999 2999]\n",
      "test_v_indices [ 104  192  335 ... 1390 1975 2128]\n",
      "[1. 2. 3. 4. 5.]\n"
     ]
    }
   ],
   "source": [
    "print('u_features' , u_features)\n",
    "print('v_features' , v_features) \n",
    "print('adj_train' , rating_mx_train) #adj_train\n",
    "print('train_labels ', train_labels)\n",
    "print('train_u_indices' , u_train_idx) #train_u_indices\n",
    "print('train_v_indices' , v_train_idx) #train_v_indices\n",
    "print('val_labels' , val_labels)\n",
    "print('val_u_indices' , u_val_idx) #val_u_indices\n",
    "print('val_v_indices' , v_val_idx) #val_v_indices\n",
    "print('test_labels' , test_labels)\n",
    "print('test_u_indices' , u_test_idx) #test_u_indices\n",
    "print('test_v_indices' , v_test_idx) #test_v_indices\n",
    "print(class_values)"
   ]
  },
  {
   "cell_type": "markdown",
   "id": "ff11a83a",
   "metadata": {},
   "source": [
    "## Func: normalize_features(feat)"
   ]
  },
  {
   "cell_type": "markdown",
   "id": "1ae6af90",
   "metadata": {},
   "source": [
    "### for u_features..."
   ]
  },
  {
   "cell_type": "code",
   "execution_count": 43,
   "id": "fa426c10",
   "metadata": {
    "ExecuteTime": {
     "end_time": "2021-08-25T13:39:24.491034Z",
     "start_time": "2021-08-25T13:39:24.471572Z"
    }
   },
   "outputs": [],
   "source": [
    "# Normalize the u_features...\n",
    "degree = np.asarray(u_features.sum(1)).flatten()"
   ]
  },
  {
   "cell_type": "code",
   "execution_count": 44,
   "id": "130b9671",
   "metadata": {
    "ExecuteTime": {
     "end_time": "2021-08-25T13:39:25.675644Z",
     "start_time": "2021-08-25T13:39:25.656657Z"
    }
   },
   "outputs": [
    {
     "data": {
      "text/plain": [
       "(array([0., 0., 0., ..., 0., 3., 0.]), (3000,))"
      ]
     },
     "execution_count": 44,
     "metadata": {},
     "output_type": "execute_result"
    }
   ],
   "source": [
    "degree,degree.shape"
   ]
  },
  {
   "cell_type": "code",
   "execution_count": 45,
   "id": "b9e5a9ac",
   "metadata": {
    "ExecuteTime": {
     "end_time": "2021-08-25T13:39:29.034982Z",
     "start_time": "2021-08-25T13:39:29.016474Z"
    }
   },
   "outputs": [],
   "source": [
    "# set zeros to inf to avoid dividing by zero\n",
    "degree[degree == 0.] = np.inf"
   ]
  },
  {
   "cell_type": "code",
   "execution_count": 46,
   "id": "d88c6dab",
   "metadata": {
    "ExecuteTime": {
     "end_time": "2021-08-25T13:39:33.005388Z",
     "start_time": "2021-08-25T13:39:32.998960Z"
    }
   },
   "outputs": [
    {
     "data": {
      "text/plain": [
       "array([inf, inf, inf, ..., inf,  3., inf])"
      ]
     },
     "execution_count": 46,
     "metadata": {},
     "output_type": "execute_result"
    }
   ],
   "source": [
    "degree"
   ]
  },
  {
   "cell_type": "code",
   "execution_count": 47,
   "id": "409239ae",
   "metadata": {
    "ExecuteTime": {
     "end_time": "2021-08-25T13:39:34.401401Z",
     "start_time": "2021-08-25T13:39:34.384207Z"
    }
   },
   "outputs": [],
   "source": [
    "degree_inv = 1. / degree"
   ]
  },
  {
   "cell_type": "code",
   "execution_count": 48,
   "id": "a88abb58",
   "metadata": {
    "ExecuteTime": {
     "end_time": "2021-08-25T13:39:35.936223Z",
     "start_time": "2021-08-25T13:39:35.928803Z"
    }
   },
   "outputs": [],
   "source": [
    "degree_inv_mat = sp.diags([degree_inv], [0])"
   ]
  },
  {
   "cell_type": "code",
   "execution_count": 49,
   "id": "1f9b4501",
   "metadata": {
    "ExecuteTime": {
     "end_time": "2021-08-25T13:39:38.485621Z",
     "start_time": "2021-08-25T13:39:38.472266Z"
    }
   },
   "outputs": [
    {
     "data": {
      "text/plain": [
       "array([[0.        , 0.        , 0.        , ..., 0.        , 0.        ,\n",
       "        0.        ],\n",
       "       [0.        , 0.        , 0.        , ..., 0.        , 0.        ,\n",
       "        0.        ],\n",
       "       [0.        , 0.        , 0.        , ..., 0.        , 0.        ,\n",
       "        0.        ],\n",
       "       ...,\n",
       "       [0.        , 0.        , 0.        , ..., 0.        , 0.        ,\n",
       "        0.        ],\n",
       "       [0.        , 0.        , 0.        , ..., 0.        , 0.33333333,\n",
       "        0.        ],\n",
       "       [0.        , 0.        , 0.        , ..., 0.        , 0.        ,\n",
       "        0.        ]])"
      ]
     },
     "execution_count": 49,
     "metadata": {},
     "output_type": "execute_result"
    }
   ],
   "source": [
    "degree_inv_mat.toarray()"
   ]
  },
  {
   "cell_type": "code",
   "execution_count": 50,
   "id": "34b5e727",
   "metadata": {
    "ExecuteTime": {
     "end_time": "2021-08-25T13:39:41.089042Z",
     "start_time": "2021-08-25T13:39:41.081317Z"
    }
   },
   "outputs": [
    {
     "data": {
      "text/plain": [
       "<3000x3000 sparse matrix of type '<class 'numpy.float64'>'\n",
       "\twith 3000 stored elements (1 diagonals) in DIAgonal format>"
      ]
     },
     "execution_count": 50,
     "metadata": {},
     "output_type": "execute_result"
    }
   ],
   "source": [
    "degree_inv_mat"
   ]
  },
  {
   "cell_type": "code",
   "execution_count": 51,
   "id": "52b3de0b",
   "metadata": {
    "ExecuteTime": {
     "end_time": "2021-08-25T13:39:51.971442Z",
     "start_time": "2021-08-25T13:39:51.961907Z"
    }
   },
   "outputs": [],
   "source": [
    "feat_norm = degree_inv_mat.dot(u_features) #D-1*A"
   ]
  },
  {
   "cell_type": "code",
   "execution_count": 52,
   "id": "f72e6c01",
   "metadata": {
    "ExecuteTime": {
     "end_time": "2021-08-25T13:39:53.049220Z",
     "start_time": "2021-08-25T13:39:53.031544Z"
    }
   },
   "outputs": [],
   "source": [
    "u_features_side=feat_norm"
   ]
  },
  {
   "cell_type": "code",
   "execution_count": 53,
   "id": "097878f8",
   "metadata": {
    "ExecuteTime": {
     "end_time": "2021-08-25T13:40:03.475707Z",
     "start_time": "2021-08-25T13:40:03.457521Z"
    }
   },
   "outputs": [
    {
     "data": {
      "text/plain": [
       "<3000x3000 sparse matrix of type '<class 'numpy.float64'>'\n",
       "\twith 2690 stored elements in Compressed Sparse Row format>"
      ]
     },
     "execution_count": 53,
     "metadata": {},
     "output_type": "execute_result"
    }
   ],
   "source": [
    "u_features_side"
   ]
  },
  {
   "cell_type": "code",
   "execution_count": null,
   "id": "36910e8f",
   "metadata": {},
   "outputs": [],
   "source": [
    "if feat_norm.nnz == 0:\n",
    "    print('ERROR: normalized adjacency matrix has only zero entries!!!!!')"
   ]
  },
  {
   "cell_type": "markdown",
   "id": "77934ac1",
   "metadata": {},
   "source": [
    "### for v_features..."
   ]
  },
  {
   "cell_type": "code",
   "execution_count": 54,
   "id": "0f1b160a",
   "metadata": {
    "ExecuteTime": {
     "end_time": "2021-08-25T13:40:15.460648Z",
     "start_time": "2021-08-25T13:40:15.447873Z"
    }
   },
   "outputs": [],
   "source": [
    "# Normalize the v_features...\n",
    "degree = np.asarray(v_features.sum(1)).flatten()"
   ]
  },
  {
   "cell_type": "code",
   "execution_count": 55,
   "id": "8f764342",
   "metadata": {
    "ExecuteTime": {
     "end_time": "2021-08-25T13:40:16.567652Z",
     "start_time": "2021-08-25T13:40:16.559602Z"
    }
   },
   "outputs": [
    {
     "data": {
      "text/plain": [
       "(array([1., 1., 1., ..., 1., 1., 1.]), (3000,))"
      ]
     },
     "execution_count": 55,
     "metadata": {},
     "output_type": "execute_result"
    }
   ],
   "source": [
    "degree,degree.shape"
   ]
  },
  {
   "cell_type": "code",
   "execution_count": 56,
   "id": "5e210090",
   "metadata": {
    "ExecuteTime": {
     "end_time": "2021-08-25T13:40:18.296543Z",
     "start_time": "2021-08-25T13:40:18.280337Z"
    }
   },
   "outputs": [],
   "source": [
    "# set zeros to inf to avoid dividing by zero\n",
    "degree[degree == 0.] = np.inf"
   ]
  },
  {
   "cell_type": "code",
   "execution_count": 58,
   "id": "5e6f8ccc",
   "metadata": {
    "ExecuteTime": {
     "end_time": "2021-08-25T13:27:06.134749Z",
     "start_time": "2021-08-25T13:27:06.127454Z"
    }
   },
   "outputs": [
    {
     "data": {
      "text/plain": [
       "array([1., 1., 1., ..., 1., 1., 1.])"
      ]
     },
     "execution_count": 58,
     "metadata": {},
     "output_type": "execute_result"
    }
   ],
   "source": [
    "degree"
   ]
  },
  {
   "cell_type": "code",
   "execution_count": 57,
   "id": "a8bf6635",
   "metadata": {
    "ExecuteTime": {
     "end_time": "2021-08-25T13:40:21.174717Z",
     "start_time": "2021-08-25T13:40:21.158570Z"
    }
   },
   "outputs": [],
   "source": [
    "degree_inv = 1. / degree"
   ]
  },
  {
   "cell_type": "code",
   "execution_count": 58,
   "id": "445cf613",
   "metadata": {
    "ExecuteTime": {
     "end_time": "2021-08-25T13:40:23.275223Z",
     "start_time": "2021-08-25T13:40:23.262199Z"
    }
   },
   "outputs": [],
   "source": [
    "degree_inv_mat = sp.diags([degree_inv], [0])"
   ]
  },
  {
   "cell_type": "code",
   "execution_count": 59,
   "id": "ffd7529d",
   "metadata": {
    "ExecuteTime": {
     "end_time": "2021-08-25T13:40:24.590670Z",
     "start_time": "2021-08-25T13:40:24.568096Z"
    }
   },
   "outputs": [
    {
     "data": {
      "text/plain": [
       "array([[1., 0., 0., ..., 0., 0., 0.],\n",
       "       [0., 1., 0., ..., 0., 0., 0.],\n",
       "       [0., 0., 1., ..., 0., 0., 0.],\n",
       "       ...,\n",
       "       [0., 0., 0., ..., 1., 0., 0.],\n",
       "       [0., 0., 0., ..., 0., 1., 0.],\n",
       "       [0., 0., 0., ..., 0., 0., 1.]])"
      ]
     },
     "execution_count": 59,
     "metadata": {},
     "output_type": "execute_result"
    }
   ],
   "source": [
    "degree_inv_mat.toarray()"
   ]
  },
  {
   "cell_type": "code",
   "execution_count": 60,
   "id": "6d406055",
   "metadata": {
    "ExecuteTime": {
     "end_time": "2021-08-25T13:40:26.838604Z",
     "start_time": "2021-08-25T13:40:26.823635Z"
    }
   },
   "outputs": [
    {
     "data": {
      "text/plain": [
       "<3000x3000 sparse matrix of type '<class 'numpy.float64'>'\n",
       "\twith 3000 stored elements (1 diagonals) in DIAgonal format>"
      ]
     },
     "execution_count": 60,
     "metadata": {},
     "output_type": "execute_result"
    }
   ],
   "source": [
    "degree_inv_mat"
   ]
  },
  {
   "cell_type": "code",
   "execution_count": 61,
   "id": "b8d7659f",
   "metadata": {
    "ExecuteTime": {
     "end_time": "2021-08-25T13:40:28.928279Z",
     "start_time": "2021-08-25T13:40:28.903869Z"
    }
   },
   "outputs": [],
   "source": [
    "feat_norm = degree_inv_mat.dot(v_features) #D-1*A"
   ]
  },
  {
   "cell_type": "code",
   "execution_count": 62,
   "id": "65e24901",
   "metadata": {
    "ExecuteTime": {
     "end_time": "2021-08-25T13:40:30.992646Z",
     "start_time": "2021-08-25T13:40:30.985328Z"
    }
   },
   "outputs": [
    {
     "data": {
      "text/plain": [
       "<3000x3000 sparse matrix of type '<class 'numpy.float64'>'\n",
       "\twith 3000 stored elements in Compressed Sparse Row format>"
      ]
     },
     "execution_count": 62,
     "metadata": {},
     "output_type": "execute_result"
    }
   ],
   "source": [
    "feat_norm"
   ]
  },
  {
   "cell_type": "code",
   "execution_count": 63,
   "id": "3f3b9fb2",
   "metadata": {
    "ExecuteTime": {
     "end_time": "2021-08-25T13:40:32.913254Z",
     "start_time": "2021-08-25T13:40:32.904029Z"
    }
   },
   "outputs": [],
   "source": [
    "v_features_side=feat_norm"
   ]
  },
  {
   "cell_type": "code",
   "execution_count": 64,
   "id": "4597228d",
   "metadata": {
    "ExecuteTime": {
     "end_time": "2021-08-25T13:40:42.198266Z",
     "start_time": "2021-08-25T13:40:42.191660Z"
    }
   },
   "outputs": [
    {
     "data": {
      "text/plain": [
       "<3000x3000 sparse matrix of type '<class 'numpy.float64'>'\n",
       "\twith 3000 stored elements in Compressed Sparse Row format>"
      ]
     },
     "execution_count": 64,
     "metadata": {},
     "output_type": "execute_result"
    }
   ],
   "source": [
    "v_features_side"
   ]
  },
  {
   "cell_type": "code",
   "execution_count": null,
   "id": "460362f0",
   "metadata": {},
   "outputs": [],
   "source": [
    "if feat_norm.nnz == 0:\n",
    "    print('ERROR: normalized adjacency matrix has only zero entries!!!!!')"
   ]
  },
  {
   "cell_type": "markdown",
   "id": "68a1385a",
   "metadata": {},
   "source": [
    "## preprocess_user_item_features(u_features,v_features)"
   ]
  },
  {
   "cell_type": "code",
   "execution_count": 65,
   "id": "ecc6091e",
   "metadata": {
    "ExecuteTime": {
     "end_time": "2021-08-25T13:40:48.111651Z",
     "start_time": "2021-08-25T13:40:48.095605Z"
    }
   },
   "outputs": [],
   "source": [
    "zero_csr_u = sp.csr_matrix((u_features.shape[0], v_features.shape[1]), dtype=u_features.dtype)\n",
    "zero_csr_v = sp.csr_matrix((v_features.shape[0], u_features.shape[1]), dtype=v_features.dtype)"
   ]
  },
  {
   "cell_type": "code",
   "execution_count": 66,
   "id": "5b1761e4",
   "metadata": {
    "ExecuteTime": {
     "end_time": "2021-08-25T13:40:50.748109Z",
     "start_time": "2021-08-25T13:40:50.729621Z"
    }
   },
   "outputs": [
    {
     "data": {
      "text/plain": [
       "array([[0., 0., 0., ..., 0., 0., 0.],\n",
       "       [0., 0., 0., ..., 0., 0., 0.],\n",
       "       [0., 0., 0., ..., 0., 0., 0.],\n",
       "       ...,\n",
       "       [0., 0., 0., ..., 0., 0., 0.],\n",
       "       [0., 0., 0., ..., 0., 0., 0.],\n",
       "       [0., 0., 0., ..., 0., 0., 0.]])"
      ]
     },
     "execution_count": 66,
     "metadata": {},
     "output_type": "execute_result"
    }
   ],
   "source": [
    "zero_csr_u.toarray()"
   ]
  },
  {
   "cell_type": "code",
   "execution_count": 68,
   "id": "166b78c3",
   "metadata": {
    "ExecuteTime": {
     "end_time": "2021-08-25T13:27:37.333524Z",
     "start_time": "2021-08-25T13:27:37.319941Z"
    }
   },
   "outputs": [
    {
     "data": {
      "text/plain": [
       "<3000x3000 sparse matrix of type '<class 'numpy.float64'>'\n",
       "\twith 0 stored elements in Compressed Sparse Row format>"
      ]
     },
     "execution_count": 68,
     "metadata": {},
     "output_type": "execute_result"
    }
   ],
   "source": [
    "zero_csr_u"
   ]
  },
  {
   "cell_type": "code",
   "execution_count": 67,
   "id": "86adee8f",
   "metadata": {
    "ExecuteTime": {
     "end_time": "2021-08-25T13:40:58.816941Z",
     "start_time": "2021-08-25T13:40:58.800546Z"
    }
   },
   "outputs": [],
   "source": [
    "u_features = sp.hstack([u_features, zero_csr_u], format='csr') # normalized u_features and zero matrix\n",
    "v_features = sp.hstack([zero_csr_v, v_features], format='csr') # normalized identity matrix and zero matrix"
   ]
  },
  {
   "cell_type": "code",
   "execution_count": 70,
   "id": "d64f29d3",
   "metadata": {
    "ExecuteTime": {
     "end_time": "2021-08-25T13:27:53.919872Z",
     "start_time": "2021-08-25T13:27:53.896339Z"
    }
   },
   "outputs": [
    {
     "data": {
      "text/plain": [
       "array([[0., 0., 0., ..., 0., 0., 0.],\n",
       "       [0., 0., 0., ..., 0., 0., 0.],\n",
       "       [0., 0., 0., ..., 0., 0., 0.],\n",
       "       ...,\n",
       "       [0., 0., 0., ..., 0., 0., 0.],\n",
       "       [0., 0., 0., ..., 0., 0., 0.],\n",
       "       [0., 0., 0., ..., 0., 0., 0.]])"
      ]
     },
     "execution_count": 70,
     "metadata": {},
     "output_type": "execute_result"
    }
   ],
   "source": [
    "u_features.toarray()"
   ]
  },
  {
   "cell_type": "code",
   "execution_count": 68,
   "id": "713ea743",
   "metadata": {
    "ExecuteTime": {
     "end_time": "2021-08-25T13:41:03.542330Z",
     "start_time": "2021-08-25T13:41:03.534878Z"
    }
   },
   "outputs": [
    {
     "data": {
      "text/plain": [
       "<3000x6000 sparse matrix of type '<class 'numpy.float64'>'\n",
       "\twith 2690 stored elements in Compressed Sparse Row format>"
      ]
     },
     "execution_count": 68,
     "metadata": {},
     "output_type": "execute_result"
    }
   ],
   "source": [
    "u_features"
   ]
  },
  {
   "cell_type": "code",
   "execution_count": 69,
   "id": "15b3dbe3",
   "metadata": {
    "ExecuteTime": {
     "end_time": "2021-08-25T13:41:11.766201Z",
     "start_time": "2021-08-25T13:41:11.751915Z"
    }
   },
   "outputs": [],
   "source": [
    "u_features_side=u_features"
   ]
  },
  {
   "cell_type": "code",
   "execution_count": 70,
   "id": "f1eb25d1",
   "metadata": {
    "ExecuteTime": {
     "end_time": "2021-08-25T13:41:14.654903Z",
     "start_time": "2021-08-25T13:41:14.640483Z"
    }
   },
   "outputs": [
    {
     "data": {
      "text/plain": [
       "array([[0., 0., 0., ..., 0., 0., 0.],\n",
       "       [0., 0., 0., ..., 0., 0., 0.],\n",
       "       [0., 0., 0., ..., 0., 0., 0.],\n",
       "       ...,\n",
       "       [0., 0., 0., ..., 1., 0., 0.],\n",
       "       [0., 0., 0., ..., 0., 1., 0.],\n",
       "       [0., 0., 0., ..., 0., 0., 1.]])"
      ]
     },
     "execution_count": 70,
     "metadata": {},
     "output_type": "execute_result"
    }
   ],
   "source": [
    "v_features.toarray()"
   ]
  },
  {
   "cell_type": "code",
   "execution_count": 71,
   "id": "2f12bd98",
   "metadata": {
    "ExecuteTime": {
     "end_time": "2021-08-25T13:41:17.119516Z",
     "start_time": "2021-08-25T13:41:17.103779Z"
    }
   },
   "outputs": [
    {
     "data": {
      "text/plain": [
       "<3000x6000 sparse matrix of type '<class 'numpy.float64'>'\n",
       "\twith 3000 stored elements in Compressed Sparse Row format>"
      ]
     },
     "execution_count": 71,
     "metadata": {},
     "output_type": "execute_result"
    }
   ],
   "source": [
    "v_features"
   ]
  },
  {
   "cell_type": "code",
   "execution_count": 72,
   "id": "4ae7c594",
   "metadata": {
    "ExecuteTime": {
     "end_time": "2021-08-25T13:41:22.372527Z",
     "start_time": "2021-08-25T13:41:22.360000Z"
    }
   },
   "outputs": [],
   "source": [
    "v_features_side=v_features"
   ]
  },
  {
   "cell_type": "code",
   "execution_count": 73,
   "id": "7d2f8a6b",
   "metadata": {
    "ExecuteTime": {
     "end_time": "2021-08-25T13:41:25.007562Z",
     "start_time": "2021-08-25T13:41:25.000656Z"
    }
   },
   "outputs": [
    {
     "data": {
      "text/plain": [
       "<3000x6000 sparse matrix of type '<class 'numpy.float64'>'\n",
       "\twith 3000 stored elements in Compressed Sparse Row format>"
      ]
     },
     "execution_count": 73,
     "metadata": {},
     "output_type": "execute_result"
    }
   ],
   "source": [
    "v_features_side"
   ]
  },
  {
   "cell_type": "code",
   "execution_count": 74,
   "id": "4fb90d17",
   "metadata": {
    "ExecuteTime": {
     "end_time": "2021-08-25T13:41:31.581018Z",
     "start_time": "2021-08-25T13:41:31.288512Z"
    }
   },
   "outputs": [],
   "source": [
    "u_features_side = np.array(u_features_side.todense(), dtype=np.float32)\n",
    "v_features_side = np.array(v_features_side.todense(), dtype=np.float32)"
   ]
  },
  {
   "cell_type": "code",
   "execution_count": 75,
   "id": "538a1ee9",
   "metadata": {
    "ExecuteTime": {
     "end_time": "2021-08-25T13:41:32.445078Z",
     "start_time": "2021-08-25T13:41:32.432223Z"
    }
   },
   "outputs": [
    {
     "data": {
      "text/plain": [
       "(array([[0., 0., 0., ..., 0., 0., 0.],\n",
       "        [0., 0., 0., ..., 0., 0., 0.],\n",
       "        [0., 0., 0., ..., 0., 0., 0.],\n",
       "        ...,\n",
       "        [0., 0., 0., ..., 0., 0., 0.],\n",
       "        [0., 0., 0., ..., 0., 0., 0.],\n",
       "        [0., 0., 0., ..., 0., 0., 0.]], dtype=float32),\n",
       " (3000, 6000))"
      ]
     },
     "execution_count": 75,
     "metadata": {},
     "output_type": "execute_result"
    }
   ],
   "source": [
    "u_features_side,u_features.shape"
   ]
  },
  {
   "cell_type": "code",
   "execution_count": 76,
   "id": "f8fabd9e",
   "metadata": {
    "ExecuteTime": {
     "end_time": "2021-08-25T13:41:34.625263Z",
     "start_time": "2021-08-25T13:41:34.609205Z"
    }
   },
   "outputs": [
    {
     "data": {
      "text/plain": [
       "(array([[0., 0., 0., ..., 0., 0., 0.],\n",
       "        [0., 0., 0., ..., 0., 0., 0.],\n",
       "        [0., 0., 0., ..., 0., 0., 0.],\n",
       "        ...,\n",
       "        [0., 0., 0., ..., 1., 0., 0.],\n",
       "        [0., 0., 0., ..., 0., 1., 0.],\n",
       "        [0., 0., 0., ..., 0., 0., 1.]], dtype=float32),\n",
       " (3000, 6000))"
      ]
     },
     "execution_count": 76,
     "metadata": {},
     "output_type": "execute_result"
    }
   ],
   "source": [
    "v_features_side,v_features.shape"
   ]
  },
  {
   "cell_type": "code",
   "execution_count": 77,
   "id": "135d9bbf",
   "metadata": {
    "ExecuteTime": {
     "end_time": "2021-08-25T13:41:43.555892Z",
     "start_time": "2021-08-25T13:41:43.545547Z"
    }
   },
   "outputs": [],
   "source": [
    "num_side_features = u_features_side.shape[1]"
   ]
  },
  {
   "cell_type": "code",
   "execution_count": 78,
   "id": "1d5d0a46",
   "metadata": {
    "ExecuteTime": {
     "end_time": "2021-08-25T13:41:44.106803Z",
     "start_time": "2021-08-25T13:41:44.096068Z"
    }
   },
   "outputs": [
    {
     "data": {
      "text/plain": [
       "6000"
      ]
     },
     "execution_count": 78,
     "metadata": {},
     "output_type": "execute_result"
    }
   ],
   "source": [
    "num_side_features"
   ]
  },
  {
   "cell_type": "code",
   "execution_count": 79,
   "id": "98e6ddad",
   "metadata": {
    "ExecuteTime": {
     "end_time": "2021-08-25T13:41:46.264052Z",
     "start_time": "2021-08-25T13:41:46.256423Z"
    }
   },
   "outputs": [],
   "source": [
    "id_csr_v = sp.identity(num_items, format='csr')\n",
    "id_csr_u = sp.identity(num_users, format='csr')"
   ]
  },
  {
   "cell_type": "code",
   "execution_count": 80,
   "id": "10a2a599",
   "metadata": {
    "ExecuteTime": {
     "end_time": "2021-08-25T13:41:52.632863Z",
     "start_time": "2021-08-25T13:41:52.617184Z"
    }
   },
   "outputs": [
    {
     "data": {
      "text/plain": [
       "<3000x3000 sparse matrix of type '<class 'numpy.float64'>'\n",
       "\twith 3000 stored elements in Compressed Sparse Row format>"
      ]
     },
     "execution_count": 80,
     "metadata": {},
     "output_type": "execute_result"
    }
   ],
   "source": [
    "id_csr_u"
   ]
  },
  {
   "cell_type": "code",
   "execution_count": 81,
   "id": "3e34e495",
   "metadata": {
    "ExecuteTime": {
     "end_time": "2021-08-25T13:41:53.438754Z",
     "start_time": "2021-08-25T13:41:53.424497Z"
    }
   },
   "outputs": [
    {
     "data": {
      "text/plain": [
       "<3000x3000 sparse matrix of type '<class 'numpy.float64'>'\n",
       "\twith 3000 stored elements in Compressed Sparse Row format>"
      ]
     },
     "execution_count": 81,
     "metadata": {},
     "output_type": "execute_result"
    }
   ],
   "source": [
    "id_csr_v"
   ]
  },
  {
   "cell_type": "markdown",
   "id": "4d4d2675",
   "metadata": {},
   "source": [
    "### again preprocessing identity matrices..."
   ]
  },
  {
   "cell_type": "code",
   "execution_count": 82,
   "id": "d6af1519",
   "metadata": {
    "ExecuteTime": {
     "end_time": "2021-08-25T13:41:59.124687Z",
     "start_time": "2021-08-25T13:41:59.119907Z"
    }
   },
   "outputs": [],
   "source": [
    "zero_csr_u = sp.csr_matrix((id_csr_u.shape[0], id_csr_v.shape[1]), dtype=u_features.dtype)\n",
    "zero_csr_v = sp.csr_matrix((id_csr_v.shape[0], id_csr_u.shape[1]), dtype=v_features.dtype)"
   ]
  },
  {
   "cell_type": "code",
   "execution_count": 83,
   "id": "1226a1ce",
   "metadata": {
    "ExecuteTime": {
     "end_time": "2021-08-25T13:42:00.499188Z",
     "start_time": "2021-08-25T13:42:00.480427Z"
    }
   },
   "outputs": [
    {
     "data": {
      "text/plain": [
       "array([[0., 0., 0., ..., 0., 0., 0.],\n",
       "       [0., 0., 0., ..., 0., 0., 0.],\n",
       "       [0., 0., 0., ..., 0., 0., 0.],\n",
       "       ...,\n",
       "       [0., 0., 0., ..., 0., 0., 0.],\n",
       "       [0., 0., 0., ..., 0., 0., 0.],\n",
       "       [0., 0., 0., ..., 0., 0., 0.]])"
      ]
     },
     "execution_count": 83,
     "metadata": {},
     "output_type": "execute_result"
    }
   ],
   "source": [
    "zero_csr_u.toarray()"
   ]
  },
  {
   "cell_type": "code",
   "execution_count": 84,
   "id": "b36e37dd",
   "metadata": {
    "ExecuteTime": {
     "end_time": "2021-08-25T13:42:07.427947Z",
     "start_time": "2021-08-25T13:42:07.408851Z"
    }
   },
   "outputs": [
    {
     "data": {
      "text/plain": [
       "<3000x3000 sparse matrix of type '<class 'numpy.float64'>'\n",
       "\twith 0 stored elements in Compressed Sparse Row format>"
      ]
     },
     "execution_count": 84,
     "metadata": {},
     "output_type": "execute_result"
    }
   ],
   "source": [
    "zero_csr_u"
   ]
  },
  {
   "cell_type": "code",
   "execution_count": 203,
   "id": "68e40401",
   "metadata": {
    "ExecuteTime": {
     "end_time": "2021-08-25T15:56:46.639409Z",
     "start_time": "2021-08-25T15:56:46.625576Z"
    }
   },
   "outputs": [],
   "source": [
    "u_features = sp.hstack([id_csr_u, zero_csr_u], format='csr')\n",
    "v_features = sp.hstack([zero_csr_v,id_csr_v ], format='csr')"
   ]
  },
  {
   "cell_type": "code",
   "execution_count": 204,
   "id": "2f5845ad",
   "metadata": {
    "ExecuteTime": {
     "end_time": "2021-08-25T15:56:48.049845Z",
     "start_time": "2021-08-25T15:56:48.025638Z"
    }
   },
   "outputs": [
    {
     "data": {
      "text/plain": [
       "<3000x6000 sparse matrix of type '<class 'numpy.float64'>'\n",
       "\twith 3000 stored elements in Compressed Sparse Row format>"
      ]
     },
     "execution_count": 204,
     "metadata": {},
     "output_type": "execute_result"
    }
   ],
   "source": [
    "u_features #identity matrix and zero matrix"
   ]
  },
  {
   "cell_type": "code",
   "execution_count": 205,
   "id": "21255531",
   "metadata": {
    "ExecuteTime": {
     "end_time": "2021-08-25T15:56:50.316003Z",
     "start_time": "2021-08-25T15:56:50.298418Z"
    }
   },
   "outputs": [
    {
     "data": {
      "text/plain": [
       "<3000x6000 sparse matrix of type '<class 'numpy.float64'>'\n",
       "\twith 3000 stored elements in Compressed Sparse Row format>"
      ]
     },
     "execution_count": 205,
     "metadata": {},
     "output_type": "execute_result"
    }
   ],
   "source": [
    "v_features #zero matrix and identity matrix"
   ]
  },
  {
   "cell_type": "markdown",
   "id": "4e78ac49",
   "metadata": {},
   "source": [
    "## Global Normalization..."
   ]
  },
  {
   "cell_type": "code",
   "execution_count": 88,
   "id": "edcbda60",
   "metadata": {
    "ExecuteTime": {
     "end_time": "2021-08-25T13:57:58.013037Z",
     "start_time": "2021-08-25T13:57:57.989035Z"
    }
   },
   "outputs": [],
   "source": [
    "adj_train=rating_mx_train\n",
    "# Global Normalization...\n",
    "support = []\n",
    "support_t = []\n",
    "adj_train_int = sp.csr_matrix(adj_train, dtype=np.int32)"
   ]
  },
  {
   "cell_type": "code",
   "execution_count": 136,
   "id": "95616a3b",
   "metadata": {
    "ExecuteTime": {
     "end_time": "2021-08-25T11:19:41.388891Z",
     "start_time": "2021-08-25T11:19:41.350892Z"
    }
   },
   "outputs": [
    {
     "data": {
      "text/plain": [
       "[0,\n",
       " 0,\n",
       " 0,\n",
       " 0,\n",
       " 0,\n",
       " 0,\n",
       " 0,\n",
       " 0,\n",
       " 0,\n",
       " 0,\n",
       " 0,\n",
       " 0,\n",
       " 0,\n",
       " 0,\n",
       " 0,\n",
       " 0,\n",
       " 0,\n",
       " 0,\n",
       " 0,\n",
       " 0,\n",
       " 0,\n",
       " 0,\n",
       " 4,\n",
       " 0,\n",
       " 0,\n",
       " 0,\n",
       " 0,\n",
       " 0,\n",
       " 0,\n",
       " 0,\n",
       " 0,\n",
       " 2,\n",
       " 0,\n",
       " 0,\n",
       " 0,\n",
       " 0,\n",
       " 0,\n",
       " 0,\n",
       " 0,\n",
       " 0,\n",
       " 0,\n",
       " 0,\n",
       " 0,\n",
       " 0,\n",
       " 0,\n",
       " 0,\n",
       " 0,\n",
       " 0,\n",
       " 0,\n",
       " 0,\n",
       " 0,\n",
       " 0,\n",
       " 0,\n",
       " 0,\n",
       " 0,\n",
       " 0,\n",
       " 0,\n",
       " 0,\n",
       " 0,\n",
       " 0,\n",
       " 0,\n",
       " 0,\n",
       " 0,\n",
       " 0,\n",
       " 0,\n",
       " 0,\n",
       " 0,\n",
       " 0,\n",
       " 0,\n",
       " 0,\n",
       " 0,\n",
       " 0,\n",
       " 0,\n",
       " 0,\n",
       " 0,\n",
       " 0,\n",
       " 0,\n",
       " 0,\n",
       " 0,\n",
       " 0,\n",
       " 0,\n",
       " 1,\n",
       " 0,\n",
       " 0,\n",
       " 0,\n",
       " 0,\n",
       " 0,\n",
       " 0,\n",
       " 0,\n",
       " 0,\n",
       " 0,\n",
       " 0,\n",
       " 0,\n",
       " 0,\n",
       " 0,\n",
       " 0,\n",
       " 0,\n",
       " 0,\n",
       " 0,\n",
       " 0,\n",
       " 0,\n",
       " 0,\n",
       " 0,\n",
       " 0,\n",
       " 0,\n",
       " 0,\n",
       " 0,\n",
       " 0,\n",
       " 0,\n",
       " 0,\n",
       " 0,\n",
       " 0,\n",
       " 0,\n",
       " 0,\n",
       " 0,\n",
       " 0,\n",
       " 0,\n",
       " 0,\n",
       " 0,\n",
       " 3,\n",
       " 0,\n",
       " 0,\n",
       " 0,\n",
       " 0,\n",
       " 0,\n",
       " 0,\n",
       " 0,\n",
       " 0,\n",
       " 0,\n",
       " 0,\n",
       " 0,\n",
       " 0,\n",
       " 0,\n",
       " 0,\n",
       " 0,\n",
       " 0,\n",
       " 0,\n",
       " 0,\n",
       " 0,\n",
       " 0,\n",
       " 0,\n",
       " 0,\n",
       " 0,\n",
       " 0,\n",
       " 0,\n",
       " 0,\n",
       " 0,\n",
       " 0,\n",
       " 0,\n",
       " 0,\n",
       " 0,\n",
       " 0,\n",
       " 0,\n",
       " 0,\n",
       " 0,\n",
       " 0,\n",
       " 0,\n",
       " 0,\n",
       " 0,\n",
       " 0,\n",
       " 0,\n",
       " 0,\n",
       " 0,\n",
       " 0,\n",
       " 0,\n",
       " 0,\n",
       " 0,\n",
       " 0,\n",
       " 0,\n",
       " 0,\n",
       " 2,\n",
       " 0,\n",
       " 0,\n",
       " 0,\n",
       " 0,\n",
       " 0,\n",
       " 0,\n",
       " 0,\n",
       " 0,\n",
       " 0,\n",
       " 0,\n",
       " 0,\n",
       " 0,\n",
       " 0,\n",
       " 0,\n",
       " 0,\n",
       " 0,\n",
       " 0,\n",
       " 0,\n",
       " 0,\n",
       " 0,\n",
       " 0,\n",
       " 0,\n",
       " 0,\n",
       " 0,\n",
       " 0,\n",
       " 0,\n",
       " 0,\n",
       " 0,\n",
       " 0,\n",
       " 0,\n",
       " 0,\n",
       " 0,\n",
       " 0,\n",
       " 0,\n",
       " 0,\n",
       " 0,\n",
       " 0,\n",
       " 0,\n",
       " 0,\n",
       " 0,\n",
       " 0,\n",
       " 0,\n",
       " 0,\n",
       " 0,\n",
       " 0,\n",
       " 0,\n",
       " 0,\n",
       " 0,\n",
       " 0,\n",
       " 0,\n",
       " 0,\n",
       " 0,\n",
       " 0,\n",
       " 0,\n",
       " 0,\n",
       " 0,\n",
       " 0,\n",
       " 0,\n",
       " 0,\n",
       " 0,\n",
       " 0,\n",
       " 0,\n",
       " 0,\n",
       " 0,\n",
       " 0,\n",
       " 0,\n",
       " 0,\n",
       " 0,\n",
       " 0,\n",
       " 0,\n",
       " 0,\n",
       " 0,\n",
       " 0,\n",
       " 0,\n",
       " 0,\n",
       " 0,\n",
       " 0,\n",
       " 0,\n",
       " 2,\n",
       " 0,\n",
       " 0,\n",
       " 0,\n",
       " 0,\n",
       " 0,\n",
       " 0,\n",
       " 0,\n",
       " 0,\n",
       " 0,\n",
       " 0,\n",
       " 0,\n",
       " 0,\n",
       " 0,\n",
       " 0,\n",
       " 0,\n",
       " 0,\n",
       " 0,\n",
       " 0,\n",
       " 0,\n",
       " 5,\n",
       " 0,\n",
       " 0,\n",
       " 0,\n",
       " 0,\n",
       " 0,\n",
       " 0,\n",
       " 0,\n",
       " 0,\n",
       " 0,\n",
       " 0,\n",
       " 0,\n",
       " 0,\n",
       " 0,\n",
       " 0,\n",
       " 0,\n",
       " 0,\n",
       " 0,\n",
       " 0,\n",
       " 0,\n",
       " 0,\n",
       " 0,\n",
       " 0,\n",
       " 0,\n",
       " 0,\n",
       " 0,\n",
       " 0,\n",
       " 0,\n",
       " 0,\n",
       " 0,\n",
       " 0,\n",
       " 0,\n",
       " 0,\n",
       " 0,\n",
       " 0,\n",
       " 0,\n",
       " 0,\n",
       " 0,\n",
       " 0,\n",
       " 0,\n",
       " 0,\n",
       " 0,\n",
       " 0,\n",
       " 0,\n",
       " 0,\n",
       " 0,\n",
       " 0,\n",
       " 0,\n",
       " 0,\n",
       " 0,\n",
       " 0,\n",
       " 0,\n",
       " 0,\n",
       " 0,\n",
       " 0,\n",
       " 0,\n",
       " 0,\n",
       " 0,\n",
       " 0,\n",
       " 0,\n",
       " 0,\n",
       " 0,\n",
       " 0,\n",
       " 0,\n",
       " 0,\n",
       " 0,\n",
       " 0,\n",
       " 0,\n",
       " 0,\n",
       " 0,\n",
       " 0,\n",
       " 0,\n",
       " 0,\n",
       " 0,\n",
       " 0,\n",
       " 0,\n",
       " 0,\n",
       " 0,\n",
       " 0,\n",
       " 0,\n",
       " 0,\n",
       " 0,\n",
       " 0,\n",
       " 0,\n",
       " 0,\n",
       " 0,\n",
       " 0,\n",
       " 0,\n",
       " 0,\n",
       " 0,\n",
       " 0,\n",
       " 0,\n",
       " 0,\n",
       " 0,\n",
       " 0,\n",
       " 0,\n",
       " 0,\n",
       " 0,\n",
       " 0,\n",
       " 0,\n",
       " 0,\n",
       " 0,\n",
       " 0,\n",
       " 0,\n",
       " 0,\n",
       " 0,\n",
       " 0,\n",
       " 0,\n",
       " 0,\n",
       " 0,\n",
       " 0,\n",
       " 0,\n",
       " 0,\n",
       " 0,\n",
       " 0,\n",
       " 0,\n",
       " 0,\n",
       " 0,\n",
       " 0,\n",
       " 0,\n",
       " 0,\n",
       " 0,\n",
       " 0,\n",
       " 0,\n",
       " 0,\n",
       " 0,\n",
       " 0,\n",
       " 0,\n",
       " 0,\n",
       " 0,\n",
       " 0,\n",
       " 0,\n",
       " 0,\n",
       " 0,\n",
       " 0,\n",
       " 0,\n",
       " 0,\n",
       " 0,\n",
       " 0,\n",
       " 0,\n",
       " 0,\n",
       " 3,\n",
       " 0,\n",
       " 0,\n",
       " 0,\n",
       " 0,\n",
       " 0,\n",
       " 0,\n",
       " 0,\n",
       " 0,\n",
       " 0,\n",
       " 0,\n",
       " 0,\n",
       " 0,\n",
       " 0,\n",
       " 0,\n",
       " 0,\n",
       " 0,\n",
       " 0,\n",
       " 0,\n",
       " 0,\n",
       " 0,\n",
       " 0,\n",
       " 0,\n",
       " 0,\n",
       " 0,\n",
       " 0,\n",
       " 0,\n",
       " 0,\n",
       " 0,\n",
       " 0,\n",
       " 0,\n",
       " 0,\n",
       " 0,\n",
       " 0,\n",
       " 0,\n",
       " 0,\n",
       " 0,\n",
       " 0,\n",
       " 0,\n",
       " 0,\n",
       " 0,\n",
       " 0,\n",
       " 0,\n",
       " 0,\n",
       " 0,\n",
       " 0,\n",
       " 0,\n",
       " 0,\n",
       " 0,\n",
       " 0,\n",
       " 0,\n",
       " 0,\n",
       " 0,\n",
       " 0,\n",
       " 0,\n",
       " 0,\n",
       " 0,\n",
       " 0,\n",
       " 0,\n",
       " 0,\n",
       " 0,\n",
       " 0,\n",
       " 0,\n",
       " 0,\n",
       " 0,\n",
       " 0,\n",
       " 0,\n",
       " 0,\n",
       " 0,\n",
       " 0,\n",
       " 0,\n",
       " 0,\n",
       " 0,\n",
       " 0,\n",
       " 0,\n",
       " 0,\n",
       " 0,\n",
       " 0,\n",
       " 0,\n",
       " 0,\n",
       " 0,\n",
       " 4,\n",
       " 0,\n",
       " 0,\n",
       " 0,\n",
       " 0,\n",
       " 0,\n",
       " 0,\n",
       " 0,\n",
       " 0,\n",
       " 0,\n",
       " 0,\n",
       " 0,\n",
       " 0,\n",
       " 0,\n",
       " 0,\n",
       " 0,\n",
       " 0,\n",
       " 0,\n",
       " 0,\n",
       " 0,\n",
       " 0,\n",
       " 0,\n",
       " 0,\n",
       " 0,\n",
       " 0,\n",
       " 0,\n",
       " 0,\n",
       " 0,\n",
       " 0,\n",
       " 0,\n",
       " 0,\n",
       " 0,\n",
       " 0,\n",
       " 0,\n",
       " 0,\n",
       " 0,\n",
       " 0,\n",
       " 0,\n",
       " 0,\n",
       " 0,\n",
       " 0,\n",
       " 0,\n",
       " 0,\n",
       " 0,\n",
       " 0,\n",
       " 0,\n",
       " 0,\n",
       " 0,\n",
       " 0,\n",
       " 0,\n",
       " 0,\n",
       " 0,\n",
       " 0,\n",
       " 0,\n",
       " 0,\n",
       " 0,\n",
       " 0,\n",
       " 0,\n",
       " 0,\n",
       " 0,\n",
       " 0,\n",
       " 0,\n",
       " 3,\n",
       " 0,\n",
       " 0,\n",
       " 0,\n",
       " 0,\n",
       " 0,\n",
       " 0,\n",
       " 0,\n",
       " 0,\n",
       " 0,\n",
       " 0,\n",
       " 0,\n",
       " 0,\n",
       " 0,\n",
       " 0,\n",
       " 0,\n",
       " 0,\n",
       " 0,\n",
       " 0,\n",
       " 0,\n",
       " 0,\n",
       " 0,\n",
       " 0,\n",
       " 0,\n",
       " 0,\n",
       " 0,\n",
       " 0,\n",
       " 0,\n",
       " 3,\n",
       " 0,\n",
       " 0,\n",
       " 0,\n",
       " 0,\n",
       " 0,\n",
       " 0,\n",
       " 0,\n",
       " 0,\n",
       " 0,\n",
       " 0,\n",
       " 0,\n",
       " 0,\n",
       " 0,\n",
       " 0,\n",
       " 0,\n",
       " 0,\n",
       " 0,\n",
       " 3,\n",
       " 0,\n",
       " 0,\n",
       " 0,\n",
       " 0,\n",
       " 0,\n",
       " 0,\n",
       " 0,\n",
       " 0,\n",
       " 0,\n",
       " 0,\n",
       " 0,\n",
       " 0,\n",
       " 0,\n",
       " 0,\n",
       " 0,\n",
       " 0,\n",
       " 0,\n",
       " 0,\n",
       " 0,\n",
       " 0,\n",
       " 0,\n",
       " 0,\n",
       " 1,\n",
       " 0,\n",
       " 0,\n",
       " 0,\n",
       " 0,\n",
       " 2,\n",
       " 0,\n",
       " 0,\n",
       " 0,\n",
       " 2,\n",
       " 3,\n",
       " 0,\n",
       " 0,\n",
       " 0,\n",
       " 4,\n",
       " 0,\n",
       " 0,\n",
       " 0,\n",
       " 0,\n",
       " 0,\n",
       " 0,\n",
       " 0,\n",
       " 0,\n",
       " 0,\n",
       " 0,\n",
       " 0,\n",
       " 0,\n",
       " 0,\n",
       " 0,\n",
       " 0,\n",
       " 0,\n",
       " 0,\n",
       " 0,\n",
       " 0,\n",
       " 0,\n",
       " 0,\n",
       " 0,\n",
       " 0,\n",
       " 0,\n",
       " 0,\n",
       " 0,\n",
       " 0,\n",
       " 0,\n",
       " 0,\n",
       " 0,\n",
       " 0,\n",
       " 0,\n",
       " 0,\n",
       " 0,\n",
       " 0,\n",
       " 0,\n",
       " 0,\n",
       " 0,\n",
       " 0,\n",
       " 0,\n",
       " 0,\n",
       " 0,\n",
       " 0,\n",
       " 0,\n",
       " 0,\n",
       " 0,\n",
       " 0,\n",
       " 0,\n",
       " 0,\n",
       " 0,\n",
       " 0,\n",
       " 0,\n",
       " 0,\n",
       " 0,\n",
       " 0,\n",
       " 0,\n",
       " 0,\n",
       " 0,\n",
       " 0,\n",
       " 0,\n",
       " 0,\n",
       " 0,\n",
       " 0,\n",
       " 0,\n",
       " 2,\n",
       " 0,\n",
       " 0,\n",
       " 0,\n",
       " 1,\n",
       " 0,\n",
       " 0,\n",
       " 0,\n",
       " 0,\n",
       " 0,\n",
       " 0,\n",
       " 0,\n",
       " 0,\n",
       " 0,\n",
       " 0,\n",
       " 0,\n",
       " 0,\n",
       " 0,\n",
       " 0,\n",
       " 0,\n",
       " 3,\n",
       " 0,\n",
       " 0,\n",
       " 0,\n",
       " 0,\n",
       " 0,\n",
       " 0,\n",
       " 0,\n",
       " 0,\n",
       " 0,\n",
       " 0,\n",
       " 0,\n",
       " 0,\n",
       " 0,\n",
       " 0,\n",
       " 0,\n",
       " 0,\n",
       " 0,\n",
       " 0,\n",
       " 0,\n",
       " 0,\n",
       " 0,\n",
       " 0,\n",
       " 0,\n",
       " 0,\n",
       " 0,\n",
       " 0,\n",
       " 0,\n",
       " 0,\n",
       " 0,\n",
       " 0,\n",
       " 0,\n",
       " 0,\n",
       " 0,\n",
       " 0,\n",
       " 0,\n",
       " 0,\n",
       " 0,\n",
       " 0,\n",
       " 0,\n",
       " 0,\n",
       " 0,\n",
       " 0,\n",
       " 0,\n",
       " 0,\n",
       " 0,\n",
       " 0,\n",
       " 0,\n",
       " 0,\n",
       " 0,\n",
       " 0,\n",
       " 0,\n",
       " 0,\n",
       " 0,\n",
       " 0,\n",
       " 0,\n",
       " 0,\n",
       " 0,\n",
       " 0,\n",
       " 0,\n",
       " 0,\n",
       " 0,\n",
       " 0,\n",
       " 0,\n",
       " 0,\n",
       " 0,\n",
       " 0,\n",
       " 0,\n",
       " 0,\n",
       " 0,\n",
       " 0,\n",
       " 0,\n",
       " 0,\n",
       " 0,\n",
       " 0,\n",
       " 0,\n",
       " 0,\n",
       " 0,\n",
       " 0,\n",
       " 0,\n",
       " 0,\n",
       " 0,\n",
       " 0,\n",
       " 0,\n",
       " 0,\n",
       " 0,\n",
       " 1,\n",
       " 0,\n",
       " 0,\n",
       " 0,\n",
       " 0,\n",
       " 0,\n",
       " 0,\n",
       " 0,\n",
       " 0,\n",
       " 0,\n",
       " 0,\n",
       " 0,\n",
       " 0,\n",
       " 0,\n",
       " 0,\n",
       " 0,\n",
       " 4,\n",
       " 0,\n",
       " 0,\n",
       " 0,\n",
       " 0,\n",
       " 0,\n",
       " 0,\n",
       " 0,\n",
       " 0,\n",
       " 0,\n",
       " 0,\n",
       " 0,\n",
       " 0,\n",
       " 0,\n",
       " 0,\n",
       " 0,\n",
       " 0,\n",
       " 0,\n",
       " 0,\n",
       " 0,\n",
       " 0,\n",
       " 0,\n",
       " 0,\n",
       " 0,\n",
       " 0,\n",
       " 0,\n",
       " 0,\n",
       " 0,\n",
       " 0,\n",
       " 0,\n",
       " 0,\n",
       " 0,\n",
       " 0,\n",
       " 0,\n",
       " 0,\n",
       " 0,\n",
       " 0,\n",
       " 0,\n",
       " 0,\n",
       " 0,\n",
       " 0,\n",
       " 0,\n",
       " 0,\n",
       " 2,\n",
       " 0,\n",
       " 0,\n",
       " 0,\n",
       " 0,\n",
       " 0,\n",
       " 0,\n",
       " 0,\n",
       " 0,\n",
       " 0,\n",
       " 0,\n",
       " 0,\n",
       " 0,\n",
       " 0,\n",
       " 0,\n",
       " 0,\n",
       " 0,\n",
       " 0,\n",
       " 0,\n",
       " 0,\n",
       " 3,\n",
       " 0,\n",
       " 0,\n",
       " 0,\n",
       " 0,\n",
       " 0,\n",
       " 0,\n",
       " 0,\n",
       " 0,\n",
       " 0,\n",
       " 0,\n",
       " 0,\n",
       " 0,\n",
       " 0,\n",
       " 0,\n",
       " 0,\n",
       " 0,\n",
       " 0,\n",
       " 0,\n",
       " 0,\n",
       " 0,\n",
       " 0,\n",
       " 0,\n",
       " 0,\n",
       " 0,\n",
       " 0,\n",
       " 0,\n",
       " 0,\n",
       " 0,\n",
       " 0,\n",
       " 0,\n",
       " 0,\n",
       " 0,\n",
       " 0,\n",
       " 0,\n",
       " 0,\n",
       " 0,\n",
       " 0,\n",
       " 0,\n",
       " 0,\n",
       " 0,\n",
       " 0,\n",
       " 0,\n",
       " 0,\n",
       " 0,\n",
       " 0,\n",
       " 0,\n",
       " 4,\n",
       " 0,\n",
       " 0,\n",
       " 0,\n",
       " 0,\n",
       " 0,\n",
       " 0,\n",
       " 0,\n",
       " 0,\n",
       " 0,\n",
       " 0,\n",
       " 0,\n",
       " 0,\n",
       " 0,\n",
       " 0,\n",
       " 0,\n",
       " 0,\n",
       " 0,\n",
       " 0,\n",
       " 0,\n",
       " 0,\n",
       " 0,\n",
       " 0,\n",
       " 0,\n",
       " 0,\n",
       " 0,\n",
       " 0,\n",
       " 0,\n",
       " 0,\n",
       " 0,\n",
       " 0,\n",
       " 0,\n",
       " 0,\n",
       " 0,\n",
       " 0,\n",
       " 0,\n",
       " 0,\n",
       " 0,\n",
       " 0,\n",
       " 0,\n",
       " 0,\n",
       " 0,\n",
       " 2,\n",
       " 0,\n",
       " 0,\n",
       " 0,\n",
       " 0,\n",
       " 0,\n",
       " 0,\n",
       " 0,\n",
       " 0,\n",
       " 0,\n",
       " 0,\n",
       " 2,\n",
       " 3,\n",
       " 0,\n",
       " 0,\n",
       " 0,\n",
       " 2,\n",
       " 0,\n",
       " 0,\n",
       " 0,\n",
       " 0,\n",
       " 0,\n",
       " 0,\n",
       " 0,\n",
       " 0,\n",
       " ...]"
      ]
     },
     "execution_count": 136,
     "metadata": {},
     "output_type": "execute_result"
    }
   ],
   "source": [
    "adj_train_int.toarray()[0].tolist()"
   ]
  },
  {
   "cell_type": "code",
   "execution_count": 89,
   "id": "f4bec7c1",
   "metadata": {
    "ExecuteTime": {
     "end_time": "2021-08-25T13:58:22.588191Z",
     "start_time": "2021-08-25T13:58:22.580188Z"
    }
   },
   "outputs": [
    {
     "data": {
      "text/plain": [
       "<3000x3000 sparse matrix of type '<class 'numpy.int32'>'\n",
       "\twith 123202 stored elements in Compressed Sparse Row format>"
      ]
     },
     "execution_count": 89,
     "metadata": {},
     "output_type": "execute_result"
    }
   ],
   "source": [
    "adj_train_int #user id X movie id with ratings..."
   ]
  },
  {
   "cell_type": "code",
   "execution_count": 90,
   "id": "ae51e061",
   "metadata": {
    "ExecuteTime": {
     "end_time": "2021-08-25T13:58:31.589095Z",
     "start_time": "2021-08-25T13:58:31.573096Z"
    }
   },
   "outputs": [],
   "source": [
    "for i in range(5):\n",
    "    # build individual binary rating matrices (supports) for each rating\n",
    "    support_unnormalized = sp.csr_matrix(adj_train_int == i + 1, dtype=np.float32)"
   ]
  },
  {
   "cell_type": "code",
   "execution_count": 91,
   "id": "f2bc670f",
   "metadata": {
    "ExecuteTime": {
     "end_time": "2021-08-25T13:58:34.509926Z",
     "start_time": "2021-08-25T13:58:34.453894Z"
    }
   },
   "outputs": [
    {
     "data": {
      "text/plain": [
       "[0.0,\n",
       " 0.0,\n",
       " 0.0,\n",
       " 0.0,\n",
       " 0.0,\n",
       " 0.0,\n",
       " 0.0,\n",
       " 0.0,\n",
       " 0.0,\n",
       " 0.0,\n",
       " 0.0,\n",
       " 0.0,\n",
       " 0.0,\n",
       " 0.0,\n",
       " 0.0,\n",
       " 0.0,\n",
       " 0.0,\n",
       " 0.0,\n",
       " 0.0,\n",
       " 0.0,\n",
       " 0.0,\n",
       " 0.0,\n",
       " 0.0,\n",
       " 0.0,\n",
       " 0.0,\n",
       " 0.0,\n",
       " 0.0,\n",
       " 0.0,\n",
       " 0.0,\n",
       " 0.0,\n",
       " 0.0,\n",
       " 0.0,\n",
       " 0.0,\n",
       " 0.0,\n",
       " 0.0,\n",
       " 0.0,\n",
       " 0.0,\n",
       " 0.0,\n",
       " 0.0,\n",
       " 0.0,\n",
       " 0.0,\n",
       " 0.0,\n",
       " 0.0,\n",
       " 0.0,\n",
       " 0.0,\n",
       " 0.0,\n",
       " 0.0,\n",
       " 0.0,\n",
       " 0.0,\n",
       " 0.0,\n",
       " 0.0,\n",
       " 0.0,\n",
       " 0.0,\n",
       " 0.0,\n",
       " 0.0,\n",
       " 0.0,\n",
       " 0.0,\n",
       " 0.0,\n",
       " 0.0,\n",
       " 0.0,\n",
       " 0.0,\n",
       " 0.0,\n",
       " 0.0,\n",
       " 0.0,\n",
       " 0.0,\n",
       " 0.0,\n",
       " 0.0,\n",
       " 0.0,\n",
       " 0.0,\n",
       " 0.0,\n",
       " 0.0,\n",
       " 0.0,\n",
       " 0.0,\n",
       " 0.0,\n",
       " 0.0,\n",
       " 0.0,\n",
       " 0.0,\n",
       " 0.0,\n",
       " 0.0,\n",
       " 0.0,\n",
       " 0.0,\n",
       " 0.0,\n",
       " 0.0,\n",
       " 0.0,\n",
       " 0.0,\n",
       " 0.0,\n",
       " 0.0,\n",
       " 0.0,\n",
       " 0.0,\n",
       " 0.0,\n",
       " 0.0,\n",
       " 0.0,\n",
       " 0.0,\n",
       " 0.0,\n",
       " 0.0,\n",
       " 0.0,\n",
       " 0.0,\n",
       " 0.0,\n",
       " 0.0,\n",
       " 0.0,\n",
       " 0.0,\n",
       " 0.0,\n",
       " 0.0,\n",
       " 0.0,\n",
       " 0.0,\n",
       " 0.0,\n",
       " 0.0,\n",
       " 0.0,\n",
       " 0.0,\n",
       " 0.0,\n",
       " 0.0,\n",
       " 0.0,\n",
       " 0.0,\n",
       " 0.0,\n",
       " 0.0,\n",
       " 0.0,\n",
       " 0.0,\n",
       " 0.0,\n",
       " 0.0,\n",
       " 0.0,\n",
       " 0.0,\n",
       " 0.0,\n",
       " 0.0,\n",
       " 0.0,\n",
       " 0.0,\n",
       " 0.0,\n",
       " 0.0,\n",
       " 0.0,\n",
       " 0.0,\n",
       " 0.0,\n",
       " 0.0,\n",
       " 0.0,\n",
       " 0.0,\n",
       " 0.0,\n",
       " 0.0,\n",
       " 0.0,\n",
       " 0.0,\n",
       " 0.0,\n",
       " 0.0,\n",
       " 0.0,\n",
       " 0.0,\n",
       " 0.0,\n",
       " 0.0,\n",
       " 0.0,\n",
       " 0.0,\n",
       " 0.0,\n",
       " 0.0,\n",
       " 0.0,\n",
       " 0.0,\n",
       " 0.0,\n",
       " 0.0,\n",
       " 0.0,\n",
       " 0.0,\n",
       " 0.0,\n",
       " 0.0,\n",
       " 0.0,\n",
       " 0.0,\n",
       " 0.0,\n",
       " 0.0,\n",
       " 0.0,\n",
       " 0.0,\n",
       " 0.0,\n",
       " 0.0,\n",
       " 0.0,\n",
       " 1.0,\n",
       " 0.0,\n",
       " 0.0,\n",
       " 0.0,\n",
       " 0.0,\n",
       " 0.0,\n",
       " 0.0,\n",
       " 0.0,\n",
       " 0.0,\n",
       " 0.0,\n",
       " 0.0,\n",
       " 0.0,\n",
       " 0.0,\n",
       " 0.0,\n",
       " 0.0,\n",
       " 0.0,\n",
       " 0.0,\n",
       " 0.0,\n",
       " 0.0,\n",
       " 0.0,\n",
       " 0.0,\n",
       " 0.0,\n",
       " 0.0,\n",
       " 0.0,\n",
       " 0.0,\n",
       " 0.0,\n",
       " 0.0,\n",
       " 0.0,\n",
       " 0.0,\n",
       " 0.0,\n",
       " 0.0,\n",
       " 0.0,\n",
       " 0.0,\n",
       " 0.0,\n",
       " 0.0,\n",
       " 0.0,\n",
       " 0.0,\n",
       " 0.0,\n",
       " 0.0,\n",
       " 0.0,\n",
       " 0.0,\n",
       " 0.0,\n",
       " 0.0,\n",
       " 0.0,\n",
       " 0.0,\n",
       " 0.0,\n",
       " 0.0,\n",
       " 0.0,\n",
       " 0.0,\n",
       " 0.0,\n",
       " 0.0,\n",
       " 0.0,\n",
       " 0.0,\n",
       " 0.0,\n",
       " 0.0,\n",
       " 0.0,\n",
       " 0.0,\n",
       " 0.0,\n",
       " 0.0,\n",
       " 0.0,\n",
       " 0.0,\n",
       " 0.0,\n",
       " 0.0,\n",
       " 0.0,\n",
       " 0.0,\n",
       " 0.0,\n",
       " 0.0,\n",
       " 0.0,\n",
       " 0.0,\n",
       " 0.0,\n",
       " 0.0,\n",
       " 0.0,\n",
       " 0.0,\n",
       " 0.0,\n",
       " 0.0,\n",
       " 0.0,\n",
       " 0.0,\n",
       " 0.0,\n",
       " 0.0,\n",
       " 0.0,\n",
       " 0.0,\n",
       " 0.0,\n",
       " 0.0,\n",
       " 0.0,\n",
       " 0.0,\n",
       " 0.0,\n",
       " 0.0,\n",
       " 0.0,\n",
       " 0.0,\n",
       " 0.0,\n",
       " 0.0,\n",
       " 0.0,\n",
       " 0.0,\n",
       " 0.0,\n",
       " 0.0,\n",
       " 0.0,\n",
       " 0.0,\n",
       " 0.0,\n",
       " 0.0,\n",
       " 0.0,\n",
       " 0.0,\n",
       " 0.0,\n",
       " 0.0,\n",
       " 0.0,\n",
       " 0.0,\n",
       " 0.0,\n",
       " 0.0,\n",
       " 0.0,\n",
       " 0.0,\n",
       " 0.0,\n",
       " 0.0,\n",
       " 0.0,\n",
       " 0.0,\n",
       " 0.0,\n",
       " 0.0,\n",
       " 0.0,\n",
       " 0.0,\n",
       " 0.0,\n",
       " 0.0,\n",
       " 0.0,\n",
       " 0.0,\n",
       " 0.0,\n",
       " 0.0,\n",
       " 0.0,\n",
       " 0.0,\n",
       " 0.0,\n",
       " 0.0,\n",
       " 0.0,\n",
       " 0.0,\n",
       " 0.0,\n",
       " 0.0,\n",
       " 0.0,\n",
       " 0.0,\n",
       " 0.0,\n",
       " 0.0,\n",
       " 0.0,\n",
       " 1.0,\n",
       " 0.0,\n",
       " 0.0,\n",
       " 0.0,\n",
       " 0.0,\n",
       " 0.0,\n",
       " 0.0,\n",
       " 0.0,\n",
       " 0.0,\n",
       " 0.0,\n",
       " 0.0,\n",
       " 0.0,\n",
       " 0.0,\n",
       " 0.0,\n",
       " 0.0,\n",
       " 0.0,\n",
       " 0.0,\n",
       " 0.0,\n",
       " 0.0,\n",
       " 0.0,\n",
       " 0.0,\n",
       " 0.0,\n",
       " 0.0,\n",
       " 0.0,\n",
       " 0.0,\n",
       " 0.0,\n",
       " 0.0,\n",
       " 0.0,\n",
       " 0.0,\n",
       " 0.0,\n",
       " 0.0,\n",
       " 0.0,\n",
       " 0.0,\n",
       " 0.0,\n",
       " 0.0,\n",
       " 0.0,\n",
       " 0.0,\n",
       " 0.0,\n",
       " 0.0,\n",
       " 0.0,\n",
       " 0.0,\n",
       " 0.0,\n",
       " 0.0,\n",
       " 0.0,\n",
       " 0.0,\n",
       " 0.0,\n",
       " 0.0,\n",
       " 0.0,\n",
       " 0.0,\n",
       " 0.0,\n",
       " 0.0,\n",
       " 0.0,\n",
       " 0.0,\n",
       " 0.0,\n",
       " 0.0,\n",
       " 0.0,\n",
       " 0.0,\n",
       " 0.0,\n",
       " 0.0,\n",
       " 0.0,\n",
       " 0.0,\n",
       " 0.0,\n",
       " 0.0,\n",
       " 0.0,\n",
       " 0.0,\n",
       " 0.0,\n",
       " 0.0,\n",
       " 0.0,\n",
       " 0.0,\n",
       " 0.0,\n",
       " 0.0,\n",
       " 0.0,\n",
       " 0.0,\n",
       " 0.0,\n",
       " 0.0,\n",
       " 0.0,\n",
       " 0.0,\n",
       " 0.0,\n",
       " 0.0,\n",
       " 0.0,\n",
       " 0.0,\n",
       " 0.0,\n",
       " 0.0,\n",
       " 0.0,\n",
       " 0.0,\n",
       " 0.0,\n",
       " 0.0,\n",
       " 0.0,\n",
       " 0.0,\n",
       " 0.0,\n",
       " 0.0,\n",
       " 0.0,\n",
       " 1.0,\n",
       " 0.0,\n",
       " 0.0,\n",
       " 0.0,\n",
       " 0.0,\n",
       " 0.0,\n",
       " 0.0,\n",
       " 0.0,\n",
       " 0.0,\n",
       " 0.0,\n",
       " 0.0,\n",
       " 0.0,\n",
       " 0.0,\n",
       " 0.0,\n",
       " 0.0,\n",
       " 0.0,\n",
       " 0.0,\n",
       " 0.0,\n",
       " 0.0,\n",
       " 0.0,\n",
       " 0.0,\n",
       " 0.0,\n",
       " 0.0,\n",
       " 0.0,\n",
       " 0.0,\n",
       " 0.0,\n",
       " 0.0,\n",
       " 0.0,\n",
       " 0.0,\n",
       " 0.0,\n",
       " 0.0,\n",
       " 0.0,\n",
       " 0.0,\n",
       " 0.0,\n",
       " 1.0,\n",
       " 0.0,\n",
       " 0.0,\n",
       " 0.0,\n",
       " 0.0,\n",
       " 0.0,\n",
       " 0.0,\n",
       " 0.0,\n",
       " 0.0,\n",
       " 0.0,\n",
       " 0.0,\n",
       " 0.0,\n",
       " 0.0,\n",
       " 0.0,\n",
       " 0.0,\n",
       " 0.0,\n",
       " 0.0,\n",
       " 0.0,\n",
       " 0.0,\n",
       " 0.0,\n",
       " 0.0,\n",
       " 0.0,\n",
       " 0.0,\n",
       " 0.0,\n",
       " 0.0,\n",
       " 0.0,\n",
       " 0.0,\n",
       " 0.0,\n",
       " 0.0,\n",
       " 0.0,\n",
       " 0.0,\n",
       " 0.0,\n",
       " 0.0,\n",
       " 0.0,\n",
       " 0.0,\n",
       " 0.0,\n",
       " 0.0,\n",
       " 0.0,\n",
       " 0.0,\n",
       " 0.0,\n",
       " 0.0,\n",
       " 0.0,\n",
       " 0.0,\n",
       " 0.0,\n",
       " 0.0,\n",
       " 0.0,\n",
       " 0.0,\n",
       " 0.0,\n",
       " 0.0,\n",
       " 0.0,\n",
       " 0.0,\n",
       " 0.0,\n",
       " 0.0,\n",
       " 0.0,\n",
       " 0.0,\n",
       " 0.0,\n",
       " 0.0,\n",
       " 0.0,\n",
       " 0.0,\n",
       " 0.0,\n",
       " 0.0,\n",
       " 0.0,\n",
       " 0.0,\n",
       " 0.0,\n",
       " 0.0,\n",
       " 0.0,\n",
       " 0.0,\n",
       " 0.0,\n",
       " 0.0,\n",
       " 0.0,\n",
       " 0.0,\n",
       " 0.0,\n",
       " 0.0,\n",
       " 0.0,\n",
       " 0.0,\n",
       " 0.0,\n",
       " 0.0,\n",
       " 0.0,\n",
       " 0.0,\n",
       " 0.0,\n",
       " 0.0,\n",
       " 0.0,\n",
       " 0.0,\n",
       " 0.0,\n",
       " 0.0,\n",
       " 0.0,\n",
       " 0.0,\n",
       " 0.0,\n",
       " 0.0,\n",
       " 0.0,\n",
       " 0.0,\n",
       " 0.0,\n",
       " 0.0,\n",
       " 0.0,\n",
       " 0.0,\n",
       " 0.0,\n",
       " 0.0,\n",
       " 0.0,\n",
       " 0.0,\n",
       " 0.0,\n",
       " 0.0,\n",
       " 0.0,\n",
       " 0.0,\n",
       " 0.0,\n",
       " 0.0,\n",
       " 0.0,\n",
       " 0.0,\n",
       " 0.0,\n",
       " 0.0,\n",
       " 0.0,\n",
       " 0.0,\n",
       " 0.0,\n",
       " 0.0,\n",
       " 0.0,\n",
       " 0.0,\n",
       " 0.0,\n",
       " 0.0,\n",
       " 0.0,\n",
       " 0.0,\n",
       " 0.0,\n",
       " 0.0,\n",
       " 0.0,\n",
       " 0.0,\n",
       " 0.0,\n",
       " 0.0,\n",
       " 0.0,\n",
       " 0.0,\n",
       " 0.0,\n",
       " 0.0,\n",
       " 0.0,\n",
       " 0.0,\n",
       " 0.0,\n",
       " 0.0,\n",
       " 0.0,\n",
       " 0.0,\n",
       " 0.0,\n",
       " 0.0,\n",
       " 0.0,\n",
       " 0.0,\n",
       " 0.0,\n",
       " 0.0,\n",
       " 0.0,\n",
       " 0.0,\n",
       " 0.0,\n",
       " 0.0,\n",
       " 0.0,\n",
       " 0.0,\n",
       " 0.0,\n",
       " 0.0,\n",
       " 0.0,\n",
       " 0.0,\n",
       " 0.0,\n",
       " 0.0,\n",
       " 0.0,\n",
       " 0.0,\n",
       " 0.0,\n",
       " 0.0,\n",
       " 0.0,\n",
       " 0.0,\n",
       " 0.0,\n",
       " 0.0,\n",
       " 0.0,\n",
       " 0.0,\n",
       " 0.0,\n",
       " 0.0,\n",
       " 0.0,\n",
       " 0.0,\n",
       " 0.0,\n",
       " 0.0,\n",
       " 0.0,\n",
       " 0.0,\n",
       " 0.0,\n",
       " 0.0,\n",
       " 0.0,\n",
       " 0.0,\n",
       " 0.0,\n",
       " 0.0,\n",
       " 0.0,\n",
       " 0.0,\n",
       " 0.0,\n",
       " 1.0,\n",
       " 0.0,\n",
       " 0.0,\n",
       " 0.0,\n",
       " 0.0,\n",
       " 0.0,\n",
       " 0.0,\n",
       " 0.0,\n",
       " 0.0,\n",
       " 0.0,\n",
       " 0.0,\n",
       " 0.0,\n",
       " 0.0,\n",
       " 0.0,\n",
       " 0.0,\n",
       " 0.0,\n",
       " 0.0,\n",
       " 0.0,\n",
       " 0.0,\n",
       " 0.0,\n",
       " 0.0,\n",
       " 0.0,\n",
       " 0.0,\n",
       " 0.0,\n",
       " 0.0,\n",
       " 0.0,\n",
       " 0.0,\n",
       " 0.0,\n",
       " 0.0,\n",
       " 0.0,\n",
       " 0.0,\n",
       " 0.0,\n",
       " 0.0,\n",
       " 0.0,\n",
       " 0.0,\n",
       " 0.0,\n",
       " 0.0,\n",
       " 0.0,\n",
       " 0.0,\n",
       " 0.0,\n",
       " 0.0,\n",
       " 0.0,\n",
       " 0.0,\n",
       " 0.0,\n",
       " 0.0,\n",
       " 0.0,\n",
       " 0.0,\n",
       " 0.0,\n",
       " 0.0,\n",
       " 0.0,\n",
       " 0.0,\n",
       " 0.0,\n",
       " 0.0,\n",
       " 0.0,\n",
       " 0.0,\n",
       " 0.0,\n",
       " 0.0,\n",
       " 0.0,\n",
       " 0.0,\n",
       " 0.0,\n",
       " 0.0,\n",
       " 0.0,\n",
       " 0.0,\n",
       " 0.0,\n",
       " 0.0,\n",
       " 0.0,\n",
       " 0.0,\n",
       " 0.0,\n",
       " 0.0,\n",
       " 0.0,\n",
       " 0.0,\n",
       " 0.0,\n",
       " 0.0,\n",
       " 0.0,\n",
       " 0.0,\n",
       " 0.0,\n",
       " 0.0,\n",
       " 0.0,\n",
       " 0.0,\n",
       " 0.0,\n",
       " 0.0,\n",
       " 0.0,\n",
       " 0.0,\n",
       " 0.0,\n",
       " 0.0,\n",
       " 0.0,\n",
       " 0.0,\n",
       " 0.0,\n",
       " 0.0,\n",
       " 0.0,\n",
       " 0.0,\n",
       " 0.0,\n",
       " 0.0,\n",
       " 0.0,\n",
       " 0.0,\n",
       " 0.0,\n",
       " 0.0,\n",
       " 0.0,\n",
       " 0.0,\n",
       " 0.0,\n",
       " 0.0,\n",
       " 0.0,\n",
       " 0.0,\n",
       " 1.0,\n",
       " 0.0,\n",
       " 0.0,\n",
       " 0.0,\n",
       " 0.0,\n",
       " 0.0,\n",
       " 0.0,\n",
       " 0.0,\n",
       " 0.0,\n",
       " 0.0,\n",
       " 0.0,\n",
       " 0.0,\n",
       " 0.0,\n",
       " 0.0,\n",
       " 0.0,\n",
       " 0.0,\n",
       " 0.0,\n",
       " 0.0,\n",
       " 0.0,\n",
       " 0.0,\n",
       " 0.0,\n",
       " 0.0,\n",
       " 0.0,\n",
       " 0.0,\n",
       " 0.0,\n",
       " 0.0,\n",
       " 0.0,\n",
       " 0.0,\n",
       " 0.0,\n",
       " 0.0,\n",
       " 0.0,\n",
       " 0.0,\n",
       " 0.0,\n",
       " 0.0,\n",
       " 0.0,\n",
       " 0.0,\n",
       " 0.0,\n",
       " 0.0,\n",
       " 0.0,\n",
       " 0.0,\n",
       " 0.0,\n",
       " 0.0,\n",
       " 0.0,\n",
       " 0.0,\n",
       " 0.0,\n",
       " 0.0,\n",
       " 0.0,\n",
       " 0.0,\n",
       " 0.0,\n",
       " 0.0,\n",
       " 0.0,\n",
       " 0.0,\n",
       " 0.0,\n",
       " 0.0,\n",
       " 0.0,\n",
       " 0.0,\n",
       " 0.0,\n",
       " 0.0,\n",
       " 0.0,\n",
       " 0.0,\n",
       " 0.0,\n",
       " 0.0,\n",
       " 0.0,\n",
       " 0.0,\n",
       " 0.0,\n",
       " 0.0,\n",
       " 0.0,\n",
       " 0.0,\n",
       " 0.0,\n",
       " 0.0,\n",
       " 0.0,\n",
       " 0.0,\n",
       " 0.0,\n",
       " 0.0,\n",
       " 0.0,\n",
       " 0.0,\n",
       " 0.0,\n",
       " 0.0,\n",
       " 0.0,\n",
       " 0.0,\n",
       " 0.0,\n",
       " 0.0,\n",
       " 0.0,\n",
       " 0.0,\n",
       " 0.0,\n",
       " 0.0,\n",
       " 0.0,\n",
       " 0.0,\n",
       " 0.0,\n",
       " 0.0,\n",
       " 0.0,\n",
       " 0.0,\n",
       " 0.0,\n",
       " 0.0,\n",
       " 0.0,\n",
       " 0.0,\n",
       " 0.0,\n",
       " 0.0,\n",
       " 0.0,\n",
       " 0.0,\n",
       " 0.0,\n",
       " 0.0,\n",
       " 0.0,\n",
       " 0.0,\n",
       " 0.0,\n",
       " 0.0,\n",
       " 0.0,\n",
       " 0.0,\n",
       " 0.0,\n",
       " 0.0,\n",
       " 0.0,\n",
       " 0.0,\n",
       " 0.0,\n",
       " 0.0,\n",
       " 0.0,\n",
       " 0.0,\n",
       " 0.0,\n",
       " 0.0,\n",
       " 0.0,\n",
       " 0.0,\n",
       " 0.0,\n",
       " 0.0,\n",
       " 0.0,\n",
       " 0.0,\n",
       " 0.0,\n",
       " 0.0,\n",
       " 0.0,\n",
       " 0.0,\n",
       " 0.0,\n",
       " 0.0,\n",
       " 0.0,\n",
       " 0.0,\n",
       " 0.0,\n",
       " 0.0,\n",
       " 0.0,\n",
       " 0.0,\n",
       " 0.0,\n",
       " 0.0,\n",
       " 0.0,\n",
       " 0.0,\n",
       " 0.0,\n",
       " 0.0,\n",
       " 0.0,\n",
       " 0.0,\n",
       " 0.0,\n",
       " 0.0,\n",
       " 0.0,\n",
       " 0.0,\n",
       " 0.0,\n",
       " 0.0,\n",
       " 0.0,\n",
       " 0.0,\n",
       " 0.0,\n",
       " 0.0,\n",
       " 0.0,\n",
       " 0.0,\n",
       " 0.0,\n",
       " 0.0,\n",
       " 0.0,\n",
       " 0.0,\n",
       " 0.0,\n",
       " 0.0,\n",
       " 0.0,\n",
       " 0.0,\n",
       " 0.0,\n",
       " 0.0,\n",
       " 0.0,\n",
       " 0.0,\n",
       " 0.0,\n",
       " 0.0,\n",
       " 0.0,\n",
       " 0.0,\n",
       " 0.0,\n",
       " 0.0,\n",
       " 0.0,\n",
       " 0.0,\n",
       " 0.0,\n",
       " 0.0,\n",
       " 0.0,\n",
       " 0.0,\n",
       " 0.0,\n",
       " 0.0,\n",
       " 0.0,\n",
       " 0.0,\n",
       " 0.0,\n",
       " 0.0,\n",
       " 0.0,\n",
       " 0.0,\n",
       " 0.0,\n",
       " 0.0,\n",
       " 0.0,\n",
       " 0.0,\n",
       " 0.0,\n",
       " 0.0,\n",
       " 0.0,\n",
       " 0.0,\n",
       " 0.0,\n",
       " 0.0,\n",
       " 0.0,\n",
       " 0.0,\n",
       " 0.0,\n",
       " 0.0,\n",
       " 0.0,\n",
       " 0.0,\n",
       " 0.0,\n",
       " 0.0,\n",
       " 0.0,\n",
       " 0.0,\n",
       " 0.0,\n",
       " 0.0,\n",
       " 0.0,\n",
       " 0.0,\n",
       " 0.0,\n",
       " 0.0,\n",
       " 0.0,\n",
       " 0.0,\n",
       " 0.0,\n",
       " 0.0,\n",
       " 0.0,\n",
       " 0.0,\n",
       " 0.0,\n",
       " 0.0,\n",
       " 0.0,\n",
       " 0.0,\n",
       " 0.0,\n",
       " 0.0,\n",
       " 0.0,\n",
       " 0.0,\n",
       " 0.0,\n",
       " 0.0,\n",
       " 0.0,\n",
       " 0.0,\n",
       " 0.0,\n",
       " 0.0,\n",
       " 0.0,\n",
       " 0.0,\n",
       " 0.0,\n",
       " 0.0,\n",
       " 0.0,\n",
       " 0.0,\n",
       " 0.0,\n",
       " 0.0,\n",
       " 0.0,\n",
       " 0.0,\n",
       " 0.0,\n",
       " 0.0,\n",
       " 0.0,\n",
       " 0.0,\n",
       " 0.0,\n",
       " 0.0,\n",
       " 0.0,\n",
       " 0.0,\n",
       " 0.0,\n",
       " 0.0,\n",
       " 0.0,\n",
       " 0.0,\n",
       " 0.0,\n",
       " 0.0,\n",
       " 0.0,\n",
       " 0.0,\n",
       " 0.0,\n",
       " 0.0,\n",
       " 0.0,\n",
       " 0.0,\n",
       " 0.0,\n",
       " 0.0,\n",
       " 0.0,\n",
       " 0.0,\n",
       " 0.0,\n",
       " 0.0,\n",
       " 0.0,\n",
       " 0.0,\n",
       " 0.0,\n",
       " 0.0,\n",
       " 0.0,\n",
       " 0.0,\n",
       " 0.0,\n",
       " 0.0,\n",
       " 0.0,\n",
       " 0.0,\n",
       " 0.0,\n",
       " 0.0,\n",
       " 0.0,\n",
       " 0.0,\n",
       " 0.0,\n",
       " 0.0,\n",
       " 0.0,\n",
       " 0.0,\n",
       " 0.0,\n",
       " 0.0,\n",
       " 0.0,\n",
       " ...]"
      ]
     },
     "execution_count": 91,
     "metadata": {},
     "output_type": "execute_result"
    }
   ],
   "source": [
    "support_unnormalized.toarray()[1].tolist()"
   ]
  },
  {
   "cell_type": "code",
   "execution_count": 92,
   "id": "8a26e898",
   "metadata": {
    "ExecuteTime": {
     "end_time": "2021-08-25T13:58:49.446846Z",
     "start_time": "2021-08-25T13:58:49.438841Z"
    }
   },
   "outputs": [
    {
     "data": {
      "text/plain": [
       "<3000x3000 sparse matrix of type '<class 'numpy.float32'>'\n",
       "\twith 25288 stored elements in Compressed Sparse Row format>"
      ]
     },
     "execution_count": 92,
     "metadata": {},
     "output_type": "execute_result"
    }
   ],
   "source": [
    "support_unnormalized"
   ]
  },
  {
   "cell_type": "code",
   "execution_count": 93,
   "id": "6ebd2f9a",
   "metadata": {
    "ExecuteTime": {
     "end_time": "2021-08-25T13:58:51.213492Z",
     "start_time": "2021-08-25T13:58:51.205487Z"
    }
   },
   "outputs": [],
   "source": [
    "support_unnormalized_transpose = support_unnormalized.T\n",
    "support.append(support_unnormalized)\n",
    "support_t.append(support_unnormalized_transpose)"
   ]
  },
  {
   "cell_type": "code",
   "execution_count": 94,
   "id": "66c1ce75",
   "metadata": {
    "ExecuteTime": {
     "end_time": "2021-08-25T13:58:53.789473Z",
     "start_time": "2021-08-25T13:58:53.773474Z"
    }
   },
   "outputs": [
    {
     "data": {
      "text/plain": [
       "[<3000x3000 sparse matrix of type '<class 'numpy.float32'>'\n",
       " \twith 25288 stored elements in Compressed Sparse Row format>]"
      ]
     },
     "execution_count": 94,
     "metadata": {},
     "output_type": "execute_result"
    }
   ],
   "source": [
    "support"
   ]
  },
  {
   "cell_type": "code",
   "execution_count": 95,
   "id": "af713969",
   "metadata": {
    "ExecuteTime": {
     "end_time": "2021-08-25T13:58:55.311162Z",
     "start_time": "2021-08-25T13:58:55.303187Z"
    }
   },
   "outputs": [
    {
     "data": {
      "text/plain": [
       "[<3000x3000 sparse matrix of type '<class 'numpy.float32'>'\n",
       " \twith 25288 stored elements in Compressed Sparse Column format>]"
      ]
     },
     "execution_count": 95,
     "metadata": {},
     "output_type": "execute_result"
    }
   ],
   "source": [
    "support_t"
   ]
  },
  {
   "cell_type": "markdown",
   "id": "165356eb",
   "metadata": {},
   "source": [
    "## Func: globally_normalize_bipartite_adjacency (adjacencies=support,verbose=False, symmetric=True)"
   ]
  },
  {
   "cell_type": "markdown",
   "id": "2910bbb9",
   "metadata": {},
   "source": [
    "### for support..."
   ]
  },
  {
   "cell_type": "code",
   "execution_count": 96,
   "id": "e32a4539",
   "metadata": {
    "ExecuteTime": {
     "end_time": "2021-08-25T13:59:42.045670Z",
     "start_time": "2021-08-25T13:59:42.032033Z"
    }
   },
   "outputs": [
    {
     "name": "stderr",
     "output_type": "stream",
     "text": [
      "c:\\python37\\lib\\site-packages\\ipykernel_launcher.py:3: DeprecationWarning: Calling np.sum(generator) is deprecated, and in the future will give a different result. Use np.sum(np.fromiter(generator)) or the python sum builtin instead.\n",
      "  This is separate from the ipykernel package so we can avoid doing imports until\n"
     ]
    },
    {
     "data": {
      "text/plain": [
       "<3000x3000 sparse matrix of type '<class 'numpy.float32'>'\n",
       "\twith 25288 stored elements in Compressed Sparse Row format>"
      ]
     },
     "execution_count": 96,
     "metadata": {},
     "output_type": "execute_result"
    }
   ],
   "source": [
    "# degree_u and degree_v are row and column sums of adj+I\n",
    "adjacencies=support\n",
    "adj_tot = np.sum(adj for adj in adjacencies)\n",
    "adj_tot"
   ]
  },
  {
   "cell_type": "code",
   "execution_count": 97,
   "id": "6267e1bf",
   "metadata": {
    "ExecuteTime": {
     "end_time": "2021-08-25T13:59:44.914678Z",
     "start_time": "2021-08-25T13:59:44.895382Z"
    }
   },
   "outputs": [
    {
     "data": {
      "text/plain": [
       "(array([ 4., 10., 10., ...,  0.,  2.,  8.], dtype=float32), (3000,))"
      ]
     },
     "execution_count": 97,
     "metadata": {},
     "output_type": "execute_result"
    }
   ],
   "source": [
    "degree_u = np.asarray(adj_tot.sum(1)).flatten()\n",
    "degree_u,degree_u.shape"
   ]
  },
  {
   "cell_type": "code",
   "execution_count": 98,
   "id": "fe0da2e6",
   "metadata": {
    "ExecuteTime": {
     "end_time": "2021-08-25T14:00:05.851078Z",
     "start_time": "2021-08-25T14:00:05.792982Z"
    }
   },
   "outputs": [
    {
     "data": {
      "text/plain": [
       "(array([35., 21.,  8., ...,  9.,  9.,  0.], dtype=float32), (3000,))"
      ]
     },
     "execution_count": 98,
     "metadata": {},
     "output_type": "execute_result"
    }
   ],
   "source": [
    "degree_v = np.asarray(adj_tot.sum(0)).flatten()\n",
    "degree_v,degree_v.shape"
   ]
  },
  {
   "cell_type": "code",
   "execution_count": 99,
   "id": "e1c333fe",
   "metadata": {
    "ExecuteTime": {
     "end_time": "2021-08-25T14:00:06.854960Z",
     "start_time": "2021-08-25T14:00:06.848345Z"
    }
   },
   "outputs": [],
   "source": [
    "# set zeros to inf to avoid dividing by zero\n",
    "degree_u[degree_u == 0.] = np.inf\n",
    "degree_v[degree_v == 0.] = np.inf"
   ]
  },
  {
   "cell_type": "code",
   "execution_count": 100,
   "id": "958a9540",
   "metadata": {
    "ExecuteTime": {
     "end_time": "2021-08-25T14:00:14.131449Z",
     "start_time": "2021-08-25T14:00:14.091418Z"
    }
   },
   "outputs": [
    {
     "data": {
      "text/plain": [
       "array([ 4., 10., 10., ..., inf,  2.,  8.], dtype=float32)"
      ]
     },
     "execution_count": 100,
     "metadata": {},
     "output_type": "execute_result"
    }
   ],
   "source": [
    "degree_u"
   ]
  },
  {
   "cell_type": "code",
   "execution_count": 101,
   "id": "be6aa435",
   "metadata": {
    "ExecuteTime": {
     "end_time": "2021-08-25T14:00:15.323376Z",
     "start_time": "2021-08-25T14:00:15.313537Z"
    }
   },
   "outputs": [
    {
     "data": {
      "text/plain": [
       "array([35., 21.,  8., ...,  9.,  9., inf], dtype=float32)"
      ]
     },
     "execution_count": 101,
     "metadata": {},
     "output_type": "execute_result"
    }
   ],
   "source": [
    "degree_v"
   ]
  },
  {
   "cell_type": "code",
   "execution_count": 102,
   "id": "8b800ede",
   "metadata": {
    "ExecuteTime": {
     "end_time": "2021-08-25T14:00:17.519244Z",
     "start_time": "2021-08-25T14:00:17.504297Z"
    }
   },
   "outputs": [],
   "source": [
    "degree_u_inv_sqrt = 1. / np.sqrt(degree_u)"
   ]
  },
  {
   "cell_type": "code",
   "execution_count": 103,
   "id": "b0f6bc87",
   "metadata": {
    "ExecuteTime": {
     "end_time": "2021-08-25T14:00:18.432201Z",
     "start_time": "2021-08-25T14:00:18.423755Z"
    }
   },
   "outputs": [
    {
     "data": {
      "text/plain": [
       "array([0.5       , 0.31622776, 0.31622776, ..., 0.        , 0.70710677,\n",
       "       0.35355338], dtype=float32)"
      ]
     },
     "execution_count": 103,
     "metadata": {},
     "output_type": "execute_result"
    }
   ],
   "source": [
    "degree_u_inv_sqrt"
   ]
  },
  {
   "cell_type": "code",
   "execution_count": 104,
   "id": "7b2606a8",
   "metadata": {
    "ExecuteTime": {
     "end_time": "2021-08-25T14:01:28.371959Z",
     "start_time": "2021-08-25T14:01:28.360992Z"
    }
   },
   "outputs": [
    {
     "data": {
      "text/plain": [
       "array([0.16903085, 0.21821788, 0.35355338, ..., 0.33333334, 0.33333334,\n",
       "       0.        ], dtype=float32)"
      ]
     },
     "execution_count": 104,
     "metadata": {},
     "output_type": "execute_result"
    }
   ],
   "source": [
    "degree_v_inv_sqrt = 1. / np.sqrt(degree_v)\n",
    "degree_v_inv_sqrt"
   ]
  },
  {
   "cell_type": "code",
   "execution_count": 105,
   "id": "2e9e9f37",
   "metadata": {
    "ExecuteTime": {
     "end_time": "2021-08-25T14:01:32.543643Z",
     "start_time": "2021-08-25T14:01:32.537541Z"
    }
   },
   "outputs": [],
   "source": [
    "degree_u_inv_sqrt_mat = sp.diags([degree_u_inv_sqrt], [0])"
   ]
  },
  {
   "cell_type": "code",
   "execution_count": 106,
   "id": "0c9317c5",
   "metadata": {
    "ExecuteTime": {
     "end_time": "2021-08-25T14:01:33.597984Z",
     "start_time": "2021-08-25T14:01:33.576798Z"
    },
    "scrolled": true
   },
   "outputs": [
    {
     "data": {
      "text/plain": [
       "array([[0.5       , 0.        , 0.        , ..., 0.        , 0.        ,\n",
       "        0.        ],\n",
       "       [0.        , 0.31622776, 0.        , ..., 0.        , 0.        ,\n",
       "        0.        ],\n",
       "       [0.        , 0.        , 0.31622776, ..., 0.        , 0.        ,\n",
       "        0.        ],\n",
       "       ...,\n",
       "       [0.        , 0.        , 0.        , ..., 0.        , 0.        ,\n",
       "        0.        ],\n",
       "       [0.        , 0.        , 0.        , ..., 0.        , 0.70710677,\n",
       "        0.        ],\n",
       "       [0.        , 0.        , 0.        , ..., 0.        , 0.        ,\n",
       "        0.35355338]], dtype=float32)"
      ]
     },
     "execution_count": 106,
     "metadata": {},
     "output_type": "execute_result"
    }
   ],
   "source": [
    "degree_u_inv_sqrt_mat.toarray()"
   ]
  },
  {
   "cell_type": "code",
   "execution_count": 107,
   "id": "8a92f755",
   "metadata": {
    "ExecuteTime": {
     "end_time": "2021-08-25T14:01:44.964226Z",
     "start_time": "2021-08-25T14:01:44.944573Z"
    }
   },
   "outputs": [
    {
     "data": {
      "text/plain": [
       "<3000x3000 sparse matrix of type '<class 'numpy.float32'>'\n",
       "\twith 3000 stored elements (1 diagonals) in DIAgonal format>"
      ]
     },
     "execution_count": 107,
     "metadata": {},
     "output_type": "execute_result"
    }
   ],
   "source": [
    "degree_u_inv_sqrt_mat"
   ]
  },
  {
   "cell_type": "code",
   "execution_count": 108,
   "id": "9bb67026",
   "metadata": {
    "ExecuteTime": {
     "end_time": "2021-08-25T14:08:16.837200Z",
     "start_time": "2021-08-25T14:08:16.831561Z"
    }
   },
   "outputs": [
    {
     "data": {
      "text/plain": [
       "<3000x3000 sparse matrix of type '<class 'numpy.float32'>'\n",
       "\twith 3000 stored elements (1 diagonals) in DIAgonal format>"
      ]
     },
     "execution_count": 108,
     "metadata": {},
     "output_type": "execute_result"
    }
   ],
   "source": [
    "degree_v_inv_sqrt_mat = sp.diags([degree_v_inv_sqrt], [0])\n",
    "degree_v_inv_sqrt_mat"
   ]
  },
  {
   "cell_type": "code",
   "execution_count": 109,
   "id": "79ae7c07",
   "metadata": {
    "ExecuteTime": {
     "end_time": "2021-08-25T14:08:20.643315Z",
     "start_time": "2021-08-25T14:08:20.632353Z"
    }
   },
   "outputs": [],
   "source": [
    "degree_u_inv = degree_u_inv_sqrt_mat.dot(degree_u_inv_sqrt_mat) #D-0.5*D-0.5 = D-1"
   ]
  },
  {
   "cell_type": "code",
   "execution_count": 110,
   "id": "921b1431",
   "metadata": {
    "ExecuteTime": {
     "end_time": "2021-08-25T14:08:26.921265Z",
     "start_time": "2021-08-25T14:08:26.902974Z"
    }
   },
   "outputs": [
    {
     "data": {
      "text/plain": [
       "<3000x3000 sparse matrix of type '<class 'numpy.float32'>'\n",
       "\twith 2783 stored elements in Compressed Sparse Row format>"
      ]
     },
     "execution_count": 110,
     "metadata": {},
     "output_type": "execute_result"
    }
   ],
   "source": [
    "degree_u_inv"
   ]
  },
  {
   "cell_type": "code",
   "execution_count": 111,
   "id": "25de41be",
   "metadata": {
    "ExecuteTime": {
     "end_time": "2021-08-25T14:09:22.460321Z",
     "start_time": "2021-08-25T14:09:22.442786Z"
    }
   },
   "outputs": [],
   "source": [
    "adj_norm = [degree_u_inv_sqrt_mat.dot(adj).dot(degree_v_inv_sqrt_mat) for adj in adjacencies]"
   ]
  },
  {
   "cell_type": "code",
   "execution_count": 112,
   "id": "19e39991",
   "metadata": {
    "ExecuteTime": {
     "end_time": "2021-08-25T14:09:26.018799Z",
     "start_time": "2021-08-25T14:09:26.000852Z"
    }
   },
   "outputs": [],
   "source": [
    "support=adj_norm"
   ]
  },
  {
   "cell_type": "code",
   "execution_count": 113,
   "id": "176a24b0",
   "metadata": {
    "ExecuteTime": {
     "end_time": "2021-08-25T14:09:26.622839Z",
     "start_time": "2021-08-25T14:09:26.612886Z"
    }
   },
   "outputs": [
    {
     "data": {
      "text/plain": [
       "[<3000x3000 sparse matrix of type '<class 'numpy.float32'>'\n",
       " \twith 25288 stored elements in Compressed Sparse Row format>]"
      ]
     },
     "execution_count": 113,
     "metadata": {},
     "output_type": "execute_result"
    }
   ],
   "source": [
    "support"
   ]
  },
  {
   "cell_type": "markdown",
   "id": "e3191daa",
   "metadata": {},
   "source": [
    "### for support_t"
   ]
  },
  {
   "cell_type": "code",
   "execution_count": 114,
   "id": "1a7b411e",
   "metadata": {
    "ExecuteTime": {
     "end_time": "2021-08-25T14:09:45.414970Z",
     "start_time": "2021-08-25T14:09:45.399109Z"
    }
   },
   "outputs": [
    {
     "name": "stderr",
     "output_type": "stream",
     "text": [
      "c:\\python37\\lib\\site-packages\\ipykernel_launcher.py:3: DeprecationWarning: Calling np.sum(generator) is deprecated, and in the future will give a different result. Use np.sum(np.fromiter(generator)) or the python sum builtin instead.\n",
      "  This is separate from the ipykernel package so we can avoid doing imports until\n"
     ]
    },
    {
     "data": {
      "text/plain": [
       "<3000x3000 sparse matrix of type '<class 'numpy.float32'>'\n",
       "\twith 25288 stored elements in Compressed Sparse Column format>"
      ]
     },
     "execution_count": 114,
     "metadata": {},
     "output_type": "execute_result"
    }
   ],
   "source": [
    "# degree_u and degree_v are row and column sums of adj+I\n",
    "adjacencies=support_t\n",
    "adj_tot = np.sum(adj for adj in adjacencies)\n",
    "adj_tot"
   ]
  },
  {
   "cell_type": "code",
   "execution_count": 115,
   "id": "6e5a7fd1",
   "metadata": {
    "ExecuteTime": {
     "end_time": "2021-08-25T14:10:33.025909Z",
     "start_time": "2021-08-25T14:10:33.016642Z"
    }
   },
   "outputs": [
    {
     "data": {
      "text/plain": [
       "(array([35., 21.,  8., ...,  9.,  9.,  0.], dtype=float32), (3000,))"
      ]
     },
     "execution_count": 115,
     "metadata": {},
     "output_type": "execute_result"
    }
   ],
   "source": [
    "degree_u = np.asarray(adj_tot.sum(1)).flatten() # one movie got rating from 35 users...\n",
    "degree_u,degree_u.shape"
   ]
  },
  {
   "cell_type": "code",
   "execution_count": 116,
   "id": "2f789327",
   "metadata": {
    "ExecuteTime": {
     "end_time": "2021-08-25T14:10:35.235904Z",
     "start_time": "2021-08-25T14:10:35.215712Z"
    }
   },
   "outputs": [
    {
     "data": {
      "text/plain": [
       "(array([ 4., 10., 10., ...,  0.,  2.,  8.], dtype=float32), (3000,))"
      ]
     },
     "execution_count": 116,
     "metadata": {},
     "output_type": "execute_result"
    }
   ],
   "source": [
    "degree_v = np.asarray(adj_tot.sum(0)).flatten() # one user rated for 4 movies...\n",
    "degree_v,degree_v.shape"
   ]
  },
  {
   "cell_type": "code",
   "execution_count": 117,
   "id": "132468a0",
   "metadata": {
    "ExecuteTime": {
     "end_time": "2021-08-25T14:11:24.146019Z",
     "start_time": "2021-08-25T14:11:24.138605Z"
    }
   },
   "outputs": [],
   "source": [
    "# set zeros to inf to avoid dividing by zero\n",
    "degree_u[degree_u == 0.] = np.inf\n",
    "degree_v[degree_v == 0.] = np.inf"
   ]
  },
  {
   "cell_type": "code",
   "execution_count": 118,
   "id": "04254ac7",
   "metadata": {
    "ExecuteTime": {
     "end_time": "2021-08-25T14:11:24.899718Z",
     "start_time": "2021-08-25T14:11:24.888961Z"
    }
   },
   "outputs": [
    {
     "data": {
      "text/plain": [
       "array([35., 21.,  8., ...,  9.,  9., inf], dtype=float32)"
      ]
     },
     "execution_count": 118,
     "metadata": {},
     "output_type": "execute_result"
    }
   ],
   "source": [
    "degree_u"
   ]
  },
  {
   "cell_type": "code",
   "execution_count": 168,
   "id": "9260eea3",
   "metadata": {
    "ExecuteTime": {
     "end_time": "2021-08-25T11:36:47.594261Z",
     "start_time": "2021-08-25T11:36:47.573268Z"
    }
   },
   "outputs": [
    {
     "data": {
      "text/plain": [
       "array([ 4., 10., 10., ..., inf,  2.,  8.], dtype=float32)"
      ]
     },
     "execution_count": 168,
     "metadata": {},
     "output_type": "execute_result"
    }
   ],
   "source": [
    "degree_v"
   ]
  },
  {
   "cell_type": "code",
   "execution_count": 119,
   "id": "3b182497",
   "metadata": {
    "ExecuteTime": {
     "end_time": "2021-08-25T14:11:29.253784Z",
     "start_time": "2021-08-25T14:11:29.248078Z"
    }
   },
   "outputs": [],
   "source": [
    "degree_u_inv_sqrt = 1. / np.sqrt(degree_u)"
   ]
  },
  {
   "cell_type": "code",
   "execution_count": 120,
   "id": "de8a595c",
   "metadata": {
    "ExecuteTime": {
     "end_time": "2021-08-25T14:11:30.492493Z",
     "start_time": "2021-08-25T14:11:30.480500Z"
    }
   },
   "outputs": [
    {
     "data": {
      "text/plain": [
       "array([0.16903085, 0.21821788, 0.35355338, ..., 0.33333334, 0.33333334,\n",
       "       0.        ], dtype=float32)"
      ]
     },
     "execution_count": 120,
     "metadata": {},
     "output_type": "execute_result"
    }
   ],
   "source": [
    "degree_u_inv_sqrt"
   ]
  },
  {
   "cell_type": "code",
   "execution_count": 121,
   "id": "3ea116ca",
   "metadata": {
    "ExecuteTime": {
     "end_time": "2021-08-25T14:11:32.887465Z",
     "start_time": "2021-08-25T14:11:32.880013Z"
    }
   },
   "outputs": [
    {
     "data": {
      "text/plain": [
       "array([0.5       , 0.31622776, 0.31622776, ..., 0.        , 0.70710677,\n",
       "       0.35355338], dtype=float32)"
      ]
     },
     "execution_count": 121,
     "metadata": {},
     "output_type": "execute_result"
    }
   ],
   "source": [
    "degree_v_inv_sqrt = 1. / np.sqrt(degree_v)\n",
    "degree_v_inv_sqrt"
   ]
  },
  {
   "cell_type": "code",
   "execution_count": 122,
   "id": "49f9eceb",
   "metadata": {
    "ExecuteTime": {
     "end_time": "2021-08-25T14:11:35.728883Z",
     "start_time": "2021-08-25T14:11:35.712356Z"
    }
   },
   "outputs": [],
   "source": [
    "degree_u_inv_sqrt_mat = sp.diags([degree_u_inv_sqrt], [0])"
   ]
  },
  {
   "cell_type": "code",
   "execution_count": 123,
   "id": "d1945812",
   "metadata": {
    "ExecuteTime": {
     "end_time": "2021-08-25T14:11:36.730031Z",
     "start_time": "2021-08-25T14:11:36.720702Z"
    }
   },
   "outputs": [
    {
     "data": {
      "text/plain": [
       "<3000x3000 sparse matrix of type '<class 'numpy.float32'>'\n",
       "\twith 3000 stored elements (1 diagonals) in DIAgonal format>"
      ]
     },
     "execution_count": 123,
     "metadata": {},
     "output_type": "execute_result"
    }
   ],
   "source": [
    "degree_u_inv_sqrt_mat"
   ]
  },
  {
   "cell_type": "code",
   "execution_count": 124,
   "id": "64a03d4b",
   "metadata": {
    "ExecuteTime": {
     "end_time": "2021-08-25T14:11:48.272358Z",
     "start_time": "2021-08-25T14:11:48.265475Z"
    }
   },
   "outputs": [
    {
     "data": {
      "text/plain": [
       "<3000x3000 sparse matrix of type '<class 'numpy.float32'>'\n",
       "\twith 3000 stored elements (1 diagonals) in DIAgonal format>"
      ]
     },
     "execution_count": 124,
     "metadata": {},
     "output_type": "execute_result"
    }
   ],
   "source": [
    "degree_v_inv_sqrt_mat = sp.diags([degree_v_inv_sqrt], [0])\n",
    "degree_v_inv_sqrt_mat"
   ]
  },
  {
   "cell_type": "code",
   "execution_count": 125,
   "id": "e979df37",
   "metadata": {
    "ExecuteTime": {
     "end_time": "2021-08-25T14:11:51.104679Z",
     "start_time": "2021-08-25T14:11:51.086909Z"
    }
   },
   "outputs": [],
   "source": [
    "degree_u_inv = degree_u_inv_sqrt_mat.dot(degree_u_inv_sqrt_mat)"
   ]
  },
  {
   "cell_type": "code",
   "execution_count": 126,
   "id": "4099f11a",
   "metadata": {
    "ExecuteTime": {
     "end_time": "2021-08-25T14:11:52.599616Z",
     "start_time": "2021-08-25T14:11:52.584589Z"
    }
   },
   "outputs": [
    {
     "data": {
      "text/plain": [
       "<3000x3000 sparse matrix of type '<class 'numpy.float32'>'\n",
       "\twith 2827 stored elements in Compressed Sparse Row format>"
      ]
     },
     "execution_count": 126,
     "metadata": {},
     "output_type": "execute_result"
    }
   ],
   "source": [
    "degree_u_inv"
   ]
  },
  {
   "cell_type": "code",
   "execution_count": 127,
   "id": "8f2d5f5b",
   "metadata": {
    "ExecuteTime": {
     "end_time": "2021-08-25T14:12:04.224108Z",
     "start_time": "2021-08-25T14:12:04.210331Z"
    }
   },
   "outputs": [],
   "source": [
    "adj_norm = [degree_u_inv_sqrt_mat.dot(adj).dot(degree_v_inv_sqrt_mat) for adj in adjacencies]"
   ]
  },
  {
   "cell_type": "code",
   "execution_count": 128,
   "id": "d31de4de",
   "metadata": {
    "ExecuteTime": {
     "end_time": "2021-08-25T14:12:06.322211Z",
     "start_time": "2021-08-25T14:12:06.303364Z"
    }
   },
   "outputs": [],
   "source": [
    "support_t=adj_norm"
   ]
  },
  {
   "cell_type": "code",
   "execution_count": 129,
   "id": "0cd330cf",
   "metadata": {
    "ExecuteTime": {
     "end_time": "2021-08-25T14:12:10.564286Z",
     "start_time": "2021-08-25T14:12:10.544372Z"
    }
   },
   "outputs": [
    {
     "data": {
      "text/plain": [
       "[<3000x3000 sparse matrix of type '<class 'numpy.float32'>'\n",
       " \twith 25288 stored elements in Compressed Sparse Row format>]"
      ]
     },
     "execution_count": 129,
     "metadata": {},
     "output_type": "execute_result"
    }
   ],
   "source": [
    "support_t"
   ]
  },
  {
   "cell_type": "code",
   "execution_count": 130,
   "id": "8e5d33a4",
   "metadata": {
    "ExecuteTime": {
     "end_time": "2021-08-25T14:16:38.845855Z",
     "start_time": "2021-08-25T14:16:38.834479Z"
    }
   },
   "outputs": [],
   "source": [
    "support.append(sp.identity(u_features.shape[0], format='csr'))"
   ]
  },
  {
   "cell_type": "code",
   "execution_count": 131,
   "id": "5ae74f6f",
   "metadata": {
    "ExecuteTime": {
     "end_time": "2021-08-25T14:16:39.794048Z",
     "start_time": "2021-08-25T14:16:39.785269Z"
    }
   },
   "outputs": [
    {
     "data": {
      "text/plain": [
       "[<3000x3000 sparse matrix of type '<class 'numpy.float32'>'\n",
       " \twith 25288 stored elements in Compressed Sparse Row format>,\n",
       " <3000x3000 sparse matrix of type '<class 'numpy.float64'>'\n",
       " \twith 3000 stored elements in Compressed Sparse Row format>]"
      ]
     },
     "execution_count": 131,
     "metadata": {},
     "output_type": "execute_result"
    }
   ],
   "source": [
    "support"
   ]
  },
  {
   "cell_type": "code",
   "execution_count": 132,
   "id": "cf2895e8",
   "metadata": {
    "ExecuteTime": {
     "end_time": "2021-08-25T14:16:44.427477Z",
     "start_time": "2021-08-25T14:16:44.412366Z"
    }
   },
   "outputs": [],
   "source": [
    "support_t.append(sp.identity(v_features.shape[0], format='csr'))"
   ]
  },
  {
   "cell_type": "code",
   "execution_count": 133,
   "id": "2aab28a3",
   "metadata": {
    "ExecuteTime": {
     "end_time": "2021-08-25T14:16:45.829301Z",
     "start_time": "2021-08-25T14:16:45.809195Z"
    }
   },
   "outputs": [
    {
     "data": {
      "text/plain": [
       "[<3000x3000 sparse matrix of type '<class 'numpy.float32'>'\n",
       " \twith 25288 stored elements in Compressed Sparse Row format>,\n",
       " <3000x3000 sparse matrix of type '<class 'numpy.float64'>'\n",
       " \twith 3000 stored elements in Compressed Sparse Row format>]"
      ]
     },
     "execution_count": 133,
     "metadata": {},
     "output_type": "execute_result"
    }
   ],
   "source": [
    "support_t"
   ]
  },
  {
   "cell_type": "code",
   "execution_count": 134,
   "id": "b695aae1",
   "metadata": {
    "ExecuteTime": {
     "end_time": "2021-08-25T14:17:00.163792Z",
     "start_time": "2021-08-25T14:17:00.143661Z"
    }
   },
   "outputs": [
    {
     "data": {
      "text/plain": [
       "2"
      ]
     },
     "execution_count": 134,
     "metadata": {},
     "output_type": "execute_result"
    }
   ],
   "source": [
    "num_support = len(support)\n",
    "num_support"
   ]
  },
  {
   "cell_type": "code",
   "execution_count": 135,
   "id": "5938890c",
   "metadata": {
    "ExecuteTime": {
     "end_time": "2021-08-25T14:17:20.919274Z",
     "start_time": "2021-08-25T14:17:20.904900Z"
    }
   },
   "outputs": [],
   "source": [
    "support = sp.hstack(support, format='csr')"
   ]
  },
  {
   "cell_type": "code",
   "execution_count": 136,
   "id": "d4b64144",
   "metadata": {
    "ExecuteTime": {
     "end_time": "2021-08-25T14:17:21.614588Z",
     "start_time": "2021-08-25T14:17:21.568694Z"
    }
   },
   "outputs": [
    {
     "data": {
      "text/plain": [
       "array([[0., 0., 0., ..., 0., 0., 0.],\n",
       "       [0., 0., 0., ..., 0., 0., 0.],\n",
       "       [0., 0., 0., ..., 0., 0., 0.],\n",
       "       ...,\n",
       "       [0., 0., 0., ..., 1., 0., 0.],\n",
       "       [0., 0., 0., ..., 0., 1., 0.],\n",
       "       [0., 0., 0., ..., 0., 0., 1.]])"
      ]
     },
     "execution_count": 136,
     "metadata": {},
     "output_type": "execute_result"
    }
   ],
   "source": [
    "support.toarray()"
   ]
  },
  {
   "cell_type": "code",
   "execution_count": 137,
   "id": "d10345c2",
   "metadata": {
    "ExecuteTime": {
     "end_time": "2021-08-25T14:17:23.290123Z",
     "start_time": "2021-08-25T14:17:23.281678Z"
    }
   },
   "outputs": [
    {
     "data": {
      "text/plain": [
       "<3000x6000 sparse matrix of type '<class 'numpy.float64'>'\n",
       "\twith 28288 stored elements in Compressed Sparse Row format>"
      ]
     },
     "execution_count": 137,
     "metadata": {},
     "output_type": "execute_result"
    }
   ],
   "source": [
    "support #D-0.5*A*D-0.5*I"
   ]
  },
  {
   "cell_type": "code",
   "execution_count": 138,
   "id": "206c04dd",
   "metadata": {
    "ExecuteTime": {
     "end_time": "2021-08-25T14:20:25.402273Z",
     "start_time": "2021-08-25T14:20:25.385482Z"
    }
   },
   "outputs": [],
   "source": [
    "support_t = sp.hstack(support_t, format='csr')"
   ]
  },
  {
   "cell_type": "code",
   "execution_count": 139,
   "id": "7a02f79a",
   "metadata": {
    "ExecuteTime": {
     "end_time": "2021-08-25T14:20:25.906014Z",
     "start_time": "2021-08-25T14:20:25.863720Z"
    }
   },
   "outputs": [
    {
     "data": {
      "text/plain": [
       "array([[0., 0., 0., ..., 0., 0., 0.],\n",
       "       [0., 0., 0., ..., 0., 0., 0.],\n",
       "       [0., 0., 0., ..., 0., 0., 0.],\n",
       "       ...,\n",
       "       [0., 0., 0., ..., 1., 0., 0.],\n",
       "       [0., 0., 0., ..., 0., 1., 0.],\n",
       "       [0., 0., 0., ..., 0., 0., 1.]])"
      ]
     },
     "execution_count": 139,
     "metadata": {},
     "output_type": "execute_result"
    }
   ],
   "source": [
    "support_t.toarray()"
   ]
  },
  {
   "cell_type": "code",
   "execution_count": 140,
   "id": "7ce3aa0b",
   "metadata": {
    "ExecuteTime": {
     "end_time": "2021-08-25T14:20:26.656515Z",
     "start_time": "2021-08-25T14:20:26.640386Z"
    }
   },
   "outputs": [
    {
     "data": {
      "text/plain": [
       "<3000x6000 sparse matrix of type '<class 'numpy.float64'>'\n",
       "\twith 28288 stored elements in Compressed Sparse Row format>"
      ]
     },
     "execution_count": 140,
     "metadata": {},
     "output_type": "execute_result"
    }
   ],
   "source": [
    "support_t #D-0.5*A*D-0.5*I"
   ]
  },
  {
   "cell_type": "markdown",
   "id": "d1a5796b",
   "metadata": {},
   "source": [
    "## Collect all user and item nodes for test set"
   ]
  },
  {
   "cell_type": "code",
   "execution_count": 1,
   "id": "6c67a772",
   "metadata": {
    "ExecuteTime": {
     "end_time": "2021-08-27T13:18:42.257620Z",
     "start_time": "2021-08-27T13:18:42.118280Z"
    }
   },
   "outputs": [
    {
     "ename": "NameError",
     "evalue": "name 'u_test_idx' is not defined",
     "output_type": "error",
     "traceback": [
      "\u001b[1;31m---------------------------------------------------------------------------\u001b[0m",
      "\u001b[1;31mNameError\u001b[0m                                 Traceback (most recent call last)",
      "\u001b[1;32m<ipython-input-1-8d7e1448bda7>\u001b[0m in \u001b[0;36m<module>\u001b[1;34m\u001b[0m\n\u001b[1;32m----> 1\u001b[1;33m \u001b[0mtest_u_indices\u001b[0m\u001b[1;33m=\u001b[0m\u001b[0mu_test_idx\u001b[0m\u001b[1;33m\u001b[0m\u001b[1;33m\u001b[0m\u001b[0m\n\u001b[0m\u001b[0;32m      2\u001b[0m \u001b[0mtest_v_indices\u001b[0m\u001b[1;33m=\u001b[0m\u001b[0mv_test_idx\u001b[0m\u001b[1;33m\u001b[0m\u001b[1;33m\u001b[0m\u001b[0m\n\u001b[0;32m      3\u001b[0m \u001b[0mtest_u\u001b[0m \u001b[1;33m=\u001b[0m \u001b[0mlist\u001b[0m\u001b[1;33m(\u001b[0m\u001b[0mset\u001b[0m\u001b[1;33m(\u001b[0m\u001b[0mtest_u_indices\u001b[0m\u001b[1;33m)\u001b[0m\u001b[1;33m)\u001b[0m\u001b[1;33m\u001b[0m\u001b[1;33m\u001b[0m\u001b[0m\n\u001b[0;32m      4\u001b[0m \u001b[0mtest_v\u001b[0m \u001b[1;33m=\u001b[0m \u001b[0mlist\u001b[0m\u001b[1;33m(\u001b[0m\u001b[0mset\u001b[0m\u001b[1;33m(\u001b[0m\u001b[0mtest_v_indices\u001b[0m\u001b[1;33m)\u001b[0m\u001b[1;33m)\u001b[0m\u001b[1;33m\u001b[0m\u001b[1;33m\u001b[0m\u001b[0m\n\u001b[0;32m      5\u001b[0m \u001b[0mtest_u_dict\u001b[0m \u001b[1;33m=\u001b[0m \u001b[1;33m{\u001b[0m\u001b[0mn\u001b[0m\u001b[1;33m:\u001b[0m \u001b[0mi\u001b[0m \u001b[1;32mfor\u001b[0m \u001b[0mi\u001b[0m\u001b[1;33m,\u001b[0m \u001b[0mn\u001b[0m \u001b[1;32min\u001b[0m \u001b[0menumerate\u001b[0m\u001b[1;33m(\u001b[0m\u001b[0mtest_u\u001b[0m\u001b[1;33m)\u001b[0m\u001b[1;33m}\u001b[0m\u001b[1;33m\u001b[0m\u001b[1;33m\u001b[0m\u001b[0m\n",
      "\u001b[1;31mNameError\u001b[0m: name 'u_test_idx' is not defined"
     ]
    }
   ],
   "source": [
    "test_u_indices=u_test_idx\n",
    "test_v_indices=v_test_idx\n",
    "test_u = list(set(test_u_indices))\n",
    "test_v = list(set(test_v_indices))\n",
    "test_u_dict = {n: i for i, n in enumerate(test_u)}\n",
    "test_v_dict = {n: i for i, n in enumerate(test_v)}"
   ]
  },
  {
   "cell_type": "code",
   "execution_count": 192,
   "id": "5c568e3e",
   "metadata": {
    "ExecuteTime": {
     "end_time": "2021-08-25T11:45:26.488786Z",
     "start_time": "2021-08-25T11:45:26.433687Z"
    }
   },
   "outputs": [
    {
     "data": {
      "text/plain": [
       "{0: 0,\n",
       " 1: 1,\n",
       " 2: 2,\n",
       " 3: 3,\n",
       " 4: 4,\n",
       " 5: 5,\n",
       " 6: 6,\n",
       " 7: 7,\n",
       " 8: 8,\n",
       " 9: 9,\n",
       " 10: 10,\n",
       " 11: 11,\n",
       " 12: 12,\n",
       " 13: 13,\n",
       " 14: 14,\n",
       " 15: 15,\n",
       " 16: 16,\n",
       " 17: 17,\n",
       " 18: 18,\n",
       " 19: 19,\n",
       " 20: 20,\n",
       " 21: 21,\n",
       " 22: 22,\n",
       " 23: 23,\n",
       " 24: 24,\n",
       " 25: 25,\n",
       " 26: 26,\n",
       " 27: 27,\n",
       " 28: 28,\n",
       " 29: 29,\n",
       " 30: 30,\n",
       " 31: 31,\n",
       " 32: 32,\n",
       " 33: 33,\n",
       " 34: 34,\n",
       " 35: 35,\n",
       " 36: 36,\n",
       " 37: 37,\n",
       " 38: 38,\n",
       " 39: 39,\n",
       " 40: 40,\n",
       " 41: 41,\n",
       " 42: 42,\n",
       " 43: 43,\n",
       " 44: 44,\n",
       " 45: 45,\n",
       " 46: 46,\n",
       " 47: 47,\n",
       " 48: 48,\n",
       " 49: 49,\n",
       " 50: 50,\n",
       " 51: 51,\n",
       " 52: 52,\n",
       " 53: 53,\n",
       " 54: 54,\n",
       " 55: 55,\n",
       " 56: 56,\n",
       " 57: 57,\n",
       " 58: 58,\n",
       " 59: 59,\n",
       " 60: 60,\n",
       " 61: 61,\n",
       " 62: 62,\n",
       " 63: 63,\n",
       " 64: 64,\n",
       " 65: 65,\n",
       " 66: 66,\n",
       " 67: 67,\n",
       " 68: 68,\n",
       " 69: 69,\n",
       " 70: 70,\n",
       " 71: 71,\n",
       " 72: 72,\n",
       " 73: 73,\n",
       " 74: 74,\n",
       " 75: 75,\n",
       " 76: 76,\n",
       " 77: 77,\n",
       " 78: 78,\n",
       " 79: 79,\n",
       " 80: 80,\n",
       " 81: 81,\n",
       " 82: 82,\n",
       " 83: 83,\n",
       " 84: 84,\n",
       " 85: 85,\n",
       " 86: 86,\n",
       " 87: 87,\n",
       " 88: 88,\n",
       " 89: 89,\n",
       " 90: 90,\n",
       " 91: 91,\n",
       " 92: 92,\n",
       " 93: 93,\n",
       " 94: 94,\n",
       " 95: 95,\n",
       " 96: 96,\n",
       " 97: 97,\n",
       " 98: 98,\n",
       " 99: 99,\n",
       " 100: 100,\n",
       " 101: 101,\n",
       " 102: 102,\n",
       " 103: 103,\n",
       " 104: 104,\n",
       " 105: 105,\n",
       " 106: 106,\n",
       " 107: 107,\n",
       " 108: 108,\n",
       " 109: 109,\n",
       " 110: 110,\n",
       " 111: 111,\n",
       " 112: 112,\n",
       " 113: 113,\n",
       " 114: 114,\n",
       " 115: 115,\n",
       " 116: 116,\n",
       " 117: 117,\n",
       " 118: 118,\n",
       " 119: 119,\n",
       " 120: 120,\n",
       " 121: 121,\n",
       " 122: 122,\n",
       " 123: 123,\n",
       " 124: 124,\n",
       " 125: 125,\n",
       " 126: 126,\n",
       " 127: 127,\n",
       " 128: 128,\n",
       " 129: 129,\n",
       " 130: 130,\n",
       " 131: 131,\n",
       " 132: 132,\n",
       " 133: 133,\n",
       " 134: 134,\n",
       " 135: 135,\n",
       " 136: 136,\n",
       " 137: 137,\n",
       " 138: 138,\n",
       " 139: 139,\n",
       " 140: 140,\n",
       " 141: 141,\n",
       " 142: 142,\n",
       " 143: 143,\n",
       " 144: 144,\n",
       " 145: 145,\n",
       " 146: 146,\n",
       " 147: 147,\n",
       " 148: 148,\n",
       " 149: 149,\n",
       " 150: 150,\n",
       " 151: 151,\n",
       " 152: 152,\n",
       " 153: 153,\n",
       " 154: 154,\n",
       " 155: 155,\n",
       " 156: 156,\n",
       " 157: 157,\n",
       " 158: 158,\n",
       " 159: 159,\n",
       " 160: 160,\n",
       " 161: 161,\n",
       " 162: 162,\n",
       " 163: 163,\n",
       " 164: 164,\n",
       " 165: 165,\n",
       " 166: 166,\n",
       " 167: 167,\n",
       " 168: 168,\n",
       " 169: 169,\n",
       " 170: 170,\n",
       " 171: 171,\n",
       " 172: 172,\n",
       " 173: 173,\n",
       " 174: 174,\n",
       " 175: 175,\n",
       " 176: 176,\n",
       " 177: 177,\n",
       " 178: 178,\n",
       " 179: 179,\n",
       " 180: 180,\n",
       " 181: 181,\n",
       " 182: 182,\n",
       " 183: 183,\n",
       " 184: 184,\n",
       " 185: 185,\n",
       " 186: 186,\n",
       " 187: 187,\n",
       " 188: 188,\n",
       " 189: 189,\n",
       " 190: 190,\n",
       " 191: 191,\n",
       " 192: 192,\n",
       " 193: 193,\n",
       " 194: 194,\n",
       " 195: 195,\n",
       " 196: 196,\n",
       " 197: 197,\n",
       " 198: 198,\n",
       " 199: 199,\n",
       " 200: 200,\n",
       " 201: 201,\n",
       " 202: 202,\n",
       " 203: 203,\n",
       " 204: 204,\n",
       " 205: 205,\n",
       " 206: 206,\n",
       " 207: 207,\n",
       " 208: 208,\n",
       " 209: 209,\n",
       " 210: 210,\n",
       " 211: 211,\n",
       " 212: 212,\n",
       " 213: 213,\n",
       " 214: 214,\n",
       " 215: 215,\n",
       " 216: 216,\n",
       " 217: 217,\n",
       " 218: 218,\n",
       " 219: 219,\n",
       " 220: 220,\n",
       " 221: 221,\n",
       " 222: 222,\n",
       " 223: 223,\n",
       " 224: 224,\n",
       " 225: 225,\n",
       " 226: 226,\n",
       " 227: 227,\n",
       " 228: 228,\n",
       " 229: 229,\n",
       " 230: 230,\n",
       " 231: 231,\n",
       " 232: 232,\n",
       " 233: 233,\n",
       " 234: 234,\n",
       " 235: 235,\n",
       " 236: 236,\n",
       " 237: 237,\n",
       " 238: 238,\n",
       " 239: 239,\n",
       " 240: 240,\n",
       " 241: 241,\n",
       " 242: 242,\n",
       " 243: 243,\n",
       " 244: 244,\n",
       " 245: 245,\n",
       " 246: 246,\n",
       " 247: 247,\n",
       " 248: 248,\n",
       " 249: 249,\n",
       " 250: 250,\n",
       " 251: 251,\n",
       " 252: 252,\n",
       " 253: 253,\n",
       " 254: 254,\n",
       " 255: 255,\n",
       " 256: 256,\n",
       " 257: 257,\n",
       " 258: 258,\n",
       " 259: 259,\n",
       " 260: 260,\n",
       " 261: 261,\n",
       " 262: 262,\n",
       " 263: 263,\n",
       " 264: 264,\n",
       " 265: 265,\n",
       " 266: 266,\n",
       " 267: 267,\n",
       " 268: 268,\n",
       " 269: 269,\n",
       " 270: 270,\n",
       " 271: 271,\n",
       " 272: 272,\n",
       " 273: 273,\n",
       " 274: 274,\n",
       " 275: 275,\n",
       " 276: 276,\n",
       " 277: 277,\n",
       " 278: 278,\n",
       " 279: 279,\n",
       " 280: 280,\n",
       " 281: 281,\n",
       " 282: 282,\n",
       " 283: 283,\n",
       " 284: 284,\n",
       " 285: 285,\n",
       " 286: 286,\n",
       " 287: 287,\n",
       " 288: 288,\n",
       " 289: 289,\n",
       " 290: 290,\n",
       " 291: 291,\n",
       " 292: 292,\n",
       " 293: 293,\n",
       " 294: 294,\n",
       " 295: 295,\n",
       " 296: 296,\n",
       " 297: 297,\n",
       " 298: 298,\n",
       " 299: 299,\n",
       " 300: 300,\n",
       " 301: 301,\n",
       " 302: 302,\n",
       " 303: 303,\n",
       " 304: 304,\n",
       " 305: 305,\n",
       " 306: 306,\n",
       " 307: 307,\n",
       " 308: 308,\n",
       " 309: 309,\n",
       " 310: 310,\n",
       " 311: 311,\n",
       " 312: 312,\n",
       " 313: 313,\n",
       " 314: 314,\n",
       " 315: 315,\n",
       " 316: 316,\n",
       " 317: 317,\n",
       " 318: 318,\n",
       " 319: 319,\n",
       " 320: 320,\n",
       " 321: 321,\n",
       " 322: 322,\n",
       " 323: 323,\n",
       " 324: 324,\n",
       " 325: 325,\n",
       " 326: 326,\n",
       " 327: 327,\n",
       " 328: 328,\n",
       " 329: 329,\n",
       " 330: 330,\n",
       " 331: 331,\n",
       " 332: 332,\n",
       " 333: 333,\n",
       " 334: 334,\n",
       " 335: 335,\n",
       " 336: 336,\n",
       " 337: 337,\n",
       " 338: 338,\n",
       " 339: 339,\n",
       " 340: 340,\n",
       " 341: 341,\n",
       " 342: 342,\n",
       " 343: 343,\n",
       " 344: 344,\n",
       " 345: 345,\n",
       " 346: 346,\n",
       " 347: 347,\n",
       " 348: 348,\n",
       " 349: 349,\n",
       " 350: 350,\n",
       " 351: 351,\n",
       " 352: 352,\n",
       " 353: 353,\n",
       " 354: 354,\n",
       " 355: 355,\n",
       " 356: 356,\n",
       " 357: 357,\n",
       " 358: 358,\n",
       " 359: 359,\n",
       " 360: 360,\n",
       " 361: 361,\n",
       " 362: 362,\n",
       " 363: 363,\n",
       " 364: 364,\n",
       " 365: 365,\n",
       " 366: 366,\n",
       " 367: 367,\n",
       " 368: 368,\n",
       " 369: 369,\n",
       " 370: 370,\n",
       " 371: 371,\n",
       " 372: 372,\n",
       " 373: 373,\n",
       " 374: 374,\n",
       " 375: 375,\n",
       " 376: 376,\n",
       " 377: 377,\n",
       " 378: 378,\n",
       " 379: 379,\n",
       " 380: 380,\n",
       " 381: 381,\n",
       " 382: 382,\n",
       " 383: 383,\n",
       " 384: 384,\n",
       " 385: 385,\n",
       " 386: 386,\n",
       " 387: 387,\n",
       " 388: 388,\n",
       " 389: 389,\n",
       " 390: 390,\n",
       " 391: 391,\n",
       " 392: 392,\n",
       " 393: 393,\n",
       " 394: 394,\n",
       " 395: 395,\n",
       " 396: 396,\n",
       " 397: 397,\n",
       " 398: 398,\n",
       " 399: 399,\n",
       " 400: 400,\n",
       " 401: 401,\n",
       " 402: 402,\n",
       " 403: 403,\n",
       " 404: 404,\n",
       " 405: 405,\n",
       " 406: 406,\n",
       " 407: 407,\n",
       " 408: 408,\n",
       " 409: 409,\n",
       " 410: 410,\n",
       " 411: 411,\n",
       " 412: 412,\n",
       " 413: 413,\n",
       " 414: 414,\n",
       " 415: 415,\n",
       " 416: 416,\n",
       " 417: 417,\n",
       " 418: 418,\n",
       " 419: 419,\n",
       " 420: 420,\n",
       " 421: 421,\n",
       " 422: 422,\n",
       " 423: 423,\n",
       " 424: 424,\n",
       " 425: 425,\n",
       " 426: 426,\n",
       " 427: 427,\n",
       " 428: 428,\n",
       " 429: 429,\n",
       " 430: 430,\n",
       " 431: 431,\n",
       " 432: 432,\n",
       " 433: 433,\n",
       " 434: 434,\n",
       " 435: 435,\n",
       " 436: 436,\n",
       " 437: 437,\n",
       " 438: 438,\n",
       " 439: 439,\n",
       " 440: 440,\n",
       " 441: 441,\n",
       " 442: 442,\n",
       " 443: 443,\n",
       " 444: 444,\n",
       " 445: 445,\n",
       " 446: 446,\n",
       " 447: 447,\n",
       " 448: 448,\n",
       " 449: 449,\n",
       " 450: 450,\n",
       " 451: 451,\n",
       " 452: 452,\n",
       " 453: 453,\n",
       " 454: 454,\n",
       " 455: 455,\n",
       " 456: 456,\n",
       " 457: 457,\n",
       " 458: 458,\n",
       " 459: 459,\n",
       " 460: 460,\n",
       " 461: 461,\n",
       " 462: 462,\n",
       " 463: 463,\n",
       " 464: 464,\n",
       " 465: 465,\n",
       " 466: 466,\n",
       " 467: 467,\n",
       " 468: 468,\n",
       " 469: 469,\n",
       " 470: 470,\n",
       " 471: 471,\n",
       " 472: 472,\n",
       " 473: 473,\n",
       " 474: 474,\n",
       " 475: 475,\n",
       " 476: 476,\n",
       " 477: 477,\n",
       " 478: 478,\n",
       " 479: 479,\n",
       " 480: 480,\n",
       " 481: 481,\n",
       " 482: 482,\n",
       " 483: 483,\n",
       " 484: 484,\n",
       " 485: 485,\n",
       " 486: 486,\n",
       " 487: 487,\n",
       " 488: 488,\n",
       " 489: 489,\n",
       " 490: 490,\n",
       " 491: 491,\n",
       " 492: 492,\n",
       " 493: 493,\n",
       " 494: 494,\n",
       " 495: 495,\n",
       " 496: 496,\n",
       " 497: 497,\n",
       " 498: 498,\n",
       " 499: 499,\n",
       " 500: 500,\n",
       " 501: 501,\n",
       " 502: 502,\n",
       " 503: 503,\n",
       " 504: 504,\n",
       " 505: 505,\n",
       " 506: 506,\n",
       " 507: 507,\n",
       " 508: 508,\n",
       " 509: 509,\n",
       " 510: 510,\n",
       " 511: 511,\n",
       " 512: 512,\n",
       " 513: 513,\n",
       " 514: 514,\n",
       " 515: 515,\n",
       " 516: 516,\n",
       " 517: 517,\n",
       " 518: 518,\n",
       " 519: 519,\n",
       " 520: 520,\n",
       " 521: 521,\n",
       " 522: 522,\n",
       " 523: 523,\n",
       " 524: 524,\n",
       " 525: 525,\n",
       " 526: 526,\n",
       " 527: 527,\n",
       " 528: 528,\n",
       " 529: 529,\n",
       " 530: 530,\n",
       " 531: 531,\n",
       " 532: 532,\n",
       " 533: 533,\n",
       " 534: 534,\n",
       " 535: 535,\n",
       " 536: 536,\n",
       " 537: 537,\n",
       " 538: 538,\n",
       " 539: 539,\n",
       " 540: 540,\n",
       " 541: 541,\n",
       " 542: 542,\n",
       " 543: 543,\n",
       " 544: 544,\n",
       " 545: 545,\n",
       " 546: 546,\n",
       " 547: 547,\n",
       " 548: 548,\n",
       " 549: 549,\n",
       " 550: 550,\n",
       " 551: 551,\n",
       " 552: 552,\n",
       " 553: 553,\n",
       " 554: 554,\n",
       " 555: 555,\n",
       " 556: 556,\n",
       " 557: 557,\n",
       " 558: 558,\n",
       " 559: 559,\n",
       " 560: 560,\n",
       " 561: 561,\n",
       " 562: 562,\n",
       " 563: 563,\n",
       " 564: 564,\n",
       " 565: 565,\n",
       " 566: 566,\n",
       " 567: 567,\n",
       " 568: 568,\n",
       " 569: 569,\n",
       " 570: 570,\n",
       " 571: 571,\n",
       " 572: 572,\n",
       " 573: 573,\n",
       " 574: 574,\n",
       " 575: 575,\n",
       " 576: 576,\n",
       " 577: 577,\n",
       " 578: 578,\n",
       " 579: 579,\n",
       " 580: 580,\n",
       " 581: 581,\n",
       " 582: 582,\n",
       " 583: 583,\n",
       " 584: 584,\n",
       " 585: 585,\n",
       " 586: 586,\n",
       " 587: 587,\n",
       " 588: 588,\n",
       " 589: 589,\n",
       " 590: 590,\n",
       " 591: 591,\n",
       " 592: 592,\n",
       " 593: 593,\n",
       " 594: 594,\n",
       " 595: 595,\n",
       " 596: 596,\n",
       " 597: 597,\n",
       " 598: 598,\n",
       " 599: 599,\n",
       " 600: 600,\n",
       " 601: 601,\n",
       " 602: 602,\n",
       " 603: 603,\n",
       " 604: 604,\n",
       " 605: 605,\n",
       " 606: 606,\n",
       " 607: 607,\n",
       " 608: 608,\n",
       " 609: 609,\n",
       " 610: 610,\n",
       " 611: 611,\n",
       " 612: 612,\n",
       " 613: 613,\n",
       " 614: 614,\n",
       " 615: 615,\n",
       " 616: 616,\n",
       " 617: 617,\n",
       " 618: 618,\n",
       " 619: 619,\n",
       " 620: 620,\n",
       " 621: 621,\n",
       " 622: 622,\n",
       " 623: 623,\n",
       " 624: 624,\n",
       " 625: 625,\n",
       " 626: 626,\n",
       " 627: 627,\n",
       " 628: 628,\n",
       " 629: 629,\n",
       " 630: 630,\n",
       " 631: 631,\n",
       " 632: 632,\n",
       " 633: 633,\n",
       " 634: 634,\n",
       " 635: 635,\n",
       " 636: 636,\n",
       " 637: 637,\n",
       " 638: 638,\n",
       " 639: 639,\n",
       " 640: 640,\n",
       " 641: 641,\n",
       " 642: 642,\n",
       " 643: 643,\n",
       " 644: 644,\n",
       " 645: 645,\n",
       " 646: 646,\n",
       " 647: 647,\n",
       " 648: 648,\n",
       " 649: 649,\n",
       " 650: 650,\n",
       " 651: 651,\n",
       " 652: 652,\n",
       " 653: 653,\n",
       " 654: 654,\n",
       " 655: 655,\n",
       " 656: 656,\n",
       " 657: 657,\n",
       " 658: 658,\n",
       " 659: 659,\n",
       " 660: 660,\n",
       " 661: 661,\n",
       " 662: 662,\n",
       " 663: 663,\n",
       " 664: 664,\n",
       " 665: 665,\n",
       " 666: 666,\n",
       " 667: 667,\n",
       " 668: 668,\n",
       " 669: 669,\n",
       " 670: 670,\n",
       " 671: 671,\n",
       " 672: 672,\n",
       " 673: 673,\n",
       " 674: 674,\n",
       " 675: 675,\n",
       " 676: 676,\n",
       " 677: 677,\n",
       " 678: 678,\n",
       " 679: 679,\n",
       " 680: 680,\n",
       " 681: 681,\n",
       " 682: 682,\n",
       " 683: 683,\n",
       " 684: 684,\n",
       " 685: 685,\n",
       " 686: 686,\n",
       " 687: 687,\n",
       " 688: 688,\n",
       " 689: 689,\n",
       " 690: 690,\n",
       " 691: 691,\n",
       " 692: 692,\n",
       " 693: 693,\n",
       " 694: 694,\n",
       " 695: 695,\n",
       " 696: 696,\n",
       " 697: 697,\n",
       " 698: 698,\n",
       " 699: 699,\n",
       " 700: 700,\n",
       " 701: 701,\n",
       " 702: 702,\n",
       " 703: 703,\n",
       " 704: 704,\n",
       " 705: 705,\n",
       " 706: 706,\n",
       " 707: 707,\n",
       " 708: 708,\n",
       " 709: 709,\n",
       " 710: 710,\n",
       " 711: 711,\n",
       " 712: 712,\n",
       " 713: 713,\n",
       " 714: 714,\n",
       " 715: 715,\n",
       " 716: 716,\n",
       " 717: 717,\n",
       " 718: 718,\n",
       " 719: 719,\n",
       " 720: 720,\n",
       " 721: 721,\n",
       " 722: 722,\n",
       " 723: 723,\n",
       " 724: 724,\n",
       " 725: 725,\n",
       " 726: 726,\n",
       " 727: 727,\n",
       " 728: 728,\n",
       " 729: 729,\n",
       " 730: 730,\n",
       " 731: 731,\n",
       " 732: 732,\n",
       " 733: 733,\n",
       " 734: 734,\n",
       " 735: 735,\n",
       " 736: 736,\n",
       " 737: 737,\n",
       " 738: 738,\n",
       " 739: 739,\n",
       " 740: 740,\n",
       " 741: 741,\n",
       " 742: 742,\n",
       " 743: 743,\n",
       " 744: 744,\n",
       " 745: 745,\n",
       " 746: 746,\n",
       " 747: 747,\n",
       " 748: 748,\n",
       " 749: 749,\n",
       " 750: 750,\n",
       " 751: 751,\n",
       " 752: 752,\n",
       " 753: 753,\n",
       " 754: 754,\n",
       " 755: 755,\n",
       " 756: 756,\n",
       " 757: 757,\n",
       " 758: 758,\n",
       " 759: 759,\n",
       " 760: 760,\n",
       " 761: 761,\n",
       " 762: 762,\n",
       " 763: 763,\n",
       " 764: 764,\n",
       " 765: 765,\n",
       " 766: 766,\n",
       " 767: 767,\n",
       " 768: 768,\n",
       " 769: 769,\n",
       " 770: 770,\n",
       " 771: 771,\n",
       " 772: 772,\n",
       " 773: 773,\n",
       " 774: 774,\n",
       " 775: 775,\n",
       " 776: 776,\n",
       " 777: 777,\n",
       " 778: 778,\n",
       " 779: 779,\n",
       " 780: 780,\n",
       " 781: 781,\n",
       " 782: 782,\n",
       " 783: 783,\n",
       " 784: 784,\n",
       " 785: 785,\n",
       " 786: 786,\n",
       " 787: 787,\n",
       " 788: 788,\n",
       " 789: 789,\n",
       " 790: 790,\n",
       " 791: 791,\n",
       " 792: 792,\n",
       " 793: 793,\n",
       " 794: 794,\n",
       " 795: 795,\n",
       " 796: 796,\n",
       " 797: 797,\n",
       " 798: 798,\n",
       " 799: 799,\n",
       " 800: 800,\n",
       " 801: 801,\n",
       " 802: 802,\n",
       " 803: 803,\n",
       " 804: 804,\n",
       " 805: 805,\n",
       " 806: 806,\n",
       " 807: 807,\n",
       " 808: 808,\n",
       " 809: 809,\n",
       " 810: 810,\n",
       " 811: 811,\n",
       " 812: 812,\n",
       " 813: 813,\n",
       " 814: 814,\n",
       " 815: 815,\n",
       " 816: 816,\n",
       " 817: 817,\n",
       " 818: 818,\n",
       " 819: 819,\n",
       " 820: 820,\n",
       " 821: 821,\n",
       " 822: 822,\n",
       " 823: 823,\n",
       " 824: 824,\n",
       " 825: 825,\n",
       " 826: 826,\n",
       " 827: 827,\n",
       " 828: 828,\n",
       " 829: 829,\n",
       " 830: 830,\n",
       " 831: 831,\n",
       " 832: 832,\n",
       " 833: 833,\n",
       " 834: 834,\n",
       " 835: 835,\n",
       " 836: 836,\n",
       " 837: 837,\n",
       " 838: 838,\n",
       " 839: 839,\n",
       " 840: 840,\n",
       " 841: 841,\n",
       " 842: 842,\n",
       " 843: 843,\n",
       " 844: 844,\n",
       " 845: 845,\n",
       " 846: 846,\n",
       " 847: 847,\n",
       " 848: 848,\n",
       " 849: 849,\n",
       " 850: 850,\n",
       " 851: 851,\n",
       " 852: 852,\n",
       " 853: 853,\n",
       " 854: 854,\n",
       " 855: 855,\n",
       " 856: 856,\n",
       " 857: 857,\n",
       " 858: 858,\n",
       " 859: 859,\n",
       " 860: 860,\n",
       " 861: 861,\n",
       " 862: 862,\n",
       " 863: 863,\n",
       " 864: 864,\n",
       " 865: 865,\n",
       " 866: 866,\n",
       " 867: 867,\n",
       " 868: 868,\n",
       " 869: 869,\n",
       " 870: 870,\n",
       " 871: 871,\n",
       " 872: 872,\n",
       " 873: 873,\n",
       " 874: 874,\n",
       " 875: 875,\n",
       " 876: 876,\n",
       " 877: 877,\n",
       " 878: 878,\n",
       " 879: 879,\n",
       " 880: 880,\n",
       " 881: 881,\n",
       " 882: 882,\n",
       " 883: 883,\n",
       " 884: 884,\n",
       " 885: 885,\n",
       " 886: 886,\n",
       " 887: 887,\n",
       " 888: 888,\n",
       " 889: 889,\n",
       " 890: 890,\n",
       " 891: 891,\n",
       " 892: 892,\n",
       " 893: 893,\n",
       " 894: 894,\n",
       " 895: 895,\n",
       " 896: 896,\n",
       " 897: 897,\n",
       " 898: 898,\n",
       " 899: 899,\n",
       " 900: 900,\n",
       " 901: 901,\n",
       " 902: 902,\n",
       " 903: 903,\n",
       " 904: 904,\n",
       " 905: 905,\n",
       " 906: 906,\n",
       " 907: 907,\n",
       " 908: 908,\n",
       " 909: 909,\n",
       " 910: 910,\n",
       " 911: 911,\n",
       " 912: 912,\n",
       " 913: 913,\n",
       " 914: 914,\n",
       " 915: 915,\n",
       " 917: 916,\n",
       " 918: 917,\n",
       " 919: 918,\n",
       " 920: 919,\n",
       " 921: 920,\n",
       " 922: 921,\n",
       " 923: 922,\n",
       " 924: 923,\n",
       " 925: 924,\n",
       " 926: 925,\n",
       " 927: 926,\n",
       " 928: 927,\n",
       " 929: 928,\n",
       " 930: 929,\n",
       " 931: 930,\n",
       " 932: 931,\n",
       " 933: 932,\n",
       " 934: 933,\n",
       " 935: 934,\n",
       " 936: 935,\n",
       " 937: 936,\n",
       " 938: 937,\n",
       " 939: 938,\n",
       " 940: 939,\n",
       " 941: 940,\n",
       " 942: 941,\n",
       " 943: 942,\n",
       " 944: 943,\n",
       " 945: 944,\n",
       " 946: 945,\n",
       " 947: 946,\n",
       " 948: 947,\n",
       " 949: 948,\n",
       " 950: 949,\n",
       " 951: 950,\n",
       " 952: 951,\n",
       " 954: 952,\n",
       " 955: 953,\n",
       " 956: 954,\n",
       " 957: 955,\n",
       " 958: 956,\n",
       " 959: 957,\n",
       " 960: 958,\n",
       " 961: 959,\n",
       " 962: 960,\n",
       " 963: 961,\n",
       " 964: 962,\n",
       " 965: 963,\n",
       " 966: 964,\n",
       " 967: 965,\n",
       " 968: 966,\n",
       " 969: 967,\n",
       " 970: 968,\n",
       " 971: 969,\n",
       " 972: 970,\n",
       " 973: 971,\n",
       " 974: 972,\n",
       " 975: 973,\n",
       " 976: 974,\n",
       " 977: 975,\n",
       " 978: 976,\n",
       " 979: 977,\n",
       " 980: 978,\n",
       " 981: 979,\n",
       " 982: 980,\n",
       " 983: 981,\n",
       " 984: 982,\n",
       " 985: 983,\n",
       " 986: 984,\n",
       " 987: 985,\n",
       " 988: 986,\n",
       " 989: 987,\n",
       " 990: 988,\n",
       " 991: 989,\n",
       " 992: 990,\n",
       " 993: 991,\n",
       " 994: 992,\n",
       " 995: 993,\n",
       " 996: 994,\n",
       " 997: 995,\n",
       " 998: 996,\n",
       " 999: 997,\n",
       " 1000: 998,\n",
       " 1001: 999,\n",
       " ...}"
      ]
     },
     "execution_count": 192,
     "metadata": {},
     "output_type": "execute_result"
    }
   ],
   "source": [
    "test_v_dict"
   ]
  },
  {
   "cell_type": "code",
   "execution_count": 142,
   "id": "4518e6e7",
   "metadata": {
    "ExecuteTime": {
     "end_time": "2021-08-25T14:22:03.492418Z",
     "start_time": "2021-08-25T14:22:03.464626Z"
    }
   },
   "outputs": [],
   "source": [
    "# getting the values(indices) from the dictionary of users:indices \n",
    "test_u_indices = np.array([test_u_dict[o] for o in test_u_indices])\n",
    "test_v_indices = np.array([test_v_dict[o] for o in test_v_indices])"
   ]
  },
  {
   "cell_type": "code",
   "execution_count": 143,
   "id": "802a59a5",
   "metadata": {
    "ExecuteTime": {
     "end_time": "2021-08-25T14:22:11.372179Z",
     "start_time": "2021-08-25T14:22:11.352702Z"
    }
   },
   "outputs": [
    {
     "data": {
      "text/plain": [
       "array([   0,    0,    0, ..., 2881, 2881, 2881])"
      ]
     },
     "execution_count": 143,
     "metadata": {},
     "output_type": "execute_result"
    }
   ],
   "source": [
    "test_u_indices"
   ]
  },
  {
   "cell_type": "code",
   "execution_count": 146,
   "id": "e9e337cb",
   "metadata": {
    "ExecuteTime": {
     "end_time": "2021-08-25T14:30:09.221713Z",
     "start_time": "2021-08-25T14:30:09.204756Z"
    }
   },
   "outputs": [
    {
     "data": {
      "text/plain": [
       "array([   0,    1,    2, ..., 2996, 2998, 2999], dtype=int64)"
      ]
     },
     "execution_count": 146,
     "metadata": {},
     "output_type": "execute_result"
    }
   ],
   "source": [
    "np.array(test_u)"
   ]
  },
  {
   "cell_type": "code",
   "execution_count": 144,
   "id": "17195073",
   "metadata": {
    "ExecuteTime": {
     "end_time": "2021-08-25T14:26:37.343655Z",
     "start_time": "2021-08-25T14:26:37.242600Z"
    }
   },
   "outputs": [],
   "source": [
    "test_support = support[np.array(test_u)]\n",
    "test_support_t = support_t[np.array(test_v)]"
   ]
  },
  {
   "cell_type": "code",
   "execution_count": 149,
   "id": "df97752d",
   "metadata": {
    "ExecuteTime": {
     "end_time": "2021-08-25T14:32:50.522939Z",
     "start_time": "2021-08-25T14:32:50.480338Z"
    }
   },
   "outputs": [
    {
     "data": {
      "text/plain": [
       "(array([[0., 0., 0., ..., 0., 0., 0.],\n",
       "        [0., 0., 0., ..., 0., 0., 0.],\n",
       "        [0., 0., 0., ..., 0., 0., 0.],\n",
       "        ...,\n",
       "        [0., 0., 0., ..., 0., 0., 0.],\n",
       "        [0., 0., 0., ..., 0., 1., 0.],\n",
       "        [0., 0., 0., ..., 0., 0., 1.]]),\n",
       " (2882, 6000))"
      ]
     },
     "execution_count": 149,
     "metadata": {},
     "output_type": "execute_result"
    }
   ],
   "source": [
    "test_support.toarray(),test_support.shape"
   ]
  },
  {
   "cell_type": "code",
   "execution_count": 150,
   "id": "d3cce2d0",
   "metadata": {
    "ExecuteTime": {
     "end_time": "2021-08-25T14:32:54.372772Z",
     "start_time": "2021-08-25T14:32:54.360893Z"
    }
   },
   "outputs": [
    {
     "data": {
      "text/plain": [
       "<2882x6000 sparse matrix of type '<class 'numpy.float64'>'\n",
       "\twith 27706 stored elements in Compressed Sparse Row format>"
      ]
     },
     "execution_count": 150,
     "metadata": {},
     "output_type": "execute_result"
    }
   ],
   "source": [
    "test_support"
   ]
  },
  {
   "cell_type": "code",
   "execution_count": 151,
   "id": "d4afbf47",
   "metadata": {
    "ExecuteTime": {
     "end_time": "2021-08-25T14:33:50.548008Z",
     "start_time": "2021-08-25T14:33:50.508089Z"
    }
   },
   "outputs": [
    {
     "data": {
      "text/plain": [
       "array([[0., 0., 0., ..., 0., 0., 0.],\n",
       "       [0., 0., 0., ..., 0., 0., 0.],\n",
       "       [0., 0., 0., ..., 0., 0., 0.],\n",
       "       ...,\n",
       "       [0., 0., 0., ..., 0., 0., 0.],\n",
       "       [0., 0., 0., ..., 1., 0., 0.],\n",
       "       [0., 0., 0., ..., 0., 0., 1.]])"
      ]
     },
     "execution_count": 151,
     "metadata": {},
     "output_type": "execute_result"
    }
   ],
   "source": [
    "test_support_t.toarray()"
   ]
  },
  {
   "cell_type": "code",
   "execution_count": 152,
   "id": "dbe37b4e",
   "metadata": {
    "ExecuteTime": {
     "end_time": "2021-08-25T14:33:51.690409Z",
     "start_time": "2021-08-25T14:33:51.680272Z"
    }
   },
   "outputs": [
    {
     "data": {
      "text/plain": [
       "<2916x6000 sparse matrix of type '<class 'numpy.float64'>'\n",
       "\twith 27637 stored elements in Compressed Sparse Row format>"
      ]
     },
     "execution_count": 152,
     "metadata": {},
     "output_type": "execute_result"
    }
   ],
   "source": [
    "test_support_t"
   ]
  },
  {
   "cell_type": "markdown",
   "id": "e801ad1d",
   "metadata": {},
   "source": [
    "## Collect all user and item nodes for validation set"
   ]
  },
  {
   "cell_type": "code",
   "execution_count": 153,
   "id": "6924a8f0",
   "metadata": {
    "ExecuteTime": {
     "end_time": "2021-08-25T14:47:55.079349Z",
     "start_time": "2021-08-25T14:47:55.009248Z"
    }
   },
   "outputs": [],
   "source": [
    "val_u_indices=u_val_idx\n",
    "val_v_indices=v_val_idx\n",
    "val_u = list(set(val_u_indices))\n",
    "val_v = list(set(val_v_indices))\n",
    "val_u_dict = {n: i for i, n in enumerate(val_u)}\n",
    "val_v_dict = {n: i for i, n in enumerate(val_v)}\n",
    "\n",
    "val_u_indices = np.array([val_u_dict[o] for o in val_u_indices])\n",
    "val_v_indices = np.array([val_v_dict[o] for o in val_v_indices])\n",
    "\n",
    "val_support = support[np.array(val_u)]\n",
    "val_support_t = support_t[np.array(val_v)]"
   ]
  },
  {
   "cell_type": "code",
   "execution_count": 154,
   "id": "2eb71071",
   "metadata": {
    "ExecuteTime": {
     "end_time": "2021-08-25T14:48:17.811284Z",
     "start_time": "2021-08-25T14:48:17.769628Z"
    }
   },
   "outputs": [
    {
     "data": {
      "text/plain": [
       "array([[0., 0., 0., ..., 0., 0., 0.],\n",
       "       [0., 0., 0., ..., 0., 0., 0.],\n",
       "       [0., 0., 0., ..., 0., 0., 0.],\n",
       "       ...,\n",
       "       [0., 0., 0., ..., 0., 0., 0.],\n",
       "       [0., 0., 0., ..., 0., 1., 0.],\n",
       "       [0., 0., 0., ..., 0., 0., 1.]])"
      ]
     },
     "execution_count": 154,
     "metadata": {},
     "output_type": "execute_result"
    }
   ],
   "source": [
    "val_support.toarray()"
   ]
  },
  {
   "cell_type": "code",
   "execution_count": 155,
   "id": "1448668e",
   "metadata": {
    "ExecuteTime": {
     "end_time": "2021-08-25T14:48:23.904352Z",
     "start_time": "2021-08-25T14:48:23.898362Z"
    }
   },
   "outputs": [
    {
     "data": {
      "text/plain": [
       "<2977x6000 sparse matrix of type '<class 'numpy.float64'>'\n",
       "\twith 28201 stored elements in Compressed Sparse Row format>"
      ]
     },
     "execution_count": 155,
     "metadata": {},
     "output_type": "execute_result"
    }
   ],
   "source": [
    "val_support"
   ]
  },
  {
   "cell_type": "markdown",
   "id": "d48c8705",
   "metadata": {},
   "source": [
    "## Collect all user and item nodes for train set"
   ]
  },
  {
   "cell_type": "code",
   "execution_count": 184,
   "id": "df049ddb",
   "metadata": {
    "ExecuteTime": {
     "end_time": "2021-08-25T15:21:16.458846Z",
     "start_time": "2021-08-25T15:21:16.338192Z"
    }
   },
   "outputs": [],
   "source": [
    "train_u_indices=u_train_idx\n",
    "train_v_indices=v_train_idx\n",
    "train_u = list(set(train_u_indices))\n",
    "train_v = list(set(train_v_indices))\n",
    "train_u_dict = {n: i for i, n in enumerate(train_u)}\n",
    "train_v_dict = {n: i for i, n in enumerate(train_v)}\n",
    "\n",
    "train_u_indices = np.array([train_u_dict[o] for o in train_u_indices])\n",
    "train_v_indices = np.array([train_v_dict[o] for o in train_v_indices])\n",
    "\n",
    "train_support = support[np.array(train_u)]\n",
    "train_support_t = support_t[np.array(train_v)]"
   ]
  },
  {
   "cell_type": "markdown",
   "id": "218cbabc",
   "metadata": {},
   "source": [
    "## features as side info"
   ]
  },
  {
   "cell_type": "code",
   "execution_count": 162,
   "id": "abf93d69",
   "metadata": {
    "ExecuteTime": {
     "end_time": "2021-08-25T14:51:10.827057Z",
     "start_time": "2021-08-25T14:51:10.610099Z"
    }
   },
   "outputs": [],
   "source": [
    "test_u_features_side = u_features_side[np.array(test_u)]\n",
    "test_v_features_side = v_features_side[np.array(test_v)]\n",
    "\n",
    "val_u_features_side = u_features_side[np.array(val_u)]\n",
    "val_v_features_side = v_features_side[np.array(val_v)]\n",
    "\n",
    "train_u_features_side = u_features_side[np.array(train_u)]\n",
    "train_v_features_side = v_features_side[np.array(train_v)]"
   ]
  },
  {
   "cell_type": "code",
   "execution_count": 164,
   "id": "e8ab109d",
   "metadata": {
    "ExecuteTime": {
     "end_time": "2021-08-25T14:52:15.255832Z",
     "start_time": "2021-08-25T14:52:15.241822Z"
    }
   },
   "outputs": [
    {
     "data": {
      "text/plain": [
       "(array([[0., 0., 0., ..., 0., 0., 0.],\n",
       "        [0., 0., 0., ..., 0., 0., 0.],\n",
       "        [0., 0., 0., ..., 0., 0., 0.],\n",
       "        ...,\n",
       "        [0., 0., 0., ..., 0., 0., 0.],\n",
       "        [0., 0., 0., ..., 0., 0., 0.],\n",
       "        [0., 0., 0., ..., 0., 0., 0.]], dtype=float32),\n",
       " (2882, 6000))"
      ]
     },
     "execution_count": 164,
     "metadata": {},
     "output_type": "execute_result"
    }
   ],
   "source": [
    "test_u_features_side,test_u_features_side.shape"
   ]
  },
  {
   "cell_type": "code",
   "execution_count": 166,
   "id": "76b8cd15",
   "metadata": {
    "ExecuteTime": {
     "end_time": "2021-08-25T14:55:51.027396Z",
     "start_time": "2021-08-25T14:55:51.008546Z"
    }
   },
   "outputs": [
    {
     "data": {
      "text/plain": [
       "(array([[0., 0., 0., ..., 0., 0., 0.],\n",
       "        [0., 0., 0., ..., 0., 0., 0.],\n",
       "        [0., 0., 0., ..., 0., 0., 0.],\n",
       "        ...,\n",
       "        [0., 0., 0., ..., 0., 0., 0.],\n",
       "        [0., 0., 0., ..., 1., 0., 0.],\n",
       "        [0., 0., 0., ..., 0., 0., 1.]], dtype=float32),\n",
       " (2916, 6000))"
      ]
     },
     "execution_count": 166,
     "metadata": {},
     "output_type": "execute_result"
    }
   ],
   "source": [
    "test_v_features_side,test_v_features_side.shape"
   ]
  },
  {
   "cell_type": "code",
   "execution_count": 167,
   "id": "c3e37c5d",
   "metadata": {
    "ExecuteTime": {
     "end_time": "2021-08-25T14:56:16.107829Z",
     "start_time": "2021-08-25T14:56:16.096920Z"
    },
    "scrolled": true
   },
   "outputs": [
    {
     "data": {
      "text/plain": [
       "(array([[0., 0., 0., ..., 0., 0., 0.],\n",
       "        [0., 0., 0., ..., 0., 0., 0.],\n",
       "        [0., 0., 0., ..., 0., 0., 0.],\n",
       "        ...,\n",
       "        [0., 0., 0., ..., 0., 0., 0.],\n",
       "        [0., 0., 0., ..., 0., 0., 0.],\n",
       "        [0., 0., 0., ..., 0., 0., 0.]], dtype=float32),\n",
       " (2999, 6000))"
      ]
     },
     "execution_count": 167,
     "metadata": {},
     "output_type": "execute_result"
    }
   ],
   "source": [
    "train_u_features_side,train_u_features_side.shape"
   ]
  },
  {
   "cell_type": "code",
   "execution_count": 169,
   "id": "90948989",
   "metadata": {
    "ExecuteTime": {
     "end_time": "2021-08-25T15:05:30.845033Z",
     "start_time": "2021-08-25T15:05:30.824850Z"
    }
   },
   "outputs": [
    {
     "data": {
      "text/plain": [
       "(array([[0., 0., 0., ..., 0., 0., 0.],\n",
       "        [0., 0., 0., ..., 0., 0., 0.],\n",
       "        [0., 0., 0., ..., 0., 0., 0.],\n",
       "        ...,\n",
       "        [0., 0., 0., ..., 1., 0., 0.],\n",
       "        [0., 0., 0., ..., 0., 1., 0.],\n",
       "        [0., 0., 0., ..., 0., 0., 1.]], dtype=float32),\n",
       " (3000, 6000))"
      ]
     },
     "execution_count": 169,
     "metadata": {},
     "output_type": "execute_result"
    }
   ],
   "source": [
    "train_v_features_side,train_v_features_side.shape"
   ]
  },
  {
   "cell_type": "markdown",
   "id": "91d8a6a8",
   "metadata": {},
   "source": [
    "## Func: sparse_to_tuple(sparse_mx=test_support)"
   ]
  },
  {
   "cell_type": "markdown",
   "id": "150f5b87",
   "metadata": {},
   "source": [
    "### for test_support..."
   ]
  },
  {
   "cell_type": "code",
   "execution_count": 171,
   "id": "c631876e",
   "metadata": {
    "ExecuteTime": {
     "end_time": "2021-08-25T15:07:23.920585Z",
     "start_time": "2021-08-25T15:07:23.897093Z"
    },
    "scrolled": true
   },
   "outputs": [
    {
     "name": "stdout",
     "output_type": "stream",
     "text": [
      "sparse_mx    (0, 269)\t0.11470786482095718\n",
      "  (0, 1060)\t0.1178511381149292\n",
      "  (0, 1231)\t0.22360679507255554\n",
      "  (0, 2859)\t0.22360679507255554\n",
      "  (0, 3000)\t1.0\n",
      "  (1, 164)\t0.05976143479347229\n",
      "  (1, 300)\t0.06324555724859238\n",
      "  (1, 392)\t0.05773502588272095\n",
      "  (1, 426)\t0.08451542258262634\n",
      "  (1, 606)\t0.15811388194561005\n",
      "  (1, 709)\t0.08770579844713211\n",
      "  (1, 1501)\t0.09128709137439728\n",
      "  (1, 2080)\t0.08164965361356735\n",
      "  (1, 2639)\t0.11180339753627777\n",
      "  (1, 2763)\t0.11952286958694458\n",
      "  (1, 3001)\t1.0\n",
      "  (2, 40)\t0.041522737592458725\n",
      "  (2, 323)\t0.0690065547823906\n",
      "  (2, 390)\t0.09534625709056854\n",
      "  (2, 458)\t0.06085806339979172\n",
      "  (2, 683)\t0.10000000149011612\n",
      "  (2, 1562)\t0.09128709137439728\n",
      "  (2, 1602)\t0.08451542258262634\n",
      "  (2, 1640)\t0.18257418274879456\n",
      "  (2, 2065)\t0.0690065547823906\n",
      "  :\t:\n",
      "  (2877, 644)\t0.07881104201078415\n",
      "  (2877, 766)\t0.15430335700511932\n",
      "  (2877, 2913)\t0.18898224830627441\n",
      "  (2877, 5994)\t1.0\n",
      "  (2878, 517)\t0.14433756470680237\n",
      "  (2878, 656)\t0.5\n",
      "  (2878, 698)\t0.07624928653240204\n",
      "  (2878, 958)\t0.14433756470680237\n",
      "  (2878, 5995)\t1.0\n",
      "  (2879, 685)\t0.13245323300361633\n",
      "  (2879, 1676)\t0.14433756470680237\n",
      "  (2879, 1793)\t0.13245323300361633\n",
      "  (2879, 5996)\t1.0\n",
      "  (2880, 872)\t0.12309148907661438\n",
      "  (2880, 1006)\t0.2357022613286972\n",
      "  (2880, 5998)\t1.0\n",
      "  (2881, 263)\t0.058123815804719925\n",
      "  (2881, 356)\t0.048112522810697556\n",
      "  (2881, 715)\t0.06454972177743912\n",
      "  (2881, 917)\t0.0980580672621727\n",
      "  (2881, 977)\t0.07905694097280502\n",
      "  (2881, 992)\t0.06454972177743912\n",
      "  (2881, 1079)\t0.10206206887960434\n",
      "  (2881, 1784)\t0.07905694097280502\n",
      "  (2881, 5999)\t1.0\n",
      "coords [[   0  269]\n",
      " [   0 1060]\n",
      " [   0 1231]\n",
      " ...\n",
      " [2881 1079]\n",
      " [2881 1784]\n",
      " [2881 5999]]\n",
      "values [0.11470786 0.11785114 0.2236068  ... 0.10206207 0.07905694 1.        ]\n",
      "shape (2882, 6000)\n"
     ]
    }
   ],
   "source": [
    "if not sp.isspmatrix_coo(test_support):\n",
    "    sparse_mx = test_support.tocoo()\n",
    "    coords = np.vstack((sparse_mx.row, sparse_mx.col)).transpose()\n",
    "    values = sparse_mx.data\n",
    "    shape = sparse_mx.shape\n",
    "print('sparse_mx ', sparse_mx)\n",
    "print('coords' , coords)\n",
    "print('values' , values)\n",
    "print('shape' , shape)"
   ]
  },
  {
   "cell_type": "code",
   "execution_count": 172,
   "id": "d8085f77",
   "metadata": {
    "ExecuteTime": {
     "end_time": "2021-08-25T15:12:18.529366Z",
     "start_time": "2021-08-25T15:12:18.517374Z"
    }
   },
   "outputs": [],
   "source": [
    "test_support= coords,values,shape"
   ]
  },
  {
   "cell_type": "code",
   "execution_count": 173,
   "id": "6b179405",
   "metadata": {
    "ExecuteTime": {
     "end_time": "2021-08-25T15:12:20.926441Z",
     "start_time": "2021-08-25T15:12:20.904880Z"
    }
   },
   "outputs": [
    {
     "data": {
      "text/plain": [
       "(array([[   0,  269],\n",
       "        [   0, 1060],\n",
       "        [   0, 1231],\n",
       "        ...,\n",
       "        [2881, 1079],\n",
       "        [2881, 1784],\n",
       "        [2881, 5999]], dtype=int32),\n",
       " array([0.11470786, 0.11785114, 0.2236068 , ..., 0.10206207, 0.07905694,\n",
       "        1.        ]),\n",
       " (2882, 6000))"
      ]
     },
     "execution_count": 173,
     "metadata": {},
     "output_type": "execute_result"
    }
   ],
   "source": [
    "test_support"
   ]
  },
  {
   "cell_type": "markdown",
   "id": "17003862",
   "metadata": {},
   "source": [
    "### for test_support_t..."
   ]
  },
  {
   "cell_type": "code",
   "execution_count": 174,
   "id": "f454b0c0",
   "metadata": {
    "ExecuteTime": {
     "end_time": "2021-08-25T15:12:30.531301Z",
     "start_time": "2021-08-25T15:12:30.511635Z"
    },
    "scrolled": true
   },
   "outputs": [
    {
     "name": "stdout",
     "output_type": "stream",
     "text": [
      "sparse_mx    (0, 40)\t0.06388765573501587\n",
      "  (0, 214)\t0.06900654733181\n",
      "  (0, 258)\t0.031388238072395325\n",
      "  (0, 296)\t0.04879499971866608\n",
      "  (0, 433)\t0.04879499971866608\n",
      "  (0, 741)\t0.07559289038181305\n",
      "  (0, 823)\t0.04225771129131317\n",
      "  (0, 885)\t0.039840955287218094\n",
      "  (0, 920)\t0.04517539218068123\n",
      "  (0, 969)\t0.08451542258262634\n",
      "  (0, 1067)\t0.04688072204589844\n",
      "  (0, 1071)\t0.05096471682190895\n",
      "  (0, 1160)\t0.033806171268224716\n",
      "  (0, 1509)\t0.07559289038181305\n",
      "  (0, 1544)\t0.11952285468578339\n",
      "  (0, 1561)\t0.07559289038181305\n",
      "  (0, 1608)\t0.06388765573501587\n",
      "  (0, 1625)\t0.05096471682190895\n",
      "  (0, 1899)\t0.05976142734289169\n",
      "  (0, 1914)\t0.04225771129131317\n",
      "  (0, 1923)\t0.03688555210828781\n",
      "  (0, 1931)\t0.06900654733181\n",
      "  (0, 2034)\t0.038778334856033325\n",
      "  (0, 2118)\t0.07559289038181305\n",
      "  (0, 2162)\t0.023904573172330856\n",
      "  :\t:\n",
      "  (2911, 618)\t0.19999998807907104\n",
      "  (2911, 789)\t0.14907120168209076\n",
      "  (2911, 1525)\t0.10846523195505142\n",
      "  (2911, 2725)\t0.11952285468578339\n",
      "  (2911, 5994)\t1.0\n",
      "  (2912, 1129)\t0.15430334210395813\n",
      "  (2912, 2448)\t0.1666666716337204\n",
      "  (2912, 5995)\t1.0\n",
      "  (2913, 351)\t0.09999999403953552\n",
      "  (2913, 1137)\t0.1414213478565216\n",
      "  (2913, 1363)\t0.22360679507255554\n",
      "  (2913, 1921)\t0.1154700517654419\n",
      "  (2913, 2019)\t0.08606629818677902\n",
      "  (2913, 5996)\t1.0\n",
      "  (2914, 562)\t0.2357022613286972\n",
      "  (2914, 795)\t0.14907120168209076\n",
      "  (2914, 840)\t0.111111119389534\n",
      "  (2914, 1268)\t0.08606629818677902\n",
      "  (2914, 2441)\t0.111111119389534\n",
      "  (2914, 2472)\t0.1666666716337204\n",
      "  (2914, 2499)\t0.07453560084104538\n",
      "  (2914, 2534)\t0.111111119389534\n",
      "  (2914, 2687)\t0.06085806339979172\n",
      "  (2914, 5997)\t1.0\n",
      "  (2915, 5999)\t1.0\n",
      "coords [[   0   40]\n",
      " [   0  214]\n",
      " [   0  258]\n",
      " ...\n",
      " [2914 2687]\n",
      " [2914 5997]\n",
      " [2915 5999]]\n",
      "values [0.06388766 0.06900655 0.03138824 ... 0.06085806 1.         1.        ]\n",
      "shape (2916, 6000)\n"
     ]
    }
   ],
   "source": [
    "if not sp.isspmatrix_coo(test_support_t):\n",
    "    sparse_mx = test_support_t.tocoo()\n",
    "    coords = np.vstack((sparse_mx.row, sparse_mx.col)).transpose()\n",
    "    values = sparse_mx.data\n",
    "    shape = sparse_mx.shape\n",
    "print('sparse_mx ', sparse_mx)\n",
    "print('coords' , coords)\n",
    "print('values' , values)\n",
    "print('shape' , shape)"
   ]
  },
  {
   "cell_type": "code",
   "execution_count": 175,
   "id": "19f9c74e",
   "metadata": {
    "ExecuteTime": {
     "end_time": "2021-08-25T15:12:39.339671Z",
     "start_time": "2021-08-25T15:12:39.322211Z"
    }
   },
   "outputs": [],
   "source": [
    "test_support_t=coords,values,shape"
   ]
  },
  {
   "cell_type": "code",
   "execution_count": 176,
   "id": "42527f78",
   "metadata": {
    "ExecuteTime": {
     "end_time": "2021-08-25T15:12:39.998612Z",
     "start_time": "2021-08-25T15:12:39.985658Z"
    }
   },
   "outputs": [
    {
     "data": {
      "text/plain": [
       "(array([[   0,   40],\n",
       "        [   0,  214],\n",
       "        [   0,  258],\n",
       "        ...,\n",
       "        [2914, 2687],\n",
       "        [2914, 5997],\n",
       "        [2915, 5999]], dtype=int32),\n",
       " array([0.06388766, 0.06900655, 0.03138824, ..., 0.06085806, 1.        ,\n",
       "        1.        ]),\n",
       " (2916, 6000))"
      ]
     },
     "execution_count": 176,
     "metadata": {},
     "output_type": "execute_result"
    }
   ],
   "source": [
    "test_support_t"
   ]
  },
  {
   "cell_type": "markdown",
   "id": "4aa291da",
   "metadata": {},
   "source": [
    "### for validation support..."
   ]
  },
  {
   "cell_type": "code",
   "execution_count": 177,
   "id": "2b45df3e",
   "metadata": {
    "ExecuteTime": {
     "end_time": "2021-08-25T15:15:55.061687Z",
     "start_time": "2021-08-25T15:15:55.050173Z"
    },
    "scrolled": true
   },
   "outputs": [
    {
     "name": "stdout",
     "output_type": "stream",
     "text": [
      "sparse_mx    (0, 269)\t0.11470786482095718\n",
      "  (0, 1060)\t0.1178511381149292\n",
      "  (0, 1231)\t0.22360679507255554\n",
      "  (0, 2859)\t0.22360679507255554\n",
      "  (0, 3000)\t1.0\n",
      "  (1, 164)\t0.05976143479347229\n",
      "  (1, 300)\t0.06324555724859238\n",
      "  (1, 392)\t0.05773502588272095\n",
      "  (1, 426)\t0.08451542258262634\n",
      "  (1, 606)\t0.15811388194561005\n",
      "  (1, 709)\t0.08770579844713211\n",
      "  (1, 1501)\t0.09128709137439728\n",
      "  (1, 2080)\t0.08164965361356735\n",
      "  (1, 2639)\t0.11180339753627777\n",
      "  (1, 2763)\t0.11952286958694458\n",
      "  (1, 3001)\t1.0\n",
      "  (2, 40)\t0.041522737592458725\n",
      "  (2, 323)\t0.0690065547823906\n",
      "  (2, 390)\t0.09534625709056854\n",
      "  (2, 458)\t0.06085806339979172\n",
      "  (2, 683)\t0.10000000149011612\n",
      "  (2, 1562)\t0.09128709137439728\n",
      "  (2, 1602)\t0.08451542258262634\n",
      "  (2, 1640)\t0.18257418274879456\n",
      "  (2, 2065)\t0.0690065547823906\n",
      "  :\t:\n",
      "  (2972, 644)\t0.07881104201078415\n",
      "  (2972, 766)\t0.15430335700511932\n",
      "  (2972, 2913)\t0.18898224830627441\n",
      "  (2972, 5994)\t1.0\n",
      "  (2973, 517)\t0.14433756470680237\n",
      "  (2973, 656)\t0.5\n",
      "  (2973, 698)\t0.07624928653240204\n",
      "  (2973, 958)\t0.14433756470680237\n",
      "  (2973, 5995)\t1.0\n",
      "  (2974, 685)\t0.13245323300361633\n",
      "  (2974, 1676)\t0.14433756470680237\n",
      "  (2974, 1793)\t0.13245323300361633\n",
      "  (2974, 5996)\t1.0\n",
      "  (2975, 872)\t0.12309148907661438\n",
      "  (2975, 1006)\t0.2357022613286972\n",
      "  (2975, 5998)\t1.0\n",
      "  (2976, 263)\t0.058123815804719925\n",
      "  (2976, 356)\t0.048112522810697556\n",
      "  (2976, 715)\t0.06454972177743912\n",
      "  (2976, 917)\t0.0980580672621727\n",
      "  (2976, 977)\t0.07905694097280502\n",
      "  (2976, 992)\t0.06454972177743912\n",
      "  (2976, 1079)\t0.10206206887960434\n",
      "  (2976, 1784)\t0.07905694097280502\n",
      "  (2976, 5999)\t1.0\n",
      "coords [[   0  269]\n",
      " [   0 1060]\n",
      " [   0 1231]\n",
      " ...\n",
      " [2976 1079]\n",
      " [2976 1784]\n",
      " [2976 5999]]\n",
      "values [0.11470786 0.11785114 0.2236068  ... 0.10206207 0.07905694 1.        ]\n",
      "shape (2977, 6000)\n"
     ]
    }
   ],
   "source": [
    "if not sp.isspmatrix_coo(val_support):\n",
    "    sparse_mx = val_support.tocoo()\n",
    "    coords = np.vstack((sparse_mx.row, sparse_mx.col)).transpose()\n",
    "    values = sparse_mx.data\n",
    "    shape = sparse_mx.shape\n",
    "print('sparse_mx ', sparse_mx)\n",
    "print('coords' , coords)\n",
    "print('values' , values)\n",
    "print('shape' , shape)"
   ]
  },
  {
   "cell_type": "code",
   "execution_count": 178,
   "id": "777ba3b3",
   "metadata": {
    "ExecuteTime": {
     "end_time": "2021-08-25T15:16:33.800039Z",
     "start_time": "2021-08-25T15:16:33.793976Z"
    }
   },
   "outputs": [],
   "source": [
    "val_support=coords,values,shape"
   ]
  },
  {
   "cell_type": "markdown",
   "id": "ced8fc98",
   "metadata": {},
   "source": [
    "### for val_support_t"
   ]
  },
  {
   "cell_type": "code",
   "execution_count": 179,
   "id": "9237bf8e",
   "metadata": {
    "ExecuteTime": {
     "end_time": "2021-08-25T15:17:15.854865Z",
     "start_time": "2021-08-25T15:17:15.842380Z"
    },
    "scrolled": true
   },
   "outputs": [
    {
     "name": "stdout",
     "output_type": "stream",
     "text": [
      "sparse_mx    (0, 40)\t0.06388765573501587\n",
      "  (0, 214)\t0.06900654733181\n",
      "  (0, 258)\t0.031388238072395325\n",
      "  (0, 296)\t0.04879499971866608\n",
      "  (0, 433)\t0.04879499971866608\n",
      "  (0, 741)\t0.07559289038181305\n",
      "  (0, 823)\t0.04225771129131317\n",
      "  (0, 885)\t0.039840955287218094\n",
      "  (0, 920)\t0.04517539218068123\n",
      "  (0, 969)\t0.08451542258262634\n",
      "  (0, 1067)\t0.04688072204589844\n",
      "  (0, 1071)\t0.05096471682190895\n",
      "  (0, 1160)\t0.033806171268224716\n",
      "  (0, 1509)\t0.07559289038181305\n",
      "  (0, 1544)\t0.11952285468578339\n",
      "  (0, 1561)\t0.07559289038181305\n",
      "  (0, 1608)\t0.06388765573501587\n",
      "  (0, 1625)\t0.05096471682190895\n",
      "  (0, 1899)\t0.05976142734289169\n",
      "  (0, 1914)\t0.04225771129131317\n",
      "  (0, 1923)\t0.03688555210828781\n",
      "  (0, 1931)\t0.06900654733181\n",
      "  (0, 2034)\t0.038778334856033325\n",
      "  (0, 2118)\t0.07559289038181305\n",
      "  (0, 2162)\t0.023904573172330856\n",
      "  :\t:\n",
      "  (2984, 1363)\t0.22360679507255554\n",
      "  (2984, 1921)\t0.1154700517654419\n",
      "  (2984, 2019)\t0.08606629818677902\n",
      "  (2984, 5996)\t1.0\n",
      "  (2985, 562)\t0.2357022613286972\n",
      "  (2985, 795)\t0.14907120168209076\n",
      "  (2985, 840)\t0.111111119389534\n",
      "  (2985, 1268)\t0.08606629818677902\n",
      "  (2985, 2441)\t0.111111119389534\n",
      "  (2985, 2472)\t0.1666666716337204\n",
      "  (2985, 2499)\t0.07453560084104538\n",
      "  (2985, 2534)\t0.111111119389534\n",
      "  (2985, 2687)\t0.06085806339979172\n",
      "  (2985, 5997)\t1.0\n",
      "  (2986, 3)\t0.1666666716337204\n",
      "  (2986, 61)\t0.14907120168209076\n",
      "  (2986, 286)\t0.10540925711393356\n",
      "  (2986, 1371)\t0.08908708393573761\n",
      "  (2986, 1904)\t0.09622504562139511\n",
      "  (2986, 2013)\t0.05986843630671501\n",
      "  (2986, 2616)\t0.049690403044223785\n",
      "  (2986, 2821)\t0.06666667014360428\n",
      "  (2986, 2899)\t0.08084521442651749\n",
      "  (2986, 5998)\t1.0\n",
      "  (2987, 5999)\t1.0\n",
      "coords [[   0   40]\n",
      " [   0  214]\n",
      " [   0  258]\n",
      " ...\n",
      " [2986 2899]\n",
      " [2986 5998]\n",
      " [2987 5999]]\n",
      "values [0.06388766 0.06900655 0.03138824 ... 0.08084521 1.         1.        ]\n",
      "shape (2988, 6000)\n"
     ]
    }
   ],
   "source": [
    "if not sp.isspmatrix_coo(val_support_t):\n",
    "    sparse_mx = val_support_t.tocoo()\n",
    "    coords = np.vstack((sparse_mx.row, sparse_mx.col)).transpose()\n",
    "    values = sparse_mx.data\n",
    "    shape = sparse_mx.shape\n",
    "print('sparse_mx ', sparse_mx)\n",
    "print('coords' , coords)\n",
    "print('values' , values)\n",
    "print('shape' , shape)"
   ]
  },
  {
   "cell_type": "code",
   "execution_count": 180,
   "id": "a7a5bebf",
   "metadata": {
    "ExecuteTime": {
     "end_time": "2021-08-25T15:18:09.843119Z",
     "start_time": "2021-08-25T15:18:09.839057Z"
    }
   },
   "outputs": [],
   "source": [
    "val_support_t=coords,values,shape"
   ]
  },
  {
   "cell_type": "markdown",
   "id": "cf6ddd38",
   "metadata": {},
   "source": [
    "### for train_support..."
   ]
  },
  {
   "cell_type": "code",
   "execution_count": 185,
   "id": "8265bd87",
   "metadata": {
    "ExecuteTime": {
     "end_time": "2021-08-25T15:21:39.746262Z",
     "start_time": "2021-08-25T15:21:39.733451Z"
    },
    "scrolled": true
   },
   "outputs": [
    {
     "name": "stdout",
     "output_type": "stream",
     "text": [
      "sparse_mx    (0, 269)\t0.11470786482095718\n",
      "  (0, 1060)\t0.1178511381149292\n",
      "  (0, 1231)\t0.22360679507255554\n",
      "  (0, 2859)\t0.22360679507255554\n",
      "  (0, 3000)\t1.0\n",
      "  (1, 164)\t0.05976143479347229\n",
      "  (1, 300)\t0.06324555724859238\n",
      "  (1, 392)\t0.05773502588272095\n",
      "  (1, 426)\t0.08451542258262634\n",
      "  (1, 606)\t0.15811388194561005\n",
      "  (1, 709)\t0.08770579844713211\n",
      "  (1, 1501)\t0.09128709137439728\n",
      "  (1, 2080)\t0.08164965361356735\n",
      "  (1, 2639)\t0.11180339753627777\n",
      "  (1, 2763)\t0.11952286958694458\n",
      "  (1, 3001)\t1.0\n",
      "  (2, 40)\t0.041522737592458725\n",
      "  (2, 323)\t0.0690065547823906\n",
      "  (2, 390)\t0.09534625709056854\n",
      "  (2, 458)\t0.06085806339979172\n",
      "  (2, 683)\t0.10000000149011612\n",
      "  (2, 1562)\t0.09128709137439728\n",
      "  (2, 1602)\t0.08451542258262634\n",
      "  (2, 1640)\t0.18257418274879456\n",
      "  (2, 2065)\t0.0690065547823906\n",
      "  :\t:\n",
      "  (2994, 644)\t0.07881104201078415\n",
      "  (2994, 766)\t0.15430335700511932\n",
      "  (2994, 2913)\t0.18898224830627441\n",
      "  (2994, 5994)\t1.0\n",
      "  (2995, 517)\t0.14433756470680237\n",
      "  (2995, 656)\t0.5\n",
      "  (2995, 698)\t0.07624928653240204\n",
      "  (2995, 958)\t0.14433756470680237\n",
      "  (2995, 5995)\t1.0\n",
      "  (2996, 685)\t0.13245323300361633\n",
      "  (2996, 1676)\t0.14433756470680237\n",
      "  (2996, 1793)\t0.13245323300361633\n",
      "  (2996, 5996)\t1.0\n",
      "  (2997, 872)\t0.12309148907661438\n",
      "  (2997, 1006)\t0.2357022613286972\n",
      "  (2997, 5998)\t1.0\n",
      "  (2998, 263)\t0.058123815804719925\n",
      "  (2998, 356)\t0.048112522810697556\n",
      "  (2998, 715)\t0.06454972177743912\n",
      "  (2998, 917)\t0.0980580672621727\n",
      "  (2998, 977)\t0.07905694097280502\n",
      "  (2998, 992)\t0.06454972177743912\n",
      "  (2998, 1079)\t0.10206206887960434\n",
      "  (2998, 1784)\t0.07905694097280502\n",
      "  (2998, 5999)\t1.0\n",
      "coords [[   0  269]\n",
      " [   0 1060]\n",
      " [   0 1231]\n",
      " ...\n",
      " [2998 1079]\n",
      " [2998 1784]\n",
      " [2998 5999]]\n",
      "values [0.11470786 0.11785114 0.2236068  ... 0.10206207 0.07905694 1.        ]\n",
      "shape (2999, 6000)\n"
     ]
    }
   ],
   "source": [
    "if not sp.isspmatrix_coo(train_support):\n",
    "    sparse_mx = train_support.tocoo()\n",
    "    coords = np.vstack((sparse_mx.row, sparse_mx.col)).transpose()\n",
    "    values = sparse_mx.data\n",
    "    shape = sparse_mx.shape\n",
    "print('sparse_mx ', sparse_mx)\n",
    "print('coords' , coords)\n",
    "print('values' , values)\n",
    "print('shape' , shape)"
   ]
  },
  {
   "cell_type": "code",
   "execution_count": 186,
   "id": "dc81d10c",
   "metadata": {
    "ExecuteTime": {
     "end_time": "2021-08-25T15:21:44.347261Z",
     "start_time": "2021-08-25T15:21:44.329060Z"
    }
   },
   "outputs": [],
   "source": [
    "train_support=coords,values,shape"
   ]
  },
  {
   "cell_type": "markdown",
   "id": "214e22c2",
   "metadata": {},
   "source": [
    "### for train_support_t..."
   ]
  },
  {
   "cell_type": "code",
   "execution_count": 187,
   "id": "ce4ca525",
   "metadata": {
    "ExecuteTime": {
     "end_time": "2021-08-25T15:21:48.027387Z",
     "start_time": "2021-08-25T15:21:48.007960Z"
    },
    "scrolled": true
   },
   "outputs": [
    {
     "name": "stdout",
     "output_type": "stream",
     "text": [
      "sparse_mx    (0, 40)\t0.06388765573501587\n",
      "  (0, 214)\t0.06900654733181\n",
      "  (0, 258)\t0.031388238072395325\n",
      "  (0, 296)\t0.04879499971866608\n",
      "  (0, 433)\t0.04879499971866608\n",
      "  (0, 741)\t0.07559289038181305\n",
      "  (0, 823)\t0.04225771129131317\n",
      "  (0, 885)\t0.039840955287218094\n",
      "  (0, 920)\t0.04517539218068123\n",
      "  (0, 969)\t0.08451542258262634\n",
      "  (0, 1067)\t0.04688072204589844\n",
      "  (0, 1071)\t0.05096471682190895\n",
      "  (0, 1160)\t0.033806171268224716\n",
      "  (0, 1509)\t0.07559289038181305\n",
      "  (0, 1544)\t0.11952285468578339\n",
      "  (0, 1561)\t0.07559289038181305\n",
      "  (0, 1608)\t0.06388765573501587\n",
      "  (0, 1625)\t0.05096471682190895\n",
      "  (0, 1899)\t0.05976142734289169\n",
      "  (0, 1914)\t0.04225771129131317\n",
      "  (0, 1923)\t0.03688555210828781\n",
      "  (0, 1931)\t0.06900654733181\n",
      "  (0, 2034)\t0.038778334856033325\n",
      "  (0, 2118)\t0.07559289038181305\n",
      "  (0, 2162)\t0.023904573172330856\n",
      "  :\t:\n",
      "  (2996, 1363)\t0.22360679507255554\n",
      "  (2996, 1921)\t0.1154700517654419\n",
      "  (2996, 2019)\t0.08606629818677902\n",
      "  (2996, 5996)\t1.0\n",
      "  (2997, 562)\t0.2357022613286972\n",
      "  (2997, 795)\t0.14907120168209076\n",
      "  (2997, 840)\t0.111111119389534\n",
      "  (2997, 1268)\t0.08606629818677902\n",
      "  (2997, 2441)\t0.111111119389534\n",
      "  (2997, 2472)\t0.1666666716337204\n",
      "  (2997, 2499)\t0.07453560084104538\n",
      "  (2997, 2534)\t0.111111119389534\n",
      "  (2997, 2687)\t0.06085806339979172\n",
      "  (2997, 5997)\t1.0\n",
      "  (2998, 3)\t0.1666666716337204\n",
      "  (2998, 61)\t0.14907120168209076\n",
      "  (2998, 286)\t0.10540925711393356\n",
      "  (2998, 1371)\t0.08908708393573761\n",
      "  (2998, 1904)\t0.09622504562139511\n",
      "  (2998, 2013)\t0.05986843630671501\n",
      "  (2998, 2616)\t0.049690403044223785\n",
      "  (2998, 2821)\t0.06666667014360428\n",
      "  (2998, 2899)\t0.08084521442651749\n",
      "  (2998, 5998)\t1.0\n",
      "  (2999, 5999)\t1.0\n",
      "coords [[   0   40]\n",
      " [   0  214]\n",
      " [   0  258]\n",
      " ...\n",
      " [2998 2899]\n",
      " [2998 5998]\n",
      " [2999 5999]]\n",
      "values [0.06388766 0.06900655 0.03138824 ... 0.08084521 1.         1.        ]\n",
      "shape (3000, 6000)\n"
     ]
    }
   ],
   "source": [
    "if not sp.isspmatrix_coo(train_support_t):\n",
    "    sparse_mx = train_support_t.tocoo()\n",
    "    coords = np.vstack((sparse_mx.row, sparse_mx.col)).transpose()\n",
    "    values = sparse_mx.data\n",
    "    shape = sparse_mx.shape\n",
    "print('sparse_mx ', sparse_mx)\n",
    "print('coords' , coords)\n",
    "print('values' , values)\n",
    "print('shape' , shape)"
   ]
  },
  {
   "cell_type": "code",
   "execution_count": 188,
   "id": "0990f53e",
   "metadata": {
    "ExecuteTime": {
     "end_time": "2021-08-25T15:22:15.543120Z",
     "start_time": "2021-08-25T15:22:15.536839Z"
    }
   },
   "outputs": [],
   "source": [
    "train_support_t=coords,values,shape"
   ]
  },
  {
   "cell_type": "markdown",
   "id": "ad3890f4",
   "metadata": {},
   "source": [
    "### for u_features..."
   ]
  },
  {
   "cell_type": "code",
   "execution_count": 206,
   "id": "3297e50b",
   "metadata": {
    "ExecuteTime": {
     "end_time": "2021-08-25T15:57:23.019632Z",
     "start_time": "2021-08-25T15:57:22.994445Z"
    },
    "scrolled": true
   },
   "outputs": [
    {
     "name": "stdout",
     "output_type": "stream",
     "text": [
      "sparse_mx    (0, 0)\t1.0\n",
      "  (1, 1)\t1.0\n",
      "  (2, 2)\t1.0\n",
      "  (3, 3)\t1.0\n",
      "  (4, 4)\t1.0\n",
      "  (5, 5)\t1.0\n",
      "  (6, 6)\t1.0\n",
      "  (7, 7)\t1.0\n",
      "  (8, 8)\t1.0\n",
      "  (9, 9)\t1.0\n",
      "  (10, 10)\t1.0\n",
      "  (11, 11)\t1.0\n",
      "  (12, 12)\t1.0\n",
      "  (13, 13)\t1.0\n",
      "  (14, 14)\t1.0\n",
      "  (15, 15)\t1.0\n",
      "  (16, 16)\t1.0\n",
      "  (17, 17)\t1.0\n",
      "  (18, 18)\t1.0\n",
      "  (19, 19)\t1.0\n",
      "  (20, 20)\t1.0\n",
      "  (21, 21)\t1.0\n",
      "  (22, 22)\t1.0\n",
      "  (23, 23)\t1.0\n",
      "  (24, 24)\t1.0\n",
      "  :\t:\n",
      "  (2975, 2975)\t1.0\n",
      "  (2976, 2976)\t1.0\n",
      "  (2977, 2977)\t1.0\n",
      "  (2978, 2978)\t1.0\n",
      "  (2979, 2979)\t1.0\n",
      "  (2980, 2980)\t1.0\n",
      "  (2981, 2981)\t1.0\n",
      "  (2982, 2982)\t1.0\n",
      "  (2983, 2983)\t1.0\n",
      "  (2984, 2984)\t1.0\n",
      "  (2985, 2985)\t1.0\n",
      "  (2986, 2986)\t1.0\n",
      "  (2987, 2987)\t1.0\n",
      "  (2988, 2988)\t1.0\n",
      "  (2989, 2989)\t1.0\n",
      "  (2990, 2990)\t1.0\n",
      "  (2991, 2991)\t1.0\n",
      "  (2992, 2992)\t1.0\n",
      "  (2993, 2993)\t1.0\n",
      "  (2994, 2994)\t1.0\n",
      "  (2995, 2995)\t1.0\n",
      "  (2996, 2996)\t1.0\n",
      "  (2997, 2997)\t1.0\n",
      "  (2998, 2998)\t1.0\n",
      "  (2999, 2999)\t1.0\n",
      "coords [[   0    0]\n",
      " [   1    1]\n",
      " [   2    2]\n",
      " ...\n",
      " [2997 2997]\n",
      " [2998 2998]\n",
      " [2999 2999]]\n",
      "values [1. 1. 1. ... 1. 1. 1.]\n",
      "shape (3000, 6000)\n"
     ]
    }
   ],
   "source": [
    "if not sp.isspmatrix_coo(u_features):\n",
    "    sparse_mx = u_features.tocoo()\n",
    "    coords = np.vstack((sparse_mx.row, sparse_mx.col)).transpose()\n",
    "    values = sparse_mx.data\n",
    "    shape = sparse_mx.shape\n",
    "print('sparse_mx ', sparse_mx)\n",
    "print('coords' , coords)\n",
    "print('values' , values)\n",
    "print('shape' , shape)"
   ]
  },
  {
   "cell_type": "code",
   "execution_count": 207,
   "id": "233f781d",
   "metadata": {
    "ExecuteTime": {
     "end_time": "2021-08-25T15:57:33.529796Z",
     "start_time": "2021-08-25T15:57:33.523318Z"
    }
   },
   "outputs": [],
   "source": [
    "u_features=coords,values,shape"
   ]
  },
  {
   "cell_type": "code",
   "execution_count": 208,
   "id": "5c10f13b",
   "metadata": {
    "ExecuteTime": {
     "end_time": "2021-08-25T15:57:35.761344Z",
     "start_time": "2021-08-25T15:57:35.745675Z"
    }
   },
   "outputs": [
    {
     "data": {
      "text/plain": [
       "(array([[   0,    0],\n",
       "        [   1,    1],\n",
       "        [   2,    2],\n",
       "        ...,\n",
       "        [2997, 2997],\n",
       "        [2998, 2998],\n",
       "        [2999, 2999]], dtype=int32),\n",
       " array([1., 1., 1., ..., 1., 1., 1.]),\n",
       " (3000, 6000))"
      ]
     },
     "execution_count": 208,
     "metadata": {},
     "output_type": "execute_result"
    }
   ],
   "source": [
    "u_features"
   ]
  },
  {
   "cell_type": "markdown",
   "id": "aeaf17fe",
   "metadata": {},
   "source": [
    "### for v_features..."
   ]
  },
  {
   "cell_type": "code",
   "execution_count": 209,
   "id": "c367a57f",
   "metadata": {
    "ExecuteTime": {
     "end_time": "2021-08-25T15:57:39.805845Z",
     "start_time": "2021-08-25T15:57:39.793964Z"
    },
    "scrolled": true
   },
   "outputs": [
    {
     "name": "stdout",
     "output_type": "stream",
     "text": [
      "sparse_mx    (0, 3000)\t1.0\n",
      "  (1, 3001)\t1.0\n",
      "  (2, 3002)\t1.0\n",
      "  (3, 3003)\t1.0\n",
      "  (4, 3004)\t1.0\n",
      "  (5, 3005)\t1.0\n",
      "  (6, 3006)\t1.0\n",
      "  (7, 3007)\t1.0\n",
      "  (8, 3008)\t1.0\n",
      "  (9, 3009)\t1.0\n",
      "  (10, 3010)\t1.0\n",
      "  (11, 3011)\t1.0\n",
      "  (12, 3012)\t1.0\n",
      "  (13, 3013)\t1.0\n",
      "  (14, 3014)\t1.0\n",
      "  (15, 3015)\t1.0\n",
      "  (16, 3016)\t1.0\n",
      "  (17, 3017)\t1.0\n",
      "  (18, 3018)\t1.0\n",
      "  (19, 3019)\t1.0\n",
      "  (20, 3020)\t1.0\n",
      "  (21, 3021)\t1.0\n",
      "  (22, 3022)\t1.0\n",
      "  (23, 3023)\t1.0\n",
      "  (24, 3024)\t1.0\n",
      "  :\t:\n",
      "  (2975, 5975)\t1.0\n",
      "  (2976, 5976)\t1.0\n",
      "  (2977, 5977)\t1.0\n",
      "  (2978, 5978)\t1.0\n",
      "  (2979, 5979)\t1.0\n",
      "  (2980, 5980)\t1.0\n",
      "  (2981, 5981)\t1.0\n",
      "  (2982, 5982)\t1.0\n",
      "  (2983, 5983)\t1.0\n",
      "  (2984, 5984)\t1.0\n",
      "  (2985, 5985)\t1.0\n",
      "  (2986, 5986)\t1.0\n",
      "  (2987, 5987)\t1.0\n",
      "  (2988, 5988)\t1.0\n",
      "  (2989, 5989)\t1.0\n",
      "  (2990, 5990)\t1.0\n",
      "  (2991, 5991)\t1.0\n",
      "  (2992, 5992)\t1.0\n",
      "  (2993, 5993)\t1.0\n",
      "  (2994, 5994)\t1.0\n",
      "  (2995, 5995)\t1.0\n",
      "  (2996, 5996)\t1.0\n",
      "  (2997, 5997)\t1.0\n",
      "  (2998, 5998)\t1.0\n",
      "  (2999, 5999)\t1.0\n",
      "coords [[   0 3000]\n",
      " [   1 3001]\n",
      " [   2 3002]\n",
      " ...\n",
      " [2997 5997]\n",
      " [2998 5998]\n",
      " [2999 5999]]\n",
      "values [1. 1. 1. ... 1. 1. 1.]\n",
      "shape (3000, 6000)\n"
     ]
    }
   ],
   "source": [
    "if not sp.isspmatrix_coo(v_features):\n",
    "    sparse_mx = v_features.tocoo()\n",
    "    coords = np.vstack((sparse_mx.row, sparse_mx.col)).transpose()\n",
    "    values = sparse_mx.data\n",
    "    shape = sparse_mx.shape\n",
    "print('sparse_mx ', sparse_mx)\n",
    "print('coords' , coords)\n",
    "print('values' , values)\n",
    "print('shape' , shape)"
   ]
  },
  {
   "cell_type": "code",
   "execution_count": 210,
   "id": "1d2f3205",
   "metadata": {
    "ExecuteTime": {
     "end_time": "2021-08-25T15:57:41.932159Z",
     "start_time": "2021-08-25T15:57:41.914086Z"
    }
   },
   "outputs": [],
   "source": [
    "v_features=coords,values,shape"
   ]
  },
  {
   "cell_type": "code",
   "execution_count": 211,
   "id": "7fc1b128",
   "metadata": {
    "ExecuteTime": {
     "end_time": "2021-08-25T15:57:42.920776Z",
     "start_time": "2021-08-25T15:57:42.901431Z"
    }
   },
   "outputs": [
    {
     "data": {
      "text/plain": [
       "(array([[   0, 3000],\n",
       "        [   1, 3001],\n",
       "        [   2, 3002],\n",
       "        ...,\n",
       "        [2997, 5997],\n",
       "        [2998, 5998],\n",
       "        [2999, 5999]], dtype=int32),\n",
       " array([1., 1., 1., ..., 1., 1., 1.]),\n",
       " (3000, 6000))"
      ]
     },
     "execution_count": 211,
     "metadata": {},
     "output_type": "execute_result"
    }
   ],
   "source": [
    "v_features"
   ]
  },
  {
   "cell_type": "code",
   "execution_count": 212,
   "id": "5243d224",
   "metadata": {
    "ExecuteTime": {
     "end_time": "2021-08-25T15:57:47.417976Z",
     "start_time": "2021-08-25T15:57:47.402147Z"
    }
   },
   "outputs": [],
   "source": [
    "# Number of features of users and items must be the same!\n",
    "assert u_features[2][1] == v_features[2][1]"
   ]
  },
  {
   "cell_type": "code",
   "execution_count": 213,
   "id": "b486cfbe",
   "metadata": {
    "ExecuteTime": {
     "end_time": "2021-08-25T15:57:50.928700Z",
     "start_time": "2021-08-25T15:57:50.914393Z"
    }
   },
   "outputs": [],
   "source": [
    "num_features = u_features[2][1]\n",
    "u_features_nonzero = u_features[1].shape[0]\n",
    "v_features_nonzero = v_features[1].shape[0]"
   ]
  },
  {
   "cell_type": "code",
   "execution_count": 214,
   "id": "ba142d60",
   "metadata": {
    "ExecuteTime": {
     "end_time": "2021-08-25T15:57:51.796001Z",
     "start_time": "2021-08-25T15:57:51.777583Z"
    }
   },
   "outputs": [
    {
     "data": {
      "text/plain": [
       "6000"
      ]
     },
     "execution_count": 214,
     "metadata": {},
     "output_type": "execute_result"
    }
   ],
   "source": [
    "num_features"
   ]
  },
  {
   "cell_type": "code",
   "execution_count": 215,
   "id": "99d3264d",
   "metadata": {
    "ExecuteTime": {
     "end_time": "2021-08-25T15:57:52.585086Z",
     "start_time": "2021-08-25T15:57:52.578514Z"
    }
   },
   "outputs": [
    {
     "data": {
      "text/plain": [
       "3000"
      ]
     },
     "execution_count": 215,
     "metadata": {},
     "output_type": "execute_result"
    }
   ],
   "source": [
    "u_features_nonzero"
   ]
  },
  {
   "cell_type": "code",
   "execution_count": 216,
   "id": "010f43d2",
   "metadata": {
    "ExecuteTime": {
     "end_time": "2021-08-25T15:57:53.255511Z",
     "start_time": "2021-08-25T15:57:53.249467Z"
    }
   },
   "outputs": [
    {
     "data": {
      "text/plain": [
       "3000"
      ]
     },
     "execution_count": 216,
     "metadata": {},
     "output_type": "execute_result"
    }
   ],
   "source": [
    "v_features_nonzero"
   ]
  },
  {
   "cell_type": "code",
   "execution_count": null,
   "id": "60e444e6",
   "metadata": {},
   "outputs": [],
   "source": []
  },
  {
   "cell_type": "code",
   "execution_count": 32,
   "id": "79709bb0",
   "metadata": {
    "ExecuteTime": {
     "end_time": "2021-08-30T14:25:10.748331Z",
     "start_time": "2021-08-30T14:25:10.738316Z"
    }
   },
   "outputs": [],
   "source": [
    "u_feat = np.eye(1,num_items)"
   ]
  },
  {
   "cell_type": "code",
   "execution_count": 36,
   "id": "ff0fa1b7",
   "metadata": {
    "ExecuteTime": {
     "end_time": "2021-08-30T14:25:57.111677Z",
     "start_time": "2021-08-30T14:25:57.097377Z"
    }
   },
   "outputs": [
    {
     "data": {
      "text/plain": [
       "array([1., 0., 0., ..., 0., 0., 0.])"
      ]
     },
     "execution_count": 36,
     "metadata": {},
     "output_type": "execute_result"
    }
   ],
   "source": [
    "u_feat.reshape([-1])"
   ]
  },
  {
   "cell_type": "code",
   "execution_count": null,
   "id": "c4f7c553",
   "metadata": {},
   "outputs": [],
   "source": []
  },
  {
   "cell_type": "code",
   "execution_count": null,
   "id": "3166cbc5",
   "metadata": {},
   "outputs": [],
   "source": []
  },
  {
   "cell_type": "code",
   "execution_count": null,
   "id": "9513261f",
   "metadata": {},
   "outputs": [],
   "source": []
  }
 ],
 "metadata": {
  "kernelspec": {
   "display_name": "Python 3",
   "language": "python",
   "name": "python3"
  },
  "language_info": {
   "codemirror_mode": {
    "name": "ipython",
    "version": 3
   },
   "file_extension": ".py",
   "mimetype": "text/x-python",
   "name": "python",
   "nbconvert_exporter": "python",
   "pygments_lexer": "ipython3",
   "version": "3.7.9"
  },
  "toc": {
   "base_numbering": 1,
   "nav_menu": {},
   "number_sections": true,
   "sideBar": true,
   "skip_h1_title": false,
   "title_cell": "Table of Contents",
   "title_sidebar": "Contents",
   "toc_cell": false,
   "toc_position": {
    "height": "calc(100% - 180px)",
    "left": "10px",
    "top": "150px",
    "width": "256px"
   },
   "toc_section_display": true,
   "toc_window_display": true
  }
 },
 "nbformat": 4,
 "nbformat_minor": 5
}
