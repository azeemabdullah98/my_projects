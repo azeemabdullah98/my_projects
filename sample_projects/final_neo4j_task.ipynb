{
 "cells": [
  {
   "cell_type": "code",
   "execution_count": 1,
   "id": "271bb0d4",
   "metadata": {
    "ExecuteTime": {
     "end_time": "2021-06-02T17:36:57.311073Z",
     "start_time": "2021-06-02T17:36:55.874799Z"
    }
   },
   "outputs": [],
   "source": [
    "from py2neo import Graph,Relationship,Node\n",
    "import pandas as pd\n",
    "import networkx as nx\n",
    "import matplotlib.pyplot as plt\n",
    "from copy import deepcopy\n",
    "from neo4j import GraphDatabase"
   ]
  },
  {
   "cell_type": "code",
   "execution_count": 2,
   "id": "03b55ed8",
   "metadata": {
    "ExecuteTime": {
     "end_time": "2021-06-02T17:36:57.500111Z",
     "start_time": "2021-06-02T17:36:57.316071Z"
    }
   },
   "outputs": [],
   "source": [
    "graph = Graph(\"bolt://localhost:7687\",password='azeem0786')"
   ]
  },
  {
   "cell_type": "code",
   "execution_count": 3,
   "id": "32f07b87",
   "metadata": {
    "ExecuteTime": {
     "end_time": "2021-06-02T17:36:57.512013Z",
     "start_time": "2021-06-02T17:36:57.502081Z"
    }
   },
   "outputs": [],
   "source": [
    "def BaseGraph():\n",
    "    inpNodes=graph.run(\"match (n)-[:Linked]->(m) return n.name as input_nodes, n.formula as formula,m.name as derived_nodes\").to_data_frame()\n",
    "#     derivedNodes=graph.run(\"match(a)-[:Linked]->(b) return b.name as derived_nodes\").to_data_frame()\n",
    "    return inpNodes"
   ]
  },
  {
   "cell_type": "code",
   "execution_count": 4,
   "id": "db1cbf70",
   "metadata": {
    "ExecuteTime": {
     "end_time": "2021-06-02T17:36:57.648963Z",
     "start_time": "2021-06-02T17:36:57.518567Z"
    }
   },
   "outputs": [],
   "source": [
    "df = BaseGraph()"
   ]
  },
  {
   "cell_type": "code",
   "execution_count": 5,
   "id": "ea8b7256",
   "metadata": {
    "ExecuteTime": {
     "end_time": "2021-06-02T17:36:57.774065Z",
     "start_time": "2021-06-02T17:36:57.648963Z"
    }
   },
   "outputs": [],
   "source": [
    "df1 = df[::-1]"
   ]
  },
  {
   "cell_type": "code",
   "execution_count": 6,
   "id": "3f5a886a",
   "metadata": {
    "ExecuteTime": {
     "end_time": "2021-06-02T17:36:57.922440Z",
     "start_time": "2021-06-02T17:36:57.893030Z"
    }
   },
   "outputs": [
    {
     "data": {
      "text/html": [
       "<div>\n",
       "<style scoped>\n",
       "    .dataframe tbody tr th:only-of-type {\n",
       "        vertical-align: middle;\n",
       "    }\n",
       "\n",
       "    .dataframe tbody tr th {\n",
       "        vertical-align: top;\n",
       "    }\n",
       "\n",
       "    .dataframe thead th {\n",
       "        text-align: right;\n",
       "    }\n",
       "</style>\n",
       "<table border=\"1\" class=\"dataframe\">\n",
       "  <thead>\n",
       "    <tr style=\"text-align: right;\">\n",
       "      <th></th>\n",
       "      <th>input_nodes</th>\n",
       "      <th>formula</th>\n",
       "      <th>derived_nodes</th>\n",
       "    </tr>\n",
       "  </thead>\n",
       "  <tbody>\n",
       "    <tr>\n",
       "      <th>5</th>\n",
       "      <td>Amount</td>\n",
       "      <td>Quantity*Rate</td>\n",
       "      <td>Net Amount</td>\n",
       "    </tr>\n",
       "    <tr>\n",
       "      <th>4</th>\n",
       "      <td>Discount Amount</td>\n",
       "      <td>Discount Per*Amount</td>\n",
       "      <td>Net Amount</td>\n",
       "    </tr>\n",
       "    <tr>\n",
       "      <th>3</th>\n",
       "      <td>Discount Per</td>\n",
       "      <td>None</td>\n",
       "      <td>Discount Amount</td>\n",
       "    </tr>\n",
       "    <tr>\n",
       "      <th>2</th>\n",
       "      <td>Amount</td>\n",
       "      <td>Quantity*Rate</td>\n",
       "      <td>Discount Amount</td>\n",
       "    </tr>\n",
       "    <tr>\n",
       "      <th>1</th>\n",
       "      <td>Quantity</td>\n",
       "      <td>None</td>\n",
       "      <td>Amount</td>\n",
       "    </tr>\n",
       "    <tr>\n",
       "      <th>0</th>\n",
       "      <td>Rate</td>\n",
       "      <td>None</td>\n",
       "      <td>Amount</td>\n",
       "    </tr>\n",
       "  </tbody>\n",
       "</table>\n",
       "</div>"
      ],
      "text/plain": [
       "       input_nodes              formula    derived_nodes\n",
       "5           Amount        Quantity*Rate       Net Amount\n",
       "4  Discount Amount  Discount Per*Amount       Net Amount\n",
       "3     Discount Per                 None  Discount Amount\n",
       "2           Amount        Quantity*Rate  Discount Amount\n",
       "1         Quantity                 None           Amount\n",
       "0             Rate                 None           Amount"
      ]
     },
     "execution_count": 6,
     "metadata": {},
     "output_type": "execute_result"
    }
   ],
   "source": [
    "df1"
   ]
  },
  {
   "cell_type": "code",
   "execution_count": 7,
   "id": "16abac91",
   "metadata": {
    "ExecuteTime": {
     "end_time": "2021-06-02T17:36:58.290368Z",
     "start_time": "2021-06-02T17:36:58.275378Z"
    }
   },
   "outputs": [],
   "source": [
    "relation = [{x:y} for x,y in zip(df1['input_nodes'],df1['derived_nodes'])]"
   ]
  },
  {
   "cell_type": "code",
   "execution_count": 8,
   "id": "913c38a7",
   "metadata": {
    "ExecuteTime": {
     "end_time": "2021-06-02T17:36:58.706209Z",
     "start_time": "2021-06-02T17:36:58.690321Z"
    }
   },
   "outputs": [
    {
     "data": {
      "text/plain": [
       "[{'Amount': 'Net Amount'},\n",
       " {'Discount Amount': 'Net Amount'},\n",
       " {'Discount Per': 'Discount Amount'},\n",
       " {'Amount': 'Discount Amount'},\n",
       " {'Quantity': 'Amount'},\n",
       " {'Rate': 'Amount'}]"
      ]
     },
     "execution_count": 8,
     "metadata": {},
     "output_type": "execute_result"
    }
   ],
   "source": [
    "relation"
   ]
  },
  {
   "cell_type": "code",
   "execution_count": 9,
   "id": "dc8052f4",
   "metadata": {
    "ExecuteTime": {
     "end_time": "2021-06-02T17:36:59.155551Z",
     "start_time": "2021-06-02T17:36:59.139092Z"
    }
   },
   "outputs": [],
   "source": [
    "From = [x for x,y in zip(df1['input_nodes'],df1['formula'])if y==None]"
   ]
  },
  {
   "cell_type": "code",
   "execution_count": 10,
   "id": "efa57d03",
   "metadata": {
    "ExecuteTime": {
     "end_time": "2021-06-02T17:36:59.586855Z",
     "start_time": "2021-06-02T17:36:59.571833Z"
    }
   },
   "outputs": [
    {
     "data": {
      "text/plain": [
       "['Discount Per', 'Quantity', 'Rate']"
      ]
     },
     "execution_count": 10,
     "metadata": {},
     "output_type": "execute_result"
    }
   ],
   "source": [
    "From"
   ]
  },
  {
   "cell_type": "code",
   "execution_count": 11,
   "id": "d71f2432",
   "metadata": {
    "ExecuteTime": {
     "end_time": "2021-06-02T17:37:00.239471Z",
     "start_time": "2021-06-02T17:37:00.235704Z"
    }
   },
   "outputs": [],
   "source": [
    "availableNodes = deepcopy(From)"
   ]
  },
  {
   "cell_type": "code",
   "execution_count": 12,
   "id": "63c3f9ce",
   "metadata": {
    "ExecuteTime": {
     "end_time": "2021-06-02T17:37:01.026228Z",
     "start_time": "2021-06-02T17:37:01.018713Z"
    }
   },
   "outputs": [],
   "source": [
    "To = list(set(x for x in df['derived_nodes']))"
   ]
  },
  {
   "cell_type": "code",
   "execution_count": 13,
   "id": "7d0788a6",
   "metadata": {
    "ExecuteTime": {
     "end_time": "2021-06-02T17:37:01.561950Z",
     "start_time": "2021-06-02T17:37:01.555227Z"
    }
   },
   "outputs": [
    {
     "data": {
      "text/plain": [
       "['Amount', 'Net Amount', 'Discount Amount']"
      ]
     },
     "execution_count": 13,
     "metadata": {},
     "output_type": "execute_result"
    }
   ],
   "source": [
    "To"
   ]
  },
  {
   "cell_type": "code",
   "execution_count": 14,
   "id": "10bf355e",
   "metadata": {
    "ExecuteTime": {
     "end_time": "2021-06-02T17:37:02.035300Z",
     "start_time": "2021-06-02T17:37:02.020625Z"
    }
   },
   "outputs": [],
   "source": [
    "totalNodes=From+To"
   ]
  },
  {
   "cell_type": "code",
   "execution_count": 44,
   "id": "7c01489d",
   "metadata": {
    "ExecuteTime": {
     "end_time": "2021-06-02T18:04:51.913023Z",
     "start_time": "2021-06-02T18:04:51.899299Z"
    }
   },
   "outputs": [],
   "source": [
    "totalNodes.append(\"Total\")"
   ]
  },
  {
   "cell_type": "code",
   "execution_count": 49,
   "id": "74ad5f32",
   "metadata": {
    "ExecuteTime": {
     "end_time": "2021-06-02T18:05:01.620646Z",
     "start_time": "2021-06-02T18:05:01.611775Z"
    }
   },
   "outputs": [],
   "source": [
    "totalNodes.remove(\"Total\")"
   ]
  },
  {
   "cell_type": "code",
   "execution_count": 18,
   "id": "96f25238",
   "metadata": {
    "ExecuteTime": {
     "end_time": "2021-06-02T16:31:43.829806Z",
     "start_time": "2021-06-02T16:31:43.812041Z"
    }
   },
   "outputs": [
    {
     "name": "stdout",
     "output_type": "stream",
     "text": [
      "['Net Amount']\n",
      "['Net Amount']\n",
      "['Discount Amount']\n",
      "['Discount Amount']\n",
      "['Amount']\n",
      "['Amount']\n"
     ]
    }
   ],
   "source": [
    "for deriveNodes in [list(rel.values()) for rel in relation]:\n",
    "    print(deriveNodes)"
   ]
  },
  {
   "cell_type": "code",
   "execution_count": 52,
   "id": "99190b90",
   "metadata": {
    "ExecuteTime": {
     "end_time": "2021-06-02T18:05:06.427495Z",
     "start_time": "2021-06-02T18:05:06.410400Z"
    }
   },
   "outputs": [],
   "source": [
    "i=0\n",
    "while i<3:\n",
    "    for deriveNodes in [list(rel.values())[0] for rel in relation]:\n",
    "        flag=True\n",
    "        for relationship in relation:\n",
    "            key = list(relationship.keys())[0]\n",
    "            value = list(relationship.values())[0]\n",
    "            if deriveNodes !=  value:\n",
    "                continue\n",
    "            if key not in availableNodes:\n",
    "                flag=False\n",
    "        if flag==True and deriveNodes not in availableNodes:\n",
    "            availableNodes.append(deriveNodes)\n",
    "    i+=1\n",
    "if len(totalNodes) > len(availableNodes):\n",
    "    for i in range(len(totalNodes)):\n",
    "        if totalNodes[i] not in availableNodes:\n",
    "            availableNodes.append(totalNodes[i])\n",
    "elif len(totalNodes) < len(availableNodes):\n",
    "    for i in range(len(availableNodes)):\n",
    "        if availableNodes[i] not in totalNodes:\n",
    "            availableNodes.remove(availableNodes[i])\n",
    "            "
   ]
  },
  {
   "cell_type": "code",
   "execution_count": 53,
   "id": "9cf736d1",
   "metadata": {
    "ExecuteTime": {
     "end_time": "2021-06-02T18:05:06.860423Z",
     "start_time": "2021-06-02T18:05:06.849138Z"
    }
   },
   "outputs": [
    {
     "data": {
      "text/plain": [
       "['Discount Per', 'Quantity', 'Rate', 'Amount', 'Discount Amount', 'Net Amount']"
      ]
     },
     "execution_count": 53,
     "metadata": {},
     "output_type": "execute_result"
    }
   ],
   "source": [
    "availableNodes"
   ]
  },
  {
   "cell_type": "code",
   "execution_count": null,
   "id": "3cbb8f23",
   "metadata": {},
   "outputs": [],
   "source": [
    "seqDerive=deepcopy(availableNodes)\n",
    "for i in range(3):\n",
    "    for deriveNode in [list(rel.values())[0] for rel in relation]:\n",
    "        print()\n",
    "        print(i)\n",
    "        print(deriveNode)\n",
    "        addToSeq=True        \n",
    "        for relObj in relation:\n",
    "            key=list(relObj.keys())[0]\n",
    "            value=list(relObj.values())[0]\n",
    "            if value !=deriveNode:\n",
    "                continue\n",
    "            if key not in seqDerive:\n",
    "                addToSeq=False\n",
    "            print(key)\n",
    "            print(addToSeq)\n",
    "        if addToSeq==True and deriveNode not in seqDerive:\n",
    "            seqDerive.append(deriveNode)"
   ]
  },
  {
   "cell_type": "code",
   "execution_count": 17,
   "id": "74a84931",
   "metadata": {
    "ExecuteTime": {
     "end_time": "2021-06-02T16:01:09.572752Z",
     "start_time": "2021-06-02T16:01:09.560614Z"
    }
   },
   "outputs": [
    {
     "name": "stdout",
     "output_type": "stream",
     "text": [
      "Amount\n",
      "Discount Amount\n",
      "Discount Per\n",
      "Amount\n",
      "Quantity\n",
      "Rate\n"
     ]
    }
   ],
   "source": [
    "for relationship in relation:\n",
    "    key = list(relationship.keys())[0]\n",
    "    print(key)"
   ]
  },
  {
   "cell_type": "code",
   "execution_count": 74,
   "id": "b7b3fe54",
   "metadata": {
    "ExecuteTime": {
     "end_time": "2021-06-02T08:05:28.531535Z",
     "start_time": "2021-06-02T08:05:28.516512Z"
    }
   },
   "outputs": [],
   "source": [
    "import random as rn"
   ]
  },
  {
   "cell_type": "code",
   "execution_count": 90,
   "id": "f75e81ad",
   "metadata": {
    "ExecuteTime": {
     "end_time": "2021-06-02T08:19:46.074755Z",
     "start_time": "2021-06-02T08:19:46.055769Z"
    }
   },
   "outputs": [],
   "source": [
    "rn.shuffle(relation)"
   ]
  },
  {
   "cell_type": "code",
   "execution_count": 91,
   "id": "b6eff428",
   "metadata": {
    "ExecuteTime": {
     "end_time": "2021-06-02T08:19:47.854072Z",
     "start_time": "2021-06-02T08:19:47.825124Z"
    }
   },
   "outputs": [
    {
     "name": "stdout",
     "output_type": "stream",
     "text": [
      "[{'Amount': 'Net Amount'}, {'Quantity': 'Amount'}, {'Discount Amount': 'Net Amount'}, {'Amount': 'Discount Amount'}, {'Rate': 'Amount'}, {'Discount Per': 'Discount Amount'}]\n"
     ]
    }
   ],
   "source": [
    "print(relation)"
   ]
  },
  {
   "cell_type": "code",
   "execution_count": 96,
   "id": "62a5085c",
   "metadata": {
    "ExecuteTime": {
     "end_time": "2021-06-02T13:24:42.510599Z",
     "start_time": "2021-06-02T13:24:42.500234Z"
    }
   },
   "outputs": [
    {
     "name": "stdout",
     "output_type": "stream",
     "text": [
      "Net Amount\n",
      "Amount\n",
      "Net Amount\n",
      "Discount Amount\n",
      "Amount\n",
      "Discount Amount\n"
     ]
    }
   ],
   "source": [
    "for deriveNode in [list(rel.values())[0] for rel in relation]:\n",
    "    print(deriveNode)"
   ]
  },
  {
   "cell_type": "code",
   "execution_count": 105,
   "id": "5bee3277",
   "metadata": {
    "ExecuteTime": {
     "end_time": "2021-06-02T13:30:59.445558Z",
     "start_time": "2021-06-02T13:30:59.425199Z"
    }
   },
   "outputs": [
    {
     "name": "stdout",
     "output_type": "stream",
     "text": [
      "{'Amount': 'Net Amount'}\n",
      "{'Quantity': 'Amount'}\n",
      "{'Discount Amount': 'Net Amount'}\n",
      "{'Amount': 'Discount Amount'}\n",
      "{'Rate': 'Amount'}\n",
      "{'Discount Per': 'Discount Amount'}\n"
     ]
    }
   ],
   "source": [
    "for relObj in relation:`\n",
    "    print(relObj)"
   ]
  },
  {
   "cell_type": "code",
   "execution_count": 106,
   "id": "4a840e86",
   "metadata": {
    "ExecuteTime": {
     "end_time": "2021-06-02T13:41:00.765522Z",
     "start_time": "2021-06-02T13:41:00.759065Z"
    }
   },
   "outputs": [
    {
     "name": "stdout",
     "output_type": "stream",
     "text": [
      "Amount Net Amount\n",
      "Quantity Amount\n",
      "Discount Amount Net Amount\n",
      "Amount Discount Amount\n",
      "Rate Amount\n",
      "Discount Per Discount Amount\n"
     ]
    }
   ],
   "source": [
    "for relObj in relation:\n",
    "    key=list(relObj.keys())[0]\n",
    "    value=list(relObj.values())[0]\n",
    "    print(key,value)"
   ]
  },
  {
   "cell_type": "code",
   "execution_count": 92,
   "id": "84b0b67e",
   "metadata": {
    "ExecuteTime": {
     "end_time": "2021-06-02T08:20:21.824705Z",
     "start_time": "2021-06-02T08:20:21.770712Z"
    }
   },
   "outputs": [
    {
     "name": "stdout",
     "output_type": "stream",
     "text": [
      "\n",
      "0\n",
      "Net Amount\n",
      "Amount\n",
      "False\n",
      "Discount Amount\n",
      "False\n",
      "\n",
      "0\n",
      "Amount\n",
      "Quantity\n",
      "True\n",
      "Rate\n",
      "True\n",
      "\n",
      "0\n",
      "Net Amount\n",
      "Amount\n",
      "True\n",
      "Discount Amount\n",
      "False\n",
      "\n",
      "0\n",
      "Discount Amount\n",
      "Amount\n",
      "True\n",
      "Discount Per\n",
      "True\n",
      "\n",
      "0\n",
      "Amount\n",
      "Quantity\n",
      "True\n",
      "Rate\n",
      "True\n",
      "\n",
      "0\n",
      "Discount Amount\n",
      "Amount\n",
      "True\n",
      "Discount Per\n",
      "True\n",
      "\n",
      "1\n",
      "Net Amount\n",
      "Amount\n",
      "True\n",
      "Discount Amount\n",
      "True\n",
      "\n",
      "1\n",
      "Amount\n",
      "Quantity\n",
      "True\n",
      "Rate\n",
      "True\n",
      "\n",
      "1\n",
      "Net Amount\n",
      "Amount\n",
      "True\n",
      "Discount Amount\n",
      "True\n",
      "\n",
      "1\n",
      "Discount Amount\n",
      "Amount\n",
      "True\n",
      "Discount Per\n",
      "True\n",
      "\n",
      "1\n",
      "Amount\n",
      "Quantity\n",
      "True\n",
      "Rate\n",
      "True\n",
      "\n",
      "1\n",
      "Discount Amount\n",
      "Amount\n",
      "True\n",
      "Discount Per\n",
      "True\n",
      "\n",
      "2\n",
      "Net Amount\n",
      "Amount\n",
      "True\n",
      "Discount Amount\n",
      "True\n",
      "\n",
      "2\n",
      "Amount\n",
      "Quantity\n",
      "True\n",
      "Rate\n",
      "True\n",
      "\n",
      "2\n",
      "Net Amount\n",
      "Amount\n",
      "True\n",
      "Discount Amount\n",
      "True\n",
      "\n",
      "2\n",
      "Discount Amount\n",
      "Amount\n",
      "True\n",
      "Discount Per\n",
      "True\n",
      "\n",
      "2\n",
      "Amount\n",
      "Quantity\n",
      "True\n",
      "Rate\n",
      "True\n",
      "\n",
      "2\n",
      "Discount Amount\n",
      "Amount\n",
      "True\n",
      "Discount Per\n",
      "True\n"
     ]
    }
   ],
   "source": [
    "seqDerive=deepcopy(availableNodes)\n",
    "for i in range(3):\n",
    "    for deriveNode in [list(rel.values())[0] for rel in relation]:\n",
    "        print()\n",
    "        print(i)\n",
    "        print(deriveNode)\n",
    "        addToSeq=True        \n",
    "        for relObj in relation:\n",
    "            key=list(relObj.keys())[0]\n",
    "            value=list(relObj.values())[0]\n",
    "            if value !=deriveNode:\n",
    "                continue\n",
    "            if key not in seqDerive:\n",
    "                addToSeq=False\n",
    "            print(key)\n",
    "            print(addToSeq)\n",
    "        if addToSeq==True and deriveNode not in seqDerive:\n",
    "            seqDerive.append(deriveNode)"
   ]
  },
  {
   "cell_type": "code",
   "execution_count": 93,
   "id": "87fa4d26",
   "metadata": {
    "ExecuteTime": {
     "end_time": "2021-06-02T08:21:31.236775Z",
     "start_time": "2021-06-02T08:21:31.211785Z"
    }
   },
   "outputs": [
    {
     "data": {
      "text/plain": [
       "['Discount Per', 'Quantity', 'Rate', 'Amount', 'Discount Amount', 'Net Amount']"
      ]
     },
     "execution_count": 93,
     "metadata": {},
     "output_type": "execute_result"
    }
   ],
   "source": [
    "seqDerive"
   ]
  },
  {
   "cell_type": "code",
   "execution_count": 64,
   "id": "b7449fd6",
   "metadata": {
    "ExecuteTime": {
     "end_time": "2021-06-02T07:01:26.892825Z",
     "start_time": "2021-06-02T07:01:26.885828Z"
    },
    "scrolled": true
   },
   "outputs": [
    {
     "name": "stdout",
     "output_type": "stream",
     "text": [
      "Amount\n",
      "Discount Amount\n",
      "Discount Per\n",
      "Amount\n",
      "Quantity\n",
      "Rate\n"
     ]
    }
   ],
   "source": [
    "for obj in relation:\n",
    "    print(list(obj.keys())[0])"
   ]
  },
  {
   "cell_type": "code",
   "execution_count": 65,
   "id": "58afc9b9",
   "metadata": {
    "ExecuteTime": {
     "end_time": "2021-06-02T07:01:45.052161Z",
     "start_time": "2021-06-02T07:01:45.039158Z"
    }
   },
   "outputs": [
    {
     "name": "stdout",
     "output_type": "stream",
     "text": [
      "Net Amount\n",
      "Net Amount\n",
      "Discount Amount\n",
      "Discount Amount\n",
      "Amount\n",
      "Amount\n"
     ]
    }
   ],
   "source": [
    "for obj in relation:    \n",
    "    print(list(obj.values())[0])"
   ]
  },
  {
   "cell_type": "code",
   "execution_count": 60,
   "id": "cd157373",
   "metadata": {
    "ExecuteTime": {
     "end_time": "2021-06-02T06:53:16.701576Z",
     "start_time": "2021-06-02T06:53:16.680543Z"
    }
   },
   "outputs": [],
   "source": [
    "# deriveSeq=deepcopy(availableNodes)\n",
    "\n",
    "# for i in range(5):\n",
    "#     for obj in relation:\n",
    "#         key=list(obj.keys())[0]\n",
    "#         value=list(obj.values())[0]\n",
    "#         if key in deriveSeq and value not in deriveSeq:\n",
    "#             deriveSeq.append(value)\n",
    "\n",
    "#         elif key not in deriveSeq and value in deriveSeq:\n",
    "#             deriveSeq.remove(value)\n"
   ]
  },
  {
   "cell_type": "code",
   "execution_count": 61,
   "id": "492dfd95",
   "metadata": {
    "ExecuteTime": {
     "end_time": "2021-06-02T06:53:30.726754Z",
     "start_time": "2021-06-02T06:53:30.706764Z"
    }
   },
   "outputs": [
    {
     "data": {
      "text/plain": [
       "['Discount Per', 'Quantity', 'Rate', 'Amount', 'Discount Amount', 'Net Amount']"
      ]
     },
     "execution_count": 61,
     "metadata": {},
     "output_type": "execute_result"
    }
   ],
   "source": [
    "deriveSeq"
   ]
  },
  {
   "cell_type": "code",
   "execution_count": 38,
   "id": "aa63b347",
   "metadata": {
    "ExecuteTime": {
     "end_time": "2021-06-02T04:05:52.746041Z",
     "start_time": "2021-06-02T04:05:52.731949Z"
    }
   },
   "outputs": [
    {
     "name": "stdout",
     "output_type": "stream",
     "text": [
      "Amount Net Amount\n",
      "Discount Amount Net Amount\n",
      "Discount Per Discount Amount\n",
      "Amount Discount Amount\n",
      "Quantity Amount\n",
      "Rate Amount\n"
     ]
    }
   ],
   "source": [
    "for i in range(len(relation)):\n",
    "    for key,value in relation[i].items():\n",
    "        print(key,value)"
   ]
  },
  {
   "cell_type": "code",
   "execution_count": 32,
   "id": "7656f6bc",
   "metadata": {
    "ExecuteTime": {
     "end_time": "2021-06-02T03:52:54.005573Z",
     "start_time": "2021-06-02T03:52:53.997688Z"
    }
   },
   "outputs": [
    {
     "name": "stdout",
     "output_type": "stream",
     "text": [
      "None\n",
      "None\n",
      "None\n",
      "None\n",
      "None\n",
      "Amount\n"
     ]
    }
   ],
   "source": [
    "for j in range(len(relation)):\n",
    "    print(relation[j].get('Rate'))"
   ]
  },
  {
   "cell_type": "code",
   "execution_count": 18,
   "id": "2ccc699b",
   "metadata": {
    "ExecuteTime": {
     "end_time": "2021-06-01T17:46:27.992354Z",
     "start_time": "2021-06-01T17:46:27.986360Z"
    }
   },
   "outputs": [],
   "source": [
    "def GetKey(val):\n",
    "    for i in range(len(relation)):\n",
    "        for key,value in relation[i].items():\n",
    "            if val == value:\n",
    "                return key\n",
    "            "
   ]
  },
  {
   "cell_type": "code",
   "execution_count": 107,
   "id": "021b8a41",
   "metadata": {
    "ExecuteTime": {
     "end_time": "2021-06-02T15:11:10.653708Z",
     "start_time": "2021-06-02T15:11:10.583589Z"
    }
   },
   "outputs": [
    {
     "ename": "AttributeError",
     "evalue": "'list' object has no attribute 'values'",
     "output_type": "error",
     "traceback": [
      "\u001b[1;31m---------------------------------------------------------------------------\u001b[0m",
      "\u001b[1;31mAttributeError\u001b[0m                            Traceback (most recent call last)",
      "\u001b[1;32m<ipython-input-107-47713d723c5a>\u001b[0m in \u001b[0;36m<module>\u001b[1;34m\u001b[0m\n\u001b[1;32m----> 1\u001b[1;33m \u001b[1;32mfor\u001b[0m \u001b[0mderiveNodes\u001b[0m \u001b[1;32min\u001b[0m \u001b[0mlist\u001b[0m\u001b[1;33m(\u001b[0m\u001b[0mrelation\u001b[0m\u001b[1;33m.\u001b[0m\u001b[0mvalues\u001b[0m\u001b[1;33m(\u001b[0m\u001b[1;33m)\u001b[0m\u001b[1;33m)\u001b[0m\u001b[1;33m[\u001b[0m\u001b[1;36m0\u001b[0m\u001b[1;33m]\u001b[0m\u001b[1;33m:\u001b[0m\u001b[1;33m\u001b[0m\u001b[1;33m\u001b[0m\u001b[0m\n\u001b[0m\u001b[0;32m      2\u001b[0m     \u001b[0mprint\u001b[0m\u001b[1;33m(\u001b[0m\u001b[0mderiveNodes\u001b[0m\u001b[1;33m)\u001b[0m\u001b[1;33m\u001b[0m\u001b[1;33m\u001b[0m\u001b[0m\n",
      "\u001b[1;31mAttributeError\u001b[0m: 'list' object has no attribute 'values'"
     ]
    }
   ],
   "source": [
    "for deriveNodes in list(relation.values())[0]:\n",
    "    print(deriveNodes)"
   ]
  },
  {
   "cell_type": "code",
   "execution_count": 115,
   "id": "9b9a6aaa",
   "metadata": {
    "ExecuteTime": {
     "end_time": "2021-06-02T15:51:59.379173Z",
     "start_time": "2021-06-02T15:51:59.363282Z"
    }
   },
   "outputs": [
    {
     "name": "stdout",
     "output_type": "stream",
     "text": [
      "Net Amount\n",
      "Amount\n",
      "Net Amount\n",
      "Discount Amount\n",
      "Amount\n",
      "Discount Amount\n"
     ]
    }
   ],
   "source": [
    "for relationship in relation:    \n",
    "    key = list(relationship.values())[0]\n",
    "    print(key)"
   ]
  },
  {
   "cell_type": "code",
   "execution_count": 112,
   "id": "3109af5b",
   "metadata": {
    "ExecuteTime": {
     "end_time": "2021-06-02T15:50:34.147364Z",
     "start_time": "2021-06-02T15:50:34.135354Z"
    }
   },
   "outputs": [
    {
     "data": {
      "text/plain": [
       "[{'Amount': 'Net Amount'},\n",
       " {'Quantity': 'Amount'},\n",
       " {'Discount Amount': 'Net Amount'},\n",
       " {'Amount': 'Discount Amount'},\n",
       " {'Rate': 'Amount'},\n",
       " {'Discount Per': 'Discount Amount'}]"
      ]
     },
     "execution_count": 112,
     "metadata": {},
     "output_type": "execute_result"
    }
   ],
   "source": [
    "key"
   ]
  },
  {
   "cell_type": "code",
   "execution_count": 117,
   "id": "9add2a4d",
   "metadata": {
    "ExecuteTime": {
     "end_time": "2021-06-02T15:56:25.813584Z",
     "start_time": "2021-06-02T15:56:25.802643Z"
    }
   },
   "outputs": [],
   "source": [
    "availableNodes = deepcopy(From)\n",
    "for i in range(3):\n",
    "    for deriveNodes in [list(rel.values()) for rel in relation]:\n",
    "        flag = True\n",
    "        for relationship in relation:\n",
    "            key = list(relationship.values())[0]\n",
    "            value=list(relationship.values())[0]\n",
    "            if value != deriveNodes:\n",
    "                continue\n",
    "            if key not in availableNodes:\n",
    "                flag=False\n",
    "        if flag==True and deriveNodes not in availableNodes:\n",
    "            availableNodes.append(value)\n",
    "            "
   ]
  },
  {
   "cell_type": "code",
   "execution_count": 118,
   "id": "08cc5038",
   "metadata": {
    "ExecuteTime": {
     "end_time": "2021-06-02T15:56:31.242821Z",
     "start_time": "2021-06-02T15:56:31.217750Z"
    }
   },
   "outputs": [
    {
     "data": {
      "text/plain": [
       "['Discount Per',\n",
       " 'Quantity',\n",
       " 'Rate',\n",
       " 'Discount Amount',\n",
       " 'Discount Amount',\n",
       " 'Discount Amount',\n",
       " 'Discount Amount',\n",
       " 'Discount Amount',\n",
       " 'Discount Amount',\n",
       " 'Discount Amount',\n",
       " 'Discount Amount',\n",
       " 'Discount Amount',\n",
       " 'Discount Amount',\n",
       " 'Discount Amount',\n",
       " 'Discount Amount',\n",
       " 'Discount Amount',\n",
       " 'Discount Amount',\n",
       " 'Discount Amount',\n",
       " 'Discount Amount',\n",
       " 'Discount Amount',\n",
       " 'Discount Amount']"
      ]
     },
     "execution_count": 118,
     "metadata": {},
     "output_type": "execute_result"
    }
   ],
   "source": [
    "availableNodes"
   ]
  },
  {
   "cell_type": "code",
   "execution_count": null,
   "id": "ca6032d1",
   "metadata": {},
   "outputs": [],
   "source": []
  }
 ],
 "metadata": {
  "kernelspec": {
   "display_name": "Python 3",
   "language": "python",
   "name": "python3"
  },
  "language_info": {
   "codemirror_mode": {
    "name": "ipython",
    "version": 3
   },
   "file_extension": ".py",
   "mimetype": "text/x-python",
   "name": "python",
   "nbconvert_exporter": "python",
   "pygments_lexer": "ipython3",
   "version": "3.7.9"
  },
  "toc": {
   "base_numbering": 1,
   "nav_menu": {},
   "number_sections": true,
   "sideBar": true,
   "skip_h1_title": false,
   "title_cell": "Table of Contents",
   "title_sidebar": "Contents",
   "toc_cell": false,
   "toc_position": {},
   "toc_section_display": true,
   "toc_window_display": false
  }
 },
 "nbformat": 4,
 "nbformat_minor": 5
}
