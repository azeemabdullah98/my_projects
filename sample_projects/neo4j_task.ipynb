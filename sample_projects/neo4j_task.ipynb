{
 "cells": [
  {
   "cell_type": "code",
   "execution_count": 1,
   "id": "assigned-elephant",
   "metadata": {
    "ExecuteTime": {
     "end_time": "2021-05-27T17:28:34.417613Z",
     "start_time": "2021-05-27T17:28:30.886261Z"
    }
   },
   "outputs": [],
   "source": [
    "from py2neo import Graph,Relationship,Node\n",
    "import pandas as pd\n",
    "import networkx as nx\n",
    "import matplotlib.pyplot as plt\n",
    "from copy import deepcopy"
   ]
  },
  {
   "cell_type": "code",
   "execution_count": 2,
   "id": "younger-scotland",
   "metadata": {
    "ExecuteTime": {
     "end_time": "2021-05-27T17:28:34.726980Z",
     "start_time": "2021-05-27T17:28:34.418894Z"
    }
   },
   "outputs": [],
   "source": [
    "graph = Graph(\"bolt://localhost:7687\",password='azeem0786')"
   ]
  },
  {
   "cell_type": "code",
   "execution_count": 3,
   "id": "threaded-hospital",
   "metadata": {
    "ExecuteTime": {
     "end_time": "2021-05-27T17:28:36.506761Z",
     "start_time": "2021-05-27T17:28:36.398845Z"
    }
   },
   "outputs": [],
   "source": [
    "G=graph.run('match (n) return n.name as name,n.sum as formula;').data()\n",
    "#F=graph.run('match (n) return n.sum as sum').data()"
   ]
  },
  {
   "cell_type": "code",
   "execution_count": 7,
   "id": "7412eb76",
   "metadata": {
    "ExecuteTime": {
     "end_time": "2021-05-27T17:36:05.448894Z",
     "start_time": "2021-05-27T17:36:05.433562Z"
    }
   },
   "outputs": [
    {
     "data": {
      "text/plain": [
       "[{'name': 'Rate', 'formula': None},\n",
       " {'name': 'Quantity', 'formula': None},\n",
       " {'name': 'Amount', 'formula': None},\n",
       " {'name': 'Discount Per', 'formula': None},\n",
       " {'name': 'Discount Amount', 'formula': None},\n",
       " {'name': 'Net Amount', 'formula': None}]"
      ]
     },
     "execution_count": 7,
     "metadata": {},
     "output_type": "execute_result"
    }
   ],
   "source": [
    "G"
   ]
  },
  {
   "cell_type": "code",
   "execution_count": 37,
   "id": "macro-berkeley",
   "metadata": {},
   "outputs": [],
   "source": [
    "D={x['name']:None for x in G}"
   ]
  },
  {
   "cell_type": "code",
   "execution_count": 38,
   "id": "described-species",
   "metadata": {},
   "outputs": [
    {
     "data": {
      "text/plain": [
       "{'Rate': None,\n",
       " 'Quantity': None,\n",
       " 'Amount': None,\n",
       " 'Discount Per': None,\n",
       " 'Discount Amt': None,\n",
       " 'Net Amount': None}"
      ]
     },
     "execution_count": 38,
     "metadata": {},
     "output_type": "execute_result"
    }
   ],
   "source": [
    "D"
   ]
  },
  {
   "cell_type": "code",
   "execution_count": 39,
   "id": "hairy-madrid",
   "metadata": {},
   "outputs": [],
   "source": [
    "f={x['name']:x['formula'] for x in G}"
   ]
  },
  {
   "cell_type": "code",
   "execution_count": 40,
   "id": "descending-productivity",
   "metadata": {},
   "outputs": [
    {
     "data": {
      "text/plain": [
       "{'Rate': None,\n",
       " 'Quantity': None,\n",
       " 'Amount': 'Rate*Quantity',\n",
       " 'Discount Per': None,\n",
       " 'Discount Amt': 'Discount Per*Amount',\n",
       " 'Net Amount': 'Amount-Discount Amt'}"
      ]
     },
     "execution_count": 40,
     "metadata": {},
     "output_type": "execute_result"
    }
   ],
   "source": [
    "f"
   ]
  },
  {
   "cell_type": "code",
   "execution_count": 41,
   "id": "straight-craps",
   "metadata": {},
   "outputs": [],
   "source": [
    "inpNodes=[x for x,y in f.items() if y ==None]\n",
    "derNodes=[x for x,y in f.items() if y !=None]"
   ]
  },
  {
   "cell_type": "code",
   "execution_count": 42,
   "id": "fifth-review",
   "metadata": {},
   "outputs": [
    {
     "data": {
      "text/plain": [
       "['Rate', 'Quantity', 'Discount Per']"
      ]
     },
     "execution_count": 42,
     "metadata": {},
     "output_type": "execute_result"
    }
   ],
   "source": [
    "inpNodes"
   ]
  },
  {
   "cell_type": "code",
   "execution_count": 43,
   "id": "fitted-discipline",
   "metadata": {},
   "outputs": [
    {
     "data": {
      "text/plain": [
       "['Amount', 'Discount Amt', 'Net Amount']"
      ]
     },
     "execution_count": 43,
     "metadata": {},
     "output_type": "execute_result"
    }
   ],
   "source": [
    "derNodes"
   ]
  },
  {
   "cell_type": "code",
   "execution_count": 20,
   "id": "perfect-hebrew",
   "metadata": {},
   "outputs": [
    {
     "name": "stdout",
     "output_type": "stream",
     "text": [
      "D['Rate']*Quantity\n",
      "D['Rate']*D['Quantity']\n",
      "D['Rate']*D['Quantity']\n",
      "6\n",
      "Discount Per*Amount\n",
      "Discount Per*Amount\n",
      "D['Discount Per']*Amount\n"
     ]
    },
    {
     "ename": "NameError",
     "evalue": "name 'Amount' is not defined",
     "output_type": "error",
     "traceback": [
      "\u001b[1;31m---------------------------------------------------------------------------\u001b[0m",
      "\u001b[1;31mNameError\u001b[0m                                 Traceback (most recent call last)",
      "\u001b[1;32m<ipython-input-20-f8dbea4e7299>\u001b[0m in \u001b[0;36m<module>\u001b[1;34m\u001b[0m\n\u001b[0;32m      5\u001b[0m         \u001b[0mprint\u001b[0m\u001b[1;33m(\u001b[0m\u001b[0mformula\u001b[0m\u001b[1;33m)\u001b[0m\u001b[1;33m\u001b[0m\u001b[1;33m\u001b[0m\u001b[0m\n\u001b[0;32m      6\u001b[0m \u001b[1;33m\u001b[0m\u001b[0m\n\u001b[1;32m----> 7\u001b[1;33m     \u001b[0mD\u001b[0m\u001b[1;33m[\u001b[0m\u001b[0md\u001b[0m\u001b[1;33m]\u001b[0m\u001b[1;33m=\u001b[0m\u001b[0meval\u001b[0m\u001b[1;33m(\u001b[0m\u001b[0mformula\u001b[0m\u001b[1;33m)\u001b[0m\u001b[1;33m\u001b[0m\u001b[1;33m\u001b[0m\u001b[0m\n\u001b[0m\u001b[0;32m      8\u001b[0m     \u001b[0mprint\u001b[0m\u001b[1;33m(\u001b[0m\u001b[0mD\u001b[0m\u001b[1;33m[\u001b[0m\u001b[0md\u001b[0m\u001b[1;33m]\u001b[0m\u001b[1;33m)\u001b[0m\u001b[1;33m\u001b[0m\u001b[1;33m\u001b[0m\u001b[0m\n\u001b[0;32m      9\u001b[0m     \u001b[1;32mcontinue\u001b[0m\u001b[1;33m\u001b[0m\u001b[1;33m\u001b[0m\u001b[0m\n",
      "\u001b[1;32m<string>\u001b[0m in \u001b[0;36m<module>\u001b[1;34m\u001b[0m\n",
      "\u001b[1;31mNameError\u001b[0m: name 'Amount' is not defined"
     ]
    }
   ],
   "source": [
    "for i in inpNodes:\n",
    "    D[i] = int(input(\"enter the\"+i+\": \"))\n",
    "\n",
    "for d in derNodes:\n",
    "    formula=f[d]\n",
    "    for i in inpNodes:\n",
    "        formula=formula.replace(i,\"D['%s']\"%i)\n",
    "        \n",
    "    print(formula)\n",
    "    \n",
    "    D[d]=eval(formula)"
   ]
  },
  {
   "cell_type": "code",
   "execution_count": 13,
   "id": "metropolitan-exploration",
   "metadata": {},
   "outputs": [
    {
     "data": {
      "text/plain": [
       "{'Rate': 3,\n",
       " 'Quantity': 2,\n",
       " 'Amount': 6,\n",
       " 'Discount Per': 5,\n",
       " 'Discount Amt': None,\n",
       " 'Net Amount': None}"
      ]
     },
     "execution_count": 13,
     "metadata": {},
     "output_type": "execute_result"
    }
   ],
   "source": [
    "D"
   ]
  },
  {
   "cell_type": "code",
   "execution_count": 65,
   "id": "coupled-backing",
   "metadata": {},
   "outputs": [
    {
     "ename": "SyntaxError",
     "evalue": "invalid syntax (<ipython-input-65-5569f6b1e68a>, line 2)",
     "output_type": "error",
     "traceback": [
      "\u001b[1;36m  File \u001b[1;32m\"<ipython-input-65-5569f6b1e68a>\"\u001b[1;36m, line \u001b[1;32m2\u001b[0m\n\u001b[1;33m    MATCH(Price)-[Linked]->(Total)\u001b[0m\n\u001b[1;37m                          ^\u001b[0m\n\u001b[1;31mSyntaxError\u001b[0m\u001b[1;31m:\u001b[0m invalid syntax\n"
     ]
    }
   ],
   "source": [
    "% %cypher\n",
    "MATCH(Price)-[Linked]->(Total)\n",
    "MATCH(Number)-[Linked]->(Total)\n",
    "RETURN Price.name,Total.name,Number.name"
   ]
  },
  {
   "cell_type": "code",
   "execution_count": null,
   "id": "useful-pilot",
   "metadata": {},
   "outputs": [],
   "source": [
    "#step-7 Getting rate,quantity and discount per(in decimal value) from the user... \n",
    "for i in inpNodes:\n",
    "    nodeName[i] = float(input(\"enter the \" +i+ \":\"))\n",
    "        \n",
    "for d in derNodes:\n",
    "    formula = nodeProperty[d]\n",
    "    if formula == \"Rate*Quantity\":\n",
    "        for i in inpNodes:\n",
    "            formula = formula.replace(i,\"nodeName['%s']\"%i)  #replacing the Rate*Quantity into nodeName['Rate']*nodeName['Quantity']    \n",
    "        print(formula)\n",
    "        nodeName[d] = eval(formula) #evalauting the string expression using eval() ...\n",
    "        continue\n",
    "    elif formula == \"Discount Per*Amount\":\n",
    "        for i in inpNodes:\n",
    "            formula = formula.replace(i,\"nodeName['%s']\"%i)\n",
    "        for j in derNodes:\n",
    "            formula = formula.replace(j,\"nodeName['%s']\"%j)\n",
    "        print(formula)\n",
    "        nodeName[d] = eval(formula)\n",
    "        continue\n",
    "    elif formula == \"Amount-Discount Amount\":\n",
    "        nodeName['Net Amount'] = nodeName['Amount']-nodeName['Discount Amount']\n",
    "        print(formula)"
   ]
  },
  {
   "cell_type": "code",
   "execution_count": 27,
   "id": "dominant-midnight",
   "metadata": {},
   "outputs": [],
   "source": [
    "def DeriveTo(graph,Nodes):\n",
    "    \"returns the nodes to which the list of nodes passed is used for derivation\"\n",
    "    derives=[]\n",
    "    for l in Nodes:\n",
    "        try:\n",
    "            adj=list(graph.adj[l])\n",
    "        except KeyError:\n",
    "            print(\"no adjacent nodes:\",l)\n",
    "            continue\n",
    "        for i in adj:\n",
    "            if pd.isnull(graph[l][i][\"derive\"])==False:\n",
    "                derives.append(i) \n",
    "    return derives;\n",
    "    \n",
    "def SeqDerived(graph):\n",
    "    \"Order the Derived nodes based on its relationship\"\n",
    "    From=[x for x,y,v in graph.edges.data(\"derive\") if pd.isnull(v)==False]\n",
    "    To=[y for x,y,v in graph.edges.data(\"derive\") if pd.isnull(v)==False]\n",
    "    Input=[x for x in From if x not in To] \n",
    "    \n",
    "    derList=deepcopy(Input)\n",
    "    while len(Input)!=0:\n",
    "        Input=DeriveTo(graph=graph,Nodes=Input)\n",
    "        derList+=Input \n",
    "    \n",
    "    drvOrdered=[derList[x] for x in range(len(derList)) if derList[x] not in derList[x+1:] and pd.isnull(graph.nodes[derList[x]][\"DERIVE\"])==False ]\n",
    "    return drvOrdered;"
   ]
  },
  {
   "cell_type": "code",
   "execution_count": 7,
   "id": "regulation-paragraph",
   "metadata": {},
   "outputs": [],
   "source": [
    "def BaseGraph(tenantID,processCode,neo4j,mongo=None):\n",
    "    \"returns basegraph of processCode and tenant id passed.\"\n",
    "    if pd.isnull(neo4j)==False:\n",
    "        products=neo4j.run(\"match (b:PRODUCT) return filter(x in labels(b) where x<> \\\"PRODUCT\\\") as LAB;\").data()\n",
    "        products=[x[\"LAB\"][0] for x in products]\n",
    "        baseGraph=neo4j.run(\"match (a{process_code:{x}})-[r]->(b{process_code:{x}}) \\\n",
    "                        return a.name as Node,a.domain as DMn, r.assign as REl,\\\n",
    "                        r.derive_type as RDer,r.c_mandatory as Cmd,r.ConditionalMandatory as CondMand,\\\n",
    "                        r.c_mand_equality as Equality,\\\n",
    "                        a.default_value as DEf,a.derive as DErive,a.deriveby as DeriveBy,a.mandatory as MAnd,\\\n",
    "                        a.key as KEys,a.encode as ENcode,a.data_type as DTP,a.decimals as Decimal,a.predefined_list as PreDef,\\\n",
    "                        b.name as PArent,a.short_text as SHort,\\\n",
    "                        labels(a) as Section;\",x=processCode).to_data_frame()                        \n",
    "    else:\n",
    "        bgMongo=mongo[\"Knowledge Graph\"].find_one({\"Tenant_ID\":tenantID,\"Document_Type\":\"BaseGraph\",\"ProcessCode\":processCode})\n",
    "        if pd.isnull(bgMongo)==True:\n",
    "            raise Exception(\"Knowledge Graph not installed.\")\n",
    "        products=bgMongo[\"Products\"]\n",
    "        baseGraph=pd.read_json(bgMongo[\"Document\"])\n",
    "        baseGraph = baseGraph.where(pd.notnull(baseGraph), None)\n",
    "    \n",
    "    \n",
    "    gBase=nx.DiGraph(name=processCode)# creating basegraph\n",
    "    for i in range(len(baseGraph)):\n",
    "        a=baseGraph[\"Node\"][i]\n",
    "        b=baseGraph[\"PArent\"][i]\n",
    "        r=baseGraph.REl[i]\n",
    "        der=baseGraph.RDer[i]\n",
    "        cMand=baseGraph.Cmd[i]\n",
    "        condMand=baseGraph.CondMand[i]\n",
    "        equality=baseGraph.Equality[i]\n",
    "        deriveBy=baseGraph.DeriveBy[i]\n",
    "        gBase.add_edge(a,b,assign=r,derive=der,c_mandatory=cMand,\n",
    "        condMand=condMand,equality=equality)\n",
    "        gBase.nodes[a][\"DEFAULT\"]=baseGraph[\"DEf\"][i]\n",
    "        gBase.nodes[a][\"DATATYPE\"]=baseGraph[\"DTP\"][i]\n",
    "        gBase.nodes[a][\"DECIMALS\"]=baseGraph[\"Decimal\"][i]\n",
    "        if pd.isnull(deriveBy)==False and deriveBy==\"FE\":\n",
    "            gBase.nodes[a]['DERIVE']=None \n",
    "        else:\n",
    "            gBase.nodes[a]['DERIVE']=baseGraph[\"DErive\"][i]   \n",
    "        gBase.nodes[a]['name']=a\n",
    "        gBase.nodes[a][\"DOMAIN\"]=baseGraph[\"DMn\"][i]    \n",
    "        gBase.nodes[a][\"SHORT\"]=baseGraph[\"SHort\"][i]\n",
    "        if pd.isnull(baseGraph[\"PreDef\"][i])==False:\n",
    "#             if baseGraph[\"PreDef\"][i]==\"GETPREDEF(TENANTID,GROUP_COMPANY,COMPANY)\":\n",
    "#                 predList=GETPREDEF(neo4j=neo4j,tenantID=tenantID)\n",
    "#                 predList=[x.lower() for x in predList]\n",
    "#             else:\n",
    "            predList=baseGraph[\"PreDef\"][i].lower()\n",
    "            predList=predList.split(\",\")\n",
    "            predList=[x.strip() for x in predList]\n",
    "        else:\n",
    "            predList=[]            \n",
    "        gBase.nodes[a][\"DEFINED\"]=predList\n",
    "        sect=[x for x in baseGraph[\"Section\"][i] if x not in products]\n",
    "        gBase.nodes[a][\"SECTION\"]=sect[0]\n",
    "        gBase.nodes[a][\"MANDATORY\"]=baseGraph[\"MAnd\"][i]\n",
    "        if pd.isnull(baseGraph[\"KEys\"][i])==True:\n",
    "            pass\n",
    "        else:\n",
    "            gBase.nodes[a][\"KEY\"]=str(baseGraph[\"KEys\"][i]).replace(\".0\",\"\")\n",
    "            gBase.nodes[a][\"ENCODE\"]=baseGraph[\"ENcode\"][i]\n",
    "    return gBase;\n"
   ]
  },
  {
   "cell_type": "code",
   "execution_count": 15,
   "id": "living-payment",
   "metadata": {},
   "outputs": [],
   "source": [
    "mongoIP=\"3.132.139.188\"\n",
    "mongoPass=\"123456\"\n",
    "neo4jPass=\"0ne1ntegral\"\n",
    "neo4jIP=\"3.132.139.188\"\n",
    "\n",
    "def DataBases(tenantID):\n",
    "    \"Returns neo4j and mongodb databases used for various modeof processing\"\n",
    "    \n",
    "    # if os.path.exists(jsonPath)==False:\n",
    "    #     if env==\"server\":\n",
    "    #         configuration={\"mongo\":{\"ip\":\"127.0.0.1\",\"password\":'123456'},\n",
    "    #         \"neo4j\":{\"ip\":\"127.0.0.1\",\"password\":'0ne1ntegral'}}\n",
    "    #     else:\n",
    "    #         #configuration={\"mongo\":{\"ip\":\"3.132.139.188\",\"password\":\"123456\"}}\n",
    "    #         configuration={\"mongo\":{\"ip\":\"3.132.139.188\",\"password\":'123456'},\n",
    "    #         \"neo4j\":{\"ip\":\"3.132.139.188\",\"password\":'0ne1ntegral'}}\n",
    "\n",
    "    # else:\n",
    "    #     print(\"configuration file found..\")\n",
    "    #     jsonObj=open(jsonPath,'r')\n",
    "    #     configuration=json.load(jsonObj)\n",
    "#     if tenantID in [\"AB00003\",\"AB00004\"]:\n",
    "#         dbStorage=boto3.client(\"dynamodb\",region_name=\"us-east-2\")\n",
    "#     else:\n",
    "#         mongoDb=MongoClient(\"mongodb://OI:%s@%s/mydb\"%(mongoPass,mongoIP))\n",
    "#         dbStorage=mongoDb.mydb\n",
    "    dbStorage=None\n",
    "    if pd.isnull(neo4jIP)==False:\n",
    "        neo4j=Graph(\"bolt://%s:7687\"%neo4jIP,password=neo4jPass)\n",
    "    else:\n",
    "        neo4j=None\n",
    "    \n",
    "    return neo4j,dbStorage;"
   ]
  },
  {
   "cell_type": "code",
   "execution_count": 16,
   "id": "tender-israeli",
   "metadata": {},
   "outputs": [],
   "source": [
    "neo4j,db=DataBases(tenantID='AB00002')"
   ]
  },
  {
   "cell_type": "code",
   "execution_count": 17,
   "id": "special-voltage",
   "metadata": {},
   "outputs": [
    {
     "data": {
      "text/plain": [
       "Graph('bolt://neo4j@3.132.139.188:7687')"
      ]
     },
     "execution_count": 17,
     "metadata": {},
     "output_type": "execute_result"
    }
   ],
   "source": [
    "neo4j"
   ]
  },
  {
   "cell_type": "code",
   "execution_count": 18,
   "id": "documented-miami",
   "metadata": {},
   "outputs": [],
   "source": [
    "gFAA=BaseGraph(processCode='FAA',tenantID='NA00002',neo4j=neo4j)"
   ]
  },
  {
   "cell_type": "code",
   "execution_count": 25,
   "id": "satellite-regard",
   "metadata": {},
   "outputs": [
    {
     "name": "stdout",
     "output_type": "stream",
     "text": [
      "None\n"
     ]
    },
    {
     "data": {
      "image/png": "[encoded data removed]",
      "text/plain": [
       "<Figure size 432x288 with 1 Axes>"
      ]
     },
     "metadata": {},
     "output_type": "display_data"
    }
   ],
   "source": [
    "nx.draw(gFAA,with_labels=True,node_size=100)  # networkx draw()\n",
    "print(plt.draw()) "
   ]
  },
  {
   "cell_type": "code",
   "execution_count": 24,
   "id": "understanding-amplifier",
   "metadata": {},
   "outputs": [],
   "source": [
    "def FillProp(graph,prop):\n",
    "    \"Fills those nodes which doesnt contain the passed property with None\"\n",
    "    for node in list(graph.nodes()):\n",
    "        for p in prop:\n",
    "            if p not in graph.nodes[node].keys():\n",
    "                graph.nodes[node][p]=None\n",
    "    return graph;"
   ]
  },
  {
   "cell_type": "code",
   "execution_count": 29,
   "id": "breeding-uncertainty",
   "metadata": {},
   "outputs": [
    {
     "ename": "NameError",
     "evalue": "name 'gLease' is not defined",
     "output_type": "error",
     "traceback": [
      "\u001b[1;31m---------------------------------------------------------------------------\u001b[0m",
      "\u001b[1;31mNameError\u001b[0m                                 Traceback (most recent call last)",
      "\u001b[1;32m<ipython-input-29-a468bee6b86b>\u001b[0m in \u001b[0;36m<module>\u001b[1;34m\u001b[0m\n\u001b[1;32m----> 1\u001b[1;33m \u001b[0mgLease\u001b[0m\u001b[1;33m=\u001b[0m\u001b[0mFillProp\u001b[0m\u001b[1;33m(\u001b[0m\u001b[0mgraph\u001b[0m\u001b[1;33m=\u001b[0m\u001b[0mgLease\u001b[0m\u001b[1;33m,\u001b[0m\u001b[0mprop\u001b[0m\u001b[1;33m=\u001b[0m\u001b[1;33m[\u001b[0m\u001b[1;34m'DERIVE'\u001b[0m\u001b[1;33m]\u001b[0m\u001b[1;33m)\u001b[0m\u001b[1;33m\u001b[0m\u001b[1;33m\u001b[0m\u001b[0m\n\u001b[0m",
      "\u001b[1;31mNameError\u001b[0m: name 'gLease' is not defined"
     ]
    }
   ],
   "source": [
    "gLease=FillProp(graph=gLease,prop=['DERIVE'])"
   ]
  },
  {
   "cell_type": "code",
   "execution_count": 30,
   "id": "removable-pension",
   "metadata": {},
   "outputs": [
    {
     "ename": "NameError",
     "evalue": "name 'gLease' is not defined",
     "output_type": "error",
     "traceback": [
      "\u001b[1;31m---------------------------------------------------------------------------\u001b[0m",
      "\u001b[1;31mNameError\u001b[0m                                 Traceback (most recent call last)",
      "\u001b[1;32m<ipython-input-30-bf523ab85675>\u001b[0m in \u001b[0;36m<module>\u001b[1;34m\u001b[0m\n\u001b[1;32m----> 1\u001b[1;33m \u001b[0mderiveNodes\u001b[0m\u001b[1;33m=\u001b[0m\u001b[0mSeqDerived\u001b[0m\u001b[1;33m(\u001b[0m\u001b[0mgraph\u001b[0m\u001b[1;33m=\u001b[0m\u001b[0mgLease\u001b[0m\u001b[1;33m)\u001b[0m\u001b[1;33m\u001b[0m\u001b[1;33m\u001b[0m\u001b[0m\n\u001b[0m",
      "\u001b[1;31mNameError\u001b[0m: name 'gLease' is not defined"
     ]
    }
   ],
   "source": [
    "deriveNodes=SeqDerived(graph=gLease)"
   ]
  },
  {
   "cell_type": "code",
   "execution_count": 22,
   "id": "reflected-roommate",
   "metadata": {},
   "outputs": [
    {
     "ename": "NameError",
     "evalue": "name 'deriveNodes' is not defined",
     "output_type": "error",
     "traceback": [
      "\u001b[1;31m---------------------------------------------------------------------------\u001b[0m",
      "\u001b[1;31mNameError\u001b[0m                                 Traceback (most recent call last)",
      "\u001b[1;32m<ipython-input-22-278df858137e>\u001b[0m in \u001b[0;36m<module>\u001b[1;34m\u001b[0m\n\u001b[1;32m----> 1\u001b[1;33m \u001b[0mderiveNodes\u001b[0m\u001b[1;33m\u001b[0m\u001b[1;33m\u001b[0m\u001b[0m\n\u001b[0m",
      "\u001b[1;31mNameError\u001b[0m: name 'deriveNodes' is not defined"
     ]
    }
   ],
   "source": [
    "deriveNodes"
   ]
  },
  {
   "cell_type": "code",
   "execution_count": 23,
   "id": "changed-henry",
   "metadata": {},
   "outputs": [
    {
     "data": {
      "text/plain": [
       "OutEdgeView([('FAA_Section_Holder', 'Fixed_Asset_Addition'), ('FAA_Header', 'FAA_Section_Holder'), ('FAA_AssetNo', 'FAA_Header'), ('FAA_Deprate', 'FAA_Header'), ('FAA_RetirementDt', 'FAA_Header'), ('FAA_Class', 'FAA_Header'), ('FAA_SubClass', 'FAA_Header'), ('FAA_Line_Holder', 'FAA_Section_Holder'), ('FAA_Line_InternalID', 'FAA_Line_Holder'), ('FAA_Line_VoucherRefDate', 'FAA_Line_InternalID'), ('FAA_Line_Description', 'FAA_Line_InternalID'), ('FAA_Line_Location', 'FAA_Line_InternalID'), ('FAA_Line_SerialNo', 'FAA_Line_InternalID'), ('FAA_Line_MainAssetComponent', 'FAA_Line_InternalID'), ('FAA_Line_ComponentofMainAsset', 'FAA_Line_InternalID'), ('FAA_Line_PORef', 'FAA_Line_InternalID'), ('FAA_Line_InvRef', 'FAA_Line_InternalID'), ('FAA_Line_SupplierName', 'FAA_Line_InternalID'), ('FAA_Line_Oldassetrefno', 'FAA_Line_InternalID'), ('FAA_Line_Qty', 'FAA_Line_InternalID'), ('FAA_Line_Additionduringtheperiod', 'FAA_Line_InternalID'), ('FAA_Line_DateofCapitalization', 'FAA_Line_InternalID'), ('FAA_Line_Date', 'FAA_Line_InternalID'), ('FAA_Line_Deprduringtheperiod', 'FAA_Line_InternalID'), ('FAA_Line_ClosingAccumulatedDepr', 'FAA_Line_InternalID')])"
      ]
     },
     "execution_count": 23,
     "metadata": {},
     "output_type": "execute_result"
    }
   ],
   "source": [
    "gFAA.edges()"
   ]
  },
  {
   "cell_type": "code",
   "execution_count": null,
   "id": "golden-things",
   "metadata": {},
   "outputs": [],
   "source": [
    "def GetKey(val):\n",
    "    for i in range(len(relation)):\n",
    "        for key,value in relation[i].items():\n",
    "            if val == value:\n",
    "                return key\n",
    "loop=0\n",
    "\n",
    "while loop<3:\n",
    "    for i in range(len(relation)):        \n",
    "        for deriveNodes in list(relation[i].values()):\n",
    "            if deriveNodes not in availableNodes and GetKey(val=deriveNodes) in availableNodes :\n",
    "                availableNodes.append(deriveNodes)\n",
    "                \n",
    "                if \"Not Ok\" in derive:\n",
    "                    derive.clear()\n",
    "                    break\n",
    "            elif DeriveNodes == deriveNodes and GetKey(val=deriveNodes) in availableNodes:\n",
    "                derive.append(\"Ok\")\n",
    "            elif DeriveNodes != deriveNodes:\n",
    "                derive.append(\"NA\")\n",
    "\n",
    "        if \"Ok\" and \"NA\" not in derive: \n",
    "            continue\n",
    "        else:\n",
    "            availableNodes.append(deriveNodes)    "
   ]
  }
 ],
 "metadata": {
  "kernelspec": {
   "display_name": "Python 3",
   "language": "python",
   "name": "python3"
  },
  "language_info": {
   "codemirror_mode": {
    "name": "ipython",
    "version": 3
   },
   "file_extension": ".py",
   "mimetype": "text/x-python",
   "name": "python",
   "nbconvert_exporter": "python",
   "pygments_lexer": "ipython3",
   "version": "3.7.9"
  },
  "toc": {
   "base_numbering": 1,
   "nav_menu": {},
   "number_sections": true,
   "sideBar": true,
   "skip_h1_title": false,
   "title_cell": "Table of Contents",
   "title_sidebar": "Contents",
   "toc_cell": false,
   "toc_position": {},
   "toc_section_display": true,
   "toc_window_display": false
  }
 },
 "nbformat": 4,
 "nbformat_minor": 5
}
