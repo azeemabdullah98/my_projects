{
 "cells": [
  {
   "cell_type": "code",
   "execution_count": 1,
   "id": "italic-bidding",
   "metadata": {},
   "outputs": [],
   "source": [
    "# step-1 importing libraries...\n",
    "from py2neo import Graph\n",
    "import pandas as pd\n",
    "import neo4j\n",
    "from copy import deepcopy"
   ]
  },
  {
   "cell_type": "code",
   "execution_count": 2,
   "id": "entitled-opera",
   "metadata": {},
   "outputs": [],
   "source": [
    "#step-2 Connecting to neo4j DBMS name'MyDBMS'...\n",
    "graph = Graph(\"bolt://localhost:7687\",password = 'azeem0786')"
   ]
  },
  {
   "cell_type": "code",
   "execution_count": 36,
   "id": "protective-validity",
   "metadata": {},
   "outputs": [],
   "source": [
    "#step-3 Return the nodes along with the properties in python, created in neo4j and assigned to variable 'node'...\n",
    "node=graph.run('match (n) return n.name as name,n.formula as formula;').data()"
   ]
  },
  {
   "cell_type": "code",
   "execution_count": 3,
   "id": "chicken-endorsement",
   "metadata": {},
   "outputs": [],
   "source": [
    "def BaseGraph(mongo=None):\n",
    "    baseGraph=graph.run(\"match (n) \\\n",
    "                        return n.name as name,n.formula as formula,\\\n",
    "                        n.value as value,\\\n",
    "                        labels(n) as Section\").to_data_frame()\n",
    "    return baseGraph"
   ]
  },
  {
   "cell_type": "code",
   "execution_count": 4,
   "id": "secondary-jackson",
   "metadata": {},
   "outputs": [],
   "source": [
    "df = BaseGraph()"
   ]
  },
  {
   "cell_type": "code",
   "execution_count": 5,
   "id": "stylish-present",
   "metadata": {
    "scrolled": true
   },
   "outputs": [
    {
     "data": {
      "text/html": [
       "<div>\n",
       "<style scoped>\n",
       "    .dataframe tbody tr th:only-of-type {\n",
       "        vertical-align: middle;\n",
       "    }\n",
       "\n",
       "    .dataframe tbody tr th {\n",
       "        vertical-align: top;\n",
       "    }\n",
       "\n",
       "    .dataframe thead th {\n",
       "        text-align: right;\n",
       "    }\n",
       "</style>\n",
       "<table border=\"1\" class=\"dataframe\">\n",
       "  <thead>\n",
       "    <tr style=\"text-align: right;\">\n",
       "      <th></th>\n",
       "      <th>name</th>\n",
       "      <th>formula</th>\n",
       "      <th>value</th>\n",
       "      <th>Section</th>\n",
       "    </tr>\n",
       "  </thead>\n",
       "  <tbody>\n",
       "    <tr>\n",
       "      <th>0</th>\n",
       "      <td>Rate</td>\n",
       "      <td>None</td>\n",
       "      <td>None</td>\n",
       "      <td>[Price]</td>\n",
       "    </tr>\n",
       "    <tr>\n",
       "      <th>1</th>\n",
       "      <td>Quantity</td>\n",
       "      <td>None</td>\n",
       "      <td>None</td>\n",
       "      <td>[Number]</td>\n",
       "    </tr>\n",
       "    <tr>\n",
       "      <th>2</th>\n",
       "      <td>Amount</td>\n",
       "      <td>Rate*Quantity</td>\n",
       "      <td>None</td>\n",
       "      <td>[Total]</td>\n",
       "    </tr>\n",
       "    <tr>\n",
       "      <th>3</th>\n",
       "      <td>Discount Per</td>\n",
       "      <td>None</td>\n",
       "      <td>None</td>\n",
       "      <td>[Cost]</td>\n",
       "    </tr>\n",
       "    <tr>\n",
       "      <th>4</th>\n",
       "      <td>Discount Amount</td>\n",
       "      <td>Discount Per*Amount</td>\n",
       "      <td>None</td>\n",
       "      <td>[Cost]</td>\n",
       "    </tr>\n",
       "    <tr>\n",
       "      <th>5</th>\n",
       "      <td>Net Amount</td>\n",
       "      <td>Amount-Discount Amount</td>\n",
       "      <td>None</td>\n",
       "      <td>[Cost]</td>\n",
       "    </tr>\n",
       "  </tbody>\n",
       "</table>\n",
       "</div>"
      ],
      "text/plain": [
       "              name                 formula value   Section\n",
       "0             Rate                    None  None   [Price]\n",
       "1         Quantity                    None  None  [Number]\n",
       "2           Amount           Rate*Quantity  None   [Total]\n",
       "3     Discount Per                    None  None    [Cost]\n",
       "4  Discount Amount     Discount Per*Amount  None    [Cost]\n",
       "5       Net Amount  Amount-Discount Amount  None    [Cost]"
      ]
     },
     "execution_count": 5,
     "metadata": {},
     "output_type": "execute_result"
    }
   ],
   "source": [
    "df"
   ]
  },
  {
   "cell_type": "code",
   "execution_count": 25,
   "id": "genuine-turkish",
   "metadata": {},
   "outputs": [],
   "source": [
    "dernodes = [x for x,y in zip(df['name'],df['formula']) if y != None]\n",
    "inpnodes = [x for x,y in zip(df['name'],df['formula']) if y == None]"
   ]
  },
  {
   "cell_type": "code",
   "execution_count": 26,
   "id": "fossil-contribution",
   "metadata": {},
   "outputs": [
    {
     "data": {
      "text/plain": [
       "['Amount', 'Discount Amount', 'Net Amount']"
      ]
     },
     "execution_count": 26,
     "metadata": {},
     "output_type": "execute_result"
    }
   ],
   "source": [
    "dernodes"
   ]
  },
  {
   "cell_type": "code",
   "execution_count": 27,
   "id": "graduate-chocolate",
   "metadata": {},
   "outputs": [
    {
     "data": {
      "text/plain": [
       "['Rate', 'Quantity', 'Discount Per']"
      ]
     },
     "execution_count": 27,
     "metadata": {},
     "output_type": "execute_result"
    }
   ],
   "source": [
    "inpnodes"
   ]
  },
  {
   "cell_type": "code",
   "execution_count": 28,
   "id": "useful-disease",
   "metadata": {},
   "outputs": [],
   "source": [
    "def FillProp(graph,prop):\n",
    "    \"Fills those nodes which doesnt contain the passed property with None\"\n",
    "    for node in list(graph.nodes()):\n",
    "        for p in prop:\n",
    "            if p not in graph.nodes[node].keys():\n",
    "                graph.nodes[node][p]=None\n",
    "    return graph;"
   ]
  },
  {
   "cell_type": "code",
   "execution_count": 29,
   "id": "comic-borough",
   "metadata": {},
   "outputs": [],
   "source": [
    "def DeriveTo(graph,Nodes):\n",
    "    \"returns the nodes to which the list of nodes passed is used for derivation\"\n",
    "    derives=[]\n",
    "    for l in Nodes:\n",
    "        try:\n",
    "            adj=list(graph.adj[l])\n",
    "        except KeyError:\n",
    "            print(\"no adjacent nodes:\",l)\n",
    "            continue\n",
    "        for i in adj:\n",
    "            if pd.isnull(graph[l][i][\"derive\"])==False:\n",
    "                derives.append(i) \n",
    "    return derives;\n",
    "    \n",
    "def SeqDerived(graph):\n",
    "    \"Order the Derived nodes based on its relationship\"\n",
    "    From=[x for x,y,v in graph.edges.data(\"derive\") if pd.isnull(v)==False]\n",
    "    To=[y for x,y,v in graph.edges.data(\"derive\") if pd.isnull(v)==False]\n",
    "    Input=[x for x in From if x not in To] \n",
    "    \n",
    "    derList=deepcopy(Input)\n",
    "    while len(Input)!=0:\n",
    "        Input=DeriveTo(graph=graph,Nodes=Input)\n",
    "        derList+=Input \n",
    "    \n",
    "    drvOrdered=[derList[x] for x in range(len(derList)) if derList[x] not in derList[x+1:] and pd.isnull(graph.nodes[derList[x]][\"DERIVE\"])==False ]\n",
    "    return drvOrdered;"
   ]
  },
  {
   "cell_type": "code",
   "execution_count": 40,
   "id": "clear-person",
   "metadata": {},
   "outputs": [
    {
     "ename": "TypeError",
     "evalue": "'NodeMatcher' object is not callable",
     "output_type": "error",
     "traceback": [
      "\u001b[1;31m---------------------------------------------------------------------------\u001b[0m",
      "\u001b[1;31mTypeError\u001b[0m                                 Traceback (most recent call last)",
      "\u001b[1;32m<ipython-input-40-4f06f0183f61>\u001b[0m in \u001b[0;36m<module>\u001b[1;34m\u001b[0m\n\u001b[1;32m----> 1\u001b[1;33m \u001b[0mgLease\u001b[0m \u001b[1;33m=\u001b[0m \u001b[0mFillProp\u001b[0m\u001b[1;33m(\u001b[0m\u001b[0mgraph\u001b[0m\u001b[1;33m=\u001b[0m\u001b[0mgraph\u001b[0m\u001b[1;33m,\u001b[0m\u001b[0mprop\u001b[0m\u001b[1;33m=\u001b[0m\u001b[1;33m[\u001b[0m\u001b[1;34m'LINKED'\u001b[0m\u001b[1;33m]\u001b[0m\u001b[1;33m)\u001b[0m\u001b[1;33m\u001b[0m\u001b[1;33m\u001b[0m\u001b[0m\n\u001b[0m",
      "\u001b[1;32m<ipython-input-28-17a03546fd13>\u001b[0m in \u001b[0;36mFillProp\u001b[1;34m(graph, prop)\u001b[0m\n\u001b[0;32m      1\u001b[0m \u001b[1;32mdef\u001b[0m \u001b[0mFillProp\u001b[0m\u001b[1;33m(\u001b[0m\u001b[0mgraph\u001b[0m\u001b[1;33m,\u001b[0m\u001b[0mprop\u001b[0m\u001b[1;33m)\u001b[0m\u001b[1;33m:\u001b[0m\u001b[1;33m\u001b[0m\u001b[1;33m\u001b[0m\u001b[0m\n\u001b[0;32m      2\u001b[0m     \u001b[1;34m\"Fills those nodes which doesnt contain the passed property with None\"\u001b[0m\u001b[1;33m\u001b[0m\u001b[1;33m\u001b[0m\u001b[0m\n\u001b[1;32m----> 3\u001b[1;33m     \u001b[1;32mfor\u001b[0m \u001b[0mnode\u001b[0m \u001b[1;32min\u001b[0m \u001b[0mlist\u001b[0m\u001b[1;33m(\u001b[0m\u001b[0mgraph\u001b[0m\u001b[1;33m.\u001b[0m\u001b[0mnodes\u001b[0m\u001b[1;33m(\u001b[0m\u001b[1;33m)\u001b[0m\u001b[1;33m)\u001b[0m\u001b[1;33m:\u001b[0m\u001b[1;33m\u001b[0m\u001b[1;33m\u001b[0m\u001b[0m\n\u001b[0m\u001b[0;32m      4\u001b[0m         \u001b[1;32mfor\u001b[0m \u001b[0mp\u001b[0m \u001b[1;32min\u001b[0m \u001b[0mprop\u001b[0m\u001b[1;33m:\u001b[0m\u001b[1;33m\u001b[0m\u001b[1;33m\u001b[0m\u001b[0m\n\u001b[0;32m      5\u001b[0m             \u001b[1;32mif\u001b[0m \u001b[0mp\u001b[0m \u001b[1;32mnot\u001b[0m \u001b[1;32min\u001b[0m \u001b[0mgraph\u001b[0m\u001b[1;33m.\u001b[0m\u001b[0mnodes\u001b[0m\u001b[1;33m[\u001b[0m\u001b[0mnode\u001b[0m\u001b[1;33m]\u001b[0m\u001b[1;33m.\u001b[0m\u001b[0mkeys\u001b[0m\u001b[1;33m(\u001b[0m\u001b[1;33m)\u001b[0m\u001b[1;33m:\u001b[0m\u001b[1;33m\u001b[0m\u001b[1;33m\u001b[0m\u001b[0m\n",
      "\u001b[1;31mTypeError\u001b[0m: 'NodeMatcher' object is not callable"
     ]
    }
   ],
   "source": [
    "gLease = FillProp(graph=graph,prop=['LINKED'])"
   ]
  },
  {
   "cell_type": "code",
   "execution_count": 9,
   "id": "adjusted-bahrain",
   "metadata": {},
   "outputs": [],
   "source": [
    "#step-4 Extracting the names from the node... \n",
    "nodeName={x['name']:None for x in node}"
   ]
  },
  {
   "cell_type": "code",
   "execution_count": 10,
   "id": "established-intervention",
   "metadata": {},
   "outputs": [
    {
     "data": {
      "text/plain": [
       "{'Rate': None,\n",
       " 'Quantity': None,\n",
       " 'Amount': None,\n",
       " 'Discount Per': None,\n",
       " 'Discount Amount': None,\n",
       " 'Net Amount': None}"
      ]
     },
     "execution_count": 10,
     "metadata": {},
     "output_type": "execute_result"
    }
   ],
   "source": [
    "nodeName"
   ]
  },
  {
   "cell_type": "code",
   "execution_count": 11,
   "id": "impossible-diploma",
   "metadata": {},
   "outputs": [],
   "source": [
    "#step-5 Mapping name of the node with formula of the node... \n",
    "nodeProperty={x['name']:x['formula'] for x in node}"
   ]
  },
  {
   "cell_type": "code",
   "execution_count": 12,
   "id": "baking-percentage",
   "metadata": {},
   "outputs": [
    {
     "data": {
      "text/plain": [
       "{'Rate': None,\n",
       " 'Quantity': None,\n",
       " 'Amount': 'Rate*Quantity',\n",
       " 'Discount Per': None,\n",
       " 'Discount Amount': 'Discount Per*Amount',\n",
       " 'Net Amount': 'Amount-Discount Amount'}"
      ]
     },
     "execution_count": 12,
     "metadata": {},
     "output_type": "execute_result"
    }
   ],
   "source": [
    "nodeProperty"
   ]
  },
  {
   "cell_type": "code",
   "execution_count": 13,
   "id": "italic-yugoslavia",
   "metadata": {},
   "outputs": [],
   "source": [
    "#step-6 Separating input and output nodes...\n",
    "inpNodes=[x for x,y in nodeProperty.items() if y ==None]\n",
    "derNodes=[x for x,y in nodeProperty.items() if y !=None]"
   ]
  },
  {
   "cell_type": "code",
   "execution_count": 10,
   "id": "moral-tradition",
   "metadata": {},
   "outputs": [
    {
     "name": "stdout",
     "output_type": "stream",
     "text": [
      "enter the Rate:56\n",
      "enter the Quantity:58\n",
      "enter the Discount Per:0.6\n",
      "nodeName['Rate']*nodeName['Quantity']\n",
      "nodeName['Discount Per']*nodeName['Amount']\n",
      "Amount-Discount Amount\n"
     ]
    }
   ],
   "source": [
    "result = []\n",
    "for i in inpNodes:\n",
    "    nodeName[i] = float(input(\"enter the \" +i+ \":\"))\n",
    "        \n",
    "for d in derNodes:\n",
    "    formula = nodeProperty[d] \n",
    "    for i in inpNodes:\n",
    "        formula = formula.replace(i,\"nodeName['%s']\"%i)\n",
    "    print(formula)\n",
    "    nodeName[d] = eval(formula)\n",
    "    result.append(nodeName[d])\n",
    "    break\n",
    "for d in derNodes[1:]:\n",
    "    formula = nodeProperty[d]\n",
    "    for i in inpNodes[-1:]:\n",
    "        formula = formula.replace(i,\"nodeName['%s']\"%i)\n",
    "    for j in derNodes[:1]:\n",
    "        formula = formula.replace(j,\"nodeName['%s']\"%j)\n",
    "    print(formula)\n",
    "    nodeName[d] = eval(formula)\n",
    "    result.append(nodeName[d])\n",
    "    break\n",
    "for d in derNodes[2:]:\n",
    "    formula = nodeProperty[d]\n",
    "    for j in derNodes:\n",
    "        nodeName[d] = result[0]-result[1]\n",
    "        break\n",
    "    print(formula)"
   ]
  },
  {
   "cell_type": "code",
   "execution_count": 11,
   "id": "hearing-repository",
   "metadata": {},
   "outputs": [
    {
     "data": {
      "text/plain": [
       "{'Rate': 56.0,\n",
       " 'Quantity': 58.0,\n",
       " 'Amount': 3248.0,\n",
       " 'Discount Per': 0.6,\n",
       " 'Discount Amount': 1948.8,\n",
       " 'Net Amount': 1299.2}"
      ]
     },
     "execution_count": 11,
     "metadata": {},
     "output_type": "execute_result"
    }
   ],
   "source": [
    "nodeName"
   ]
  },
  {
   "cell_type": "code",
   "execution_count": null,
   "id": "hearing-brother",
   "metadata": {},
   "outputs": [],
   "source": []
  }
 ],
 "metadata": {
  "kernelspec": {
   "display_name": "Python 3",
   "language": "python",
   "name": "python3"
  },
  "language_info": {
   "codemirror_mode": {
    "name": "ipython",
    "version": 3
   },
   "file_extension": ".py",
   "mimetype": "text/x-python",
   "name": "python",
   "nbconvert_exporter": "python",
   "pygments_lexer": "ipython3",
   "version": "3.7.9"
  },
  "toc": {
   "base_numbering": 1,
   "nav_menu": {},
   "number_sections": true,
   "sideBar": true,
   "skip_h1_title": false,
   "title_cell": "Table of Contents",
   "title_sidebar": "Contents",
   "toc_cell": false,
   "toc_position": {},
   "toc_section_display": true,
   "toc_window_display": false
  }
 },
 "nbformat": 4,
 "nbformat_minor": 5
}
