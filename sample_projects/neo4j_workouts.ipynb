{
 "cells": [
  {
   "cell_type": "code",
   "execution_count": null,
   "id": "78bccc56",
   "metadata": {},
   "outputs": [],
   "source": [
    "import sys\n",
    "for path in sys.path:\n",
    "    print(path)"
   ]
  },
  {
   "cell_type": "code",
   "execution_count": null,
   "id": "1fe30bf9",
   "metadata": {},
   "outputs": [],
   "source": [
    "from __future__ import annotations  # min Py version 3.7\n",
    "import numpy as np\n",
    "\n",
    "\n",
    "def detect(data: list[float]) -> list[int]:\n",
    "    \"\"\"Return indices where values more than 2 standard deviations from mean\"\"\"\n",
    "    data = np.fromiter(data, dtype='float64')  # data: np.ndarray[np.float64]\n",
    "    indices = np.where(np.abs(data - data.mean()) > 2 * data.std())[0]\n",
    "    return(indices.tolist())  # return: list[int]\n",
    "\n",
    "\n",
    "def gen_testdata() -> list[float]:\n",
    "    \"\"\"Return testdata\"\"\"\n",
    "    data = np.random.rand(1000)\n",
    "    indices = [7, 113, 835]\n",
    "    for i in indices:\n",
    "        data[i] += 97\n",
    "\n",
    "    return(data.tolist())\n",
    "\n",
    "print(detect(gen_testdata()))\n"
   ]
  },
  {
   "cell_type": "code",
   "execution_count": null,
   "id": "f7e5afd9",
   "metadata": {},
   "outputs": [],
   "source": [
    "import networkx as nx\n",
    "G=nx.Graph()\n",
    "\n",
    "G.add_node(1)\n",
    "\n",
    "G.add_nodes_from([2,3])\n",
    "\n",
    "G.add_nodes_from([\n",
    "    (4,{\"color\":\"red\"}),\n",
    "    (5,{\"color\":\"green\"}),\n",
    "])\n",
    "\n",
    "H=nx.path_graph(10)\n",
    "G.add_nodes_from(H)\n",
    "\n",
    "G.clear()\n",
    "\n",
    "G.add_edges_from([(1,2),(1,3)])\n",
    "G.add_node(1)\n",
    "G.add_edge(1,2)\n",
    "G.add_node(\"spam\")  # adds node \"spam\"\n",
    "G.add_nodes_from(\"spam\")  # adds 4 nodes: 's', 'p', 'a', 'm'\n",
    "G.add_edge(3,'m')\n",
    "\n",
    "G.number_of_nodes()\n",
    "\n",
    "G.number_of_edges()\n",
    "\n",
    "print(list(G.edges()))\n",
    "print(list(G.nodes()))\n",
    "print(list(G.adj[1])) #or list(G.neighbors[1])\n",
    "print(list(G.degree())) #number of edges incident to 1\n",
    "\n",
    "G.edges([2,'m'])\n",
    "\n",
    "G.degree([2,3])\n",
    "\n",
    "G.remove_node(2)\n",
    "G.remove_nodes_from(\"spam\")\n",
    "list(G.nodes())\n",
    "\n",
    "G.remove_edge(1,3)\n",
    "\n",
    "list(G.nodes())\n",
    "\n",
    "list(G.edges())\n",
    "\n",
    "G.add_edge(1,2)\n",
    "H=nx.DiGraph(G) #create a Digraph using the connections from G.\n",
    "list(H.edges())\n",
    "\n",
    "edgeList=[(0,1),(1,2),(2,3)]\n",
    "H=nx.Graph(edgeList)\n",
    "\n",
    "print(H.nodes())\n",
    "print(H.edges())\n",
    "print(H.number_of_edges())\n",
    "print(H.number_of_nodes())\n",
    "\n",
    "G=nx.Graph([(1,2,{\"color\":\"yellow\"})])\n",
    "G[1] #same as that of G.adj[1]\n",
    "\n",
    "G[1][2]\n",
    "\n",
    "G.edges[1,2]"
   ]
  },
  {
   "cell_type": "code",
   "execution_count": null,
   "id": "48a01162",
   "metadata": {},
   "outputs": [],
   "source": []
  },
  {
   "cell_type": "code",
   "execution_count": null,
   "id": "48402252",
   "metadata": {},
   "outputs": [],
   "source": []
  },
  {
   "cell_type": "code",
   "execution_count": null,
   "id": "d1b56c3f",
   "metadata": {},
   "outputs": [],
   "source": []
  },
  {
   "cell_type": "code",
   "execution_count": null,
   "id": "7dd938d8",
   "metadata": {},
   "outputs": [],
   "source": []
  },
  {
   "cell_type": "code",
   "execution_count": null,
   "id": "47116313",
   "metadata": {},
   "outputs": [],
   "source": []
  },
  {
   "cell_type": "code",
   "execution_count": null,
   "id": "c95446ac",
   "metadata": {},
   "outputs": [],
   "source": []
  },
  {
   "cell_type": "code",
   "execution_count": null,
   "id": "be76a51f",
   "metadata": {},
   "outputs": [],
   "source": []
  },
  {
   "cell_type": "code",
   "execution_count": null,
   "id": "300639e3",
   "metadata": {},
   "outputs": [],
   "source": []
  },
  {
   "cell_type": "code",
   "execution_count": null,
   "id": "8918e3f3",
   "metadata": {},
   "outputs": [],
   "source": []
  },
  {
   "cell_type": "code",
   "execution_count": null,
   "id": "ffa6bda7",
   "metadata": {},
   "outputs": [],
   "source": []
  }
 ],
 "metadata": {
  "kernelspec": {
   "display_name": "Python 3",
   "language": "python",
   "name": "python3"
  },
  "language_info": {
   "codemirror_mode": {
    "name": "ipython",
    "version": 3
   },
   "file_extension": ".py",
   "mimetype": "text/x-python",
   "name": "python",
   "nbconvert_exporter": "python",
   "pygments_lexer": "ipython3",
   "version": "3.7.9"
  },
  "toc": {
   "base_numbering": 1,
   "nav_menu": {},
   "number_sections": true,
   "sideBar": true,
   "skip_h1_title": false,
   "title_cell": "Table of Contents",
   "title_sidebar": "Contents",
   "toc_cell": false,
   "toc_position": {},
   "toc_section_display": true,
   "toc_window_display": false
  }
 },
 "nbformat": 4,
 "nbformat_minor": 5
}
