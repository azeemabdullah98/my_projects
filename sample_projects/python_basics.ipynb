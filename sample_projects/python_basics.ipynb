{
 "cells": [
  {
   "cell_type": "code",
   "execution_count": 3,
   "id": "9a9e1bf9",
   "metadata": {
    "ExecuteTime": {
     "end_time": "2021-08-07T11:28:57.522642Z",
     "start_time": "2021-08-07T11:28:57.505992Z"
    }
   },
   "outputs": [],
   "source": [
    "data={}\n",
    "data['label']=[]\n",
    "data['data']=[]\n",
    "temp={}"
   ]
  },
  {
   "cell_type": "code",
   "execution_count": 4,
   "id": "cbe36453",
   "metadata": {
    "ExecuteTime": {
     "end_time": "2021-08-07T11:28:58.506131Z",
     "start_time": "2021-08-07T11:28:58.497724Z"
    }
   },
   "outputs": [],
   "source": [
    "codeLabel = {'anger': 0,\n",
    "             'contempt': 1, \n",
    "             'disgust': 2, \n",
    "             'fear': 3, \n",
    "             'happy': 4, \n",
    "             'sadness': 5,\n",
    "             'surprise': 6}"
   ]
  },
  {
   "cell_type": "code",
   "execution_count": 5,
   "id": "edc9742b",
   "metadata": {
    "ExecuteTime": {
     "end_time": "2021-08-07T11:29:01.654851Z",
     "start_time": "2021-08-07T11:29:01.641250Z"
    }
   },
   "outputs": [],
   "source": [
    "data['label'].append(codeLabel['anger'])"
   ]
  },
  {
   "cell_type": "code",
   "execution_count": 6,
   "id": "c8bda685",
   "metadata": {
    "ExecuteTime": {
     "end_time": "2021-08-07T11:29:06.301631Z",
     "start_time": "2021-08-07T11:29:06.282713Z"
    }
   },
   "outputs": [
    {
     "data": {
      "text/plain": [
       "{'label': [0], 'data': []}"
      ]
     },
     "execution_count": 6,
     "metadata": {},
     "output_type": "execute_result"
    }
   ],
   "source": [
    "data"
   ]
  },
  {
   "cell_type": "code",
   "execution_count": 5,
   "id": "chemical-implementation",
   "metadata": {
    "scrolled": true
   },
   "outputs": [
    {
     "name": "stdout",
     "output_type": "stream",
     "text": [
      "enter your choice:\n",
      "1.circle\n",
      "2.rectangle\n",
      "3.square3\n",
      "enter the choice of number\n",
      "enter the side of the square8\n",
      "The area of the square is: 64\n",
      "The perimeter of the square is: 32\n",
      "do you wish to continue? y/ny\n",
      "enter your choice:\n",
      "1.circle\n",
      "2.rectangle\n",
      "3.squarecircle\n",
      "enter the choice of number\n",
      "enter the radius of the circle6\n",
      "The area of the circle is: 113.14285714285714\n",
      "The perimeter of the circle is: 37.714285714285715\n",
      "do you wish to continue? y/ny\n",
      "enter your choice:\n",
      "1.circle\n",
      "2.rectangle\n",
      "3.square4\n",
      "enter the choice of number\n",
      "please enter a valid option...\n",
      "enter your choice:\n",
      "1.circle\n",
      "2.rectangle\n",
      "3.squarerectangle\n",
      "enter the choice of number\n",
      "enter the length of the rectangle8\n",
      "enter the breadth of the rectangle3\n",
      "The area of the rectangle is: 24\n",
      "The perimeter of the rectangle is: 22\n",
      "do you wish to continue? y/nn\n",
      "Thank you\n"
     ]
    }
   ],
   "source": [
    "#calculate the area and perimeter of any 3 objects (using while and if statement)...\n",
    "opt = 'y'\n",
    "while opt == 'y':\n",
    "    choice = str(input(\"enter your choice:\\n1.circle\\n2.rectangle\\n3.square\"))\n",
    "    print(\"enter the choice of number\")\n",
    "    if choice == '1' or choice == 'circle':\n",
    "        radius = int(input(\"enter the radius of the circle\"))\n",
    "        area = (22/7)*radius**2\n",
    "        perimeter = 2*(22/7)*radius\n",
    "        print(\"The area of the circle is: {}\".format(area))\n",
    "        print(\"The perimeter of the circle is: {}\".format(perimeter))\n",
    "    elif choice == '2' or choice == 'rectangle':\n",
    "        length = int(input(\"enter the length of the rectangle\"))\n",
    "        breadth = int(input(\"enter the breadth of the rectangle\"))\n",
    "        area = length*breadth\n",
    "        perimeter = 2*(length+breadth)\n",
    "        print(\"The area of the rectangle is: {}\".format(area))\n",
    "        print(\"The perimeter of the rectangle is: {}\".format(perimeter))\n",
    "    elif choice == '3' or choice == 'square':\n",
    "        side = int(input(\"enter the side of the square\"))\n",
    "        area = side**2\n",
    "        perimeter = 4*side\n",
    "        print(\"The area of the square is: {}\".format(area))\n",
    "        print(\"The perimeter of the square is: {}\".format(perimeter))\n",
    "    else:\n",
    "        print(\"please enter a valid option...\")\n",
    "        continue\n",
    "    opt = str(input(\"do you wish to continue? y/n\"))\n",
    "else:\n",
    "    print(\"Thank you\")"
   ]
  },
  {
   "cell_type": "code",
   "execution_count": 36,
   "id": "going-projection",
   "metadata": {},
   "outputs": [
    {
     "name": "stdout",
     "output_type": "stream",
     "text": [
      "\n",
      "Best of three matches\n",
      "\n",
      "enter your choice:\n",
      "1.rock\n",
      "2.paper\n",
      "3.scissor\n",
      "\n",
      "enter your choice: rock\n",
      "\n",
      "enter your choice: paper\n",
      "\n",
      "your choice is:  rock and computer choice is:  paper\n",
      "\n",
      "computer won the game...\n",
      "\n",
      "enter your choice: q\n",
      "GoodBye...\n"
     ]
    }
   ],
   "source": [
    "# Best of three Rock,paper and scissor two player game and computes the individual points...\n",
    "i = 0\n",
    "user_points = 0 \n",
    "computer_points = 0\n",
    "print(\"\\nBest of three matches\")\n",
    "print(\"\\nenter your choice:\\n1.rock\\n2.paper\\n3.scissor\")\n",
    "while i < 3:\n",
    "    user = str(input(\"\\nenter your choice: \"))\n",
    "    if (user == 'q' or user == 'quit'):\n",
    "        print(\"GoodBye...\")\n",
    "        break\n",
    "    computer = str(input(\"\\nenter your choice: \"))\n",
    "    if (computer == 'q' or computer == 'quit'):\n",
    "        print(\"GoodBye...\")\n",
    "        break\n",
    "    print(\"\\nyour choice is: \",user, \"and computer choice is: \",computer)\n",
    "    \n",
    "    if user == computer:\n",
    "        print(\"\\nGame Tie...\")\n",
    "    elif (user == 'rock' and computer == 'scissor') or (user == 'paper' and computer == 'rock') or (user == 'scissor' and computer == 'paper'):\n",
    "        print(\"\\nuser won the game...\")\n",
    "        user_points += 1\n",
    "        i += 1\n",
    "    else:\n",
    "        print(\"\\ncomputer won the game...\")\n",
    "        computer_points += 1\n",
    "        i += 1\n",
    "else:\n",
    "    print(\"user score is \",user_points,\" and computer score is \",computer_points)\n",
    "    if user_points > computer_points:\n",
    "        print(\"\\noverall user won the game...\")\n",
    "    elif user_points < computer_points:\n",
    "        print(\"\\noverall computer won the game\")\n",
    "    else:\n",
    "        print(\"\\noverall match draw\")"
   ]
  },
  {
   "cell_type": "code",
   "execution_count": 1,
   "id": "massive-mistress",
   "metadata": {
    "ExecuteTime": {
     "end_time": "2021-09-11T18:20:41.246244Z",
     "start_time": "2021-09-11T18:20:10.301636Z"
    }
   },
   "outputs": [
    {
     "name": "stdout",
     "output_type": "stream",
     "text": [
      "\n",
      "Think of any number between 0-100 and keep it with you, Let me find out\n",
      "\n",
      "\n",
      "Is'nt it 18 ? \n",
      "Enter the option: \n",
      "1.high \n",
      "2.low \n",
      "3.bingo2\n",
      "\n",
      "Is'nt it 93 ? \n",
      "Enter the option: \n",
      "1.high \n",
      "2.low \n",
      "3.bingo1\n",
      "\n",
      "Is'nt it 89 ? \n",
      "Enter the option: \n",
      "1.high \n",
      "2.low \n",
      "3.bingo1\n",
      "\n",
      "Is'nt it 79 ? \n",
      "Enter the option: \n",
      "1.high \n",
      "2.low \n",
      "3.bingo1\n",
      "\n",
      "Is'nt it 58 ? \n",
      "Enter the option: \n",
      "1.high \n",
      "2.low \n",
      "3.bingo2\n",
      "\n",
      "Is'nt it 62 ? \n",
      "Enter the option: \n",
      "1.high \n",
      "2.low \n",
      "3.bingo1\n",
      "\n",
      "Is'nt it 61 ? \n",
      "Enter the option: \n",
      "1.high \n",
      "2.low \n",
      "3.bingo1\n",
      "\n",
      "Is'nt it 60 ? \n",
      "Enter the option: \n",
      "1.high \n",
      "2.low \n",
      "3.bingo3\n",
      "\n",
      "The number in your mind is 60 and the computer took 8 attempts\n",
      " \n"
     ]
    }
   ],
   "source": [
    "## Think of a number between 0-100 and computer will find the number in your mind...\n",
    "import random\n",
    "import time\n",
    "\n",
    "min = 0\n",
    "max = 100\n",
    "attempt = 0\n",
    "print(\"\\nThink of any number between 0-100 and keep it with you, Let me find out\\n\")\n",
    "time.sleep(5)\n",
    "while True:\n",
    "    num = random.randint(min,max)\n",
    "    print(\"\\nIs'nt it {} ? \".format(num))\n",
    "    option = str(input(\"Enter the option: \\n1.high \\n2.low \\n3.bingo\"))\n",
    "    attempt += 1\n",
    "    if option == 'high' or option == '1':\n",
    "        max = num-1\n",
    "        continue\n",
    "    elif option == 'low' or option == '2':\n",
    "        min = num + 1\n",
    "        continue\n",
    "    elif option == 'bingo' or option == '3':\n",
    "        print(\"\\nThe number in your mind is {} and the computer took {} attempts\\n \".format(num,attempt))\n",
    "        break\n",
    "    else:\n",
    "        print(\"\\nPlease enter a valid option...\\n\")\n",
    "        attempt -= 1"
   ]
  },
  {
   "cell_type": "code",
   "execution_count": 29,
   "id": "e8cfda53",
   "metadata": {
    "ExecuteTime": {
     "end_time": "2021-07-04T06:12:40.410915Z",
     "start_time": "2021-07-04T06:11:06.375945Z"
    }
   },
   "outputs": [
    {
     "name": "stdout",
     "output_type": "stream",
     "text": [
      "Welcome to Hangman Game!!!\n",
      "Clue: The first letter of the word is p\n",
      "['_', '_', '_', '_', '_', '_']\n",
      "Enter the letter: p\n",
      "['p', '_', 'p', '_', '_', '_']\n",
      "Enter the letter: a\n",
      "['p', 'a', 'p', 'a', '_', 'a']\n",
      "Enter the letter: y\n",
      "['p', 'a', 'p', 'a', 'y', 'a']\n",
      "papaya\n",
      "you have guessed correctly and you took 3 attempts\n"
     ]
    }
   ],
   "source": [
    "#Hangman Game...\n",
    "import random\n",
    "fruits=['apple','papaya','orange','watermelon']\n",
    "fruit_choice=random.choice(fruits)\n",
    "fruits_letter=list(fruit_choice)\n",
    "ans=list(\"_\"*len(fruits_letter))\n",
    "print(\"Welcome to Hangman Game!!!\")\n",
    "print(\"Clue: The first letter of the word is {}\".format(fruits_letter[0]))\n",
    "print(ans)\n",
    "attempt = 0\n",
    "while True:\n",
    "    choice=str(input(\"Enter the letter: \"))\n",
    "    attempt += 1\n",
    "    if choice in fruits_letter:\n",
    "        num=[i for i,j in enumerate(fruits_letter) if j == choice]\n",
    "        for x in num:\n",
    "            ans[x] = choice\n",
    "        print(ans)\n",
    "    else:\n",
    "        continue\n",
    "    if \"_\" not in ans:\n",
    "        print(\"\".join(ans))\n",
    "        print(\"you have guessed correctly and you took {} attempts\".format(attempt))\n",
    "        break"
   ]
  },
  {
   "cell_type": "code",
   "execution_count": null,
   "id": "2cc4be3f",
   "metadata": {},
   "outputs": [],
   "source": []
  }
 ],
 "metadata": {
  "kernelspec": {
   "display_name": "Python 3",
   "language": "python",
   "name": "python3"
  },
  "language_info": {
   "codemirror_mode": {
    "name": "ipython",
    "version": 3
   },
   "file_extension": ".py",
   "mimetype": "text/x-python",
   "name": "python",
   "nbconvert_exporter": "python",
   "pygments_lexer": "ipython3",
   "version": "3.7.9"
  },
  "toc": {
   "base_numbering": 1,
   "nav_menu": {},
   "number_sections": true,
   "sideBar": true,
   "skip_h1_title": false,
   "title_cell": "Table of Contents",
   "title_sidebar": "Contents",
   "toc_cell": false,
   "toc_position": {},
   "toc_section_display": true,
   "toc_window_display": false
  }
 },
 "nbformat": 4,
 "nbformat_minor": 5
}
