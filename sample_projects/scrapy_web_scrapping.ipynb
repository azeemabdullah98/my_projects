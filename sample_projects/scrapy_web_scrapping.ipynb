{
 "cells": [
  {
   "cell_type": "code",
   "execution_count": 9,
   "id": "78bf9fc8",
   "metadata": {
    "ExecuteTime": {
     "end_time": "2021-06-13T06:04:04.089483Z",
     "start_time": "2021-06-13T06:04:04.073771Z"
    }
   },
   "outputs": [],
   "source": [
    "import scrapy\n",
    "from scrapy.spiders import CrawlSpider,Rule\n",
    "from scrapy.linkextractors import LinkExtractor"
   ]
  },
  {
   "cell_type": "code",
   "execution_count": 4,
   "id": "6f38a1d6",
   "metadata": {
    "ExecuteTime": {
     "end_time": "2021-06-11T10:03:10.958171Z",
     "start_time": "2021-06-11T10:03:10.946489Z"
    }
   },
   "outputs": [],
   "source": [
    "url=\"https://tendercuts.in/home/\""
   ]
  },
  {
   "cell_type": "code",
   "execution_count": null,
   "id": "bb43f8df",
   "metadata": {},
   "outputs": [],
   "source": [
    "class Spider(scrapy.spiders):\n",
    "    name=\"category\"\n",
    "    start_urls=[\"https://tendercuts.in/\"]\n",
    "    \n",
    "    def Parse(self,response):\n",
    "        for category in response.css(\"div.grid-mode full-width row ng-star-inserted\"):\n",
    "            next_page = category.css(\"p\").get()\n",
    "            try:\n",
    "                yield next_page = response.urljoin(next_page)\n",
    "            except:\n",
    "                print(\"error\")\n",
    "            product_name = next_page(\"mat-card-title\")\n",
    "            for i in range(len(product_name)):\n",
    "                \n",
    "                \n",
    "            "
   ]
  },
  {
   "cell_type": "code",
   "execution_count": 10,
   "id": "19513dc2",
   "metadata": {
    "ExecuteTime": {
     "end_time": "2021-06-13T06:04:08.958678Z",
     "start_time": "2021-06-13T06:04:08.953262Z"
    }
   },
   "outputs": [],
   "source": [
    "class FirstSpider(scrapy.Spider):\n",
    "    name = \"first\"\n",
    "    \n",
    "    def __init__(self,group=None,*args,**kwargs):\n",
    "        super(FirstSpider,self).__init___(*args,**kwargs)\n",
    "        self.start_urls=[\"https://tendercuts.in/%s\"%group]\n",
    "    "
   ]
  },
  {
   "cell_type": "code",
   "execution_count": 11,
   "id": "31b4fd5b",
   "metadata": {
    "ExecuteTime": {
     "end_time": "2021-06-13T06:04:10.227510Z",
     "start_time": "2021-06-13T06:04:10.213087Z"
    }
   },
   "outputs": [],
   "source": [
    "import scrapy \n",
    "from scrapy.item import Item, Field \n",
    "  \n",
    "class First_scrapyItem(scrapy.Item): \n",
    "    product_title = Field() \n",
    "    product_link = Field() \n",
    "    product_description = Field() "
   ]
  },
  {
   "cell_type": "code",
   "execution_count": null,
   "id": "0819909d",
   "metadata": {},
   "outputs": [],
   "source": [
    "class DemoSpider(CrawlSpider):\n",
    "    name=\"Demo\"\n",
    "    allowed_domains=[\"www.tendercuts.in\"]\n",
    "    start_urls=[\"https://tendercuts.in/\"]\n",
    "    rule=(Rule(LinkExtractor(allow=(),restrict_xpaths=)))"
   ]
  },
  {
   "cell_type": "code",
   "execution_count": 14,
   "id": "d92836c2",
   "metadata": {
    "ExecuteTime": {
     "end_time": "2021-06-13T07:55:28.418915Z",
     "start_time": "2021-06-13T07:55:28.410914Z"
    }
   },
   "outputs": [],
   "source": [
    "import scrapy\n",
    "from scrapy.spiders import CrawlSpider, Rule\n",
    "from scrapy.linkextractors import LinkExtractor\n",
    "\n",
    "class DemoSpider(CrawlSpider):\n",
    "    name = \"demo\"\n",
    "    allowed_domains = [\"www.tendercuts.in\"]\n",
    "    start_urls = [\"https://tendercuts.in\"]\n",
    "      \n",
    "    rules = ( \n",
    "      Rule(LinkExtractor(allow =(), restrict_xpaths = (\"//div[@class = 'next']\",)),\n",
    "         callback = \"parse_item\", follow = True),\n",
    "   )\n",
    "   \n",
    "    def parse_item(self, response):\n",
    "        item = DemoItem()\n",
    "        item[\"product_title\"] = response.xpath(\"a/text()\").extract()\n",
    "        item[\"product_link\"] = response.xpath(\"a/@href\").extract()\n",
    "        item[\"product_description\"] = response.xpath(\"div[@class = 'desc']/text()\").extract()\n",
    "        return items"
   ]
  },
  {
   "cell_type": "code",
   "execution_count": 3,
   "id": "6f7c08f4",
   "metadata": {
    "ExecuteTime": {
     "end_time": "2021-06-15T09:14:11.259938Z",
     "start_time": "2021-06-15T09:14:11.254427Z"
    }
   },
   "outputs": [],
   "source": [
    "url=\"https://tendercuts.in/home\""
   ]
  },
  {
   "cell_type": "code",
   "execution_count": null,
   "id": "0449b7a8",
   "metadata": {},
   "outputs": [],
   "source": []
  }
 ],
 "metadata": {
  "kernelspec": {
   "display_name": "Python 3",
   "language": "python",
   "name": "python3"
  },
  "language_info": {
   "codemirror_mode": {
    "name": "ipython",
    "version": 3
   },
   "file_extension": ".py",
   "mimetype": "text/x-python",
   "name": "python",
   "nbconvert_exporter": "python",
   "pygments_lexer": "ipython3",
   "version": "3.7.9"
  },
  "toc": {
   "base_numbering": 1,
   "nav_menu": {},
   "number_sections": true,
   "sideBar": true,
   "skip_h1_title": false,
   "title_cell": "Table of Contents",
   "title_sidebar": "Contents",
   "toc_cell": false,
   "toc_position": {},
   "toc_section_display": true,
   "toc_window_display": false
  }
 },
 "nbformat": 4,
 "nbformat_minor": 5
}
