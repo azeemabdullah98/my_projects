{
 "cells": [
  {
   "cell_type": "code",
   "execution_count": 1,
   "id": "instant-matthew",
   "metadata": {
    "ExecuteTime": {
     "end_time": "2021-06-01T03:34:31.064235Z",
     "start_time": "2021-06-01T03:34:14.506090Z"
    }
   },
   "outputs": [],
   "source": [
    "from py2neo import Graph,Relationship,Node\n",
    "import pandas as pd\n",
    "import networkx as nx\n",
    "import matplotlib.pyplot as plt\n",
    "from copy import deepcopy\n",
    "from neo4j import GraphDatabase"
   ]
  },
  {
   "cell_type": "code",
   "execution_count": 2,
   "id": "acceptable-stake",
   "metadata": {
    "ExecuteTime": {
     "end_time": "2021-06-01T03:34:31.502749Z",
     "start_time": "2021-06-01T03:34:31.078887Z"
    }
   },
   "outputs": [],
   "source": [
    "graph = Graph(\"bolt://localhost:7687\",password='azeem0786')"
   ]
  },
  {
   "cell_type": "code",
   "execution_count": 3,
   "id": "67f80468",
   "metadata": {
    "ExecuteTime": {
     "end_time": "2021-06-01T03:34:31.512402Z",
     "start_time": "2021-06-01T03:34:31.506514Z"
    }
   },
   "outputs": [],
   "source": [
    "def BaseGraph():\n",
    "    inpNodes=graph.run(\"match (n)-[:Linked]->(m) return n.name as input_nodes, n.formula as formula,m.name as derived_nodes\").to_data_frame()\n",
    "#     derivedNodes=graph.run(\"match(a)-[:Linked]->(b) return b.name as derived_nodes\").to_data_frame()\n",
    "    return inpNodes"
   ]
  },
  {
   "cell_type": "code",
   "execution_count": 4,
   "id": "df12228b",
   "metadata": {
    "ExecuteTime": {
     "end_time": "2021-06-01T03:34:33.530654Z",
     "start_time": "2021-06-01T03:34:33.524018Z"
    }
   },
   "outputs": [],
   "source": [
    "# def BaseGraph():\n",
    "#     baseGraph=graph.run(\"match(n) return n.name as name,n.formula as formula\").to_data_frame()\n",
    "#     return baseGraph"
   ]
  },
  {
   "cell_type": "code",
   "execution_count": 5,
   "id": "aerial-somerset",
   "metadata": {
    "ExecuteTime": {
     "end_time": "2021-06-01T03:34:34.540964Z",
     "start_time": "2021-06-01T03:34:34.319119Z"
    }
   },
   "outputs": [],
   "source": [
    "df = BaseGraph()"
   ]
  },
  {
   "cell_type": "code",
   "execution_count": 7,
   "id": "32222ba2",
   "metadata": {
    "ExecuteTime": {
     "end_time": "2021-06-01T03:35:01.786927Z",
     "start_time": "2021-06-01T03:35:01.776429Z"
    }
   },
   "outputs": [],
   "source": [
    "df1=df.loc[::-1] "
   ]
  },
  {
   "cell_type": "code",
   "execution_count": 8,
   "id": "7ba46b75",
   "metadata": {
    "ExecuteTime": {
     "end_time": "2021-06-01T03:35:02.624999Z",
     "start_time": "2021-06-01T03:35:02.485283Z"
    }
   },
   "outputs": [
    {
     "data": {
      "text/html": [
       "<div>\n",
       "<style scoped>\n",
       "    .dataframe tbody tr th:only-of-type {\n",
       "        vertical-align: middle;\n",
       "    }\n",
       "\n",
       "    .dataframe tbody tr th {\n",
       "        vertical-align: top;\n",
       "    }\n",
       "\n",
       "    .dataframe thead th {\n",
       "        text-align: right;\n",
       "    }\n",
       "</style>\n",
       "<table border=\"1\" class=\"dataframe\">\n",
       "  <thead>\n",
       "    <tr style=\"text-align: right;\">\n",
       "      <th></th>\n",
       "      <th>input_nodes</th>\n",
       "      <th>formula</th>\n",
       "      <th>derived_nodes</th>\n",
       "    </tr>\n",
       "  </thead>\n",
       "  <tbody>\n",
       "    <tr>\n",
       "      <th>7</th>\n",
       "      <td>Net Amount</td>\n",
       "      <td>Amount-Discount Amount</td>\n",
       "      <td>Total</td>\n",
       "    </tr>\n",
       "    <tr>\n",
       "      <th>6</th>\n",
       "      <td>Tax</td>\n",
       "      <td>None</td>\n",
       "      <td>Total</td>\n",
       "    </tr>\n",
       "    <tr>\n",
       "      <th>5</th>\n",
       "      <td>Amount</td>\n",
       "      <td>Quantity*Rate</td>\n",
       "      <td>Net Amount</td>\n",
       "    </tr>\n",
       "    <tr>\n",
       "      <th>4</th>\n",
       "      <td>Discount Amount</td>\n",
       "      <td>Discount Per*Amount</td>\n",
       "      <td>Net Amount</td>\n",
       "    </tr>\n",
       "    <tr>\n",
       "      <th>3</th>\n",
       "      <td>Discount Per</td>\n",
       "      <td>None</td>\n",
       "      <td>Discount Amount</td>\n",
       "    </tr>\n",
       "    <tr>\n",
       "      <th>2</th>\n",
       "      <td>Amount</td>\n",
       "      <td>Quantity*Rate</td>\n",
       "      <td>Discount Amount</td>\n",
       "    </tr>\n",
       "    <tr>\n",
       "      <th>1</th>\n",
       "      <td>Quantity</td>\n",
       "      <td>None</td>\n",
       "      <td>Amount</td>\n",
       "    </tr>\n",
       "    <tr>\n",
       "      <th>0</th>\n",
       "      <td>Rate</td>\n",
       "      <td>None</td>\n",
       "      <td>Amount</td>\n",
       "    </tr>\n",
       "  </tbody>\n",
       "</table>\n",
       "</div>"
      ],
      "text/plain": [
       "       input_nodes                 formula    derived_nodes\n",
       "7       Net Amount  Amount-Discount Amount            Total\n",
       "6              Tax                    None            Total\n",
       "5           Amount           Quantity*Rate       Net Amount\n",
       "4  Discount Amount     Discount Per*Amount       Net Amount\n",
       "3     Discount Per                    None  Discount Amount\n",
       "2           Amount           Quantity*Rate  Discount Amount\n",
       "1         Quantity                    None           Amount\n",
       "0             Rate                    None           Amount"
      ]
     },
     "execution_count": 8,
     "metadata": {},
     "output_type": "execute_result"
    }
   ],
   "source": [
    "df1"
   ]
  },
  {
   "cell_type": "code",
   "execution_count": 14,
   "id": "959d8199",
   "metadata": {
    "ExecuteTime": {
     "end_time": "2021-06-01T03:38:24.590681Z",
     "start_time": "2021-06-01T03:38:24.566114Z"
    }
   },
   "outputs": [],
   "source": [
    "def DeriveNodes(relation,Nodes):\n",
    "    derives = []\n",
    "    for l in relationship:\n",
    "        for k in Nodes:\n",
    "            if l.\n",
    "            \n",
    "              \n",
    "    return derives\n",
    " \n",
    "def SeqDerived(dataframe):\n",
    "    From = [x for x,y,v in zip(dataframe['input_nodes'],dataframe['formula'],dataframe['derived_nodes']) if y == None]\n",
    "    To = [v for x,y,v in zip(dataframe['input_nodes'],dataframe['formula'],dataframe['derived_nodes'])]\n",
    "    relationship = [{x:y} for x,y in zip(dataframe['input_nodes'],dataframe['derived_nodes'])]\n",
    "    Input = [x for x in From if x not in To]\n",
    "    \n",
    "    derList = deepcopy(Input)\n",
    "    while len(Input) != 0:  \n",
    "        Input = DeriveNodes(relation=relationship,Nodes=Input)\n",
    "        derList += Input\n",
    "\n",
    "    deriveOrdered = [derList[x] for x in range(len(derList)) if derList[x] not in derList[x+1:] and derList[x] not in From]\n",
    "    return deriveOrdered"
   ]
  },
  {
   "cell_type": "code",
   "execution_count": 15,
   "id": "0bd30348",
   "metadata": {
    "ExecuteTime": {
     "end_time": "2021-06-01T03:38:25.180359Z",
     "start_time": "2021-06-01T03:38:25.164380Z"
    }
   },
   "outputs": [
    {
     "name": "stdout",
     "output_type": "stream",
     "text": [
      "no adjacent nodes 'Tax'\n",
      "no adjacent nodes 'Discount Per'\n",
      "no adjacent nodes 'Quantity'\n",
      "no adjacent nodes 'Tax'\n",
      "no adjacent nodes 'Discount Per'\n",
      "no adjacent nodes 'Rate'\n",
      "no adjacent nodes 'Tax'\n",
      "no adjacent nodes 'Discount Per'\n",
      "no adjacent nodes 'Quantity'\n",
      "no adjacent nodes 'Rate'\n",
      "no adjacent nodes 'Tax'\n",
      "no adjacent nodes 'Quantity'\n",
      "no adjacent nodes 'Rate'\n",
      "no adjacent nodes 'Tax'\n",
      "no adjacent nodes 'Discount Per'\n",
      "no adjacent nodes 'Quantity'\n",
      "no adjacent nodes 'Rate'\n",
      "no adjacent nodes 'Tax'\n",
      "no adjacent nodes 'Discount Per'\n",
      "no adjacent nodes 'Quantity'\n",
      "no adjacent nodes 'Rate'\n",
      "no adjacent nodes 'Discount Per'\n",
      "no adjacent nodes 'Quantity'\n",
      "no adjacent nodes 'Rate'\n",
      "no adjacent nodes 'Tax'\n",
      "no adjacent nodes 'Discount Per'\n",
      "no adjacent nodes 'Quantity'\n",
      "no adjacent nodes 'Rate'\n",
      "no adjacent nodes 'Amount'\n",
      "no adjacent nodes 'Amount'\n",
      "no adjacent nodes 'Discount Amount'\n",
      "no adjacent nodes 'Total'\n",
      "no adjacent nodes 'Amount'\n",
      "no adjacent nodes 'Amount'\n",
      "no adjacent nodes 'Discount Amount'\n",
      "no adjacent nodes 'Total'\n",
      "no adjacent nodes 'Discount Amount'\n",
      "no adjacent nodes 'Total'\n",
      "no adjacent nodes 'Amount'\n",
      "no adjacent nodes 'Amount'\n",
      "no adjacent nodes 'Discount Amount'\n",
      "no adjacent nodes 'Total'\n",
      "no adjacent nodes 'Amount'\n",
      "no adjacent nodes 'Amount'\n",
      "no adjacent nodes 'Total'\n",
      "no adjacent nodes 'Discount Amount'\n",
      "no adjacent nodes 'Total'\n",
      "no adjacent nodes 'Amount'\n",
      "no adjacent nodes 'Amount'\n",
      "no adjacent nodes 'Discount Amount'\n",
      "no adjacent nodes 'Total'\n",
      "no adjacent nodes 'Amount'\n",
      "no adjacent nodes 'Amount'\n",
      "no adjacent nodes 'Discount Amount'\n",
      "no adjacent nodes 'Total'\n",
      "no adjacent nodes 'Discount Amount'\n",
      "no adjacent nodes 'Discount Amount'\n",
      "no adjacent nodes 'Net Amount'\n",
      "no adjacent nodes 'Net Amount'\n",
      "no adjacent nodes 'Net Amount'\n",
      "no adjacent nodes 'Discount Amount'\n",
      "no adjacent nodes 'Discount Amount'\n",
      "no adjacent nodes 'Net Amount'\n",
      "no adjacent nodes 'Net Amount'\n",
      "no adjacent nodes 'Net Amount'\n",
      "no adjacent nodes 'Discount Amount'\n",
      "no adjacent nodes 'Discount Amount'\n",
      "no adjacent nodes 'Net Amount'\n",
      "no adjacent nodes 'Net Amount'\n",
      "no adjacent nodes 'Net Amount'\n",
      "no adjacent nodes 'Discount Amount'\n",
      "no adjacent nodes 'Discount Amount'\n",
      "no adjacent nodes 'Net Amount'\n",
      "no adjacent nodes 'Net Amount'\n",
      "no adjacent nodes 'Net Amount'\n",
      "no adjacent nodes 'Net Amount'\n",
      "no adjacent nodes 'Net Amount'\n",
      "no adjacent nodes 'Net Amount'\n",
      "no adjacent nodes 'Discount Amount'\n",
      "no adjacent nodes 'Discount Amount'\n",
      "no adjacent nodes 'Net Amount'\n",
      "no adjacent nodes 'Net Amount'\n",
      "no adjacent nodes 'Net Amount'\n",
      "no adjacent nodes 'Discount Amount'\n",
      "no adjacent nodes 'Discount Amount'\n",
      "no adjacent nodes 'Net Amount'\n",
      "no adjacent nodes 'Net Amount'\n",
      "no adjacent nodes 'Net Amount'\n",
      "no adjacent nodes 'Discount Amount'\n",
      "no adjacent nodes 'Discount Amount'\n",
      "no adjacent nodes 'Net Amount'\n",
      "no adjacent nodes 'Net Amount'\n",
      "no adjacent nodes 'Total'\n",
      "no adjacent nodes 'Total'\n",
      "no adjacent nodes 'Total'\n",
      "no adjacent nodes 'Net Amount'\n",
      "no adjacent nodes 'Net Amount'\n",
      "no adjacent nodes 'Total'\n",
      "no adjacent nodes 'Total'\n",
      "no adjacent nodes 'Total'\n",
      "no adjacent nodes 'Net Amount'\n",
      "no adjacent nodes 'Net Amount'\n",
      "no adjacent nodes 'Total'\n",
      "no adjacent nodes 'Total'\n",
      "no adjacent nodes 'Total'\n",
      "no adjacent nodes 'Net Amount'\n",
      "no adjacent nodes 'Net Amount'\n",
      "no adjacent nodes 'Total'\n",
      "no adjacent nodes 'Total'\n",
      "no adjacent nodes 'Total'\n",
      "no adjacent nodes 'Net Amount'\n",
      "no adjacent nodes 'Net Amount'\n",
      "no adjacent nodes 'Total'\n",
      "no adjacent nodes 'Total'\n",
      "no adjacent nodes 'Total'\n",
      "no adjacent nodes 'Net Amount'\n",
      "no adjacent nodes 'Net Amount'\n",
      "no adjacent nodes 'Total'\n",
      "no adjacent nodes 'Total'\n",
      "no adjacent nodes 'Total'\n",
      "no adjacent nodes 'Net Amount'\n",
      "no adjacent nodes 'Net Amount'\n",
      "no adjacent nodes 'Total'\n",
      "no adjacent nodes 'Total'\n",
      "no adjacent nodes 'Total'\n",
      "no adjacent nodes 'Total'\n",
      "no adjacent nodes 'Total'\n",
      "no adjacent nodes 'Total'\n",
      "no adjacent nodes 'Total'\n",
      "no adjacent nodes 'Total'\n",
      "no adjacent nodes 'Total'\n",
      "no adjacent nodes 'Total'\n",
      "no adjacent nodes 'Total'\n",
      "no adjacent nodes 'Total'\n",
      "no adjacent nodes 'Total'\n",
      "no adjacent nodes 'Total'\n",
      "no adjacent nodes 'Total'\n",
      "no adjacent nodes 'Total'\n",
      "no adjacent nodes 'Total'\n",
      "no adjacent nodes 'Total'\n",
      "no adjacent nodes 'Total'\n",
      "no adjacent nodes 'Total'\n",
      "no adjacent nodes 'Total'\n",
      "no adjacent nodes 'Total'\n"
     ]
    },
    {
     "data": {
      "text/plain": [
       "['Amount', 'Discount Amount', 'Net Amount', 'Total']"
      ]
     },
     "execution_count": 15,
     "metadata": {},
     "output_type": "execute_result"
    }
   ],
   "source": [
    "SeqDerived(dataframe=df1)"
   ]
  },
  {
   "cell_type": "code",
   "execution_count": 47,
   "id": "fe365557",
   "metadata": {
    "ExecuteTime": {
     "end_time": "2021-05-29T13:11:40.863552Z",
     "start_time": "2021-05-29T13:11:40.849421Z"
    }
   },
   "outputs": [],
   "source": [
    "list1a = ['apple','mango','orange']\n",
    "list2a = deepcopy(list1a)\n"
   ]
  },
  {
   "cell_type": "code",
   "execution_count": 48,
   "id": "1f9c74a8",
   "metadata": {
    "ExecuteTime": {
     "end_time": "2021-05-29T13:11:45.961941Z",
     "start_time": "2021-05-29T13:11:45.954422Z"
    }
   },
   "outputs": [],
   "source": [
    "list2a.append(\"papaya\")"
   ]
  },
  {
   "cell_type": "code",
   "execution_count": 49,
   "id": "a73c7f66",
   "metadata": {
    "ExecuteTime": {
     "end_time": "2021-05-29T13:11:49.971310Z",
     "start_time": "2021-05-29T13:11:49.961217Z"
    }
   },
   "outputs": [
    {
     "data": {
      "text/plain": [
       "['apple', 'mango', 'orange', 'papaya']"
      ]
     },
     "execution_count": 49,
     "metadata": {},
     "output_type": "execute_result"
    }
   ],
   "source": [
    "list2a"
   ]
  },
  {
   "cell_type": "code",
   "execution_count": 50,
   "id": "0bc302aa",
   "metadata": {
    "ExecuteTime": {
     "end_time": "2021-05-29T13:11:53.226995Z",
     "start_time": "2021-05-29T13:11:53.208915Z"
    }
   },
   "outputs": [
    {
     "data": {
      "text/plain": [
       "['apple', 'mango', 'orange']"
      ]
     },
     "execution_count": 50,
     "metadata": {},
     "output_type": "execute_result"
    }
   ],
   "source": [
    "list1a"
   ]
  },
  {
   "cell_type": "code",
   "execution_count": 36,
   "id": "1b2b4839",
   "metadata": {
    "ExecuteTime": {
     "end_time": "2021-05-29T12:58:24.309817Z",
     "start_time": "2021-05-29T12:58:24.292688Z"
    }
   },
   "outputs": [],
   "source": [
    "To = [y for x,y,v in zip(df['input_nodes'],df['formula'],df['derived_nodes'])]"
   ]
  },
  {
   "cell_type": "code",
   "execution_count": 37,
   "id": "b8e0cbe2",
   "metadata": {
    "ExecuteTime": {
     "end_time": "2021-05-29T12:58:31.208746Z",
     "start_time": "2021-05-29T12:58:31.187575Z"
    }
   },
   "outputs": [
    {
     "data": {
      "text/plain": [
       "[None, None, 'Rate*Quantity', None, 'Discount Per*Amount', 'Rate*Quantity']"
      ]
     },
     "execution_count": 37,
     "metadata": {},
     "output_type": "execute_result"
    }
   ],
   "source": [
    "To"
   ]
  },
  {
   "cell_type": "code",
   "execution_count": 30,
   "id": "c3aaa8ba",
   "metadata": {
    "ExecuteTime": {
     "end_time": "2021-05-29T11:44:23.473790Z",
     "start_time": "2021-05-29T11:44:23.440787Z"
    }
   },
   "outputs": [
    {
     "name": "stdout",
     "output_type": "stream",
     "text": [
      "no adjacent nodes 'Rate'\n",
      "no adjacent nodes 'Discount Per'\n",
      "no adjacent nodes 'Quantity'\n",
      "no adjacent nodes 'Discount Per'\n",
      "no adjacent nodes 'Quantity'\n",
      "no adjacent nodes 'Rate'\n",
      "no adjacent nodes 'Discount Per'\n",
      "no adjacent nodes 'Quantity'\n",
      "no adjacent nodes 'Rate'\n",
      "no adjacent nodes 'Quantity'\n",
      "no adjacent nodes 'Rate'\n",
      "no adjacent nodes 'Discount Per'\n",
      "no adjacent nodes 'Quantity'\n",
      "no adjacent nodes 'Rate'\n",
      "no adjacent nodes 'Discount Per'\n",
      "no adjacent nodes 'Amount'\n",
      "no adjacent nodes 'Amount'\n",
      "no adjacent nodes 'Discount Amount'\n",
      "no adjacent nodes 'Amount'\n",
      "no adjacent nodes 'Amount'\n",
      "no adjacent nodes 'Discount Amount'\n",
      "no adjacent nodes 'Discount Amount'\n",
      "no adjacent nodes 'Amount'\n",
      "no adjacent nodes 'Amount'\n",
      "no adjacent nodes 'Discount Amount'\n",
      "no adjacent nodes 'Amount'\n",
      "no adjacent nodes 'Amount'\n",
      "no adjacent nodes 'Discount Amount'\n",
      "no adjacent nodes 'Discount Amount'\n",
      "no adjacent nodes 'Discount Amount'\n",
      "no adjacent nodes 'Net Amount'\n",
      "no adjacent nodes 'Net Amount'\n",
      "no adjacent nodes 'Net Amount'\n",
      "no adjacent nodes 'Discount Amount'\n",
      "no adjacent nodes 'Discount Amount'\n",
      "no adjacent nodes 'Net Amount'\n",
      "no adjacent nodes 'Net Amount'\n",
      "no adjacent nodes 'Net Amount'\n",
      "no adjacent nodes 'Discount Amount'\n",
      "no adjacent nodes 'Discount Amount'\n",
      "no adjacent nodes 'Net Amount'\n",
      "no adjacent nodes 'Net Amount'\n",
      "no adjacent nodes 'Net Amount'\n",
      "no adjacent nodes 'Discount Amount'\n",
      "no adjacent nodes 'Discount Amount'\n",
      "no adjacent nodes 'Net Amount'\n",
      "no adjacent nodes 'Net Amount'\n",
      "no adjacent nodes 'Net Amount'\n",
      "no adjacent nodes 'Net Amount'\n",
      "no adjacent nodes 'Net Amount'\n",
      "no adjacent nodes 'Net Amount'\n",
      "no adjacent nodes 'Discount Amount'\n",
      "no adjacent nodes 'Discount Amount'\n",
      "no adjacent nodes 'Net Amount'\n",
      "no adjacent nodes 'Net Amount'\n",
      "no adjacent nodes 'Net Amount'\n",
      "no adjacent nodes 'Net Amount'\n",
      "no adjacent nodes 'Net Amount'\n",
      "no adjacent nodes 'Net Amount'\n",
      "no adjacent nodes 'Net Amount'\n",
      "no adjacent nodes 'Net Amount'\n",
      "no adjacent nodes 'Net Amount'\n",
      "no adjacent nodes 'Net Amount'\n",
      "no adjacent nodes 'Net Amount'\n",
      "no adjacent nodes 'Net Amount'\n",
      "no adjacent nodes 'Net Amount'\n",
      "no adjacent nodes 'Net Amount'\n",
      "no adjacent nodes 'Net Amount'\n"
     ]
    },
    {
     "data": {
      "text/plain": [
       "['Quantity', 'Rate', 'Discount Per', 'Amount', 'Discount Amount', 'Net Amount']"
      ]
     },
     "execution_count": 30,
     "metadata": {},
     "output_type": "execute_result"
    }
   ],
   "source": [
    "SeqDerived(dataframe=df)"
   ]
  },
  {
   "cell_type": "code",
   "execution_count": 61,
   "id": "f67ab120",
   "metadata": {
    "ExecuteTime": {
     "end_time": "2021-05-30T13:10:00.235117Z",
     "start_time": "2021-05-30T13:10:00.210116Z"
    }
   },
   "outputs": [
    {
     "ename": "KeyError",
     "evalue": "'Quantity'",
     "output_type": "error",
     "traceback": [
      "\u001b[1;31m---------------------------------------------------------------------------\u001b[0m",
      "\u001b[1;31mKeyError\u001b[0m                                  Traceback (most recent call last)",
      "\u001b[1;32m<ipython-input-61-0429a1bec0a9>\u001b[0m in \u001b[0;36m<module>\u001b[1;34m\u001b[0m\n\u001b[1;32m----> 1\u001b[1;33m \u001b[0mrelation\u001b[0m\u001b[1;33m[\u001b[0m\u001b[1;36m0\u001b[0m\u001b[1;33m]\u001b[0m\u001b[1;33m[\u001b[0m\u001b[1;34m'Quantity'\u001b[0m\u001b[1;33m]\u001b[0m\u001b[1;33m\u001b[0m\u001b[1;33m\u001b[0m\u001b[0m\n\u001b[0m",
      "\u001b[1;31mKeyError\u001b[0m: 'Quantity'"
     ]
    }
   ],
   "source": [
    "relation[0]['Quantity']"
   ]
  },
  {
   "cell_type": "code",
   "execution_count": 10,
   "id": "2919fbb5",
   "metadata": {
    "ExecuteTime": {
     "end_time": "2021-06-01T03:35:14.808151Z",
     "start_time": "2021-06-01T03:35:14.787275Z"
    }
   },
   "outputs": [
    {
     "name": "stdout",
     "output_type": "stream",
     "text": [
      "['Rate', 'Quantity', 'Discount Per', 'Tax']\n",
      "['Amount', 'Amount', 'Discount Amount', 'Discount Amount', 'Net Amount', 'Net Amount', 'Total', 'Total']\n",
      "[{'Rate': 'Amount'}, {'Quantity': 'Amount'}, {'Amount': 'Discount Amount'}, {'Discount Per': 'Discount Amount'}, {'Discount Amount': 'Net Amount'}, {'Amount': 'Net Amount'}, {'Tax': 'Total'}, {'Net Amount': 'Total'}]\n",
      "['Rate', 'Quantity', 'Discount Per', 'Tax']\n"
     ]
    }
   ],
   "source": [
    "From = [x for x,y,v in zip(df['input_nodes'],df['formula'],df['derived_nodes']) if y == None]\n",
    "To = [y for x,y,v in zip(df['input_nodes'],df['derived_nodes'],df['formula'])]\n",
    "relationship = [{x:y} for x,y in zip(df['input_nodes'],df['derived_nodes'])]\n",
    "Input = [x for x in From if x not in To]\n",
    "print(From)\n",
    "print(To)\n",
    "print(relationship)\n",
    "print(Input)"
   ]
  },
  {
   "cell_type": "code",
   "execution_count": 17,
   "id": "8ca8de6a",
   "metadata": {
    "ExecuteTime": {
     "end_time": "2021-05-29T09:44:09.107770Z",
     "start_time": "2021-05-29T09:44:09.098851Z"
    }
   },
   "outputs": [
    {
     "data": {
      "text/plain": [
       "['Quantity', 'Rate', 'Discount Per']"
      ]
     },
     "execution_count": 17,
     "metadata": {},
     "output_type": "execute_result"
    }
   ],
   "source": [
    "InpNodes = deepcopy(Input)\n",
    "InpNodes"
   ]
  },
  {
   "cell_type": "code",
   "execution_count": 18,
   "id": "85927923",
   "metadata": {
    "ExecuteTime": {
     "end_time": "2021-05-29T09:44:53.514918Z",
     "start_time": "2021-05-29T09:44:53.500267Z"
    }
   },
   "outputs": [
    {
     "name": "stdout",
     "output_type": "stream",
     "text": [
      "0 Quantity\n",
      "1 Rate\n",
      "2 Discount Per\n"
     ]
    }
   ],
   "source": [
    "for l,k in enumerate(Input):\n",
    "    print(l,k)"
   ]
  },
  {
   "cell_type": "code",
   "execution_count": 61,
   "id": "86afab40",
   "metadata": {
    "ExecuteTime": {
     "end_time": "2021-05-29T10:18:43.011336Z",
     "start_time": "2021-05-29T10:18:42.994307Z"
    }
   },
   "outputs": [
    {
     "name": "stdout",
     "output_type": "stream",
     "text": [
      "no adjacent nodes 'Discount Per'\n"
     ]
    }
   ],
   "source": [
    "adj = []\n",
    "for l,k in enumerate(Input):\n",
    "    try:\n",
    "        adj.append(relationship[l][k])\n",
    "    except KeyError:\n",
    "        print(\"no adjacent nodes '%s'\"%k)\n",
    "        continue"
   ]
  },
  {
   "cell_type": "code",
   "execution_count": 62,
   "id": "fca2608d",
   "metadata": {
    "ExecuteTime": {
     "end_time": "2021-05-29T10:18:46.747751Z",
     "start_time": "2021-05-29T10:18:46.729750Z"
    }
   },
   "outputs": [
    {
     "data": {
      "text/plain": [
       "['Amount', 'Amount']"
      ]
     },
     "execution_count": 62,
     "metadata": {},
     "output_type": "execute_result"
    }
   ],
   "source": [
    "adj"
   ]
  },
  {
   "cell_type": "code",
   "execution_count": 64,
   "id": "1e69e39f",
   "metadata": {
    "ExecuteTime": {
     "end_time": "2021-05-29T10:20:01.843053Z",
     "start_time": "2021-05-29T10:20:01.834018Z"
    }
   },
   "outputs": [],
   "source": [
    "derive = []\n",
    "for i in adj:\n",
    "    derive.append(i)"
   ]
  },
  {
   "cell_type": "code",
   "execution_count": 65,
   "id": "e7291fce",
   "metadata": {
    "ExecuteTime": {
     "end_time": "2021-05-29T10:20:12.285674Z",
     "start_time": "2021-05-29T10:20:12.265703Z"
    }
   },
   "outputs": [
    {
     "data": {
      "text/plain": [
       "['Amount', 'Amount']"
      ]
     },
     "execution_count": 65,
     "metadata": {},
     "output_type": "execute_result"
    }
   ],
   "source": [
    "derive"
   ]
  },
  {
   "cell_type": "code",
   "execution_count": 22,
   "id": "56eb34dc",
   "metadata": {
    "ExecuteTime": {
     "end_time": "2021-05-29T11:38:36.415255Z",
     "start_time": "2021-05-29T11:38:36.402252Z"
    }
   },
   "outputs": [
    {
     "data": {
      "text/plain": [
       "['Amount',\n",
       " 'Amount',\n",
       " 'Discount Amount',\n",
       " 'Discount Amount',\n",
       " 'Net Amount',\n",
       " 'Net Amount']"
      ]
     },
     "execution_count": 22,
     "metadata": {},
     "output_type": "execute_result"
    }
   ],
   "source": [
    "To"
   ]
  },
  {
   "cell_type": "code",
   "execution_count": null,
   "id": "53a1b56b",
   "metadata": {},
   "outputs": [],
   "source": []
  },
  {
   "cell_type": "code",
   "execution_count": 11,
   "id": "3d101024",
   "metadata": {
    "ExecuteTime": {
     "end_time": "2021-05-29T09:37:41.842230Z",
     "start_time": "2021-05-29T09:37:41.803331Z"
    }
   },
   "outputs": [
    {
     "name": "stdout",
     "output_type": "stream",
     "text": [
      "no adjacent nodes Discount Per\n",
      "no adjacent nodes A\n",
      "no adjacent nodes m\n",
      "no adjacent nodes o\n",
      "no adjacent nodes u\n",
      "no adjacent nodes n\n",
      "no adjacent nodes t\n"
     ]
    },
    {
     "ename": "IndexError",
     "evalue": "list index out of range",
     "output_type": "error",
     "traceback": [
      "\u001b[1;31m---------------------------------------------------------------------------\u001b[0m",
      "\u001b[1;31mIndexError\u001b[0m                                Traceback (most recent call last)",
      "\u001b[1;32m<ipython-input-11-1ea34990872c>\u001b[0m in \u001b[0;36m<module>\u001b[1;34m\u001b[0m\n\u001b[1;32m----> 1\u001b[1;33m \u001b[0mSeqDerived\u001b[0m\u001b[1;33m(\u001b[0m\u001b[0mdataframe\u001b[0m\u001b[1;33m=\u001b[0m\u001b[0mdf\u001b[0m\u001b[1;33m)\u001b[0m\u001b[1;33m\u001b[0m\u001b[1;33m\u001b[0m\u001b[0m\n\u001b[0m",
      "\u001b[1;32m<ipython-input-4-016b6530e959>\u001b[0m in \u001b[0;36mSeqDerived\u001b[1;34m(dataframe)\u001b[0m\n\u001b[0;32m     19\u001b[0m     \u001b[0mInpNodes\u001b[0m \u001b[1;33m=\u001b[0m \u001b[0mdeepcopy\u001b[0m\u001b[1;33m(\u001b[0m\u001b[0mInput\u001b[0m\u001b[1;33m)\u001b[0m\u001b[1;33m\u001b[0m\u001b[1;33m\u001b[0m\u001b[0m\n\u001b[0;32m     20\u001b[0m     \u001b[1;32mwhile\u001b[0m \u001b[0mlen\u001b[0m\u001b[1;33m(\u001b[0m\u001b[0mInput\u001b[0m\u001b[1;33m)\u001b[0m \u001b[1;33m!=\u001b[0m \u001b[1;36m0\u001b[0m\u001b[1;33m:\u001b[0m\u001b[1;33m\u001b[0m\u001b[1;33m\u001b[0m\u001b[0m\n\u001b[1;32m---> 21\u001b[1;33m         \u001b[0mInput\u001b[0m \u001b[1;33m=\u001b[0m \u001b[0mDeriveNodes\u001b[0m\u001b[1;33m(\u001b[0m\u001b[0mrelation\u001b[0m\u001b[1;33m=\u001b[0m\u001b[0mrelationship\u001b[0m\u001b[1;33m,\u001b[0m\u001b[0mNodes\u001b[0m\u001b[1;33m=\u001b[0m\u001b[0mInput\u001b[0m\u001b[1;33m)\u001b[0m\u001b[1;33m\u001b[0m\u001b[1;33m\u001b[0m\u001b[0m\n\u001b[0m\u001b[0;32m     22\u001b[0m         \u001b[0mInpNodes\u001b[0m \u001b[1;33m+=\u001b[0m \u001b[0mInput\u001b[0m\u001b[1;33m\u001b[0m\u001b[1;33m\u001b[0m\u001b[0m\n\u001b[0;32m     23\u001b[0m \u001b[1;33m\u001b[0m\u001b[0m\n",
      "\u001b[1;32m<ipython-input-4-016b6530e959>\u001b[0m in \u001b[0;36mDeriveNodes\u001b[1;34m(relation, Nodes)\u001b[0m\n\u001b[0;32m      3\u001b[0m     \u001b[1;32mfor\u001b[0m \u001b[0ml\u001b[0m\u001b[1;33m,\u001b[0m\u001b[0mk\u001b[0m \u001b[1;32min\u001b[0m \u001b[0menumerate\u001b[0m\u001b[1;33m(\u001b[0m\u001b[0mNodes\u001b[0m\u001b[1;33m)\u001b[0m\u001b[1;33m:\u001b[0m\u001b[1;33m\u001b[0m\u001b[1;33m\u001b[0m\u001b[0m\n\u001b[0;32m      4\u001b[0m         \u001b[1;32mtry\u001b[0m\u001b[1;33m:\u001b[0m\u001b[1;33m\u001b[0m\u001b[1;33m\u001b[0m\u001b[0m\n\u001b[1;32m----> 5\u001b[1;33m             \u001b[0madj\u001b[0m \u001b[1;33m=\u001b[0m \u001b[0mlist\u001b[0m\u001b[1;33m(\u001b[0m\u001b[0mrelationship\u001b[0m\u001b[1;33m[\u001b[0m\u001b[0ml\u001b[0m\u001b[1;33m]\u001b[0m\u001b[1;33m[\u001b[0m\u001b[0mk\u001b[0m\u001b[1;33m]\u001b[0m\u001b[1;33m)\u001b[0m\u001b[1;33m\u001b[0m\u001b[1;33m\u001b[0m\u001b[0m\n\u001b[0m\u001b[0;32m      6\u001b[0m         \u001b[1;32mexcept\u001b[0m \u001b[0mKeyError\u001b[0m\u001b[1;33m:\u001b[0m\u001b[1;33m\u001b[0m\u001b[1;33m\u001b[0m\u001b[0m\n\u001b[0;32m      7\u001b[0m             \u001b[0mprint\u001b[0m\u001b[1;33m(\u001b[0m\u001b[1;34m\"no adjacent nodes\"\u001b[0m\u001b[1;33m,\u001b[0m\u001b[0mk\u001b[0m\u001b[1;33m)\u001b[0m\u001b[1;33m\u001b[0m\u001b[1;33m\u001b[0m\u001b[0m\n",
      "\u001b[1;31mIndexError\u001b[0m: list index out of range"
     ]
    }
   ],
   "source": [
    "SeqDerived(dataframe=df)"
   ]
  },
  {
   "cell_type": "code",
   "execution_count": 18,
   "id": "f589824e",
   "metadata": {
    "ExecuteTime": {
     "end_time": "2021-05-29T11:08:43.593285Z",
     "start_time": "2021-05-29T11:08:43.569287Z"
    }
   },
   "outputs": [
    {
     "ename": "TypeError",
     "evalue": "list indices must be integers or slices, not str",
     "output_type": "error",
     "traceback": [
      "\u001b[1;31m---------------------------------------------------------------------------\u001b[0m",
      "\u001b[1;31mTypeError\u001b[0m                                 Traceback (most recent call last)",
      "\u001b[1;32m<ipython-input-18-ff13d0e0ea0e>\u001b[0m in \u001b[0;36m<module>\u001b[1;34m\u001b[0m\n\u001b[1;32m----> 1\u001b[1;33m \u001b[0mrelationship\u001b[0m\u001b[1;33m[\u001b[0m\u001b[1;34m'Amount'\u001b[0m\u001b[1;33m]\u001b[0m\u001b[1;33m.\u001b[0m\u001b[0mvalues\u001b[0m\u001b[1;33m(\u001b[0m\u001b[1;33m)\u001b[0m\u001b[1;33m\u001b[0m\u001b[1;33m\u001b[0m\u001b[0m\n\u001b[0m",
      "\u001b[1;31mTypeError\u001b[0m: list indices must be integers or slices, not str"
     ]
    }
   ],
   "source": [
    "relationship['Amount'].values()"
   ]
  },
  {
   "cell_type": "code",
   "execution_count": 6,
   "id": "90ed7578",
   "metadata": {
    "ExecuteTime": {
     "end_time": "2021-05-31T10:45:43.833966Z",
     "start_time": "2021-05-31T10:45:43.829722Z"
    }
   },
   "outputs": [],
   "source": [
    "relations = [(x,y) for x,y in zip(df['input_nodes'],df['derived_nodes'])]\n",
    "relationship = [{x:y} for x,y in zip(df['input_nodes'],df['derived_nodes'])]\n",
    "formulas = [{x:y} for x,y in zip(df['input_nodes'],df['formula'])]"
   ]
  },
  {
   "cell_type": "code",
   "execution_count": 19,
   "id": "0a672a46",
   "metadata": {
    "ExecuteTime": {
     "end_time": "2021-05-28T17:20:53.568390Z",
     "start_time": "2021-05-28T17:20:53.560371Z"
    }
   },
   "outputs": [
    {
     "data": {
      "text/plain": [
       "[{'Quantity': None},\n",
       " {'Rate': None},\n",
       " {'Amount': 'Rate*Quantity'},\n",
       " {'Discount Per': None},\n",
       " {'Discount Amount': 'Discount Per*Amount'},\n",
       " {'Amount': 'Rate*Quantity'}]"
      ]
     },
     "execution_count": 19,
     "metadata": {},
     "output_type": "execute_result"
    }
   ],
   "source": [
    "formulas"
   ]
  },
  {
   "cell_type": "code",
   "execution_count": 14,
   "id": "ddd93a6f",
   "metadata": {
    "ExecuteTime": {
     "end_time": "2021-05-29T11:01:15.769740Z",
     "start_time": "2021-05-29T11:01:15.752739Z"
    }
   },
   "outputs": [
    {
     "data": {
      "text/plain": [
       "[{'Quantity': 'Amount'},\n",
       " {'Rate': 'Amount'},\n",
       " {'Amount': 'Discount Amount'},\n",
       " {'Discount Per': 'Discount Amount'},\n",
       " {'Discount Amount': 'Net Amount'},\n",
       " {'Amount': 'Net Amount'}]"
      ]
     },
     "execution_count": 14,
     "metadata": {},
     "output_type": "execute_result"
    }
   ],
   "source": [
    "relationship"
   ]
  },
  {
   "cell_type": "code",
   "execution_count": 78,
   "id": "2a8cf021",
   "metadata": {
    "ExecuteTime": {
     "end_time": "2021-05-28T08:47:04.853128Z",
     "start_time": "2021-05-28T08:47:04.836953Z"
    }
   },
   "outputs": [
    {
     "data": {
      "text/plain": [
       "['Rate', 'Quantity', 'Discount Per']"
      ]
     },
     "execution_count": 78,
     "metadata": {},
     "output_type": "execute_result"
    }
   ],
   "source": [
    "[(a,b),(a1,d),(b,c),(b,e),(d,e),(c,d),(d,e)]"
   ]
  },
  {
   "cell_type": "code",
   "execution_count": 39,
   "id": "obvious-configuration",
   "metadata": {
    "ExecuteTime": {
     "end_time": "2021-05-27T17:07:38.338724Z",
     "start_time": "2021-05-27T17:07:38.321048Z"
    }
   },
   "outputs": [],
   "source": [
    "def FinalNodes(dataframe):\n",
    "    derives = []\n",
    "    for name in dataframe['name']:\n",
    "        for derivedNodes in dataframe['derived_nodes']:\n",
    "            if name == derivedNodes:\n",
    "                derives.append(derivedNodes)\n",
    "    \n",
    "    print(derives)\n",
    "    deriveList = [derives[x] for x in range(len(derives)) if derives[x] not in derives[x+1:]]\n",
    "    return deriveList"
   ]
  },
  {
   "cell_type": "code",
   "execution_count": 41,
   "id": "foster-terrorist",
   "metadata": {
    "ExecuteTime": {
     "end_time": "2021-05-27T17:07:56.371525Z",
     "start_time": "2021-05-27T17:07:56.354083Z"
    }
   },
   "outputs": [
    {
     "name": "stdout",
     "output_type": "stream",
     "text": [
      "['Amount', 'Amount', 'Discount Amount', 'Discount Amount', 'Net Amount', 'Net Amount']\n"
     ]
    },
    {
     "data": {
      "text/plain": [
       "['Amount', 'Discount Amount', 'Net Amount']"
      ]
     },
     "execution_count": 41,
     "metadata": {},
     "output_type": "execute_result"
    }
   ],
   "source": [
    "FinalNodes(dataframe=df)"
   ]
  },
  {
   "cell_type": "code",
   "execution_count": null,
   "id": "74ce4bf6",
   "metadata": {},
   "outputs": [],
   "source": [
    "def DeriveNodes(graph,nodes):\n",
    "    From = [x for x,y in zip(df['input_nodes'],df['derived_nodes']) if y == None]\n",
    "    relation = [{x:y} for x,y in zip(df['input_nodes'],df['derived_nodes'])]\n",
    "    while len(From) <6:\n",
    "        for i in From:\n",
    "            for j,k in enumerate(relation):\n",
    "                if k.\n",
    "                "
   ]
  },
  {
   "cell_type": "code",
   "execution_count": 7,
   "id": "dfd8be8e",
   "metadata": {
    "ExecuteTime": {
     "end_time": "2021-05-31T10:45:50.510970Z",
     "start_time": "2021-05-31T10:45:50.501641Z"
    }
   },
   "outputs": [],
   "source": [
    "relation = [{x:y} for x,y in zip(df['input_nodes'],df['derived_nodes'])]"
   ]
  },
  {
   "cell_type": "code",
   "execution_count": 8,
   "id": "b47c1f74",
   "metadata": {
    "ExecuteTime": {
     "end_time": "2021-05-31T10:45:51.250598Z",
     "start_time": "2021-05-31T10:45:51.237180Z"
    }
   },
   "outputs": [
    {
     "data": {
      "text/plain": [
       "[{'Rate': 'Amount'},\n",
       " {'Quantity': 'Amount'},\n",
       " {'Amount': 'Discount Amount'},\n",
       " {'Discount Per': 'Discount Amount'},\n",
       " {'Discount Amount': 'Net Amount'},\n",
       " {'Amount': 'Net Amount'},\n",
       " {'Tax': 'Total'},\n",
       " {'Net Amount': 'Total'}]"
      ]
     },
     "execution_count": 8,
     "metadata": {},
     "output_type": "execute_result"
    }
   ],
   "source": [
    "relation"
   ]
  },
  {
   "cell_type": "code",
   "execution_count": 49,
   "id": "5ae0a6ae",
   "metadata": {
    "ExecuteTime": {
     "end_time": "2021-05-30T11:38:15.276271Z",
     "start_time": "2021-05-30T11:38:15.272040Z"
    }
   },
   "outputs": [],
   "source": [
    "a=list(relation[0].values())"
   ]
  },
  {
   "cell_type": "code",
   "execution_count": 50,
   "id": "d3bc3bd6",
   "metadata": {
    "ExecuteTime": {
     "end_time": "2021-05-30T11:38:15.776133Z",
     "start_time": "2021-05-30T11:38:15.767868Z"
    }
   },
   "outputs": [
    {
     "data": {
      "text/plain": [
       "['Amount']"
      ]
     },
     "execution_count": 50,
     "metadata": {},
     "output_type": "execute_result"
    }
   ],
   "source": [
    "a"
   ]
  },
  {
   "cell_type": "code",
   "execution_count": 51,
   "id": "db41e112",
   "metadata": {
    "ExecuteTime": {
     "end_time": "2021-05-30T11:47:57.733193Z",
     "start_time": "2021-05-30T11:47:57.725158Z"
    }
   },
   "outputs": [
    {
     "name": "stdout",
     "output_type": "stream",
     "text": [
      "0 {'Rate': 'Amount'}\n",
      "1 {'Quantity': 'Amount'}\n",
      "2 {'Amount': 'Discount Amount'}\n",
      "3 {'Discount Per': 'Discount Amount'}\n",
      "4 {'Discount Amount': 'Net Amount'}\n",
      "5 {'Amount': 'Net Amount'}\n"
     ]
    }
   ],
   "source": [
    "for k,l in enumerate(relation):\n",
    "    print(k,l)"
   ]
  },
  {
   "cell_type": "code",
   "execution_count": null,
   "id": "9cbbaca4",
   "metadata": {},
   "outputs": [],
   "source": [
    "for i in From:\n",
    "     for j,k in enumerate(relation):\n",
    "            if i in k[j].keys():\n",
    "                "
   ]
  },
  {
   "cell_type": "code",
   "execution_count": 12,
   "id": "e08e57f9",
   "metadata": {
    "ExecuteTime": {
     "end_time": "2021-05-30T13:58:23.985094Z",
     "start_time": "2021-05-30T13:58:23.972099Z"
    }
   },
   "outputs": [],
   "source": [
    "r = relationship[0]"
   ]
  },
  {
   "cell_type": "code",
   "execution_count": 16,
   "id": "fd5900fe",
   "metadata": {
    "ExecuteTime": {
     "end_time": "2021-05-30T13:58:55.234829Z",
     "start_time": "2021-05-30T13:58:55.220832Z"
    }
   },
   "outputs": [
    {
     "data": {
      "text/plain": [
       "['Rate']"
      ]
     },
     "execution_count": 16,
     "metadata": {},
     "output_type": "execute_result"
    }
   ],
   "source": [
    "list(r.keys())"
   ]
  },
  {
   "cell_type": "code",
   "execution_count": 20,
   "id": "1b054650",
   "metadata": {
    "ExecuteTime": {
     "end_time": "2021-05-30T14:31:55.128094Z",
     "start_time": "2021-05-30T14:31:55.112457Z"
    }
   },
   "outputs": [
    {
     "data": {
      "text/plain": [
       "'Amount'"
      ]
     },
     "execution_count": 20,
     "metadata": {},
     "output_type": "execute_result"
    }
   ],
   "source": [
    "relation[0]['Rate']"
   ]
  },
  {
   "cell_type": "code",
   "execution_count": null,
   "id": "86c3f631",
   "metadata": {},
   "outputs": [],
   "source": [
    "for j,k in enumerate(relation):\n",
    "    for i in From:\n",
    "        if k[j][i] not in From:\n",
    "            "
   ]
  },
  {
   "cell_type": "code",
   "execution_count": null,
   "id": "fa8b51ef",
   "metadata": {},
   "outputs": [],
   "source": [
    "for i in From:\n",
    "    for j,k in enumerate(relation):\n",
    "        if i in k[j][i]"
   ]
  },
  {
   "cell_type": "code",
   "execution_count": 18,
   "id": "16d5a035",
   "metadata": {
    "ExecuteTime": {
     "end_time": "2021-05-31T06:57:05.542976Z",
     "start_time": "2021-05-31T06:57:05.534777Z"
    }
   },
   "outputs": [],
   "source": [
    "From = [x for x,y in zip(df['input_nodes'],df['formula'])if y==None]"
   ]
  },
  {
   "cell_type": "code",
   "execution_count": 19,
   "id": "a71c0d4c",
   "metadata": {
    "ExecuteTime": {
     "end_time": "2021-05-31T06:57:06.078902Z",
     "start_time": "2021-05-31T06:57:06.061594Z"
    }
   },
   "outputs": [
    {
     "data": {
      "text/plain": [
       "['Rate', 'Quantity', 'Discount Per', 'Tax']"
      ]
     },
     "execution_count": 19,
     "metadata": {},
     "output_type": "execute_result"
    }
   ],
   "source": [
    "From"
   ]
  },
  {
   "cell_type": "code",
   "execution_count": null,
   "id": "fc0927fe",
   "metadata": {},
   "outputs": [],
   "source": [
    "for i in From:\n",
    "    for j,k in enumerate(relation):\n",
    "        if relation[j][i] not in i:\n",
    "            "
   ]
  },
  {
   "cell_type": "code",
   "execution_count": 24,
   "id": "e1808d18",
   "metadata": {
    "ExecuteTime": {
     "end_time": "2021-05-31T07:40:27.029056Z",
     "start_time": "2021-05-31T07:40:27.017762Z"
    }
   },
   "outputs": [
    {
     "data": {
      "text/plain": [
       "[{'Rate': 'Amount'},\n",
       " {'Quantity': 'Amount'},\n",
       " {'Amount': 'Discount Amount'},\n",
       " {'Discount Per': 'Discount Amount'},\n",
       " {'Discount Amount': 'Net Amount'},\n",
       " {'Amount': 'Net Amount'},\n",
       " {'Tax': 'Total'},\n",
       " {'Net Amount': 'Total'}]"
      ]
     },
     "execution_count": 24,
     "metadata": {},
     "output_type": "execute_result"
    }
   ],
   "source": [
    "relation"
   ]
  },
  {
   "cell_type": "code",
   "execution_count": null,
   "id": "e46ae427",
   "metadata": {},
   "outputs": [],
   "source": [
    "for i in df['input_nodes']:\n",
    "    "
   ]
  },
  {
   "cell_type": "code",
   "execution_count": 8,
   "id": "9879a018",
   "metadata": {
    "ExecuteTime": {
     "end_time": "2021-05-31T06:51:30.643403Z",
     "start_time": "2021-05-31T06:51:30.511739Z"
    }
   },
   "outputs": [
    {
     "data": {
      "text/html": [
       "<div>\n",
       "<style scoped>\n",
       "    .dataframe tbody tr th:only-of-type {\n",
       "        vertical-align: middle;\n",
       "    }\n",
       "\n",
       "    .dataframe tbody tr th {\n",
       "        vertical-align: top;\n",
       "    }\n",
       "\n",
       "    .dataframe thead th {\n",
       "        text-align: right;\n",
       "    }\n",
       "</style>\n",
       "<table border=\"1\" class=\"dataframe\">\n",
       "  <thead>\n",
       "    <tr style=\"text-align: right;\">\n",
       "      <th></th>\n",
       "      <th>input_nodes</th>\n",
       "      <th>formula</th>\n",
       "      <th>derived_nodes</th>\n",
       "    </tr>\n",
       "  </thead>\n",
       "  <tbody>\n",
       "    <tr>\n",
       "      <th>0</th>\n",
       "      <td>Rate</td>\n",
       "      <td>None</td>\n",
       "      <td>Amount</td>\n",
       "    </tr>\n",
       "    <tr>\n",
       "      <th>1</th>\n",
       "      <td>Quantity</td>\n",
       "      <td>None</td>\n",
       "      <td>Amount</td>\n",
       "    </tr>\n",
       "    <tr>\n",
       "      <th>2</th>\n",
       "      <td>Amount</td>\n",
       "      <td>Quantity*Rate</td>\n",
       "      <td>Discount Amount</td>\n",
       "    </tr>\n",
       "    <tr>\n",
       "      <th>3</th>\n",
       "      <td>Discount Per</td>\n",
       "      <td>None</td>\n",
       "      <td>Discount Amount</td>\n",
       "    </tr>\n",
       "    <tr>\n",
       "      <th>4</th>\n",
       "      <td>Discount Amount</td>\n",
       "      <td>Discount Per*Amount</td>\n",
       "      <td>Net Amount</td>\n",
       "    </tr>\n",
       "    <tr>\n",
       "      <th>5</th>\n",
       "      <td>Amount</td>\n",
       "      <td>Quantity*Rate</td>\n",
       "      <td>Net Amount</td>\n",
       "    </tr>\n",
       "    <tr>\n",
       "      <th>6</th>\n",
       "      <td>Tax</td>\n",
       "      <td>None</td>\n",
       "      <td>Total</td>\n",
       "    </tr>\n",
       "    <tr>\n",
       "      <th>7</th>\n",
       "      <td>Net Amount</td>\n",
       "      <td>Amount-Discount Amount</td>\n",
       "      <td>Total</td>\n",
       "    </tr>\n",
       "  </tbody>\n",
       "</table>\n",
       "</div>"
      ],
      "text/plain": [
       "       input_nodes                 formula    derived_nodes\n",
       "0             Rate                    None           Amount\n",
       "1         Quantity                    None           Amount\n",
       "2           Amount           Quantity*Rate  Discount Amount\n",
       "3     Discount Per                    None  Discount Amount\n",
       "4  Discount Amount     Discount Per*Amount       Net Amount\n",
       "5           Amount           Quantity*Rate       Net Amount\n",
       "6              Tax                    None            Total\n",
       "7       Net Amount  Amount-Discount Amount            Total"
      ]
     },
     "execution_count": 8,
     "metadata": {},
     "output_type": "execute_result"
    }
   ],
   "source": [
    "df"
   ]
  },
  {
   "cell_type": "code",
   "execution_count": 17,
   "id": "403dddfe",
   "metadata": {
    "ExecuteTime": {
     "end_time": "2021-05-31T10:52:18.901219Z",
     "start_time": "2021-05-31T10:52:18.895061Z"
    }
   },
   "outputs": [
    {
     "data": {
      "text/plain": [
       "'Rate'"
      ]
     },
     "execution_count": 17,
     "metadata": {},
     "output_type": "execute_result"
    }
   ],
   "source": [
    "relation"
   ]
  },
  {
   "cell_type": "code",
   "execution_count": 22,
   "id": "2c1a1dba",
   "metadata": {
    "ExecuteTime": {
     "end_time": "2021-05-31T11:08:18.380208Z",
     "start_time": "2021-05-31T11:08:18.349180Z"
    }
   },
   "outputs": [
    {
     "ename": "AttributeError",
     "evalue": "'str' object has no attribute 'values'",
     "output_type": "error",
     "traceback": [
      "\u001b[1;31m---------------------------------------------------------------------------\u001b[0m",
      "\u001b[1;31mAttributeError\u001b[0m                            Traceback (most recent call last)",
      "\u001b[1;32m<ipython-input-22-af6b7d3dd5d7>\u001b[0m in \u001b[0;36m<module>\u001b[1;34m\u001b[0m\n\u001b[0;32m      3\u001b[0m     \u001b[1;32mfor\u001b[0m \u001b[0mnumber\u001b[0m\u001b[1;33m,\u001b[0m\u001b[0mrelations\u001b[0m \u001b[1;32min\u001b[0m \u001b[0menumerate\u001b[0m\u001b[1;33m(\u001b[0m\u001b[0mrelation\u001b[0m\u001b[1;33m)\u001b[0m\u001b[1;33m:\u001b[0m\u001b[1;33m\u001b[0m\u001b[1;33m\u001b[0m\u001b[0m\n\u001b[0;32m      4\u001b[0m         \u001b[1;32mfor\u001b[0m \u001b[0mnos\u001b[0m\u001b[1;33m,\u001b[0m\u001b[0mrelated\u001b[0m \u001b[1;32min\u001b[0m \u001b[0menumerate\u001b[0m\u001b[1;33m(\u001b[0m\u001b[0mrelation\u001b[0m\u001b[1;33m)\u001b[0m\u001b[1;33m:\u001b[0m\u001b[1;33m\u001b[0m\u001b[1;33m\u001b[0m\u001b[0m\n\u001b[1;32m----> 5\u001b[1;33m             \u001b[1;32mif\u001b[0m \u001b[0mrelated\u001b[0m\u001b[1;33m.\u001b[0m\u001b[0mvalues\u001b[0m\u001b[1;33m(\u001b[0m\u001b[1;33m)\u001b[0m \u001b[1;33m==\u001b[0m \u001b[0mrelations\u001b[0m\u001b[1;33m.\u001b[0m\u001b[0mvalues\u001b[0m\u001b[1;33m(\u001b[0m\u001b[1;33m)\u001b[0m\u001b[1;33m:\u001b[0m\u001b[1;33m\u001b[0m\u001b[1;33m\u001b[0m\u001b[0m\n\u001b[0m\u001b[0;32m      6\u001b[0m                 \u001b[0mderivesList1\u001b[0m\u001b[1;33m.\u001b[0m\u001b[0mappend\u001b[0m\u001b[1;33m(\u001b[0m\u001b[0mrelation\u001b[0m\u001b[1;33m.\u001b[0m\u001b[0mvalues\u001b[0m\u001b[1;33m(\u001b[0m\u001b[1;33m)\u001b[0m\u001b[1;33m)\u001b[0m\u001b[1;33m\u001b[0m\u001b[1;33m\u001b[0m\u001b[0m\n\u001b[0;32m      7\u001b[0m \u001b[1;33m\u001b[0m\u001b[0m\n",
      "\u001b[1;31mAttributeError\u001b[0m: 'str' object has no attribute 'values'"
     ]
    }
   ],
   "source": [
    "derivesList1 = []\n",
    "for inpNodes in From:\n",
    "    for number,relations in enumerate(relation):\n",
    "        for nos,related in enumerate(relation):\n",
    "            if related.values() == relations.values():\n",
    "                derivesList1.append(relation.values())\n",
    "   "
   ]
  },
  {
   "cell_type": "code",
   "execution_count": 15,
   "id": "c6c658a9",
   "metadata": {
    "ExecuteTime": {
     "end_time": "2021-05-31T10:51:53.995250Z",
     "start_time": "2021-05-31T10:51:53.973741Z"
    }
   },
   "outputs": [
    {
     "ename": "NameError",
     "evalue": "name 'derives' is not defined",
     "output_type": "error",
     "traceback": [
      "\u001b[1;31m---------------------------------------------------------------------------\u001b[0m",
      "\u001b[1;31mNameError\u001b[0m                                 Traceback (most recent call last)",
      "\u001b[1;32m<ipython-input-15-28777c1b5dcf>\u001b[0m in \u001b[0;36m<module>\u001b[1;34m\u001b[0m\n\u001b[1;32m----> 1\u001b[1;33m \u001b[1;32mfor\u001b[0m \u001b[0mi\u001b[0m \u001b[1;32min\u001b[0m \u001b[0mderives\u001b[0m\u001b[1;33m:\u001b[0m\u001b[1;33m\u001b[0m\u001b[1;33m\u001b[0m\u001b[0m\n\u001b[0m\u001b[0;32m      2\u001b[0m     \u001b[0mprint\u001b[0m\u001b[1;33m(\u001b[0m\u001b[0mi\u001b[0m\u001b[1;33m[\u001b[0m\u001b[1;36m0\u001b[0m\u001b[1;33m]\u001b[0m\u001b[1;33m)\u001b[0m\u001b[1;33m\u001b[0m\u001b[1;33m\u001b[0m\u001b[0m\n",
      "\u001b[1;31mNameError\u001b[0m: name 'derives' is not defined"
     ]
    }
   ],
   "source": [
    "for i in derives:\n",
    "    print(i[0])"
   ]
  },
  {
   "cell_type": "code",
   "execution_count": 16,
   "id": "0d4b7cd5",
   "metadata": {
    "ExecuteTime": {
     "end_time": "2021-05-31T10:51:55.396221Z",
     "start_time": "2021-05-31T10:51:55.381246Z"
    }
   },
   "outputs": [
    {
     "data": {
      "text/plain": [
       "[]"
      ]
     },
     "execution_count": 16,
     "metadata": {},
     "output_type": "execute_result"
    }
   ],
   "source": [
    "derivesList1"
   ]
  },
  {
   "cell_type": "code",
   "execution_count": null,
   "id": "d968968d",
   "metadata": {},
   "outputs": [],
   "source": []
  }
 ],
 "metadata": {
  "kernelspec": {
   "display_name": "Python 3",
   "language": "python",
   "name": "python3"
  },
  "language_info": {
   "codemirror_mode": {
    "name": "ipython",
    "version": 3
   },
   "file_extension": ".py",
   "mimetype": "text/x-python",
   "name": "python",
   "nbconvert_exporter": "python",
   "pygments_lexer": "ipython3",
   "version": "3.7.9"
  },
  "toc": {
   "base_numbering": 1,
   "nav_menu": {},
   "number_sections": true,
   "sideBar": true,
   "skip_h1_title": false,
   "title_cell": "Table of Contents",
   "title_sidebar": "Contents",
   "toc_cell": false,
   "toc_position": {},
   "toc_section_display": true,
   "toc_window_display": false
  }
 },
 "nbformat": 4,
 "nbformat_minor": 5
}
